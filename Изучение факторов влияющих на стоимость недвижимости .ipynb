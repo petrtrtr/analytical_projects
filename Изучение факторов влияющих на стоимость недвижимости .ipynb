{
 "cells": [
  {
   "cell_type": "markdown",
   "metadata": {},
   "source": [
    "## Исследование объявлений о продаже квартир\",\n",
    "\n",
    "В распоряжении данные архива объявлений о продаже квартир в Санкт-Петербурге и соседних населённых пунктов за несколько лет. Необходимо определять рыночную стоимость объектов недвижимости. Задача — установить параметры, которые влияют на стоимость квартир. Это позволит построить автоматизированную систему: она отследит аномалии и мошенническую деятельность."
   ]
  },
  {
   "cell_type": "markdown",
   "metadata": {},
   "source": [
    "## Шаг 1. Изучение общей информации. "
   ]
  },
  {
   "cell_type": "code",
   "execution_count": 1,
   "metadata": {},
   "outputs": [],
   "source": [
    "import pandas as pd\n",
    "import numpy as np\n",
    "import matplotlib.pyplot as plt\n",
    "import seaborn as sns\n",
    "import math\n",
    "import bisect\n",
    "import calendar"
   ]
  },
  {
   "cell_type": "code",
   "execution_count": 2,
   "metadata": {},
   "outputs": [
    {
     "data": {
      "text/html": [
       "<div>\n",
       "<style scoped>\n",
       "    .dataframe tbody tr th:only-of-type {\n",
       "        vertical-align: middle;\n",
       "    }\n",
       "\n",
       "    .dataframe tbody tr th {\n",
       "        vertical-align: top;\n",
       "    }\n",
       "\n",
       "    .dataframe thead th {\n",
       "        text-align: right;\n",
       "    }\n",
       "</style>\n",
       "<table border=\"1\" class=\"dataframe\">\n",
       "  <thead>\n",
       "    <tr style=\"text-align: right;\">\n",
       "      <th></th>\n",
       "      <th>total_images</th>\n",
       "      <th>last_price</th>\n",
       "      <th>total_area</th>\n",
       "      <th>first_day_exposition</th>\n",
       "      <th>rooms</th>\n",
       "      <th>ceiling_height</th>\n",
       "      <th>floors_total</th>\n",
       "      <th>living_area</th>\n",
       "      <th>floor</th>\n",
       "      <th>is_apartment</th>\n",
       "      <th>...</th>\n",
       "      <th>kitchen_area</th>\n",
       "      <th>balcony</th>\n",
       "      <th>locality_name</th>\n",
       "      <th>airports_nearest</th>\n",
       "      <th>cityCenters_nearest</th>\n",
       "      <th>parks_around3000</th>\n",
       "      <th>parks_nearest</th>\n",
       "      <th>ponds_around3000</th>\n",
       "      <th>ponds_nearest</th>\n",
       "      <th>days_exposition</th>\n",
       "    </tr>\n",
       "  </thead>\n",
       "  <tbody>\n",
       "    <tr>\n",
       "      <td>0</td>\n",
       "      <td>20</td>\n",
       "      <td>13000000.0</td>\n",
       "      <td>108.0</td>\n",
       "      <td>2019-03-07T00:00:00</td>\n",
       "      <td>3</td>\n",
       "      <td>2.70</td>\n",
       "      <td>16.0</td>\n",
       "      <td>51.0</td>\n",
       "      <td>8</td>\n",
       "      <td>NaN</td>\n",
       "      <td>...</td>\n",
       "      <td>25.0</td>\n",
       "      <td>NaN</td>\n",
       "      <td>Санкт-Петербург</td>\n",
       "      <td>18863.0</td>\n",
       "      <td>16028.0</td>\n",
       "      <td>1.0</td>\n",
       "      <td>482.0</td>\n",
       "      <td>2.0</td>\n",
       "      <td>755.0</td>\n",
       "      <td>NaN</td>\n",
       "    </tr>\n",
       "    <tr>\n",
       "      <td>1</td>\n",
       "      <td>7</td>\n",
       "      <td>3350000.0</td>\n",
       "      <td>40.4</td>\n",
       "      <td>2018-12-04T00:00:00</td>\n",
       "      <td>1</td>\n",
       "      <td>NaN</td>\n",
       "      <td>11.0</td>\n",
       "      <td>18.6</td>\n",
       "      <td>1</td>\n",
       "      <td>NaN</td>\n",
       "      <td>...</td>\n",
       "      <td>11.0</td>\n",
       "      <td>2.0</td>\n",
       "      <td>посёлок Шушары</td>\n",
       "      <td>12817.0</td>\n",
       "      <td>18603.0</td>\n",
       "      <td>0.0</td>\n",
       "      <td>NaN</td>\n",
       "      <td>0.0</td>\n",
       "      <td>NaN</td>\n",
       "      <td>81.0</td>\n",
       "    </tr>\n",
       "    <tr>\n",
       "      <td>2</td>\n",
       "      <td>10</td>\n",
       "      <td>5196000.0</td>\n",
       "      <td>56.0</td>\n",
       "      <td>2015-08-20T00:00:00</td>\n",
       "      <td>2</td>\n",
       "      <td>NaN</td>\n",
       "      <td>5.0</td>\n",
       "      <td>34.3</td>\n",
       "      <td>4</td>\n",
       "      <td>NaN</td>\n",
       "      <td>...</td>\n",
       "      <td>8.3</td>\n",
       "      <td>0.0</td>\n",
       "      <td>Санкт-Петербург</td>\n",
       "      <td>21741.0</td>\n",
       "      <td>13933.0</td>\n",
       "      <td>1.0</td>\n",
       "      <td>90.0</td>\n",
       "      <td>2.0</td>\n",
       "      <td>574.0</td>\n",
       "      <td>558.0</td>\n",
       "    </tr>\n",
       "    <tr>\n",
       "      <td>3</td>\n",
       "      <td>0</td>\n",
       "      <td>64900000.0</td>\n",
       "      <td>159.0</td>\n",
       "      <td>2015-07-24T00:00:00</td>\n",
       "      <td>3</td>\n",
       "      <td>NaN</td>\n",
       "      <td>14.0</td>\n",
       "      <td>NaN</td>\n",
       "      <td>9</td>\n",
       "      <td>NaN</td>\n",
       "      <td>...</td>\n",
       "      <td>NaN</td>\n",
       "      <td>0.0</td>\n",
       "      <td>Санкт-Петербург</td>\n",
       "      <td>28098.0</td>\n",
       "      <td>6800.0</td>\n",
       "      <td>2.0</td>\n",
       "      <td>84.0</td>\n",
       "      <td>3.0</td>\n",
       "      <td>234.0</td>\n",
       "      <td>424.0</td>\n",
       "    </tr>\n",
       "    <tr>\n",
       "      <td>4</td>\n",
       "      <td>2</td>\n",
       "      <td>10000000.0</td>\n",
       "      <td>100.0</td>\n",
       "      <td>2018-06-19T00:00:00</td>\n",
       "      <td>2</td>\n",
       "      <td>3.03</td>\n",
       "      <td>14.0</td>\n",
       "      <td>32.0</td>\n",
       "      <td>13</td>\n",
       "      <td>NaN</td>\n",
       "      <td>...</td>\n",
       "      <td>41.0</td>\n",
       "      <td>NaN</td>\n",
       "      <td>Санкт-Петербург</td>\n",
       "      <td>31856.0</td>\n",
       "      <td>8098.0</td>\n",
       "      <td>2.0</td>\n",
       "      <td>112.0</td>\n",
       "      <td>1.0</td>\n",
       "      <td>48.0</td>\n",
       "      <td>121.0</td>\n",
       "    </tr>\n",
       "  </tbody>\n",
       "</table>\n",
       "<p>5 rows × 22 columns</p>\n",
       "</div>"
      ],
      "text/plain": [
       "   total_images  last_price  total_area first_day_exposition  rooms  \\\n",
       "0            20  13000000.0       108.0  2019-03-07T00:00:00      3   \n",
       "1             7   3350000.0        40.4  2018-12-04T00:00:00      1   \n",
       "2            10   5196000.0        56.0  2015-08-20T00:00:00      2   \n",
       "3             0  64900000.0       159.0  2015-07-24T00:00:00      3   \n",
       "4             2  10000000.0       100.0  2018-06-19T00:00:00      2   \n",
       "\n",
       "   ceiling_height  floors_total  living_area  floor is_apartment  ...  \\\n",
       "0            2.70          16.0         51.0      8          NaN  ...   \n",
       "1             NaN          11.0         18.6      1          NaN  ...   \n",
       "2             NaN           5.0         34.3      4          NaN  ...   \n",
       "3             NaN          14.0          NaN      9          NaN  ...   \n",
       "4            3.03          14.0         32.0     13          NaN  ...   \n",
       "\n",
       "   kitchen_area  balcony    locality_name  airports_nearest  \\\n",
       "0          25.0      NaN  Санкт-Петербург           18863.0   \n",
       "1          11.0      2.0   посёлок Шушары           12817.0   \n",
       "2           8.3      0.0  Санкт-Петербург           21741.0   \n",
       "3           NaN      0.0  Санкт-Петербург           28098.0   \n",
       "4          41.0      NaN  Санкт-Петербург           31856.0   \n",
       "\n",
       "  cityCenters_nearest  parks_around3000  parks_nearest  ponds_around3000  \\\n",
       "0             16028.0               1.0          482.0               2.0   \n",
       "1             18603.0               0.0            NaN               0.0   \n",
       "2             13933.0               1.0           90.0               2.0   \n",
       "3              6800.0               2.0           84.0               3.0   \n",
       "4              8098.0               2.0          112.0               1.0   \n",
       "\n",
       "   ponds_nearest  days_exposition  \n",
       "0          755.0              NaN  \n",
       "1            NaN             81.0  \n",
       "2          574.0            558.0  \n",
       "3          234.0            424.0  \n",
       "4           48.0            121.0  \n",
       "\n",
       "[5 rows x 22 columns]"
      ]
     },
     "metadata": {},
     "output_type": "display_data"
    },
    {
     "name": "stdout",
     "output_type": "stream",
     "text": [
      "<class 'pandas.core.frame.DataFrame'>\n",
      "RangeIndex: 23699 entries, 0 to 23698\n",
      "Data columns (total 22 columns):\n",
      "total_images            23699 non-null int64\n",
      "last_price              23699 non-null float64\n",
      "total_area              23699 non-null float64\n",
      "first_day_exposition    23699 non-null object\n",
      "rooms                   23699 non-null int64\n",
      "ceiling_height          14504 non-null float64\n",
      "floors_total            23613 non-null float64\n",
      "living_area             21796 non-null float64\n",
      "floor                   23699 non-null int64\n",
      "is_apartment            2775 non-null object\n",
      "studio                  23699 non-null bool\n",
      "open_plan               23699 non-null bool\n",
      "kitchen_area            21421 non-null float64\n",
      "balcony                 12180 non-null float64\n",
      "locality_name           23650 non-null object\n",
      "airports_nearest        18157 non-null float64\n",
      "cityCenters_nearest     18180 non-null float64\n",
      "parks_around3000        18181 non-null float64\n",
      "parks_nearest           8079 non-null float64\n",
      "ponds_around3000        18181 non-null float64\n",
      "ponds_nearest           9110 non-null float64\n",
      "days_exposition         20518 non-null float64\n",
      "dtypes: bool(2), float64(14), int64(3), object(3)\n",
      "memory usage: 3.7+ MB\n"
     ]
    }
   ],
   "source": [
    "df_flats_info = pd.read_csv('/datasets/real_estate_data.csv', sep='\\t')\n",
    "\n",
    "display(df_flats_info.head())\n",
    "df_flats_info.info()"
   ]
  },
  {
   "cell_type": "markdown",
   "metadata": {},
   "source": [
    "## Вывод"
   ]
  },
  {
   "cell_type": "markdown",
   "metadata": {},
   "source": [
    "Рассмотрим полученную информацию подробнее.\n",
    "\n",
    "Всего в таблице 22 столбца, тип данных столбцов различен.\n",
    "\n",
    "Подробно разберём, какие в df_flats_info столбцы и какую информацию о заёмщике они содержат:\n",
    "* airports_nearest — расстояние до ближайшего аэропорта в метрах (м)\n",
    "* balcony — число балконов\n",
    "* ceiling_height — высота потолков (м)\n",
    "* cityCenters_nearest — расстояние до центра города (м)\n",
    "* days_exposition — сколько дней было размещено объявление (от публикации до снятия)\n",
    "* first_day_exposition — дата публикации\n",
    "* floor — этаж\n",
    "* floors_total — всего этажей в доме\n",
    "* is_apartment — апартаменты (булев тип)\n",
    "* kitchen_area — площадь кухни в квадратных метрах (м²)\n",
    "* last_price — цена на момент снятия с публикации\n",
    "* living_area — жилая площадь в квадратных метрах(м²)\n",
    "* locality_name — название населённого пункта\n",
    "* open_plan — свободная планировка (булев тип)\n",
    "* parks_around3000 — число парков в радиусе 3 км\n",
    "* parks_nearest — расстояние до ближайшего парка (м)\n",
    "* ponds_around3000 — число водоёмов в радиусе 3 км\n",
    "* ponds_nearest — расстояние до ближайшего водоёма (м)\n",
    "* rooms — число комнат\n",
    "* studio — квартира-студия (булев тип)\n",
    "* total_area — площадь квартиры в квадратных метрах (м²)\n",
    "* total_images — число фотографий квартиры в объявлении\n",
    "\n",
    "Количество значений в столбцах различается. Это говорит о том, что в данных есть пропущенные значения."
   ]
  },
  {
   "cell_type": "markdown",
   "metadata": {},
   "source": [
    "## Шаг 2. Предобработка данных"
   ]
  },
  {
   "cell_type": "markdown",
   "metadata": {},
   "source": [
    "### Обработка пропущенных значений"
   ]
  },
  {
   "cell_type": "markdown",
   "metadata": {},
   "source": [
    "#### Обработка значений is_apartment"
   ]
  },
  {
   "cell_type": "code",
   "execution_count": 3,
   "metadata": {},
   "outputs": [
    {
     "name": "stdout",
     "output_type": "stream",
     "text": [
      "Количество значений в столбце апартаментов \n",
      "False    2725\n",
      "True       50\n",
      "Name: is_apartment, dtype: int64\n",
      "object - тип данных столбца до изменения\n",
      "bool - тип данных столбца после изменения\n",
      "Количество значений в столбце апартаментов \n",
      "False    23649\n",
      "True        50\n",
      "Name: is_apartment, dtype: int64\n"
     ]
    }
   ],
   "source": [
    "print('Количество значений в столбце апартаментов ')\n",
    "print(df_flats_info['is_apartment'].value_counts())\n",
    "df_flats_info['is_apartment'] = df_flats_info['is_apartment'].fillna(0)\n",
    "print(df_flats_info.dtypes['is_apartment'], '- тип данных столбца до изменения')\n",
    "\n",
    "df_flats_info['is_apartment'] = df_flats_info['is_apartment'].astype(bool)\n",
    "print(df_flats_info.dtypes['is_apartment'], '- тип данных столбца после изменения')\n",
    "print('Количество значений в столбце апартаментов ') \n",
    "print(df_flats_info['is_apartment'].value_counts())"
   ]
  },
  {
   "cell_type": "markdown",
   "metadata": {},
   "source": [
    "#### Результат обработки  значений is_apartment"
   ]
  },
  {
   "cell_type": "markdown",
   "metadata": {},
   "source": [
    "Предположил, что источников с информацией о недвижимости было несколько и в некоторых из них не было указано это поле, поэтому и значение не задано,  в связи с чем заменил на False пропущенные значения."
   ]
  },
  {
   "cell_type": "markdown",
   "metadata": {},
   "source": [
    "#### Обработка значений locality_name"
   ]
  },
  {
   "cell_type": "code",
   "execution_count": 4,
   "metadata": {},
   "outputs": [
    {
     "name": "stdout",
     "output_type": "stream",
     "text": [
      "23699 - количество строк до удаления\n",
      "23650 - количество строк после удаления\n"
     ]
    }
   ],
   "source": [
    "print(len(df_flats_info), '- количество строк до удаления')\n",
    "df_flats_info.dropna(subset=['locality_name'], inplace = True)\n",
    "print(len(df_flats_info), '- количество строк после удаления')"
   ]
  },
  {
   "cell_type": "markdown",
   "metadata": {},
   "source": [
    "#### Результат обработки значений locality_name"
   ]
  },
  {
   "cell_type": "markdown",
   "metadata": {},
   "source": [
    "49 значений населенных пунктов пропущено, в формате 23699 объектов - это немного (0.2%), вдобавок к этому заменить пропущенный населенный пункт весьма проблематично, в связи с чем строки с пропусками просто удалил. Считаю следующие возможные причины пропуска:\n",
    "* Нахождение на границе нескольких населенных пунктов;\n",
    "* Отсутствие этой графы в определенных источниках данных;\n",
    "* Желание продавцов скрыть населенный пункт в корыстных целях."
   ]
  },
  {
   "cell_type": "markdown",
   "metadata": {},
   "source": [
    "#### Обработка значений last_price"
   ]
  },
  {
   "cell_type": "code",
   "execution_count": 5,
   "metadata": {},
   "outputs": [],
   "source": [
    "df_flats_info['last_price'] = df_flats_info['last_price'] / 1000000"
   ]
  },
  {
   "cell_type": "markdown",
   "metadata": {},
   "source": [
    "Исчисление в рублях неудобно, когда речь о стоимости квартир, в связи с чем привел к миллионам."
   ]
  },
  {
   "cell_type": "markdown",
   "metadata": {},
   "source": [
    "#### Обработка значений floors_total"
   ]
  },
  {
   "cell_type": "code",
   "execution_count": 6,
   "metadata": {},
   "outputs": [
    {
     "data": {
      "text/html": [
       "<div>\n",
       "<style scoped>\n",
       "    .dataframe tbody tr th:only-of-type {\n",
       "        vertical-align: middle;\n",
       "    }\n",
       "\n",
       "    .dataframe tbody tr th {\n",
       "        vertical-align: top;\n",
       "    }\n",
       "\n",
       "    .dataframe thead th {\n",
       "        text-align: right;\n",
       "    }\n",
       "</style>\n",
       "<table border=\"1\" class=\"dataframe\">\n",
       "  <thead>\n",
       "    <tr style=\"text-align: right;\">\n",
       "      <th></th>\n",
       "      <th>mean</th>\n",
       "      <th>count</th>\n",
       "    </tr>\n",
       "    <tr>\n",
       "      <th>floors_total</th>\n",
       "      <th></th>\n",
       "      <th></th>\n",
       "    </tr>\n",
       "  </thead>\n",
       "  <tbody>\n",
       "    <tr>\n",
       "      <td>5.0</td>\n",
       "      <td>5.193177</td>\n",
       "      <td>5775</td>\n",
       "    </tr>\n",
       "    <tr>\n",
       "      <td>9.0</td>\n",
       "      <td>5.244929</td>\n",
       "      <td>3758</td>\n",
       "    </tr>\n",
       "    <tr>\n",
       "      <td>14.0</td>\n",
       "      <td>5.852767</td>\n",
       "      <td>553</td>\n",
       "    </tr>\n",
       "    <tr>\n",
       "      <td>18.0</td>\n",
       "      <td>5.884754</td>\n",
       "      <td>505</td>\n",
       "    </tr>\n",
       "    <tr>\n",
       "      <td>3.0</td>\n",
       "      <td>5.914157</td>\n",
       "      <td>667</td>\n",
       "    </tr>\n",
       "    <tr>\n",
       "      <td>17.0</td>\n",
       "      <td>6.083673</td>\n",
       "      <td>833</td>\n",
       "    </tr>\n",
       "    <tr>\n",
       "      <td>12.0</td>\n",
       "      <td>6.174925</td>\n",
       "      <td>1361</td>\n",
       "    </tr>\n",
       "    <tr>\n",
       "      <td>25.0</td>\n",
       "      <td>6.658507</td>\n",
       "      <td>1075</td>\n",
       "    </tr>\n",
       "    <tr>\n",
       "      <td>16.0</td>\n",
       "      <td>6.766545</td>\n",
       "      <td>1375</td>\n",
       "    </tr>\n",
       "    <tr>\n",
       "      <td>10.0</td>\n",
       "      <td>7.386674</td>\n",
       "      <td>1174</td>\n",
       "    </tr>\n",
       "    <tr>\n",
       "      <td>4.0</td>\n",
       "      <td>8.058818</td>\n",
       "      <td>1193</td>\n",
       "    </tr>\n",
       "    <tr>\n",
       "      <td>6.0</td>\n",
       "      <td>11.801079</td>\n",
       "      <td>910</td>\n",
       "    </tr>\n",
       "    <tr>\n",
       "      <td>7.0</td>\n",
       "      <td>13.969492</td>\n",
       "      <td>589</td>\n",
       "    </tr>\n",
       "  </tbody>\n",
       "</table>\n",
       "</div>"
      ],
      "text/plain": [
       "                   mean  count\n",
       "floors_total                  \n",
       "5.0            5.193177   5775\n",
       "9.0            5.244929   3758\n",
       "14.0           5.852767    553\n",
       "18.0           5.884754    505\n",
       "3.0            5.914157    667\n",
       "17.0           6.083673    833\n",
       "12.0           6.174925   1361\n",
       "25.0           6.658507   1075\n",
       "16.0           6.766545   1375\n",
       "10.0           7.386674   1174\n",
       "4.0            8.058818   1193\n",
       "6.0           11.801079    910\n",
       "7.0           13.969492    589"
      ]
     },
     "metadata": {},
     "output_type": "display_data"
    }
   ],
   "source": [
    "communication_floors_price = df_flats_info.pivot_table(index='floors_total', values = 'last_price', aggfunc=['mean', 'count'])\n",
    "communication_floors_price.columns = ['mean', 'count']\n",
    "display(communication_floors_price.query('count > 472').sort_values('mean'))\n",
    "\n",
    "floors_total_arr = [5, 9, 14, 12, 25, 16, 4, 6, 7]\n",
    "boundaries_groups_last_price = [5.2, 5.6, 5.9, 6.3, 6.6, 7.1, 9.5, 12.5]\n",
    "\n",
    "def coefficient_to_area(check_element):\n",
    "    counter = bisect.bisect(boundaries_groups_last_price, check_element['last_price'])\n",
    "    return floors_total_arr[counter]\n",
    "\n",
    "df_flats_info['floors_total'] = df_flats_info.apply(coefficient_to_area, axis=1)"
   ]
  },
  {
   "cell_type": "markdown",
   "metadata": {},
   "source": [
    "#### Результат обработки значений floors_total"
   ]
  },
  {
   "cell_type": "markdown",
   "metadata": {},
   "source": [
    "86 пропущенных значений в столбце floors_total могут быть заменены. Так как для каждой строки задана стоимость недвижимости и есть взаимосвязь между стоимостью и этажностью. Было решено заменить пропущенные значения на близкие варианты по цене. (472 - 2% от общего числа значений) Причины пропуска значений:\n",
    "* Отсутствие этой графы в определенных источниках данных;\n",
    "* Желание продавцов скрыть этажность в корыстных целях."
   ]
  },
  {
   "cell_type": "markdown",
   "metadata": {},
   "source": [
    "#### Обработка значений ceiling_height"
   ]
  },
  {
   "cell_type": "code",
   "execution_count": 7,
   "metadata": {},
   "outputs": [
    {
     "name": "stdout",
     "output_type": "stream",
     "text": [
      "9160 - количество пропущенных высот потолков до первичной замены по населенному пункту\n",
      "106 - количество пропущенных высот потолков после первичной замены по населенному пункту\n",
      "0 - количество пропущенных высот потолков после вторичной замены оставшихся пропусков на медиану\n"
     ]
    }
   ],
   "source": [
    "df_flats_info['ceiling_height'].describe()\n",
    "\n",
    "search_regularities = df_flats_info.dropna(subset=['ceiling_height'])\n",
    "search_regularities = search_regularities.dropna(axis=1)\n",
    "\n",
    "search_regularities = search_regularities[\n",
    "    ['last_price', 'total_images', 'total_area', 'floors_total', 'floor', 'rooms', 'ceiling_height']]\n",
    "\n",
    "df_flats_info['locality_name'] = df_flats_info['locality_name'].str.replace('посёлок', 'поселок')\n",
    "list_locality = df_flats_info[['locality_name', 'ceiling_height']]\n",
    "\n",
    "primary_replace = df_flats_info.groupby('locality_name')['ceiling_height'].median()\n",
    "\n",
    "def primary_replace_ceiling_height(row):\n",
    "    if math.isnan(row['ceiling_height']):\n",
    "        return primary_replace[row['locality_name']]\n",
    "    return row['ceiling_height']\n",
    "\n",
    "print(df_flats_info['ceiling_height'].isnull().sum(),\n",
    "      '- количество пропущенных высот потолков до первичной замены по населенному пункту')\n",
    "df_flats_info['ceiling_height'] = df_flats_info.apply(primary_replace_ceiling_height, axis=1)\n",
    "print(df_flats_info['ceiling_height'].isnull().sum(), \n",
    "      '- количество пропущенных высот потолков после первичной замены по населенному пункту')\n",
    "\n",
    "median_height = df_flats_info['ceiling_height'].median()\n",
    "df_flats_info['ceiling_height'] = df_flats_info['ceiling_height'].fillna(median_height)\n",
    "print(df_flats_info['ceiling_height'].isnull().sum(),\n",
    "      '- количество пропущенных высот потолков после вторичной замены оставшихся пропусков на медиану')"
   ]
  },
  {
   "cell_type": "markdown",
   "metadata": {},
   "source": [
    "#### Результат обработки значений ceiling_height"
   ]
  },
  {
   "cell_type": "markdown",
   "metadata": {},
   "source": [
    "Проанализировав влияние различных характеристик на высоту потолков взаимосвязей с другими параметрами выявлено не было. В связи с большим числом пропущенных значений, заменил на медианное значение в соответствующем населенном пункте, после чего осталось меньше полупроцента пропущенных значений, их заменил на медианное. "
   ]
  },
  {
   "cell_type": "markdown",
   "metadata": {},
   "source": [
    "#### Обработка значений living_area и kitchen_area"
   ]
  },
  {
   "cell_type": "markdown",
   "metadata": {},
   "source": [
    "###### Выявление закономерностей в данных без пропусков "
   ]
  },
  {
   "cell_type": "code",
   "execution_count": 8,
   "metadata": {},
   "outputs": [
    {
     "data": {
      "image/png": "[encoded data removed]",
      "text/plain": [
       "<Figure size 432x288 with 2 Axes>"
      ]
     },
     "metadata": {
      "needs_background": "light"
     },
     "output_type": "display_data"
    }
   ],
   "source": [
    "slice_data = df_flats_info[['last_price', 'total_area', 'living_area', 'kitchen_area', 'rooms']]\n",
    "slice_data = slice_data.dropna(subset=['living_area', 'kitchen_area'])\n",
    "sns.heatmap(slice_data.corr());"
   ]
  },
  {
   "cell_type": "markdown",
   "metadata": {},
   "source": [
    "Взаимосвязь между общей площадью квартиры, жилой, а также площади кухни существует, а остальные параметры влияют минимально, в связи с чем в дальнейшем будем рассматривать эти три параметра."
   ]
  },
  {
   "cell_type": "code",
   "execution_count": 9,
   "metadata": {},
   "outputs": [
    {
     "data": {
      "text/html": [
       "<div>\n",
       "<style scoped>\n",
       "    .dataframe tbody tr th:only-of-type {\n",
       "        vertical-align: middle;\n",
       "    }\n",
       "\n",
       "    .dataframe tbody tr th {\n",
       "        vertical-align: top;\n",
       "    }\n",
       "\n",
       "    .dataframe thead th {\n",
       "        text-align: right;\n",
       "    }\n",
       "</style>\n",
       "<table border=\"1\" class=\"dataframe\">\n",
       "  <thead>\n",
       "    <tr style=\"text-align: right;\">\n",
       "      <th></th>\n",
       "      <th>kitchen_area</th>\n",
       "      <th>living_area</th>\n",
       "      <th>total_area</th>\n",
       "      <th>percent_living_area</th>\n",
       "      <th>percent_kitchen_area</th>\n",
       "      <th>count</th>\n",
       "    </tr>\n",
       "    <tr>\n",
       "      <th>group_total_area</th>\n",
       "      <th></th>\n",
       "      <th></th>\n",
       "      <th></th>\n",
       "      <th></th>\n",
       "      <th></th>\n",
       "      <th></th>\n",
       "    </tr>\n",
       "  </thead>\n",
       "  <tbody>\n",
       "    <tr>\n",
       "      <td>(13.999, 33.5]</td>\n",
       "      <td>6.3</td>\n",
       "      <td>17.000</td>\n",
       "      <td>31.20</td>\n",
       "      <td>0.544872</td>\n",
       "      <td>0.201923</td>\n",
       "      <td>2126</td>\n",
       "    </tr>\n",
       "    <tr>\n",
       "      <td>(33.5, 38.0]</td>\n",
       "      <td>9.0</td>\n",
       "      <td>17.200</td>\n",
       "      <td>36.00</td>\n",
       "      <td>0.477778</td>\n",
       "      <td>0.250000</td>\n",
       "      <td>2115</td>\n",
       "    </tr>\n",
       "    <tr>\n",
       "      <td>(38.0, 42.5]</td>\n",
       "      <td>10.0</td>\n",
       "      <td>19.000</td>\n",
       "      <td>40.60</td>\n",
       "      <td>0.467980</td>\n",
       "      <td>0.246305</td>\n",
       "      <td>2047</td>\n",
       "    </tr>\n",
       "    <tr>\n",
       "      <td>(42.5, 46.0]</td>\n",
       "      <td>7.0</td>\n",
       "      <td>27.400</td>\n",
       "      <td>44.60</td>\n",
       "      <td>0.614350</td>\n",
       "      <td>0.156951</td>\n",
       "      <td>2146</td>\n",
       "    </tr>\n",
       "    <tr>\n",
       "      <td>(46.0, 52.2]</td>\n",
       "      <td>8.0</td>\n",
       "      <td>29.250</td>\n",
       "      <td>49.40</td>\n",
       "      <td>0.592105</td>\n",
       "      <td>0.161943</td>\n",
       "      <td>2046</td>\n",
       "    </tr>\n",
       "    <tr>\n",
       "      <td>(52.2, 58.2]</td>\n",
       "      <td>8.5</td>\n",
       "      <td>32.055</td>\n",
       "      <td>55.40</td>\n",
       "      <td>0.578610</td>\n",
       "      <td>0.153430</td>\n",
       "      <td>2092</td>\n",
       "    </tr>\n",
       "    <tr>\n",
       "      <td>(58.2, 65.0]</td>\n",
       "      <td>9.5</td>\n",
       "      <td>37.400</td>\n",
       "      <td>61.46</td>\n",
       "      <td>0.608526</td>\n",
       "      <td>0.154572</td>\n",
       "      <td>2167</td>\n",
       "    </tr>\n",
       "    <tr>\n",
       "      <td>(65.0, 75.0]</td>\n",
       "      <td>10.0</td>\n",
       "      <td>42.400</td>\n",
       "      <td>70.00</td>\n",
       "      <td>0.605714</td>\n",
       "      <td>0.142857</td>\n",
       "      <td>2103</td>\n",
       "    </tr>\n",
       "    <tr>\n",
       "      <td>(75.0, 93.3]</td>\n",
       "      <td>12.0</td>\n",
       "      <td>48.800</td>\n",
       "      <td>82.00</td>\n",
       "      <td>0.595122</td>\n",
       "      <td>0.146341</td>\n",
       "      <td>2009</td>\n",
       "    </tr>\n",
       "    <tr>\n",
       "      <td>(93.3, 900.0]</td>\n",
       "      <td>16.0</td>\n",
       "      <td>68.750</td>\n",
       "      <td>115.85</td>\n",
       "      <td>0.593440</td>\n",
       "      <td>0.138110</td>\n",
       "      <td>2092</td>\n",
       "    </tr>\n",
       "  </tbody>\n",
       "</table>\n",
       "</div>"
      ],
      "text/plain": [
       "                  kitchen_area  living_area  total_area  percent_living_area  \\\n",
       "group_total_area                                                               \n",
       "(13.999, 33.5]             6.3       17.000       31.20             0.544872   \n",
       "(33.5, 38.0]               9.0       17.200       36.00             0.477778   \n",
       "(38.0, 42.5]              10.0       19.000       40.60             0.467980   \n",
       "(42.5, 46.0]               7.0       27.400       44.60             0.614350   \n",
       "(46.0, 52.2]               8.0       29.250       49.40             0.592105   \n",
       "(52.2, 58.2]               8.5       32.055       55.40             0.578610   \n",
       "(58.2, 65.0]               9.5       37.400       61.46             0.608526   \n",
       "(65.0, 75.0]              10.0       42.400       70.00             0.605714   \n",
       "(75.0, 93.3]              12.0       48.800       82.00             0.595122   \n",
       "(93.3, 900.0]             16.0       68.750      115.85             0.593440   \n",
       "\n",
       "                  percent_kitchen_area  count  \n",
       "group_total_area                               \n",
       "(13.999, 33.5]                0.201923   2126  \n",
       "(33.5, 38.0]                  0.250000   2115  \n",
       "(38.0, 42.5]                  0.246305   2047  \n",
       "(42.5, 46.0]                  0.156951   2146  \n",
       "(46.0, 52.2]                  0.161943   2046  \n",
       "(52.2, 58.2]                  0.153430   2092  \n",
       "(58.2, 65.0]                  0.154572   2167  \n",
       "(65.0, 75.0]                  0.142857   2103  \n",
       "(75.0, 93.3]                  0.146341   2009  \n",
       "(93.3, 900.0]                 0.138110   2092  "
      ]
     },
     "metadata": {},
     "output_type": "display_data"
    },
    {
     "data": {
      "text/html": [
       "<div>\n",
       "<style scoped>\n",
       "    .dataframe tbody tr th:only-of-type {\n",
       "        vertical-align: middle;\n",
       "    }\n",
       "\n",
       "    .dataframe tbody tr th {\n",
       "        vertical-align: top;\n",
       "    }\n",
       "\n",
       "    .dataframe thead th {\n",
       "        text-align: right;\n",
       "    }\n",
       "</style>\n",
       "<table border=\"1\" class=\"dataframe\">\n",
       "  <thead>\n",
       "    <tr style=\"text-align: right;\">\n",
       "      <th></th>\n",
       "      <th>kitchen_area</th>\n",
       "      <th>living_area</th>\n",
       "      <th>total_area</th>\n",
       "      <th>percent_living_area</th>\n",
       "      <th>percent_kitchen_area</th>\n",
       "      <th>count</th>\n",
       "    </tr>\n",
       "    <tr>\n",
       "      <th>group2_total_area</th>\n",
       "      <th></th>\n",
       "      <th></th>\n",
       "      <th></th>\n",
       "      <th></th>\n",
       "      <th></th>\n",
       "      <th></th>\n",
       "    </tr>\n",
       "  </thead>\n",
       "  <tbody>\n",
       "    <tr>\n",
       "      <td>(0, 100]</td>\n",
       "      <td>9.0</td>\n",
       "      <td>29.51</td>\n",
       "      <td>50.0</td>\n",
       "      <td>0.590200</td>\n",
       "      <td>0.180000</td>\n",
       "      <td>19334</td>\n",
       "    </tr>\n",
       "    <tr>\n",
       "      <td>(100, 200]</td>\n",
       "      <td>16.0</td>\n",
       "      <td>72.10</td>\n",
       "      <td>121.0</td>\n",
       "      <td>0.595868</td>\n",
       "      <td>0.132231</td>\n",
       "      <td>1420</td>\n",
       "    </tr>\n",
       "    <tr>\n",
       "      <td>(200, 300]</td>\n",
       "      <td>25.3</td>\n",
       "      <td>148.00</td>\n",
       "      <td>235.0</td>\n",
       "      <td>0.629787</td>\n",
       "      <td>0.107660</td>\n",
       "      <td>145</td>\n",
       "    </tr>\n",
       "    <tr>\n",
       "      <td>(300, 700]</td>\n",
       "      <td>37.0</td>\n",
       "      <td>220.00</td>\n",
       "      <td>373.1</td>\n",
       "      <td>0.589654</td>\n",
       "      <td>0.099169</td>\n",
       "      <td>43</td>\n",
       "    </tr>\n",
       "  </tbody>\n",
       "</table>\n",
       "</div>"
      ],
      "text/plain": [
       "                   kitchen_area  living_area  total_area  percent_living_area  \\\n",
       "group2_total_area                                                               \n",
       "(0, 100]                    9.0        29.51        50.0             0.590200   \n",
       "(100, 200]                 16.0        72.10       121.0             0.595868   \n",
       "(200, 300]                 25.3       148.00       235.0             0.629787   \n",
       "(300, 700]                 37.0       220.00       373.1             0.589654   \n",
       "\n",
       "                   percent_kitchen_area  count  \n",
       "group2_total_area                               \n",
       "(0, 100]                       0.180000  19334  \n",
       "(100, 200]                     0.132231   1420  \n",
       "(200, 300]                     0.107660    145  \n",
       "(300, 700]                     0.099169     43  "
      ]
     },
     "metadata": {},
     "output_type": "display_data"
    }
   ],
   "source": [
    "slice_data['living_area'].value_counts()\n",
    "slice_data['group_total_area'] = pd.qcut(slice_data['total_area'], 10)\n",
    "slice_data['group2_total_area'] = pd.cut(slice_data['total_area'], [0,100,200,300,700])\n",
    "\n",
    "slice_10_popular_area = slice_data.pivot_table(index ='group_total_area', \n",
    "                                               values = ['total_area', 'living_area', 'kitchen_area'], aggfunc='median')\n",
    "slice_10_popular_area['percent_living_area'] = slice_10_popular_area['living_area'] / slice_10_popular_area['total_area']\n",
    "slice_10_popular_area['percent_kitchen_area'] = slice_10_popular_area['kitchen_area'] / slice_10_popular_area['total_area']\n",
    "slice_10_popular_area['count'] = slice_data['group_total_area'].value_counts()\n",
    "\n",
    "slice_big_flat = slice_data.pivot_table(index ='group2_total_area',\n",
    "                                        values = ['total_area', 'living_area', 'kitchen_area'], aggfunc='median')\n",
    "slice_big_flat['percent_living_area'] = slice_big_flat['living_area'] / slice_big_flat['total_area']\n",
    "slice_big_flat['percent_kitchen_area'] = slice_big_flat['kitchen_area'] / slice_big_flat['total_area']\n",
    "slice_big_flat['count'] = slice_data['group2_total_area'].value_counts()\n",
    "\n",
    "display(slice_10_popular_area)\n",
    "display(slice_big_flat)      "
   ]
  },
  {
   "cell_type": "markdown",
   "metadata": {},
   "source": [
    "Квартир площадью более 200 квадратных метров немного, однако разница в площадях присутствует, в связи с чем и выделил в отдельный класс."
   ]
  },
  {
   "cell_type": "markdown",
   "metadata": {},
   "source": [
    "###### Просмотр суммарных площадей в квартирах без указанной площади кухни и (или) жилой площади"
   ]
  },
  {
   "cell_type": "code",
   "execution_count": 45,
   "metadata": {},
   "outputs": [
    {
     "data": {
      "text/plain": [
       "(700, 900]    0\n",
       "(300, 700]    0\n",
       "(200, 300]    0\n",
       "(100, 200]    0\n",
       "(0, 100]      0\n",
       "Name: group_total_area, dtype: int64"
      ]
     },
     "metadata": {},
     "output_type": "display_data"
    }
   ],
   "source": [
    "pass_value = df_flats_info[df_flats_info['living_area'].isnull() | df_flats_info['kitchen_area'].isnull()]\n",
    "\n",
    "pass_value['group_total_area'] = pd.cut(pass_value['total_area'], [0, 100, 200, 300, 700, 900])\n",
    "display(pass_value['group_total_area'].value_counts())"
   ]
  },
  {
   "cell_type": "markdown",
   "metadata": {},
   "source": [
    "Просмотрев общую площадь квартир, в которых не указана отдельно площадь жилая или же кухни выявили небольшое количество квартир (<1% от всех пропущенных) с площадью > 400 квадратных метров в связи с чем объединил их в один класс."
   ]
  },
  {
   "cell_type": "markdown",
   "metadata": {},
   "source": [
    "###### Замена пропущенных значений в столбцах  living_area и kitchen_area"
   ]
  },
  {
   "cell_type": "code",
   "execution_count": 11,
   "metadata": {},
   "outputs": [
    {
     "name": "stdout",
     "output_type": "stream",
     "text": [
      "2269 - количество пропущенных площадей кухни,  1898 - количество пропущенных жилых площадей до замены\n",
      "0 - количество пропущенных площадей кухни,  0 - количество пропущенных жилых площадей после замены\n"
     ]
    }
   ],
   "source": [
    "coefficients_array_kitchen_areas = [0, .2019, .25, .2463, .1569, .1619, .1534, .1546, .1429, .1463, .1322, .1076, .0992]\n",
    "coefficients_array_living_areas = [0, .5449, .4778, .468, .6143, .5921, .5786, .6085, .6057, .5951, .5959, .6298, .5896]\n",
    "boundaries_groups_total_areas = [13.9, 33.5, 38, 42.5, 46, 52.2, 58.2, 65, 75, 93.3, 200, 300]\n",
    "\n",
    "def coefficient_to_area(check_element, result_coefficient_arr, boundaries=boundaries_groups_total_areas):\n",
    "    counter = bisect.bisect(boundaries, check_element)\n",
    "    return result_coefficient_arr[counter]\n",
    "\n",
    "def insert_missing_kitchen_area(row):\n",
    "    if math.isnan(row['kitchen_area']):\n",
    "        row['kitchen_area'] = coefficient_to_area(row['total_area'], coefficients_array_kitchen_areas) * row['total_area']\n",
    "        \n",
    "    return row['kitchen_area']\n",
    "\n",
    "def insert_missing_living_area(row):\n",
    "    if math.isnan(row['living_area']):\n",
    "        row['living_area'] = coefficient_to_area(row['total_area'], coefficients_array_living_areas) * row['total_area']\n",
    "        \n",
    "    return row['living_area']\n",
    "\n",
    "print(df_flats_info['kitchen_area'].isnull().sum(), '- количество пропущенных площадей кухни, ', \n",
    "      df_flats_info['living_area'].isnull().sum(), '- количество пропущенных жилых площадей до замены')\n",
    "\n",
    "df_flats_info['kitchen_area'] = df_flats_info.apply(insert_missing_kitchen_area, axis=1)\n",
    "df_flats_info['living_area'] = df_flats_info.apply(insert_missing_living_area, axis=1)\n",
    "\n",
    "print(df_flats_info['kitchen_area'].isnull().sum(), '- количество пропущенных площадей кухни, ',\n",
    "      df_flats_info['living_area'].isnull().sum(), '- количество пропущенных жилых площадей после замены')"
   ]
  },
  {
   "cell_type": "markdown",
   "metadata": {},
   "source": [
    "#### Результат обработки значений living_area и kitchen_area"
   ]
  },
  {
   "cell_type": "markdown",
   "metadata": {},
   "source": [
    "Заменил пропущенные значения площадей максимально близкими по имеющимся данным, умножив соответствующий коэффициент площади кухни и жилой площади на общую площадь квартиры, которая была указана для всех квартир."
   ]
  },
  {
   "cell_type": "markdown",
   "metadata": {},
   "source": [
    "#### Обработка значений balcony"
   ]
  },
  {
   "cell_type": "code",
   "execution_count": 12,
   "metadata": {},
   "outputs": [],
   "source": [
    "df_flats_info['balcony'] = df_flats_info['balcony'].fillna(0)"
   ]
  },
  {
   "cell_type": "markdown",
   "metadata": {},
   "source": [
    "Предположим, что если балкон не указан, то его просто нет."
   ]
  },
  {
   "cell_type": "markdown",
   "metadata": {},
   "source": [
    "#### Обработка пропущенных значений days_exposition"
   ]
  },
  {
   "cell_type": "code",
   "execution_count": 13,
   "metadata": {},
   "outputs": [
    {
     "name": "stdout",
     "output_type": "stream",
     "text": [
      "95.0\n"
     ]
    }
   ],
   "source": [
    "print(df_flats_info['days_exposition'].median())\n",
    "df_flats_info['days_exposition'] = df_flats_info['days_exposition'].fillna(90)"
   ]
  },
  {
   "cell_type": "markdown",
   "metadata": {},
   "source": [
    "Чтобы не сильно сбивать медианное значение, но при этом поменять на уникальное значение в тех строках, где не было указано количество дней от публикации до снятия заменил на почти медианное (ближайшее, которое не встречалось в наборе данных) "
   ]
  },
  {
   "cell_type": "markdown",
   "metadata": {},
   "source": [
    "#### Обработка значений parks_nearest и airports_nearest"
   ]
  },
  {
   "cell_type": "markdown",
   "metadata": {},
   "source": [
    "Заменим значения ближайших парков и водоемов на медианные, в случае, если есть информация о количестве ближайших в радиусе 3 километров."
   ]
  },
  {
   "cell_type": "code",
   "execution_count": 14,
   "metadata": {},
   "outputs": [],
   "source": [
    "median_distance_nearest_park = df_flats_info['parks_nearest'].median()\n",
    "median_distance_nearest_pond = df_flats_info['ponds_nearest'].median()\n",
    "\n",
    "df_flats_info.loc[df_flats_info.query('parks_nearest.isnull() & parks_around3000.notna()')['parks_nearest']\n",
    "                  .index, 'parks_nearest'] = median_distance_nearest_park\n",
    "\n",
    "df_flats_info.loc[df_flats_info.query('ponds_nearest.isnull() & ponds_around3000.notna()')['ponds_nearest']\n",
    "                  .index, 'ponds_nearest'] = median_distance_nearest_pond"
   ]
  },
  {
   "cell_type": "markdown",
   "metadata": {},
   "source": [
    "Оставшиеся пропуски располагаются в одних и тех же строках, в связи с чем заменяем на аномальные значения, близкие к медианным, чтобы не потерять, не испортить, но в связи с тем, что таких значений почти 20% рассмотрим их отдельно позднее. "
   ]
  },
  {
   "cell_type": "code",
   "execution_count": 15,
   "metadata": {},
   "outputs": [],
   "source": [
    "df_flats_info['ponds_around3000'] = df_flats_info['ponds_around3000'].fillna(0.5)\n",
    "df_flats_info['parks_around3000'] = df_flats_info['parks_around3000'].fillna(0.5)\n",
    "\n",
    "df_flats_info['airports_nearest'] = df_flats_info['airports_nearest'].fillna(26756.5)\n",
    "df_flats_info['cityCenters_nearest'] = df_flats_info['cityCenters_nearest'].fillna(13105.1)\n",
    "df_flats_info['parks_nearest'] = df_flats_info['parks_nearest'].fillna(454.6)\n",
    "df_flats_info['ponds_nearest'] = df_flats_info['ponds_nearest'].fillna(502.1)"
   ]
  },
  {
   "cell_type": "markdown",
   "metadata": {},
   "source": [
    "### Изменение типов данных"
   ]
  },
  {
   "cell_type": "code",
   "execution_count": 16,
   "metadata": {},
   "outputs": [
    {
     "data": {
      "text/html": [
       "<div>\n",
       "<style scoped>\n",
       "    .dataframe tbody tr th:only-of-type {\n",
       "        vertical-align: middle;\n",
       "    }\n",
       "\n",
       "    .dataframe tbody tr th {\n",
       "        vertical-align: top;\n",
       "    }\n",
       "\n",
       "    .dataframe thead th {\n",
       "        text-align: right;\n",
       "    }\n",
       "</style>\n",
       "<table border=\"1\" class=\"dataframe\">\n",
       "  <thead>\n",
       "    <tr style=\"text-align: right;\">\n",
       "      <th></th>\n",
       "      <th>total_images</th>\n",
       "      <th>last_price</th>\n",
       "      <th>total_area</th>\n",
       "      <th>first_day_exposition</th>\n",
       "      <th>rooms</th>\n",
       "      <th>ceiling_height</th>\n",
       "      <th>floors_total</th>\n",
       "      <th>living_area</th>\n",
       "      <th>floor</th>\n",
       "      <th>is_apartment</th>\n",
       "      <th>...</th>\n",
       "      <th>kitchen_area</th>\n",
       "      <th>balcony</th>\n",
       "      <th>locality_name</th>\n",
       "      <th>airports_nearest</th>\n",
       "      <th>cityCenters_nearest</th>\n",
       "      <th>parks_around3000</th>\n",
       "      <th>parks_nearest</th>\n",
       "      <th>ponds_around3000</th>\n",
       "      <th>ponds_nearest</th>\n",
       "      <th>days_exposition</th>\n",
       "    </tr>\n",
       "  </thead>\n",
       "  <tbody>\n",
       "    <tr>\n",
       "      <td>0</td>\n",
       "      <td>20</td>\n",
       "      <td>13.000</td>\n",
       "      <td>108.0</td>\n",
       "      <td>2019-03-07</td>\n",
       "      <td>3</td>\n",
       "      <td>2.70</td>\n",
       "      <td>7</td>\n",
       "      <td>51.0000</td>\n",
       "      <td>8</td>\n",
       "      <td>False</td>\n",
       "      <td>...</td>\n",
       "      <td>25.0000</td>\n",
       "      <td>0</td>\n",
       "      <td>Санкт-Петербург</td>\n",
       "      <td>18863.0</td>\n",
       "      <td>16028.0</td>\n",
       "      <td>1.0</td>\n",
       "      <td>482.0</td>\n",
       "      <td>2.0</td>\n",
       "      <td>755.0</td>\n",
       "      <td>90</td>\n",
       "    </tr>\n",
       "    <tr>\n",
       "      <td>1</td>\n",
       "      <td>7</td>\n",
       "      <td>3.350</td>\n",
       "      <td>40.4</td>\n",
       "      <td>2018-12-04</td>\n",
       "      <td>1</td>\n",
       "      <td>2.63</td>\n",
       "      <td>5</td>\n",
       "      <td>18.6000</td>\n",
       "      <td>1</td>\n",
       "      <td>False</td>\n",
       "      <td>...</td>\n",
       "      <td>11.0000</td>\n",
       "      <td>2</td>\n",
       "      <td>поселок Шушары</td>\n",
       "      <td>12817.0</td>\n",
       "      <td>18603.0</td>\n",
       "      <td>0.0</td>\n",
       "      <td>454.5</td>\n",
       "      <td>0.0</td>\n",
       "      <td>502.0</td>\n",
       "      <td>81</td>\n",
       "    </tr>\n",
       "    <tr>\n",
       "      <td>2</td>\n",
       "      <td>10</td>\n",
       "      <td>5.196</td>\n",
       "      <td>56.0</td>\n",
       "      <td>2015-08-20</td>\n",
       "      <td>2</td>\n",
       "      <td>2.70</td>\n",
       "      <td>5</td>\n",
       "      <td>34.3000</td>\n",
       "      <td>4</td>\n",
       "      <td>False</td>\n",
       "      <td>...</td>\n",
       "      <td>8.3000</td>\n",
       "      <td>0</td>\n",
       "      <td>Санкт-Петербург</td>\n",
       "      <td>21741.0</td>\n",
       "      <td>13933.0</td>\n",
       "      <td>1.0</td>\n",
       "      <td>90.0</td>\n",
       "      <td>2.0</td>\n",
       "      <td>574.0</td>\n",
       "      <td>558</td>\n",
       "    </tr>\n",
       "    <tr>\n",
       "      <td>3</td>\n",
       "      <td>0</td>\n",
       "      <td>64.900</td>\n",
       "      <td>159.0</td>\n",
       "      <td>2015-07-24</td>\n",
       "      <td>3</td>\n",
       "      <td>2.70</td>\n",
       "      <td>7</td>\n",
       "      <td>94.7481</td>\n",
       "      <td>9</td>\n",
       "      <td>False</td>\n",
       "      <td>...</td>\n",
       "      <td>21.0198</td>\n",
       "      <td>0</td>\n",
       "      <td>Санкт-Петербург</td>\n",
       "      <td>28098.0</td>\n",
       "      <td>6800.0</td>\n",
       "      <td>2.0</td>\n",
       "      <td>84.0</td>\n",
       "      <td>3.0</td>\n",
       "      <td>234.0</td>\n",
       "      <td>424</td>\n",
       "    </tr>\n",
       "    <tr>\n",
       "      <td>4</td>\n",
       "      <td>2</td>\n",
       "      <td>10.000</td>\n",
       "      <td>100.0</td>\n",
       "      <td>2018-06-19</td>\n",
       "      <td>2</td>\n",
       "      <td>3.03</td>\n",
       "      <td>6</td>\n",
       "      <td>32.0000</td>\n",
       "      <td>13</td>\n",
       "      <td>False</td>\n",
       "      <td>...</td>\n",
       "      <td>41.0000</td>\n",
       "      <td>0</td>\n",
       "      <td>Санкт-Петербург</td>\n",
       "      <td>31856.0</td>\n",
       "      <td>8098.0</td>\n",
       "      <td>2.0</td>\n",
       "      <td>112.0</td>\n",
       "      <td>1.0</td>\n",
       "      <td>48.0</td>\n",
       "      <td>121</td>\n",
       "    </tr>\n",
       "  </tbody>\n",
       "</table>\n",
       "<p>5 rows × 22 columns</p>\n",
       "</div>"
      ],
      "text/plain": [
       "   total_images  last_price  total_area first_day_exposition  rooms  \\\n",
       "0            20      13.000       108.0           2019-03-07      3   \n",
       "1             7       3.350        40.4           2018-12-04      1   \n",
       "2            10       5.196        56.0           2015-08-20      2   \n",
       "3             0      64.900       159.0           2015-07-24      3   \n",
       "4             2      10.000       100.0           2018-06-19      2   \n",
       "\n",
       "   ceiling_height  floors_total  living_area  floor  is_apartment  ...  \\\n",
       "0            2.70             7      51.0000      8         False  ...   \n",
       "1            2.63             5      18.6000      1         False  ...   \n",
       "2            2.70             5      34.3000      4         False  ...   \n",
       "3            2.70             7      94.7481      9         False  ...   \n",
       "4            3.03             6      32.0000     13         False  ...   \n",
       "\n",
       "   kitchen_area  balcony    locality_name  airports_nearest  \\\n",
       "0       25.0000        0  Санкт-Петербург           18863.0   \n",
       "1       11.0000        2   поселок Шушары           12817.0   \n",
       "2        8.3000        0  Санкт-Петербург           21741.0   \n",
       "3       21.0198        0  Санкт-Петербург           28098.0   \n",
       "4       41.0000        0  Санкт-Петербург           31856.0   \n",
       "\n",
       "  cityCenters_nearest  parks_around3000  parks_nearest  ponds_around3000  \\\n",
       "0             16028.0               1.0          482.0               2.0   \n",
       "1             18603.0               0.0          454.5               0.0   \n",
       "2             13933.0               1.0           90.0               2.0   \n",
       "3              6800.0               2.0           84.0               3.0   \n",
       "4              8098.0               2.0          112.0               1.0   \n",
       "\n",
       "   ponds_nearest  days_exposition  \n",
       "0          755.0               90  \n",
       "1          502.0               81  \n",
       "2          574.0              558  \n",
       "3          234.0              424  \n",
       "4           48.0              121  \n",
       "\n",
       "[5 rows x 22 columns]"
      ]
     },
     "metadata": {},
     "output_type": "display_data"
    },
    {
     "name": "stdout",
     "output_type": "stream",
     "text": [
      "<class 'pandas.core.frame.DataFrame'>\n",
      "Int64Index: 23650 entries, 0 to 23698\n",
      "Data columns (total 22 columns):\n",
      "total_images            23650 non-null int64\n",
      "last_price              23650 non-null float64\n",
      "total_area              23650 non-null float64\n",
      "first_day_exposition    23650 non-null datetime64[ns]\n",
      "rooms                   23650 non-null int64\n",
      "ceiling_height          23650 non-null float64\n",
      "floors_total            23650 non-null int64\n",
      "living_area             23650 non-null float64\n",
      "floor                   23650 non-null int64\n",
      "is_apartment            23650 non-null bool\n",
      "studio                  23650 non-null bool\n",
      "open_plan               23650 non-null bool\n",
      "kitchen_area            23650 non-null float64\n",
      "balcony                 23650 non-null int64\n",
      "locality_name           23650 non-null object\n",
      "airports_nearest        23650 non-null float64\n",
      "cityCenters_nearest     23650 non-null float64\n",
      "parks_around3000        23650 non-null float64\n",
      "parks_nearest           23650 non-null float64\n",
      "ponds_around3000        23650 non-null float64\n",
      "ponds_nearest           23650 non-null float64\n",
      "days_exposition         23650 non-null int64\n",
      "dtypes: bool(3), datetime64[ns](1), float64(11), int64(6), object(1)\n",
      "memory usage: 4.3+ MB\n"
     ]
    }
   ],
   "source": [
    "df_flats_info['first_day_exposition'] = pd.to_datetime(df_flats_info['first_day_exposition'])\n",
    "df_flats_info['days_exposition'] = df_flats_info['days_exposition'].astype(int)\n",
    "df_flats_info['balcony'] = df_flats_info['balcony'].astype(int)\n",
    "\n",
    "display(df_flats_info.head())\n",
    "df_flats_info.info()"
   ]
  },
  {
   "cell_type": "code",
   "execution_count": 17,
   "metadata": {},
   "outputs": [
    {
     "data": {
      "text/plain": [
       "0"
      ]
     },
     "execution_count": 17,
     "metadata": {},
     "output_type": "execute_result"
    }
   ],
   "source": [
    "df_flats_info.duplicated().sum()"
   ]
  },
  {
   "cell_type": "markdown",
   "metadata": {},
   "source": [
    "Дата была не в удобном формате. Количество балконов, дней, которые были размещены объявления привел к целому числу значений.\n",
    "Количество прудов и парков в радиусе трех километров также можно было привести, но в связи с присвоением выделяющихся значений (0.5) это сделано не было. Дубликатов обнаружено не было."
   ]
  },
  {
   "cell_type": "markdown",
   "metadata": {},
   "source": [
    "## Вывод шага 2"
   ]
  },
  {
   "cell_type": "markdown",
   "metadata": {},
   "source": [
    "В большом количестве столбцов были обнаружены пропуски, они были различны и заменялись из разных соображений. Причинами их появления считаю:\n",
    "* Большое количество источников с различными признаками недвижимости;\n",
    "* Корыстные соображения продавцов квартир;\n",
    "* Незнание каких-то характеристик недвижимости;\n",
    "* Мнение, что пропуск значения эквивалентно заполнением его нулем."
   ]
  },
  {
   "cell_type": "markdown",
   "metadata": {},
   "source": [
    "## Шаг 3. Посчитайте и добавьте в таблицу"
   ]
  },
  {
   "cell_type": "markdown",
   "metadata": {},
   "source": [
    "### Добавление цены квадратного метра"
   ]
  },
  {
   "cell_type": "code",
   "execution_count": 18,
   "metadata": {},
   "outputs": [],
   "source": [
    "df_flats_info['price_per_square_meter'] = round(1000 * df_flats_info['last_price'] / df_flats_info['total_area'])"
   ]
  },
  {
   "cell_type": "markdown",
   "metadata": {},
   "source": [
    "### Добавление дня недели, месяца, года публикации"
   ]
  },
  {
   "cell_type": "code",
   "execution_count": 19,
   "metadata": {},
   "outputs": [],
   "source": [
    "df_flats_info['day_of_week_publication'] = df_flats_info['first_day_exposition'].apply(lambda date: calendar.day_name[date.weekday()])\n",
    "\n",
    "df_flats_info['month_publication'] = df_flats_info['first_day_exposition'].apply(lambda date: date.strftime('%B'))\n",
    "df_flats_info['year_publication'] = df_flats_info['first_day_exposition'].apply(lambda date: date.year)\n"
   ]
  },
  {
   "cell_type": "markdown",
   "metadata": {},
   "source": [
    "### Добавление варианта этажа"
   ]
  },
  {
   "cell_type": "code",
   "execution_count": 20,
   "metadata": {},
   "outputs": [],
   "source": [
    "def input_status_floor(row):\n",
    "    if row['floor'] == 1:\n",
    "        return 'первый'\n",
    "    if row['floor'] == row['floors_total']:\n",
    "        return 'последний'\n",
    "    return 'другой'\n",
    "\n",
    "df_flats_info['status_floor'] = df_flats_info.apply(input_status_floor, axis=1)"
   ]
  },
  {
   "cell_type": "markdown",
   "metadata": {},
   "source": [
    "### Добавление соотношений площадей"
   ]
  },
  {
   "cell_type": "code",
   "execution_count": 21,
   "metadata": {},
   "outputs": [],
   "source": [
    "df_flats_info['ratio_living_total'] = df_flats_info['living_area'] / df_flats_info['total_area']\n",
    "df_flats_info['ratio_kitchen_total'] = df_flats_info['kitchen_area'] / df_flats_info['total_area']"
   ]
  },
  {
   "cell_type": "markdown",
   "metadata": {},
   "source": [
    "## Шаг 4. Проведите исследовательский анализ данных и выполните инструкции:"
   ]
  },
  {
   "cell_type": "markdown",
   "metadata": {},
   "source": [
    "### Изучение площадей квартир"
   ]
  },
  {
   "cell_type": "code",
   "execution_count": 22,
   "metadata": {},
   "outputs": [
    {
     "data": {
      "image/png": "[encoded data removed]",
      "text/plain": [
       "<Figure size 864x288 with 1 Axes>"
      ]
     },
     "metadata": {
      "needs_background": "light"
     },
     "output_type": "display_data"
    }
   ],
   "source": [
    "df_flats_info['total_area'].plot(kind='hist', bins=50, range=(13.99,100), figsize=(12, 4))\n",
    "plt.title(\"Гистограмма распределения площадей квартир до 100 квадратных метров.\")\n",
    "plt.xlabel(\"Количество квадратных метров\")\n",
    "plt.ylabel(\"Число встретившихся квартир\");"
   ]
  },
  {
   "cell_type": "code",
   "execution_count": 23,
   "metadata": {},
   "outputs": [
    {
     "data": {
      "image/png": "[encoded data removed]",
      "text/plain": [
       "<Figure size 864x288 with 1 Axes>"
      ]
     },
     "metadata": {
      "needs_background": "light"
     },
     "output_type": "display_data"
    }
   ],
   "source": [
    "df_flats_info['total_area'].plot(kind='hist', bins=50, range=(100.001, 200), figsize=(12, 4))\n",
    "plt.title(\"Гистограмма распределения площадей квартир 100-200 квадратных метров.\")\n",
    "plt.xlabel(\"Количество квадратных метров\")\n",
    "plt.ylabel(\"Число встретившихся квартир\");"
   ]
  },
  {
   "cell_type": "code",
   "execution_count": 24,
   "metadata": {},
   "outputs": [
    {
     "data": {
      "image/png": "[encoded data removed]",
      "text/plain": [
       "<Figure size 864x288 with 1 Axes>"
      ]
     },
     "metadata": {
      "needs_background": "light"
     },
     "output_type": "display_data"
    }
   ],
   "source": [
    "df_flats_info['total_area'].plot(kind='hist', bins=50, range=(200.001, 900), figsize=(12, 4))\n",
    "plt.title(\"Гистограмма распределения площадей квартир более 200 квадратных метров.\")\n",
    "plt.xlabel(\"Количество квадратных метров\")\n",
    "plt.ylabel(\"Число встретившихся квартир\");"
   ]
  },
  {
   "cell_type": "markdown",
   "metadata": {},
   "source": [
    "### Изучение цен квартир"
   ]
  },
  {
   "cell_type": "code",
   "execution_count": 25,
   "metadata": {},
   "outputs": [
    {
     "data": {
      "image/png": "[encoded data removed]",
      "text/plain": [
       "<Figure size 864x288 with 1 Axes>"
      ]
     },
     "metadata": {
      "needs_background": "light"
     },
     "output_type": "display_data"
    }
   ],
   "source": [
    "df_flats_info['last_price'].plot(kind='hist', bins=50, figsize=(12, 4), range=(0,10))\n",
    "plt.title(\"Гистограмма распределения цен квартир до 10 миллионов\")\n",
    "plt.xlabel(\"Цена квартир (млн)\")\n",
    "plt.ylabel(\"Число встретившихся квартир\");"
   ]
  },
  {
   "cell_type": "code",
   "execution_count": 26,
   "metadata": {},
   "outputs": [
    {
     "data": {
      "image/png": "[encoded data removed]",
      "text/plain": [
       "<Figure size 864x288 with 1 Axes>"
      ]
     },
     "metadata": {
      "needs_background": "light"
     },
     "output_type": "display_data"
    }
   ],
   "source": [
    "df_flats_info['last_price'].plot(kind='hist', bins=50, figsize=(12, 4), range=(10.001,30))\n",
    "plt.title(\"Гистограмма распределения цен квартир от 10 до 30 миллионов\")\n",
    "plt.xlabel(\"Цена квартир (млн)\")\n",
    "plt.ylabel(\"Число встретившихся квартир\");"
   ]
  },
  {
   "cell_type": "code",
   "execution_count": 27,
   "metadata": {},
   "outputs": [
    {
     "data": {
      "image/png": "[encoded data removed]",
      "text/plain": [
       "<Figure size 864x288 with 1 Axes>"
      ]
     },
     "metadata": {
      "needs_background": "light"
     },
     "output_type": "display_data"
    }
   ],
   "source": [
    "df_flats_info['last_price'].plot(kind='hist', bins=50, figsize=(12, 4), range=(30.001,150))\n",
    "plt.title(\"Гистограмма распределения цен квартир от 30 до 150 миллионов\")\n",
    "plt.xlabel(\"Цена квартир (млн)\")\n",
    "plt.ylabel(\"Число встретившихся квартир\");"
   ]
  },
  {
   "cell_type": "code",
   "execution_count": 28,
   "metadata": {},
   "outputs": [
    {
     "data": {
      "image/png": "[encoded data removed]",
      "text/plain": [
       "<Figure size 864x288 with 1 Axes>"
      ]
     },
     "metadata": {
      "needs_background": "light"
     },
     "output_type": "display_data"
    }
   ],
   "source": [
    "df_flats_info['last_price'].plot(kind='hist', bins=50, figsize=(12, 4), range=(150.001,800))\n",
    "plt.title(\"Гистограмма распределения цен квартир от 150 до 800 миллионов\")\n",
    "plt.xlabel(\"Цена квартир (млн)\")\n",
    "plt.ylabel(\"Число встретившихся квартир\");"
   ]
  },
  {
   "cell_type": "markdown",
   "metadata": {},
   "source": [
    "### Изучение числа комнат"
   ]
  },
  {
   "cell_type": "code",
   "execution_count": 29,
   "metadata": {},
   "outputs": [
    {
     "data": {
      "image/png": "[encoded data removed]",
      "text/plain": [
       "<Figure size 864x288 with 1 Axes>"
      ]
     },
     "metadata": {
      "needs_background": "light"
     },
     "output_type": "display_data"
    }
   ],
   "source": [
    "df_flats_info['rooms'].plot(kind='hist', bins=7, figsize=(12, 4), range=(0,3))\n",
    "plt.title(\"Гистограмма распределения количества комнат (0 - 3)\")\n",
    "plt.xlabel(\"Количество комнат\")\n",
    "plt.ylabel(\"Число встретившихся квартир\");"
   ]
  },
  {
   "cell_type": "code",
   "execution_count": 30,
   "metadata": {},
   "outputs": [
    {
     "data": {
      "image/png": "[encoded data removed]",
      "text/plain": [
       "<Figure size 864x288 with 1 Axes>"
      ]
     },
     "metadata": {
      "needs_background": "light"
     },
     "output_type": "display_data"
    }
   ],
   "source": [
    "df_flats_info['rooms'].plot(kind='hist', bins=8, figsize=(12, 4), range=(3.1,7))\n",
    "plt.title(\"Гистограмма распределения количества комнат (4 - 7)\")\n",
    "plt.xlabel(\"Количество комнат\")\n",
    "plt.ylabel(\"Число встретившихся квартир\");"
   ]
  },
  {
   "cell_type": "code",
   "execution_count": 31,
   "metadata": {},
   "outputs": [
    {
     "data": {
      "image/png": "[encoded data removed]",
      "text/plain": [
       "<Figure size 864x288 with 1 Axes>"
      ]
     },
     "metadata": {
      "needs_background": "light"
     },
     "output_type": "display_data"
    }
   ],
   "source": [
    "df_flats_info['rooms'].plot(kind='hist', bins=13, figsize=(12, 4), range=(7.1, 19))\n",
    "plt.title(\"Гистограмма распределения количества комнат (8 - 19)\")\n",
    "plt.xlabel(\"Количество комнат\")\n",
    "plt.ylabel(\"Число встретившихся квартир\");"
   ]
  },
  {
   "cell_type": "markdown",
   "metadata": {},
   "source": [
    "### Изучение высот потолков"
   ]
  },
  {
   "cell_type": "code",
   "execution_count": 32,
   "metadata": {},
   "outputs": [
    {
     "data": {
      "image/png": "[encoded data removed]",
      "text/plain": [
       "<Figure size 864x288 with 1 Axes>"
      ]
     },
     "metadata": {
      "needs_background": "light"
     },
     "output_type": "display_data"
    }
   ],
   "source": [
    "df_flats_info['ceiling_height'].plot(kind='hist', bins=23, figsize=(12, 4), range=(2,3))\n",
    "plt.title(\"Гистограмма распределения высот потолков 2-3 метров\")\n",
    "plt.xlabel(\"Высота потолков\")\n",
    "plt.ylabel(\"Число встретившихся квартир\");"
   ]
  },
  {
   "cell_type": "code",
   "execution_count": 33,
   "metadata": {},
   "outputs": [
    {
     "data": {
      "image/png": "[encoded data removed]",
      "text/plain": [
       "<Figure size 864x288 with 1 Axes>"
      ]
     },
     "metadata": {
      "needs_background": "light"
     },
     "output_type": "display_data"
    }
   ],
   "source": [
    "df_flats_info['ceiling_height'].plot(kind='hist', bins=23, figsize=(12, 4), range=(3.001,6))\n",
    "plt.title(\"Гистограмма распределения высот потолков >3 метров\")\n",
    "plt.xlabel(\"Высота потолков\")\n",
    "plt.ylabel(\"Число встретившихся квартир\");"
   ]
  },
  {
   "cell_type": "code",
   "execution_count": 34,
   "metadata": {},
   "outputs": [
    {
     "data": {
      "image/png": "[encoded data removed]",
      "text/plain": [
       "<Figure size 864x288 with 1 Axes>"
      ]
     },
     "metadata": {
      "needs_background": "light"
     },
     "output_type": "display_data"
    }
   ],
   "source": [
    "df_flats_info['ceiling_height'].plot(kind='hist', bins=50, figsize=(12, 4), range=(6.001,100))\n",
    "plt.title(\"Гистограмма распределения аномально высоких потолков > 6 метров\")\n",
    "plt.xlabel(\"Высота потолков\")\n",
    "plt.ylabel(\"Число встретившихся квартир\");"
   ]
  },
  {
   "cell_type": "markdown",
   "metadata": {},
   "source": [
    "### Изучение времени продаж"
   ]
  },
  {
   "cell_type": "code",
   "execution_count": 35,
   "metadata": {},
   "outputs": [
    {
     "data": {
      "image/png": "[encoded data removed]",
      "text/plain": [
       "<Figure size 864x288 with 1 Axes>"
      ]
     },
     "metadata": {
      "needs_background": "light"
     },
     "output_type": "display_data"
    }
   ],
   "source": [
    "df_without_replacement = df_flats_info.query('days_exposition != 90')\n",
    "df_without_replacement['days_exposition'].plot(kind='hist', bins=50, figsize=(12, 4), range=(0,200))\n",
    "plt.title(\"Гистограмма распределения времени продаж в быстрых случаях.\")\n",
    "plt.xlabel(\"Дней ожидания продаж\")\n",
    "plt.ylabel(\"Число встретившихся квартир\");"
   ]
  },
  {
   "cell_type": "code",
   "execution_count": 36,
   "metadata": {},
   "outputs": [
    {
     "data": {
      "image/png": "[encoded data removed]",
      "text/plain": [
       "<Figure size 864x288 with 1 Axes>"
      ]
     },
     "metadata": {
      "needs_background": "light"
     },
     "output_type": "display_data"
    }
   ],
   "source": [
    "df_without_replacement['days_exposition'].plot(kind='hist', bins=50, figsize=(12, 4), range=(201, 1200))\n",
    "plt.title(\"Гистограмма распределения времени продаж в долгих случаях.\")\n",
    "plt.xlabel(\"Дней ожидания продаж\")\n",
    "plt.ylabel(\"Число встретившихся квартир\");"
   ]
  },
  {
   "cell_type": "code",
   "execution_count": 37,
   "metadata": {},
   "outputs": [
    {
     "data": {
      "image/png": "[encoded data removed]",
      "text/plain": [
       "<Figure size 864x288 with 1 Axes>"
      ]
     },
     "metadata": {
      "needs_background": "light"
     },
     "output_type": "display_data"
    }
   ],
   "source": [
    "df_without_replacement['days_exposition'].plot(kind='hist', bins=50, figsize=(12, 4), range=(1201, 1600))\n",
    "plt.title(\"Гистограмма распределения времени продаж в аномально долгих случаях.\")\n",
    "plt.xlabel(\"Дней ожидания продаж\")\n",
    "plt.ylabel(\"Число встретившихся квартир\");"
   ]
  },
  {
   "cell_type": "code",
   "execution_count": 38,
   "metadata": {},
   "outputs": [
    {
     "data": {
      "text/html": [
       "<div>\n",
       "<style scoped>\n",
       "    .dataframe tbody tr th:only-of-type {\n",
       "        vertical-align: middle;\n",
       "    }\n",
       "\n",
       "    .dataframe tbody tr th {\n",
       "        vertical-align: top;\n",
       "    }\n",
       "\n",
       "    .dataframe thead th {\n",
       "        text-align: right;\n",
       "    }\n",
       "</style>\n",
       "<table border=\"1\" class=\"dataframe\">\n",
       "  <thead>\n",
       "    <tr style=\"text-align: right;\">\n",
       "      <th></th>\n",
       "      <th>total_images</th>\n",
       "      <th>last_price</th>\n",
       "      <th>total_area</th>\n",
       "      <th>rooms</th>\n",
       "      <th>ceiling_height</th>\n",
       "      <th>floors_total</th>\n",
       "      <th>living_area</th>\n",
       "      <th>floor</th>\n",
       "      <th>is_apartment</th>\n",
       "      <th>studio</th>\n",
       "      <th>...</th>\n",
       "      <th>cityCenters_nearest</th>\n",
       "      <th>parks_around3000</th>\n",
       "      <th>parks_nearest</th>\n",
       "      <th>ponds_around3000</th>\n",
       "      <th>ponds_nearest</th>\n",
       "      <th>days_exposition</th>\n",
       "      <th>price_per_square_meter</th>\n",
       "      <th>year_publication</th>\n",
       "      <th>ratio_living_total</th>\n",
       "      <th>ratio_kitchen_total</th>\n",
       "    </tr>\n",
       "    <tr>\n",
       "      <th>days_exposition</th>\n",
       "      <th></th>\n",
       "      <th></th>\n",
       "      <th></th>\n",
       "      <th></th>\n",
       "      <th></th>\n",
       "      <th></th>\n",
       "      <th></th>\n",
       "      <th></th>\n",
       "      <th></th>\n",
       "      <th></th>\n",
       "      <th></th>\n",
       "      <th></th>\n",
       "      <th></th>\n",
       "      <th></th>\n",
       "      <th></th>\n",
       "      <th></th>\n",
       "      <th></th>\n",
       "      <th></th>\n",
       "      <th></th>\n",
       "      <th></th>\n",
       "      <th></th>\n",
       "    </tr>\n",
       "  </thead>\n",
       "  <tbody>\n",
       "    <tr>\n",
       "      <td>(0.999, 17.0]</td>\n",
       "      <td>9.54</td>\n",
       "      <td>5.49</td>\n",
       "      <td>53.50</td>\n",
       "      <td>1.85</td>\n",
       "      <td>2.71</td>\n",
       "      <td>6.80</td>\n",
       "      <td>30.45</td>\n",
       "      <td>6.12</td>\n",
       "      <td>0.0</td>\n",
       "      <td>0.01</td>\n",
       "      <td>...</td>\n",
       "      <td>13940.06</td>\n",
       "      <td>0.55</td>\n",
       "      <td>463.12</td>\n",
       "      <td>0.63</td>\n",
       "      <td>519.37</td>\n",
       "      <td>9.43</td>\n",
       "      <td>99.81</td>\n",
       "      <td>2017.82</td>\n",
       "      <td>0.56</td>\n",
       "      <td>0.19</td>\n",
       "    </tr>\n",
       "    <tr>\n",
       "      <td>(17.0, 34.0]</td>\n",
       "      <td>9.70</td>\n",
       "      <td>5.97</td>\n",
       "      <td>54.28</td>\n",
       "      <td>1.89</td>\n",
       "      <td>2.77</td>\n",
       "      <td>6.70</td>\n",
       "      <td>30.87</td>\n",
       "      <td>6.31</td>\n",
       "      <td>0.0</td>\n",
       "      <td>0.02</td>\n",
       "      <td>...</td>\n",
       "      <td>14423.97</td>\n",
       "      <td>0.54</td>\n",
       "      <td>462.37</td>\n",
       "      <td>0.69</td>\n",
       "      <td>511.55</td>\n",
       "      <td>25.73</td>\n",
       "      <td>100.25</td>\n",
       "      <td>2017.74</td>\n",
       "      <td>0.56</td>\n",
       "      <td>0.19</td>\n",
       "    </tr>\n",
       "    <tr>\n",
       "      <td>(34.0, 47.0]</td>\n",
       "      <td>8.53</td>\n",
       "      <td>4.37</td>\n",
       "      <td>49.76</td>\n",
       "      <td>1.77</td>\n",
       "      <td>2.68</td>\n",
       "      <td>5.94</td>\n",
       "      <td>28.30</td>\n",
       "      <td>5.90</td>\n",
       "      <td>0.0</td>\n",
       "      <td>0.01</td>\n",
       "      <td>...</td>\n",
       "      <td>14938.28</td>\n",
       "      <td>0.53</td>\n",
       "      <td>460.38</td>\n",
       "      <td>0.61</td>\n",
       "      <td>517.08</td>\n",
       "      <td>42.53</td>\n",
       "      <td>85.82</td>\n",
       "      <td>2017.57</td>\n",
       "      <td>0.56</td>\n",
       "      <td>0.20</td>\n",
       "    </tr>\n",
       "    <tr>\n",
       "      <td>(47.0, 66.0]</td>\n",
       "      <td>9.64</td>\n",
       "      <td>5.68</td>\n",
       "      <td>56.66</td>\n",
       "      <td>1.99</td>\n",
       "      <td>2.70</td>\n",
       "      <td>7.32</td>\n",
       "      <td>32.34</td>\n",
       "      <td>6.48</td>\n",
       "      <td>0.0</td>\n",
       "      <td>0.01</td>\n",
       "      <td>...</td>\n",
       "      <td>14267.46</td>\n",
       "      <td>0.54</td>\n",
       "      <td>465.46</td>\n",
       "      <td>0.69</td>\n",
       "      <td>517.22</td>\n",
       "      <td>57.92</td>\n",
       "      <td>98.17</td>\n",
       "      <td>2017.56</td>\n",
       "      <td>0.56</td>\n",
       "      <td>0.19</td>\n",
       "    </tr>\n",
       "    <tr>\n",
       "      <td>(66.0, 97.0]</td>\n",
       "      <td>10.08</td>\n",
       "      <td>5.58</td>\n",
       "      <td>55.88</td>\n",
       "      <td>1.97</td>\n",
       "      <td>2.71</td>\n",
       "      <td>6.81</td>\n",
       "      <td>31.95</td>\n",
       "      <td>6.21</td>\n",
       "      <td>0.0</td>\n",
       "      <td>0.00</td>\n",
       "      <td>...</td>\n",
       "      <td>13964.00</td>\n",
       "      <td>0.55</td>\n",
       "      <td>465.24</td>\n",
       "      <td>0.68</td>\n",
       "      <td>507.31</td>\n",
       "      <td>81.26</td>\n",
       "      <td>96.09</td>\n",
       "      <td>2017.44</td>\n",
       "      <td>0.56</td>\n",
       "      <td>0.19</td>\n",
       "    </tr>\n",
       "    <tr>\n",
       "      <td>(97.0, 137.0]</td>\n",
       "      <td>10.02</td>\n",
       "      <td>6.22</td>\n",
       "      <td>59.21</td>\n",
       "      <td>2.05</td>\n",
       "      <td>2.70</td>\n",
       "      <td>6.84</td>\n",
       "      <td>33.79</td>\n",
       "      <td>5.96</td>\n",
       "      <td>0.0</td>\n",
       "      <td>0.00</td>\n",
       "      <td>...</td>\n",
       "      <td>14254.07</td>\n",
       "      <td>0.56</td>\n",
       "      <td>467.16</td>\n",
       "      <td>0.68</td>\n",
       "      <td>514.32</td>\n",
       "      <td>116.37</td>\n",
       "      <td>96.26</td>\n",
       "      <td>2017.34</td>\n",
       "      <td>0.56</td>\n",
       "      <td>0.19</td>\n",
       "    </tr>\n",
       "    <tr>\n",
       "      <td>(137.0, 192.0]</td>\n",
       "      <td>10.13</td>\n",
       "      <td>6.18</td>\n",
       "      <td>59.54</td>\n",
       "      <td>2.06</td>\n",
       "      <td>2.71</td>\n",
       "      <td>6.73</td>\n",
       "      <td>33.98</td>\n",
       "      <td>5.82</td>\n",
       "      <td>0.0</td>\n",
       "      <td>0.01</td>\n",
       "      <td>...</td>\n",
       "      <td>14021.73</td>\n",
       "      <td>0.58</td>\n",
       "      <td>467.87</td>\n",
       "      <td>0.68</td>\n",
       "      <td>511.37</td>\n",
       "      <td>163.25</td>\n",
       "      <td>97.31</td>\n",
       "      <td>2017.20</td>\n",
       "      <td>0.56</td>\n",
       "      <td>0.19</td>\n",
       "    </tr>\n",
       "    <tr>\n",
       "      <td>(192.0, 290.0]</td>\n",
       "      <td>9.80</td>\n",
       "      <td>6.91</td>\n",
       "      <td>61.71</td>\n",
       "      <td>2.11</td>\n",
       "      <td>2.75</td>\n",
       "      <td>6.75</td>\n",
       "      <td>35.14</td>\n",
       "      <td>5.75</td>\n",
       "      <td>0.0</td>\n",
       "      <td>0.00</td>\n",
       "      <td>...</td>\n",
       "      <td>14153.36</td>\n",
       "      <td>0.61</td>\n",
       "      <td>472.18</td>\n",
       "      <td>0.75</td>\n",
       "      <td>503.87</td>\n",
       "      <td>236.69</td>\n",
       "      <td>98.83</td>\n",
       "      <td>2017.02</td>\n",
       "      <td>0.56</td>\n",
       "      <td>0.18</td>\n",
       "    </tr>\n",
       "    <tr>\n",
       "      <td>(290.0, 462.0]</td>\n",
       "      <td>9.78</td>\n",
       "      <td>7.20</td>\n",
       "      <td>64.54</td>\n",
       "      <td>2.18</td>\n",
       "      <td>2.74</td>\n",
       "      <td>6.91</td>\n",
       "      <td>37.30</td>\n",
       "      <td>5.72</td>\n",
       "      <td>0.0</td>\n",
       "      <td>0.00</td>\n",
       "      <td>...</td>\n",
       "      <td>13820.17</td>\n",
       "      <td>0.60</td>\n",
       "      <td>467.82</td>\n",
       "      <td>0.73</td>\n",
       "      <td>502.59</td>\n",
       "      <td>368.75</td>\n",
       "      <td>98.79</td>\n",
       "      <td>2016.69</td>\n",
       "      <td>0.57</td>\n",
       "      <td>0.18</td>\n",
       "    </tr>\n",
       "    <tr>\n",
       "      <td>(462.0, 1580.0]</td>\n",
       "      <td>8.94</td>\n",
       "      <td>8.31</td>\n",
       "      <td>70.13</td>\n",
       "      <td>2.31</td>\n",
       "      <td>2.77</td>\n",
       "      <td>6.97</td>\n",
       "      <td>40.57</td>\n",
       "      <td>5.63</td>\n",
       "      <td>0.0</td>\n",
       "      <td>0.00</td>\n",
       "      <td>...</td>\n",
       "      <td>12943.74</td>\n",
       "      <td>0.67</td>\n",
       "      <td>472.21</td>\n",
       "      <td>0.84</td>\n",
       "      <td>488.70</td>\n",
       "      <td>719.39</td>\n",
       "      <td>104.43</td>\n",
       "      <td>2015.76</td>\n",
       "      <td>0.57</td>\n",
       "      <td>0.18</td>\n",
       "    </tr>\n",
       "  </tbody>\n",
       "</table>\n",
       "<p>10 rows × 24 columns</p>\n",
       "</div>"
      ],
      "text/plain": [
       "                 total_images  last_price  total_area  rooms  ceiling_height  \\\n",
       "days_exposition                                                                \n",
       "(0.999, 17.0]            9.54        5.49       53.50   1.85            2.71   \n",
       "(17.0, 34.0]             9.70        5.97       54.28   1.89            2.77   \n",
       "(34.0, 47.0]             8.53        4.37       49.76   1.77            2.68   \n",
       "(47.0, 66.0]             9.64        5.68       56.66   1.99            2.70   \n",
       "(66.0, 97.0]            10.08        5.58       55.88   1.97            2.71   \n",
       "(97.0, 137.0]           10.02        6.22       59.21   2.05            2.70   \n",
       "(137.0, 192.0]          10.13        6.18       59.54   2.06            2.71   \n",
       "(192.0, 290.0]           9.80        6.91       61.71   2.11            2.75   \n",
       "(290.0, 462.0]           9.78        7.20       64.54   2.18            2.74   \n",
       "(462.0, 1580.0]          8.94        8.31       70.13   2.31            2.77   \n",
       "\n",
       "                 floors_total  living_area  floor  is_apartment  studio  ...  \\\n",
       "days_exposition                                                          ...   \n",
       "(0.999, 17.0]            6.80        30.45   6.12           0.0    0.01  ...   \n",
       "(17.0, 34.0]             6.70        30.87   6.31           0.0    0.02  ...   \n",
       "(34.0, 47.0]             5.94        28.30   5.90           0.0    0.01  ...   \n",
       "(47.0, 66.0]             7.32        32.34   6.48           0.0    0.01  ...   \n",
       "(66.0, 97.0]             6.81        31.95   6.21           0.0    0.00  ...   \n",
       "(97.0, 137.0]            6.84        33.79   5.96           0.0    0.00  ...   \n",
       "(137.0, 192.0]           6.73        33.98   5.82           0.0    0.01  ...   \n",
       "(192.0, 290.0]           6.75        35.14   5.75           0.0    0.00  ...   \n",
       "(290.0, 462.0]           6.91        37.30   5.72           0.0    0.00  ...   \n",
       "(462.0, 1580.0]          6.97        40.57   5.63           0.0    0.00  ...   \n",
       "\n",
       "                 cityCenters_nearest  parks_around3000  parks_nearest  \\\n",
       "days_exposition                                                         \n",
       "(0.999, 17.0]               13940.06              0.55         463.12   \n",
       "(17.0, 34.0]                14423.97              0.54         462.37   \n",
       "(34.0, 47.0]                14938.28              0.53         460.38   \n",
       "(47.0, 66.0]                14267.46              0.54         465.46   \n",
       "(66.0, 97.0]                13964.00              0.55         465.24   \n",
       "(97.0, 137.0]               14254.07              0.56         467.16   \n",
       "(137.0, 192.0]              14021.73              0.58         467.87   \n",
       "(192.0, 290.0]              14153.36              0.61         472.18   \n",
       "(290.0, 462.0]              13820.17              0.60         467.82   \n",
       "(462.0, 1580.0]             12943.74              0.67         472.21   \n",
       "\n",
       "                 ponds_around3000  ponds_nearest  days_exposition  \\\n",
       "days_exposition                                                     \n",
       "(0.999, 17.0]                0.63         519.37             9.43   \n",
       "(17.0, 34.0]                 0.69         511.55            25.73   \n",
       "(34.0, 47.0]                 0.61         517.08            42.53   \n",
       "(47.0, 66.0]                 0.69         517.22            57.92   \n",
       "(66.0, 97.0]                 0.68         507.31            81.26   \n",
       "(97.0, 137.0]                0.68         514.32           116.37   \n",
       "(137.0, 192.0]               0.68         511.37           163.25   \n",
       "(192.0, 290.0]               0.75         503.87           236.69   \n",
       "(290.0, 462.0]               0.73         502.59           368.75   \n",
       "(462.0, 1580.0]              0.84         488.70           719.39   \n",
       "\n",
       "                 price_per_square_meter  year_publication  ratio_living_total  \\\n",
       "days_exposition                                                                 \n",
       "(0.999, 17.0]                     99.81           2017.82                0.56   \n",
       "(17.0, 34.0]                     100.25           2017.74                0.56   \n",
       "(34.0, 47.0]                      85.82           2017.57                0.56   \n",
       "(47.0, 66.0]                      98.17           2017.56                0.56   \n",
       "(66.0, 97.0]                      96.09           2017.44                0.56   \n",
       "(97.0, 137.0]                     96.26           2017.34                0.56   \n",
       "(137.0, 192.0]                    97.31           2017.20                0.56   \n",
       "(192.0, 290.0]                    98.83           2017.02                0.56   \n",
       "(290.0, 462.0]                    98.79           2016.69                0.57   \n",
       "(462.0, 1580.0]                  104.43           2015.76                0.57   \n",
       "\n",
       "                 ratio_kitchen_total  \n",
       "days_exposition                       \n",
       "(0.999, 17.0]                   0.19  \n",
       "(17.0, 34.0]                    0.19  \n",
       "(34.0, 47.0]                    0.20  \n",
       "(47.0, 66.0]                    0.19  \n",
       "(66.0, 97.0]                    0.19  \n",
       "(97.0, 137.0]                   0.19  \n",
       "(137.0, 192.0]                  0.19  \n",
       "(192.0, 290.0]                  0.18  \n",
       "(290.0, 462.0]                  0.18  \n",
       "(462.0, 1580.0]                 0.18  \n",
       "\n",
       "[10 rows x 24 columns]"
      ]
     },
     "execution_count": 38,
     "metadata": {},
     "output_type": "execute_result"
    }
   ],
   "source": [
    "df_without_replacement.groupby(pd.qcut(df_without_replacement['days_exposition'],10)).mean().round(decimals=2)"
   ]
  },
  {
   "cell_type": "markdown",
   "metadata": {},
   "source": [
    "### Мнение о времени продаж"
   ]
  },
  {
   "cell_type": "markdown",
   "metadata": {},
   "source": [
    "В пятидесяти процентах случаях жилплощадь продается за 3 месяца, если недвижимость продается дольше 462 дней, считаю это аномально долгим, в случае продажи за 17 дней и менее - аномально быстрой "
   ]
  },
  {
   "cell_type": "markdown",
   "metadata": {},
   "source": [
    "### Обработка редких и выбивающихся значений"
   ]
  },
  {
   "cell_type": "code",
   "execution_count": 39,
   "metadata": {},
   "outputs": [
    {
     "data": {
      "text/plain": [
       "45      879\n",
       "60      538\n",
       "7       234\n",
       "30      208\n",
       "4       174\n",
       "       ... \n",
       "807       1\n",
       "871       1\n",
       "951       1\n",
       "999       1\n",
       "1175      1\n",
       "Name: days_exposition, Length: 1140, dtype: int64"
      ]
     },
     "metadata": {},
     "output_type": "display_data"
    },
    {
     "data": {
      "text/plain": [
       "45      879\n",
       "60      538\n",
       "30      208\n",
       "4       174\n",
       "3       158\n",
       "       ... \n",
       "871       1\n",
       "951       1\n",
       "999       1\n",
       "1111      1\n",
       "1255      1\n",
       "Name: days_exposition, Length: 976, dtype: int64"
      ]
     },
     "metadata": {},
     "output_type": "display_data"
    },
    {
     "data": {
      "image/png": "[encoded data removed]",
      "text/plain": [
       "<Figure size 864x288 with 1 Axes>"
      ]
     },
     "metadata": {
      "needs_background": "light"
     },
     "output_type": "display_data"
    }
   ],
   "source": [
    "display(df_without_replacement['days_exposition'].value_counts())\n",
    "df_without_abnormal = df_without_replacement.query('days_exposition % 15 != 0')\n",
    "df_without_abnormal = df_without_replacement.query('days_exposition % 7 != 0')\n",
    "display(df_without_abnormal['days_exposition'].value_counts())\n",
    "\n",
    "df_without_abnormal['days_exposition'].plot(kind='hist', bins=50, figsize=(12, 4))\n",
    "plt.title(\"Гистограмма распределения времени продаж в аномально долгом случае.\")\n",
    "plt.xlabel(\"Дней ожидания продаж\")\n",
    "plt.ylabel(\"Число встретившихся квартир\");"
   ]
  },
  {
   "cell_type": "code",
   "execution_count": 40,
   "metadata": {},
   "outputs": [
    {
     "data": {
      "text/html": [
       "<div>\n",
       "<style scoped>\n",
       "    .dataframe tbody tr th:only-of-type {\n",
       "        vertical-align: middle;\n",
       "    }\n",
       "\n",
       "    .dataframe tbody tr th {\n",
       "        vertical-align: top;\n",
       "    }\n",
       "\n",
       "    .dataframe thead th {\n",
       "        text-align: right;\n",
       "    }\n",
       "</style>\n",
       "<table border=\"1\" class=\"dataframe\">\n",
       "  <thead>\n",
       "    <tr style=\"text-align: right;\">\n",
       "      <th></th>\n",
       "      <th>total_images</th>\n",
       "      <th>last_price</th>\n",
       "      <th>total_area</th>\n",
       "      <th>first_day_exposition</th>\n",
       "      <th>rooms</th>\n",
       "      <th>ceiling_height</th>\n",
       "      <th>floors_total</th>\n",
       "      <th>living_area</th>\n",
       "      <th>floor</th>\n",
       "      <th>is_apartment</th>\n",
       "      <th>...</th>\n",
       "      <th>ponds_around3000</th>\n",
       "      <th>ponds_nearest</th>\n",
       "      <th>days_exposition</th>\n",
       "      <th>price_per_square_meter</th>\n",
       "      <th>day_of_week_publication</th>\n",
       "      <th>month_publication</th>\n",
       "      <th>year_publication</th>\n",
       "      <th>status_floor</th>\n",
       "      <th>ratio_living_total</th>\n",
       "      <th>ratio_kitchen_total</th>\n",
       "    </tr>\n",
       "  </thead>\n",
       "  <tbody>\n",
       "    <tr>\n",
       "      <td>353</td>\n",
       "      <td>4</td>\n",
       "      <td>5.9900</td>\n",
       "      <td>43.5</td>\n",
       "      <td>2015-05-08</td>\n",
       "      <td>1</td>\n",
       "      <td>3.00</td>\n",
       "      <td>12</td>\n",
       "      <td>25.00000</td>\n",
       "      <td>4</td>\n",
       "      <td>False</td>\n",
       "      <td>...</td>\n",
       "      <td>0.0</td>\n",
       "      <td>502.0</td>\n",
       "      <td>1292</td>\n",
       "      <td>138.0</td>\n",
       "      <td>Friday</td>\n",
       "      <td>May</td>\n",
       "      <td>2015</td>\n",
       "      <td>другой</td>\n",
       "      <td>0.574713</td>\n",
       "      <td>0.216092</td>\n",
       "    </tr>\n",
       "    <tr>\n",
       "      <td>398</td>\n",
       "      <td>7</td>\n",
       "      <td>12.7890</td>\n",
       "      <td>79.3</td>\n",
       "      <td>2014-12-09</td>\n",
       "      <td>2</td>\n",
       "      <td>3.00</td>\n",
       "      <td>7</td>\n",
       "      <td>43.10000</td>\n",
       "      <td>5</td>\n",
       "      <td>False</td>\n",
       "      <td>...</td>\n",
       "      <td>0.0</td>\n",
       "      <td>502.0</td>\n",
       "      <td>1345</td>\n",
       "      <td>161.0</td>\n",
       "      <td>Tuesday</td>\n",
       "      <td>December</td>\n",
       "      <td>2014</td>\n",
       "      <td>другой</td>\n",
       "      <td>0.543506</td>\n",
       "      <td>0.221942</td>\n",
       "    </tr>\n",
       "    <tr>\n",
       "      <td>437</td>\n",
       "      <td>12</td>\n",
       "      <td>3.3500</td>\n",
       "      <td>37.0</td>\n",
       "      <td>2015-02-24</td>\n",
       "      <td>1</td>\n",
       "      <td>2.55</td>\n",
       "      <td>5</td>\n",
       "      <td>17.80000</td>\n",
       "      <td>6</td>\n",
       "      <td>False</td>\n",
       "      <td>...</td>\n",
       "      <td>1.0</td>\n",
       "      <td>755.0</td>\n",
       "      <td>1273</td>\n",
       "      <td>91.0</td>\n",
       "      <td>Tuesday</td>\n",
       "      <td>February</td>\n",
       "      <td>2015</td>\n",
       "      <td>другой</td>\n",
       "      <td>0.481081</td>\n",
       "      <td>0.227027</td>\n",
       "    </tr>\n",
       "    <tr>\n",
       "      <td>521</td>\n",
       "      <td>20</td>\n",
       "      <td>25.7173</td>\n",
       "      <td>230.1</td>\n",
       "      <td>2015-01-21</td>\n",
       "      <td>3</td>\n",
       "      <td>2.60</td>\n",
       "      <td>7</td>\n",
       "      <td>130.00000</td>\n",
       "      <td>1</td>\n",
       "      <td>False</td>\n",
       "      <td>...</td>\n",
       "      <td>3.0</td>\n",
       "      <td>278.0</td>\n",
       "      <td>1441</td>\n",
       "      <td>112.0</td>\n",
       "      <td>Wednesday</td>\n",
       "      <td>January</td>\n",
       "      <td>2015</td>\n",
       "      <td>первый</td>\n",
       "      <td>0.564972</td>\n",
       "      <td>0.113429</td>\n",
       "    </tr>\n",
       "    <tr>\n",
       "      <td>749</td>\n",
       "      <td>6</td>\n",
       "      <td>4.1500</td>\n",
       "      <td>30.8</td>\n",
       "      <td>2015-03-19</td>\n",
       "      <td>1</td>\n",
       "      <td>2.60</td>\n",
       "      <td>5</td>\n",
       "      <td>15.40000</td>\n",
       "      <td>3</td>\n",
       "      <td>False</td>\n",
       "      <td>...</td>\n",
       "      <td>1.0</td>\n",
       "      <td>232.0</td>\n",
       "      <td>1336</td>\n",
       "      <td>135.0</td>\n",
       "      <td>Thursday</td>\n",
       "      <td>March</td>\n",
       "      <td>2015</td>\n",
       "      <td>другой</td>\n",
       "      <td>0.500000</td>\n",
       "      <td>0.282468</td>\n",
       "    </tr>\n",
       "    <tr>\n",
       "      <td>...</td>\n",
       "      <td>...</td>\n",
       "      <td>...</td>\n",
       "      <td>...</td>\n",
       "      <td>...</td>\n",
       "      <td>...</td>\n",
       "      <td>...</td>\n",
       "      <td>...</td>\n",
       "      <td>...</td>\n",
       "      <td>...</td>\n",
       "      <td>...</td>\n",
       "      <td>...</td>\n",
       "      <td>...</td>\n",
       "      <td>...</td>\n",
       "      <td>...</td>\n",
       "      <td>...</td>\n",
       "      <td>...</td>\n",
       "      <td>...</td>\n",
       "      <td>...</td>\n",
       "      <td>...</td>\n",
       "      <td>...</td>\n",
       "      <td>...</td>\n",
       "    </tr>\n",
       "    <tr>\n",
       "      <td>22126</td>\n",
       "      <td>10</td>\n",
       "      <td>5.2300</td>\n",
       "      <td>61.8</td>\n",
       "      <td>2015-04-28</td>\n",
       "      <td>3</td>\n",
       "      <td>2.60</td>\n",
       "      <td>9</td>\n",
       "      <td>39.40000</td>\n",
       "      <td>2</td>\n",
       "      <td>False</td>\n",
       "      <td>...</td>\n",
       "      <td>0.0</td>\n",
       "      <td>502.0</td>\n",
       "      <td>1240</td>\n",
       "      <td>85.0</td>\n",
       "      <td>Tuesday</td>\n",
       "      <td>April</td>\n",
       "      <td>2015</td>\n",
       "      <td>другой</td>\n",
       "      <td>0.637540</td>\n",
       "      <td>0.152104</td>\n",
       "    </tr>\n",
       "    <tr>\n",
       "      <td>22455</td>\n",
       "      <td>1</td>\n",
       "      <td>11.6156</td>\n",
       "      <td>81.8</td>\n",
       "      <td>2015-08-10</td>\n",
       "      <td>3</td>\n",
       "      <td>3.10</td>\n",
       "      <td>6</td>\n",
       "      <td>43.83000</td>\n",
       "      <td>3</td>\n",
       "      <td>False</td>\n",
       "      <td>...</td>\n",
       "      <td>2.0</td>\n",
       "      <td>427.0</td>\n",
       "      <td>1334</td>\n",
       "      <td>142.0</td>\n",
       "      <td>Monday</td>\n",
       "      <td>August</td>\n",
       "      <td>2015</td>\n",
       "      <td>другой</td>\n",
       "      <td>0.535819</td>\n",
       "      <td>0.178240</td>\n",
       "    </tr>\n",
       "    <tr>\n",
       "      <td>23034</td>\n",
       "      <td>0</td>\n",
       "      <td>4.1000</td>\n",
       "      <td>88.0</td>\n",
       "      <td>2014-12-10</td>\n",
       "      <td>4</td>\n",
       "      <td>2.55</td>\n",
       "      <td>5</td>\n",
       "      <td>60.70000</td>\n",
       "      <td>4</td>\n",
       "      <td>False</td>\n",
       "      <td>...</td>\n",
       "      <td>0.5</td>\n",
       "      <td>502.1</td>\n",
       "      <td>1202</td>\n",
       "      <td>47.0</td>\n",
       "      <td>Wednesday</td>\n",
       "      <td>December</td>\n",
       "      <td>2014</td>\n",
       "      <td>другой</td>\n",
       "      <td>0.689773</td>\n",
       "      <td>0.093182</td>\n",
       "    </tr>\n",
       "    <tr>\n",
       "      <td>23052</td>\n",
       "      <td>5</td>\n",
       "      <td>11.4460</td>\n",
       "      <td>90.9</td>\n",
       "      <td>2015-05-25</td>\n",
       "      <td>3</td>\n",
       "      <td>2.70</td>\n",
       "      <td>6</td>\n",
       "      <td>56.90000</td>\n",
       "      <td>3</td>\n",
       "      <td>False</td>\n",
       "      <td>...</td>\n",
       "      <td>1.0</td>\n",
       "      <td>503.0</td>\n",
       "      <td>1201</td>\n",
       "      <td>126.0</td>\n",
       "      <td>Monday</td>\n",
       "      <td>May</td>\n",
       "      <td>2015</td>\n",
       "      <td>другой</td>\n",
       "      <td>0.625963</td>\n",
       "      <td>0.117712</td>\n",
       "    </tr>\n",
       "    <tr>\n",
       "      <td>23426</td>\n",
       "      <td>17</td>\n",
       "      <td>8.7780</td>\n",
       "      <td>47.5</td>\n",
       "      <td>2014-12-29</td>\n",
       "      <td>1</td>\n",
       "      <td>3.00</td>\n",
       "      <td>4</td>\n",
       "      <td>28.12475</td>\n",
       "      <td>4</td>\n",
       "      <td>False</td>\n",
       "      <td>...</td>\n",
       "      <td>3.0</td>\n",
       "      <td>204.0</td>\n",
       "      <td>1360</td>\n",
       "      <td>185.0</td>\n",
       "      <td>Monday</td>\n",
       "      <td>December</td>\n",
       "      <td>2014</td>\n",
       "      <td>последний</td>\n",
       "      <td>0.592100</td>\n",
       "      <td>0.246316</td>\n",
       "    </tr>\n",
       "  </tbody>\n",
       "</table>\n",
       "<p>78 rows × 29 columns</p>\n",
       "</div>"
      ],
      "text/plain": [
       "       total_images  last_price  total_area first_day_exposition  rooms  \\\n",
       "353               4      5.9900        43.5           2015-05-08      1   \n",
       "398               7     12.7890        79.3           2014-12-09      2   \n",
       "437              12      3.3500        37.0           2015-02-24      1   \n",
       "521              20     25.7173       230.1           2015-01-21      3   \n",
       "749               6      4.1500        30.8           2015-03-19      1   \n",
       "...             ...         ...         ...                  ...    ...   \n",
       "22126            10      5.2300        61.8           2015-04-28      3   \n",
       "22455             1     11.6156        81.8           2015-08-10      3   \n",
       "23034             0      4.1000        88.0           2014-12-10      4   \n",
       "23052             5     11.4460        90.9           2015-05-25      3   \n",
       "23426            17      8.7780        47.5           2014-12-29      1   \n",
       "\n",
       "       ceiling_height  floors_total  living_area  floor  is_apartment  ...  \\\n",
       "353              3.00            12     25.00000      4         False  ...   \n",
       "398              3.00             7     43.10000      5         False  ...   \n",
       "437              2.55             5     17.80000      6         False  ...   \n",
       "521              2.60             7    130.00000      1         False  ...   \n",
       "749              2.60             5     15.40000      3         False  ...   \n",
       "...               ...           ...          ...    ...           ...  ...   \n",
       "22126            2.60             9     39.40000      2         False  ...   \n",
       "22455            3.10             6     43.83000      3         False  ...   \n",
       "23034            2.55             5     60.70000      4         False  ...   \n",
       "23052            2.70             6     56.90000      3         False  ...   \n",
       "23426            3.00             4     28.12475      4         False  ...   \n",
       "\n",
       "       ponds_around3000  ponds_nearest  days_exposition  \\\n",
       "353                 0.0          502.0             1292   \n",
       "398                 0.0          502.0             1345   \n",
       "437                 1.0          755.0             1273   \n",
       "521                 3.0          278.0             1441   \n",
       "749                 1.0          232.0             1336   \n",
       "...                 ...            ...              ...   \n",
       "22126               0.0          502.0             1240   \n",
       "22455               2.0          427.0             1334   \n",
       "23034               0.5          502.1             1202   \n",
       "23052               1.0          503.0             1201   \n",
       "23426               3.0          204.0             1360   \n",
       "\n",
       "       price_per_square_meter day_of_week_publication  month_publication  \\\n",
       "353                     138.0                  Friday                May   \n",
       "398                     161.0                 Tuesday           December   \n",
       "437                      91.0                 Tuesday           February   \n",
       "521                     112.0               Wednesday            January   \n",
       "749                     135.0                Thursday              March   \n",
       "...                       ...                     ...                ...   \n",
       "22126                    85.0                 Tuesday              April   \n",
       "22455                   142.0                  Monday             August   \n",
       "23034                    47.0               Wednesday           December   \n",
       "23052                   126.0                  Monday                May   \n",
       "23426                   185.0                  Monday           December   \n",
       "\n",
       "       year_publication  status_floor  ratio_living_total  ratio_kitchen_total  \n",
       "353                2015        другой            0.574713             0.216092  \n",
       "398                2014        другой            0.543506             0.221942  \n",
       "437                2015        другой            0.481081             0.227027  \n",
       "521                2015        первый            0.564972             0.113429  \n",
       "749                2015        другой            0.500000             0.282468  \n",
       "...                 ...           ...                 ...                  ...  \n",
       "22126              2015        другой            0.637540             0.152104  \n",
       "22455              2015        другой            0.535819             0.178240  \n",
       "23034              2014        другой            0.689773             0.093182  \n",
       "23052              2015        другой            0.625963             0.117712  \n",
       "23426              2014     последний            0.592100             0.246316  \n",
       "\n",
       "[78 rows x 29 columns]"
      ]
     },
     "execution_count": 40,
     "metadata": {},
     "output_type": "execute_result"
    }
   ],
   "source": [
    "df_without_abnormal.query('days_exposition > 1200')"
   ]
  },
  {
   "cell_type": "markdown",
   "metadata": {},
   "source": [
    "### Вывод о редких и выбивающихся значений"
   ]
  },
  {
   "cell_type": "markdown",
   "metadata": {},
   "source": [
    "Аномальным кажется, что наиболее частыми значениями являются числа кратные полумесяцам, неделям. После удаление таких значений распределение дней стало похожим на ожидаемое - Пуассоновское. Хвост длинный, но каких-то закономерностей с другими параметрами найдено не было, в связи с чем оставил его, предположив, что некоторые квартиры могут хуже продаваться."
   ]
  },
  {
   "cell_type": "markdown",
   "metadata": {},
   "source": [
    "### Выявление факторов влияющих на стоимость недвижимости"
   ]
  },
  {
   "cell_type": "code",
   "execution_count": 48,
   "metadata": {},
   "outputs": [
    {
     "data": {
      "text/plain": [
       "rooms                         0.363421\n",
       "cityCenters_nearest          -0.191161\n",
       "total_area                    0.653743\n",
       "last_price                    1.000000\n",
       "year_publication             -0.042927\n",
       "month_publication_id         -0.005348\n",
       "status_floor_id              -0.045637\n",
       "day_of_week_publication_id         NaN\n",
       "Name: last_price, dtype: float64"
      ]
     },
     "execution_count": 48,
     "metadata": {},
     "output_type": "execute_result"
    }
   ],
   "source": [
    "min_research_df = df_flats_info[['rooms', 'cityCenters_nearest', 'total_area', 'last_price', 'status_floor',\n",
    "                                 'day_of_week_publication', 'month_publication', 'year_publication']]\n",
    "\n",
    "min_research_df.loc[:,'month_publication_id'] = min_research_df['month_publication'].astype('category')\n",
    "cat_columns = min_research_df.select_dtypes(['category']).columns\n",
    "min_research_df.loc[:,'month_publication_id'] = min_research_df[cat_columns].apply(lambda x: x.cat.codes)\n",
    "\n",
    "min_research_df.loc[:,'status_floor_id'] = min_research_df['status_floor'].astype('category')\n",
    "cat_columns2 = min_research_df.select_dtypes(['category']).columns\n",
    "min_research_df.loc[:,'status_floor_id'] = min_research_df[cat_columns2].apply(lambda x: x.cat.codes)\n",
    "\n",
    "min_research_df.loc[:,'day_of_week_publication'] = min_research_df['day_of_week_publication'].astype('category')\n",
    "cat_columns3 = min_research_df.select_dtypes(['category']).columns\n",
    "min_research_df.loc[:,'day_of_week_publication_id'] = min_research_df[cat_columns3].apply(lambda x: x.cat.codes)\n",
    "\n",
    "min_research_df.corr()['last_price']"
   ]
  },
  {
   "cell_type": "markdown",
   "metadata": {},
   "source": [
    "На стоимость квартир в порядке увеличения воздействия влияют следующие факторы:\n",
    "* Близость к центру;\n",
    "* Количество комнат;\n",
    "* Общая площадь недвижимости."
   ]
  },
  {
   "cell_type": "markdown",
   "metadata": {},
   "source": [
    "### Анализ стоимости м<sup>2</sup> 10 наиболее частых населенных пунктов"
   ]
  },
  {
   "cell_type": "code",
   "execution_count": 42,
   "metadata": {},
   "outputs": [
    {
     "name": "stdout",
     "output_type": "stream",
     "text": [
      "58.10 - минимальная стоимость квадратного метра среди самых популярных населенных пунктов - Выборг\n",
      "114.85 - максимальная стоимость квадратного метра среди самых популярных населенных пунктов - Санкт-Петербург\n"
     ]
    },
    {
     "data": {
      "image/png": "[encoded data removed]",
      "text/plain": [
       "<Figure size 432x288 with 1 Axes>"
      ]
     },
     "metadata": {
      "needs_background": "light"
     },
     "output_type": "display_data"
    }
   ],
   "source": [
    "most_popular_location = pd.pivot_table(df_flats_info, index='locality_name', values = 'price_per_square_meter', \n",
    "                                           aggfunc = ['mean', 'count'])\n",
    "most_popular_location.columns = ['mean_price', 'count']\n",
    "most_popular_location.sort_values('count', ascending=False).head(10).plot.bar(y='mean_price',\n",
    "             use_index=True, title='Распределение стоимостей квадратного метра по населенным пунктам');\n",
    "\n",
    "\n",
    "min_price = most_popular_location.query('locality_name == \"Выборг\"')['mean_price']\n",
    "max_price = most_popular_location.query('locality_name == \"Санкт-Петербург\"')['mean_price']\n",
    "print('{:.2f} - минимальная стоимость квадратного метра среди самых популярных населенных пунктов {}'.format(float(min_price), '- Выборг'))\n",
    "print('{:.2f} - максимальная стоимость квадратного метра среди самых популярных населенных пунктов {}'.format(float(max_price), '- Санкт-Петербург'))"
   ]
  },
  {
   "cell_type": "markdown",
   "metadata": {},
   "source": [
    "### Выявление центра Санкт-Петербурга"
   ]
  },
  {
   "cell_type": "code",
   "execution_count": 43,
   "metadata": {
    "scrolled": false
   },
   "outputs": [
    {
     "data": {
      "image/png": "[encoded data removed]",
      "text/plain": [
       "<Figure size 1296x432 with 1 Axes>"
      ]
     },
     "metadata": {
      "needs_background": "light"
     },
     "output_type": "display_data"
    }
   ],
   "source": [
    "df_flats_info['distance_km'] = round(df_flats_info['cityCenters_nearest'] / 1000)\n",
    "df_flats_info.groupby('distance_km').agg({'price_per_square_meter' : 'mean'}).plot(kind='bar', figsize=(18, 6),\n",
    "        title='зависимость стоимости квадратного метра при удалении от центра');"
   ]
  },
  {
   "cell_type": "markdown",
   "metadata": {},
   "source": [
    "### Закономерности в ценах при удалении от центра"
   ]
  },
  {
   "cell_type": "markdown",
   "metadata": {},
   "source": [
    "Центром Питера считается район вблизь Петропавловской крепости, где ожидаемо высока цена за квадратный метр, но открыв тепловую карту цен на жилье была выделена еще одна горячая область - Крестовский остров, который как раз и дает возвышение с 4 по 7 км удаления от центра. В связи с чем центром считаю квартиры с удалением менее 3 км от центра."
   ]
  },
  {
   "cell_type": "markdown",
   "metadata": {},
   "source": [
    "### Анализ параметров квартир в центре"
   ]
  },
  {
   "cell_type": "code",
   "execution_count": 44,
   "metadata": {},
   "outputs": [
    {
     "name": "stdout",
     "output_type": "stream",
     "text": [
      "Медианная высота потолков в центре -  3.0 Медианная высота потолков по городу -  2.7\n",
      "Медианная общая площадь недвижимости в центре -  90.0 Медианная общая площадь недвижимости по городу -  52.0\n",
      "Медианное количество комнат недвижимости в центре -  3.0 Медианное количество комнат недвижимости по городу -  2.0\n",
      "Медианная стоимость недвижимости в центре -  10.7 Медианная стоимость недвижимости по городу -  4.65\n"
     ]
    },
    {
     "data": {
      "text/plain": [
       "last_price             1.000000\n",
       "rooms                  0.218768\n",
       "floor                  0.291409\n",
       "days_exposition        0.014791\n",
       "cityCenters_nearest   -0.070663\n",
       "Name: last_price, dtype: float64"
      ]
     },
     "metadata": {},
     "output_type": "display_data"
    },
    {
     "data": {
      "text/plain": [
       "'корреляция параметров для квартир в центре'"
      ]
     },
     "metadata": {},
     "output_type": "display_data"
    },
    {
     "data": {
      "text/plain": [
       "last_price             1.000000\n",
       "rooms                  0.363421\n",
       "floor                  0.026770\n",
       "days_exposition        0.064662\n",
       "cityCenters_nearest   -0.191161\n",
       "Name: last_price, dtype: float64"
      ]
     },
     "metadata": {},
     "output_type": "display_data"
    },
    {
     "data": {
      "text/plain": [
       "'корреляция параметров для квартир по всему городу'"
      ]
     },
     "metadata": {},
     "output_type": "display_data"
    }
   ],
   "source": [
    "the_property_in_center = df_flats_info.query('distance_km <= 2')\n",
    "print('Медианная высота потолков в центре - ', the_property_in_center['ceiling_height'].median(),\n",
    "      'Медианная высота потолков по городу - ', df_flats_info['ceiling_height'].median())\n",
    "\n",
    "print('Медианная общая площадь недвижимости в центре - ', the_property_in_center['total_area'].median(),\n",
    "      'Медианная общая площадь недвижимости по городу - ', df_flats_info['total_area'].median())\n",
    "\n",
    "print('Медианное количество комнат недвижимости в центре - ', the_property_in_center['rooms'].median(),\n",
    "      'Медианное количество комнат недвижимости по городу - ', df_flats_info['rooms'].median())\n",
    "\n",
    "print('Медианная стоимость недвижимости в центре - ', the_property_in_center['last_price'].median(),\n",
    "      'Медианная стоимость недвижимости по городу - ', df_flats_info['last_price'].median())\n",
    "\n",
    "slice_check_depends_center = the_property_in_center[['last_price', 'rooms', 'floor', 'days_exposition', 'cityCenters_nearest']]\n",
    "slice_check_depends_all = df_flats_info[['last_price', 'rooms', 'floor', 'days_exposition', 'cityCenters_nearest']]\n",
    "\n",
    "display(slice_check_depends_center.corr()['last_price'], 'корреляция параметров для квартир в центре')\n",
    "display(slice_check_depends_all.corr()['last_price'], 'корреляция параметров для квартир по всему городу')"
   ]
  },
  {
   "cell_type": "markdown",
   "metadata": {},
   "source": [
    "Квартиры вблизь центра оказались дороже в среднем в 2 раза, чем квартиры по Санкт-Петербургу, но при этом и площадь таких квартир выше в 1.73 раза больше, комнат больше в 1.5 раза. Потолки выше на 10%. Однако если рассматривать влияние парметров квартиры на стоимость, то существует некоторое отличие, так количество комнат оказывает меньшее воздействие на цену жилплощади, однако этаж, на котором расположена квартира становится важнее. Закономерность оказалось ожидаемой."
   ]
  },
  {
   "cell_type": "markdown",
   "metadata": {},
   "source": [
    "### Шаг 5. Общий вывод"
   ]
  },
  {
   "cell_type": "markdown",
   "metadata": {},
   "source": [
    "В исходных данных оказалось множество пропусков в 13 из 22 столбцов были пропуски! Они были различны, полагаю, что причинами могли быть следующие:\n",
    "* Пропуск с подразумеванием нуля;\n",
    "* Незаполнение некоторых параметров в связи с возможным их отсутствием в каких-то источниках;\n",
    "* Корыстные побуждения людей, подающих объявления;\n",
    "* Незнание значений некоторых параметров;\n",
    "\n",
    "Значение некоторых столбцов приведены к другим типам для удобства, так дата теперь выглядит более привычно, как и целое число балконов и дней, которые объявление было выставлено.\n",
    "\n",
    "Были рассчитаны и добавлены следующие столбцы:\n",
    "* Цена квадратного метра;\n",
    "* День недели, месяц и год публикации объявления;\n",
    "* Этаж квартиры: варианты — первый, последний, другой;\n",
    "* Соотношение жилой и общей площади, а также отношение площади кухни к общей.\n",
    "\n",
    "Изучены и построены гистограммы следующих параметров: площадь, цена, число комнат, высота потолков, время продажи квартиры. Выявлено, что 50% продаж осуществлялись за первые 3 месяца, однако отдельные экземпляры продавались и более трех лет, показалось странным, что частым временем продажи было время кратное половине месяца, неделе. Было выявлено, что на стоимость квартир в порядке увеличения воздействия влияют следующие факторы:\n",
    "* Близость к центру;\n",
    "* Количество комнат;\n",
    "* Общая площадь недвижимости.\n",
    "\n",
    "А день выставление объявление влияет незначительно на продажу. В зависимости от населенного пункта существенно отличалась стоимость квадратного метра, самым дорогим оказался квадратный метр непосредственно в Санкт-Петербурге (114.85 тысяч), а самым дешевым квадратный метр в Выборге (58.10 тысяч). Выявлено, что существует две области с более дорогими квартирами, непосредственно близь Петропавловской крепости и в районе Крестовского острова. При этом при рассмотрении квартир в радиусе 2 километрах центра оказалось, что потолки в среднем на 10% выше, квартиры на комнату больше, стоимость более чем в два раза выше, средняя площадь на 70% больше. При этом на стоимость недвижимости, в центре, влияние близости к центру меньше, чем в среднем по городу, а воздействие номера этажа на цену наоборот возрасла.\n",
    "\n",
    "По итогам работы были выявлены факторы, влияющие на стоимость квартир, которые можно использовать для определения мошеннических предложений."
   ]
  }
 ],
 "metadata": {
  "kernelspec": {
   "display_name": "Python 3",
   "language": "python",
   "name": "python3"
  },
  "language_info": {
   "codemirror_mode": {
    "name": "ipython",
    "version": 3
   },
   "file_extension": ".py",
   "mimetype": "text/x-python",
   "name": "python",
   "nbconvert_exporter": "python",
   "pygments_lexer": "ipython3",
   "version": "3.7.6"
  }
 },
 "nbformat": 4,
 "nbformat_minor": 2
}
