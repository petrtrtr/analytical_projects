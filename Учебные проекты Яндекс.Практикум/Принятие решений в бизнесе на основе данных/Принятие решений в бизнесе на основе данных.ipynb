{
 "cells": [
  {
   "cell_type": "markdown",
   "metadata": {},
   "source": [
    "## Повышение выручки\n",
    "В распоряжении данные от интернет магазина:\n",
    "- гипотезы с оцененными параметрами;\n",
    "- файл визитов;\n",
    "- файл заказов.\n",
    "\n",
    "Необходимо:\n",
    "- Приоритизировать гипотезы;\n",
    "- Проанализировать результаты A/B-теста."
   ]
  },
  {
   "cell_type": "markdown",
   "metadata": {},
   "source": [
    "[Часть 1. Приоритизация гипотез](#step1)\n",
    "\n",
    "[Часть 2. Анализ A/B-теста](#step2)\n",
    "- [Кумулитивная выручка по группам](#cum_revenue_by_groups)\n",
    "- [Кумулятивное среднее чека по группам](#mean_check_by_groups)\n",
    "- [Относительное изменения кумулятивного среднего чека](#Change_cum_mean_check)\n",
    "- [Кумулятивная конверсия по группам](#cum_conversion_by_gr)\n",
    "- [Oтносительноe изменениe кумулятивной конверсии](#rel_cum_conversion_by_gr)\n",
    "- [Количество заказов по пользователям](#count_orders_by_users)\n",
    "- [Стоимость заказов](#cost_order)\n",
    "- [Статистическая значимость различий конверсий](#significance_conversion)\n",
    "- [Статистическая значимость различий средних чеков](#significance_mean_check)\n",
    "\n",
    "[Часть 3. Общий вывод](#conclusion)"
   ]
  },
  {
   "cell_type": "markdown",
   "metadata": {},
   "source": [
    "## Часть 1. Приоритизация гипотез <a name=\"step1\"></a>"
   ]
  },
  {
   "cell_type": "code",
   "execution_count": 1,
   "metadata": {},
   "outputs": [],
   "source": [
    "import pandas as pd\n",
    "import numpy as np\n",
    "import matplotlib.pyplot as plt\n",
    "import scipy.stats as stats\n",
    "\n",
    "from pandas.plotting import register_matplotlib_converters\n",
    "register_matplotlib_converters()\n",
    "pd.set_option('display.max_colwidth', -1)"
   ]
  },
  {
   "cell_type": "code",
   "execution_count": 2,
   "metadata": {},
   "outputs": [
    {
     "name": "stdout",
     "output_type": "stream",
     "text": [
      "<class 'pandas.core.frame.DataFrame'>\n",
      "RangeIndex: 9 entries, 0 to 8\n",
      "Data columns (total 5 columns):\n",
      "Hypothesis    9 non-null object\n",
      "Reach         9 non-null int64\n",
      "Impact        9 non-null int64\n",
      "Confidence    9 non-null int64\n",
      "Efforts       9 non-null int64\n",
      "dtypes: int64(4), object(1)\n",
      "memory usage: 488.0+ bytes\n"
     ]
    },
    {
     "data": {
      "text/html": [
       "<div>\n",
       "<style scoped>\n",
       "    .dataframe tbody tr th:only-of-type {\n",
       "        vertical-align: middle;\n",
       "    }\n",
       "\n",
       "    .dataframe tbody tr th {\n",
       "        vertical-align: top;\n",
       "    }\n",
       "\n",
       "    .dataframe thead th {\n",
       "        text-align: right;\n",
       "    }\n",
       "</style>\n",
       "<table border=\"1\" class=\"dataframe\">\n",
       "  <thead>\n",
       "    <tr style=\"text-align: right;\">\n",
       "      <th></th>\n",
       "      <th>Hypothesis</th>\n",
       "      <th>Reach</th>\n",
       "      <th>Impact</th>\n",
       "      <th>Confidence</th>\n",
       "      <th>Efforts</th>\n",
       "    </tr>\n",
       "  </thead>\n",
       "  <tbody>\n",
       "    <tr>\n",
       "      <td>0</td>\n",
       "      <td>Добавить два новых канала привлечения трафика, что позволит привлекать на 30% больше пользователей</td>\n",
       "      <td>3</td>\n",
       "      <td>10</td>\n",
       "      <td>8</td>\n",
       "      <td>6</td>\n",
       "    </tr>\n",
       "    <tr>\n",
       "      <td>1</td>\n",
       "      <td>Запустить собственную службу доставки, что сократит срок доставки заказов</td>\n",
       "      <td>2</td>\n",
       "      <td>5</td>\n",
       "      <td>4</td>\n",
       "      <td>10</td>\n",
       "    </tr>\n",
       "    <tr>\n",
       "      <td>2</td>\n",
       "      <td>Добавить блоки рекомендаций товаров на сайт интернет магазина, чтобы повысить конверсию и средний чек заказа</td>\n",
       "      <td>8</td>\n",
       "      <td>3</td>\n",
       "      <td>7</td>\n",
       "      <td>3</td>\n",
       "    </tr>\n",
       "    <tr>\n",
       "      <td>3</td>\n",
       "      <td>Изменить структура категорий, что увеличит конверсию, т.к. пользователи быстрее найдут нужный товар</td>\n",
       "      <td>8</td>\n",
       "      <td>3</td>\n",
       "      <td>3</td>\n",
       "      <td>8</td>\n",
       "    </tr>\n",
       "    <tr>\n",
       "      <td>4</td>\n",
       "      <td>Изменить цвет фона главной страницы, чтобы увеличить вовлеченность пользователей</td>\n",
       "      <td>3</td>\n",
       "      <td>1</td>\n",
       "      <td>1</td>\n",
       "      <td>1</td>\n",
       "    </tr>\n",
       "    <tr>\n",
       "      <td>5</td>\n",
       "      <td>Добавить страницу отзывов клиентов о магазине, что позволит увеличить количество заказов</td>\n",
       "      <td>3</td>\n",
       "      <td>2</td>\n",
       "      <td>2</td>\n",
       "      <td>3</td>\n",
       "    </tr>\n",
       "    <tr>\n",
       "      <td>6</td>\n",
       "      <td>Показать на главной странице баннеры с актуальными акциями и распродажами, чтобы увеличить конверсию</td>\n",
       "      <td>5</td>\n",
       "      <td>3</td>\n",
       "      <td>8</td>\n",
       "      <td>3</td>\n",
       "    </tr>\n",
       "    <tr>\n",
       "      <td>7</td>\n",
       "      <td>Добавить форму подписки на все основные страницы, чтобы собрать базу клиентов для email-рассылок</td>\n",
       "      <td>10</td>\n",
       "      <td>7</td>\n",
       "      <td>8</td>\n",
       "      <td>5</td>\n",
       "    </tr>\n",
       "    <tr>\n",
       "      <td>8</td>\n",
       "      <td>Запустить акцию, дающую скидку на товар в день рождения</td>\n",
       "      <td>1</td>\n",
       "      <td>9</td>\n",
       "      <td>9</td>\n",
       "      <td>5</td>\n",
       "    </tr>\n",
       "  </tbody>\n",
       "</table>\n",
       "</div>"
      ],
      "text/plain": [
       "                                                                                                     Hypothesis  \\\n",
       "0  Добавить два новых канала привлечения трафика, что позволит привлекать на 30% больше пользователей             \n",
       "1  Запустить собственную службу доставки, что сократит срок доставки заказов                                      \n",
       "2  Добавить блоки рекомендаций товаров на сайт интернет магазина, чтобы повысить конверсию и средний чек заказа   \n",
       "3  Изменить структура категорий, что увеличит конверсию, т.к. пользователи быстрее найдут нужный товар            \n",
       "4  Изменить цвет фона главной страницы, чтобы увеличить вовлеченность пользователей                               \n",
       "5  Добавить страницу отзывов клиентов о магазине, что позволит увеличить количество заказов                       \n",
       "6  Показать на главной странице баннеры с актуальными акциями и распродажами, чтобы увеличить конверсию           \n",
       "7  Добавить форму подписки на все основные страницы, чтобы собрать базу клиентов для email-рассылок               \n",
       "8  Запустить акцию, дающую скидку на товар в день рождения                                                        \n",
       "\n",
       "   Reach  Impact  Confidence  Efforts  \n",
       "0  3      10      8           6        \n",
       "1  2      5       4           10       \n",
       "2  8      3       7           3        \n",
       "3  8      3       3           8        \n",
       "4  3      1       1           1        \n",
       "5  3      2       2           3        \n",
       "6  5      3       8           3        \n",
       "7  10     7       8           5        \n",
       "8  1      9       9           5        "
      ]
     },
     "execution_count": 2,
     "metadata": {},
     "output_type": "execute_result"
    }
   ],
   "source": [
    "hypothesis_df = pd.read_csv('/datasets/hypothesis.csv')\n",
    "hypothesis_df.info()\n",
    "hypothesis_df"
   ]
  },
  {
   "cell_type": "markdown",
   "metadata": {},
   "source": [
    "Таблица состоит из следующих столбцов:\n",
    "\n",
    "- Hypothesis — краткое описание гипотезы;\n",
    "- Reach — охват пользователей по 10-балльной шкале;\n",
    "- Impact — влияние на пользователей по 10-балльной шкале;\n",
    "- Confidence — уверенность в гипотезе по 10-балльной шкале;\n",
    "- Efforts — затраты ресурсов на проверку гипотезы по 10-балльной шкале.\n",
    "\n",
    "Дубликатов не обнаружено, пропуски отстутствуют."
   ]
  },
  {
   "cell_type": "code",
   "execution_count": 3,
   "metadata": {},
   "outputs": [
    {
     "data": {
      "text/html": [
       "<div>\n",
       "<style scoped>\n",
       "    .dataframe tbody tr th:only-of-type {\n",
       "        vertical-align: middle;\n",
       "    }\n",
       "\n",
       "    .dataframe tbody tr th {\n",
       "        vertical-align: top;\n",
       "    }\n",
       "\n",
       "    .dataframe thead th {\n",
       "        text-align: right;\n",
       "    }\n",
       "</style>\n",
       "<table border=\"1\" class=\"dataframe\">\n",
       "  <thead>\n",
       "    <tr style=\"text-align: right;\">\n",
       "      <th></th>\n",
       "      <th>Hypothesis</th>\n",
       "      <th>ICE</th>\n",
       "    </tr>\n",
       "  </thead>\n",
       "  <tbody>\n",
       "    <tr>\n",
       "      <td>8</td>\n",
       "      <td>Запустить акцию, дающую скидку на товар в день рождения</td>\n",
       "      <td>16.200000</td>\n",
       "    </tr>\n",
       "    <tr>\n",
       "      <td>0</td>\n",
       "      <td>Добавить два новых канала привлечения трафика, что позволит привлекать на 30% больше пользователей</td>\n",
       "      <td>13.333333</td>\n",
       "    </tr>\n",
       "    <tr>\n",
       "      <td>7</td>\n",
       "      <td>Добавить форму подписки на все основные страницы, чтобы собрать базу клиентов для email-рассылок</td>\n",
       "      <td>11.200000</td>\n",
       "    </tr>\n",
       "    <tr>\n",
       "      <td>6</td>\n",
       "      <td>Показать на главной странице баннеры с актуальными акциями и распродажами, чтобы увеличить конверсию</td>\n",
       "      <td>8.000000</td>\n",
       "    </tr>\n",
       "    <tr>\n",
       "      <td>2</td>\n",
       "      <td>Добавить блоки рекомендаций товаров на сайт интернет магазина, чтобы повысить конверсию и средний чек заказа</td>\n",
       "      <td>7.000000</td>\n",
       "    </tr>\n",
       "    <tr>\n",
       "      <td>1</td>\n",
       "      <td>Запустить собственную службу доставки, что сократит срок доставки заказов</td>\n",
       "      <td>2.000000</td>\n",
       "    </tr>\n",
       "    <tr>\n",
       "      <td>5</td>\n",
       "      <td>Добавить страницу отзывов клиентов о магазине, что позволит увеличить количество заказов</td>\n",
       "      <td>1.333333</td>\n",
       "    </tr>\n",
       "    <tr>\n",
       "      <td>3</td>\n",
       "      <td>Изменить структура категорий, что увеличит конверсию, т.к. пользователи быстрее найдут нужный товар</td>\n",
       "      <td>1.125000</td>\n",
       "    </tr>\n",
       "    <tr>\n",
       "      <td>4</td>\n",
       "      <td>Изменить цвет фона главной страницы, чтобы увеличить вовлеченность пользователей</td>\n",
       "      <td>1.000000</td>\n",
       "    </tr>\n",
       "  </tbody>\n",
       "</table>\n",
       "</div>"
      ],
      "text/plain": [
       "                                                                                                     Hypothesis  \\\n",
       "8  Запустить акцию, дающую скидку на товар в день рождения                                                        \n",
       "0  Добавить два новых канала привлечения трафика, что позволит привлекать на 30% больше пользователей             \n",
       "7  Добавить форму подписки на все основные страницы, чтобы собрать базу клиентов для email-рассылок               \n",
       "6  Показать на главной странице баннеры с актуальными акциями и распродажами, чтобы увеличить конверсию           \n",
       "2  Добавить блоки рекомендаций товаров на сайт интернет магазина, чтобы повысить конверсию и средний чек заказа   \n",
       "1  Запустить собственную службу доставки, что сократит срок доставки заказов                                      \n",
       "5  Добавить страницу отзывов клиентов о магазине, что позволит увеличить количество заказов                       \n",
       "3  Изменить структура категорий, что увеличит конверсию, т.к. пользователи быстрее найдут нужный товар            \n",
       "4  Изменить цвет фона главной страницы, чтобы увеличить вовлеченность пользователей                               \n",
       "\n",
       "         ICE  \n",
       "8  16.200000  \n",
       "0  13.333333  \n",
       "7  11.200000  \n",
       "6  8.000000   \n",
       "2  7.000000   \n",
       "1  2.000000   \n",
       "5  1.333333   \n",
       "3  1.125000   \n",
       "4  1.000000   "
      ]
     },
     "execution_count": 3,
     "metadata": {},
     "output_type": "execute_result"
    }
   ],
   "source": [
    "hypothesis_df['ICE'] = hypothesis_df['Impact'] * hypothesis_df['Confidence'] / hypothesis_df['Efforts']\n",
    "hypothesis_df[['Hypothesis', 'ICE']].sort_values('ICE', ascending=False)"
   ]
  },
  {
   "cell_type": "code",
   "execution_count": 4,
   "metadata": {},
   "outputs": [
    {
     "data": {
      "text/html": [
       "<div>\n",
       "<style scoped>\n",
       "    .dataframe tbody tr th:only-of-type {\n",
       "        vertical-align: middle;\n",
       "    }\n",
       "\n",
       "    .dataframe tbody tr th {\n",
       "        vertical-align: top;\n",
       "    }\n",
       "\n",
       "    .dataframe thead th {\n",
       "        text-align: right;\n",
       "    }\n",
       "</style>\n",
       "<table border=\"1\" class=\"dataframe\">\n",
       "  <thead>\n",
       "    <tr style=\"text-align: right;\">\n",
       "      <th></th>\n",
       "      <th>Hypothesis</th>\n",
       "      <th>RICE</th>\n",
       "    </tr>\n",
       "  </thead>\n",
       "  <tbody>\n",
       "    <tr>\n",
       "      <td>7</td>\n",
       "      <td>Добавить форму подписки на все основные страницы, чтобы собрать базу клиентов для email-рассылок</td>\n",
       "      <td>112.0</td>\n",
       "    </tr>\n",
       "    <tr>\n",
       "      <td>2</td>\n",
       "      <td>Добавить блоки рекомендаций товаров на сайт интернет магазина, чтобы повысить конверсию и средний чек заказа</td>\n",
       "      <td>56.0</td>\n",
       "    </tr>\n",
       "    <tr>\n",
       "      <td>0</td>\n",
       "      <td>Добавить два новых канала привлечения трафика, что позволит привлекать на 30% больше пользователей</td>\n",
       "      <td>40.0</td>\n",
       "    </tr>\n",
       "    <tr>\n",
       "      <td>6</td>\n",
       "      <td>Показать на главной странице баннеры с актуальными акциями и распродажами, чтобы увеличить конверсию</td>\n",
       "      <td>40.0</td>\n",
       "    </tr>\n",
       "    <tr>\n",
       "      <td>8</td>\n",
       "      <td>Запустить акцию, дающую скидку на товар в день рождения</td>\n",
       "      <td>16.2</td>\n",
       "    </tr>\n",
       "    <tr>\n",
       "      <td>3</td>\n",
       "      <td>Изменить структура категорий, что увеличит конверсию, т.к. пользователи быстрее найдут нужный товар</td>\n",
       "      <td>9.0</td>\n",
       "    </tr>\n",
       "    <tr>\n",
       "      <td>1</td>\n",
       "      <td>Запустить собственную службу доставки, что сократит срок доставки заказов</td>\n",
       "      <td>4.0</td>\n",
       "    </tr>\n",
       "    <tr>\n",
       "      <td>5</td>\n",
       "      <td>Добавить страницу отзывов клиентов о магазине, что позволит увеличить количество заказов</td>\n",
       "      <td>4.0</td>\n",
       "    </tr>\n",
       "    <tr>\n",
       "      <td>4</td>\n",
       "      <td>Изменить цвет фона главной страницы, чтобы увеличить вовлеченность пользователей</td>\n",
       "      <td>3.0</td>\n",
       "    </tr>\n",
       "  </tbody>\n",
       "</table>\n",
       "</div>"
      ],
      "text/plain": [
       "                                                                                                     Hypothesis  \\\n",
       "7  Добавить форму подписки на все основные страницы, чтобы собрать базу клиентов для email-рассылок               \n",
       "2  Добавить блоки рекомендаций товаров на сайт интернет магазина, чтобы повысить конверсию и средний чек заказа   \n",
       "0  Добавить два новых канала привлечения трафика, что позволит привлекать на 30% больше пользователей             \n",
       "6  Показать на главной странице баннеры с актуальными акциями и распродажами, чтобы увеличить конверсию           \n",
       "8  Запустить акцию, дающую скидку на товар в день рождения                                                        \n",
       "3  Изменить структура категорий, что увеличит конверсию, т.к. пользователи быстрее найдут нужный товар            \n",
       "1  Запустить собственную службу доставки, что сократит срок доставки заказов                                      \n",
       "5  Добавить страницу отзывов клиентов о магазине, что позволит увеличить количество заказов                       \n",
       "4  Изменить цвет фона главной страницы, чтобы увеличить вовлеченность пользователей                               \n",
       "\n",
       "    RICE  \n",
       "7  112.0  \n",
       "2  56.0   \n",
       "0  40.0   \n",
       "6  40.0   \n",
       "8  16.2   \n",
       "3  9.0    \n",
       "1  4.0    \n",
       "5  4.0    \n",
       "4  3.0    "
      ]
     },
     "execution_count": 4,
     "metadata": {},
     "output_type": "execute_result"
    }
   ],
   "source": [
    "hypothesis_df['RICE'] = hypothesis_df['Reach'] * hypothesis_df['Impact'] * hypothesis_df['Confidence'] \\\n",
    "/ hypothesis_df['Efforts']\n",
    "hypothesis_df[['Hypothesis', 'RICE']].sort_values('RICE', ascending=False)"
   ]
  },
  {
   "cell_type": "markdown",
   "metadata": {},
   "source": [
    "Умножив на показатель охвата приоритеты могли поменяться, что и произошло, показатели ICE у пяти гипотез отличаются менее чем в 2.315 раза, и умножение на показатель Reach лишь перемешало гипотезы в верхнем топ 5, но так как гипотезы с большими охватами имели большое значение ICE вклад именно этого параметра оказался существенным, меняющим порядок приоритетов."
   ]
  },
  {
   "cell_type": "markdown",
   "metadata": {},
   "source": [
    "## Часть 2. Анализ A/B-теста <a name=\"step2\"></a>"
   ]
  },
  {
   "cell_type": "code",
   "execution_count": 5,
   "metadata": {},
   "outputs": [
    {
     "name": "stdout",
     "output_type": "stream",
     "text": [
      "<class 'pandas.core.frame.DataFrame'>\n",
      "RangeIndex: 1197 entries, 0 to 1196\n",
      "Data columns (total 5 columns):\n",
      "transactionId    1197 non-null int64\n",
      "visitorId        1197 non-null int64\n",
      "date             1197 non-null datetime64[ns]\n",
      "revenue          1197 non-null int64\n",
      "group            1197 non-null object\n",
      "dtypes: datetime64[ns](1), int64(3), object(1)\n",
      "memory usage: 46.9+ KB\n",
      "0 - количество дубликатов\n"
     ]
    },
    {
     "data": {
      "text/html": [
       "<div>\n",
       "<style scoped>\n",
       "    .dataframe tbody tr th:only-of-type {\n",
       "        vertical-align: middle;\n",
       "    }\n",
       "\n",
       "    .dataframe tbody tr th {\n",
       "        vertical-align: top;\n",
       "    }\n",
       "\n",
       "    .dataframe thead th {\n",
       "        text-align: right;\n",
       "    }\n",
       "</style>\n",
       "<table border=\"1\" class=\"dataframe\">\n",
       "  <thead>\n",
       "    <tr style=\"text-align: right;\">\n",
       "      <th></th>\n",
       "      <th>transactionId</th>\n",
       "      <th>visitorId</th>\n",
       "      <th>date</th>\n",
       "      <th>revenue</th>\n",
       "      <th>group</th>\n",
       "    </tr>\n",
       "  </thead>\n",
       "  <tbody>\n",
       "    <tr>\n",
       "      <td>0</td>\n",
       "      <td>3667963787</td>\n",
       "      <td>3312258926</td>\n",
       "      <td>2019-08-15</td>\n",
       "      <td>1650</td>\n",
       "      <td>B</td>\n",
       "    </tr>\n",
       "    <tr>\n",
       "      <td>1</td>\n",
       "      <td>2804400009</td>\n",
       "      <td>3642806036</td>\n",
       "      <td>2019-08-15</td>\n",
       "      <td>730</td>\n",
       "      <td>B</td>\n",
       "    </tr>\n",
       "    <tr>\n",
       "      <td>2</td>\n",
       "      <td>2961555356</td>\n",
       "      <td>4069496402</td>\n",
       "      <td>2019-08-15</td>\n",
       "      <td>400</td>\n",
       "      <td>A</td>\n",
       "    </tr>\n",
       "    <tr>\n",
       "      <td>3</td>\n",
       "      <td>3797467345</td>\n",
       "      <td>1196621759</td>\n",
       "      <td>2019-08-15</td>\n",
       "      <td>9759</td>\n",
       "      <td>B</td>\n",
       "    </tr>\n",
       "    <tr>\n",
       "      <td>4</td>\n",
       "      <td>2282983706</td>\n",
       "      <td>2322279887</td>\n",
       "      <td>2019-08-15</td>\n",
       "      <td>2308</td>\n",
       "      <td>B</td>\n",
       "    </tr>\n",
       "  </tbody>\n",
       "</table>\n",
       "</div>"
      ],
      "text/plain": [
       "   transactionId   visitorId       date  revenue group\n",
       "0  3667963787     3312258926 2019-08-15  1650     B   \n",
       "1  2804400009     3642806036 2019-08-15  730      B   \n",
       "2  2961555356     4069496402 2019-08-15  400      A   \n",
       "3  3797467345     1196621759 2019-08-15  9759     B   \n",
       "4  2282983706     2322279887 2019-08-15  2308     B   "
      ]
     },
     "execution_count": 5,
     "metadata": {},
     "output_type": "execute_result"
    }
   ],
   "source": [
    "orders_df = pd.read_csv('/datasets/orders.csv')\n",
    "orders_df['date'] = pd.to_datetime(orders_df['date'])\n",
    "\n",
    "orders_df.info()\n",
    "print(f'{orders_df.duplicated().sum()} - количество дубликатов')\n",
    "orders_df.head()"
   ]
  },
  {
   "cell_type": "markdown",
   "metadata": {},
   "source": [
    "Таблица состоит из следующих столбцов:\n",
    "\n",
    "- transactionId — идентификатор заказа;\n",
    "- visitorId — идентификатор пользователя, совершившего заказ;\n",
    "- date — дата, когда был совершён заказ;\n",
    "- revenue — выручка заказа;\n",
    "- group — группа A/B-теста, в которую попал заказ.\n",
    "\n",
    "Дубликатов не обнаружено, пропуски отстутствуют. Тип данных столбца с датой изменен для дальнейшего удобства."
   ]
  },
  {
   "cell_type": "code",
   "execution_count": 6,
   "metadata": {},
   "outputs": [
    {
     "name": "stdout",
     "output_type": "stream",
     "text": [
      "<class 'pandas.core.frame.DataFrame'>\n",
      "RangeIndex: 62 entries, 0 to 61\n",
      "Data columns (total 3 columns):\n",
      "date        62 non-null datetime64[ns]\n",
      "group       62 non-null object\n",
      "visitors    62 non-null int64\n",
      "dtypes: datetime64[ns](1), int64(1), object(1)\n",
      "memory usage: 1.6+ KB\n",
      "0 - количество дубликатов\n"
     ]
    },
    {
     "data": {
      "text/html": [
       "<div>\n",
       "<style scoped>\n",
       "    .dataframe tbody tr th:only-of-type {\n",
       "        vertical-align: middle;\n",
       "    }\n",
       "\n",
       "    .dataframe tbody tr th {\n",
       "        vertical-align: top;\n",
       "    }\n",
       "\n",
       "    .dataframe thead th {\n",
       "        text-align: right;\n",
       "    }\n",
       "</style>\n",
       "<table border=\"1\" class=\"dataframe\">\n",
       "  <thead>\n",
       "    <tr style=\"text-align: right;\">\n",
       "      <th></th>\n",
       "      <th>date</th>\n",
       "      <th>group</th>\n",
       "      <th>visitors</th>\n",
       "    </tr>\n",
       "  </thead>\n",
       "  <tbody>\n",
       "    <tr>\n",
       "      <td>0</td>\n",
       "      <td>2019-08-01</td>\n",
       "      <td>A</td>\n",
       "      <td>719</td>\n",
       "    </tr>\n",
       "    <tr>\n",
       "      <td>1</td>\n",
       "      <td>2019-08-02</td>\n",
       "      <td>A</td>\n",
       "      <td>619</td>\n",
       "    </tr>\n",
       "    <tr>\n",
       "      <td>2</td>\n",
       "      <td>2019-08-03</td>\n",
       "      <td>A</td>\n",
       "      <td>507</td>\n",
       "    </tr>\n",
       "    <tr>\n",
       "      <td>3</td>\n",
       "      <td>2019-08-04</td>\n",
       "      <td>A</td>\n",
       "      <td>717</td>\n",
       "    </tr>\n",
       "    <tr>\n",
       "      <td>4</td>\n",
       "      <td>2019-08-05</td>\n",
       "      <td>A</td>\n",
       "      <td>756</td>\n",
       "    </tr>\n",
       "  </tbody>\n",
       "</table>\n",
       "</div>"
      ],
      "text/plain": [
       "        date group  visitors\n",
       "0 2019-08-01  A     719     \n",
       "1 2019-08-02  A     619     \n",
       "2 2019-08-03  A     507     \n",
       "3 2019-08-04  A     717     \n",
       "4 2019-08-05  A     756     "
      ]
     },
     "execution_count": 6,
     "metadata": {},
     "output_type": "execute_result"
    }
   ],
   "source": [
    "visits_df = pd.read_csv('/datasets/visitors.csv')\n",
    "visits_df['date'] = pd.to_datetime(visits_df['date'])\n",
    "\n",
    "visits_df.info()\n",
    "print(f'{visits_df.duplicated().sum()} - количество дубликатов')\n",
    "visits_df.head()"
   ]
  },
  {
   "cell_type": "markdown",
   "metadata": {},
   "source": [
    "Таблица состоит из следующих столбцов:\n",
    "\n",
    "- date — дата;\n",
    "- group — группа A/B-теста;\n",
    "- visitors — количество пользователей в указанную дату в указанной группе A/B-теста\n",
    "\n",
    "Дубликатов не обнаружено, пропуски отстутствуют. Тип данных столбца с датой изменен для дальнейшего удобства."
   ]
  },
  {
   "cell_type": "code",
   "execution_count": 7,
   "metadata": {},
   "outputs": [
    {
     "data": {
      "text/html": [
       "<div>\n",
       "<style scoped>\n",
       "    .dataframe tbody tr th:only-of-type {\n",
       "        vertical-align: middle;\n",
       "    }\n",
       "\n",
       "    .dataframe tbody tr th {\n",
       "        vertical-align: top;\n",
       "    }\n",
       "\n",
       "    .dataframe thead th {\n",
       "        text-align: right;\n",
       "    }\n",
       "</style>\n",
       "<table border=\"1\" class=\"dataframe\">\n",
       "  <thead>\n",
       "    <tr style=\"text-align: right;\">\n",
       "      <th></th>\n",
       "      <th>date</th>\n",
       "      <th>group</th>\n",
       "      <th>revenue</th>\n",
       "      <th>count_orders</th>\n",
       "      <th>count_visitors</th>\n",
       "      <th>conversion</th>\n",
       "    </tr>\n",
       "  </thead>\n",
       "  <tbody>\n",
       "    <tr>\n",
       "      <td>0</td>\n",
       "      <td>2019-08-01</td>\n",
       "      <td>A</td>\n",
       "      <td>148579</td>\n",
       "      <td>24</td>\n",
       "      <td>719</td>\n",
       "      <td>0.03338</td>\n",
       "    </tr>\n",
       "    <tr>\n",
       "      <td>1</td>\n",
       "      <td>2019-08-01</td>\n",
       "      <td>B</td>\n",
       "      <td>101217</td>\n",
       "      <td>21</td>\n",
       "      <td>713</td>\n",
       "      <td>0.02945</td>\n",
       "    </tr>\n",
       "    <tr>\n",
       "      <td>2</td>\n",
       "      <td>2019-08-02</td>\n",
       "      <td>A</td>\n",
       "      <td>242401</td>\n",
       "      <td>44</td>\n",
       "      <td>1338</td>\n",
       "      <td>0.03288</td>\n",
       "    </tr>\n",
       "    <tr>\n",
       "      <td>3</td>\n",
       "      <td>2019-08-02</td>\n",
       "      <td>B</td>\n",
       "      <td>266748</td>\n",
       "      <td>45</td>\n",
       "      <td>1294</td>\n",
       "      <td>0.03478</td>\n",
       "    </tr>\n",
       "    <tr>\n",
       "      <td>4</td>\n",
       "      <td>2019-08-03</td>\n",
       "      <td>A</td>\n",
       "      <td>354874</td>\n",
       "      <td>68</td>\n",
       "      <td>1845</td>\n",
       "      <td>0.03686</td>\n",
       "    </tr>\n",
       "  </tbody>\n",
       "</table>\n",
       "</div>"
      ],
      "text/plain": [
       "        date group  revenue  count_orders  count_visitors  conversion\n",
       "0 2019-08-01  A     148579   24            719             0.03338   \n",
       "1 2019-08-01  B     101217   21            713             0.02945   \n",
       "2 2019-08-02  A     242401   44            1338            0.03288   \n",
       "3 2019-08-02  B     266748   45            1294            0.03478   \n",
       "4 2019-08-03  A     354874   68            1845            0.03686   "
      ]
     },
     "execution_count": 7,
     "metadata": {},
     "output_type": "execute_result"
    }
   ],
   "source": [
    "datesGroups = orders_df[['date','group']].drop_duplicates() \n",
    "\n",
    "# Выделение кумулятивной суммы визитов по группам и датам\n",
    "visitorsAggregated = datesGroups.apply(lambda x: visits_df[np.logical_and(visits_df['date'] <= x['date'],\n",
    "    visits_df['group'] == x['group'])].agg({'date' : 'max', 'group' : 'max', 'visitors' : 'sum'}),\n",
    "                                       axis=1).sort_values(by=['date','group'])\n",
    "\n",
    "# Выделение кумулятивной суммы дохода, числа покупок по группам и датам\n",
    "ordersAggregated = datesGroups.apply(lambda x: orders_df[np.logical_and(orders_df['date'] <= x['date'],\n",
    "                                                                     orders_df['group'] == x['group'])]\\\n",
    "                                .agg({'date' : 'max', 'group' : 'max', 'revenue' : 'sum', 'transactionId' \n",
    "                          : pd.Series.nunique}), axis=1).sort_values(by=['date','group']) \n",
    "\n",
    "# Агрегирование данных о покупках и визитов\n",
    "cumulativeData = ordersAggregated.merge(visitorsAggregated, on=['date', 'group'])\n",
    "cumulativeData = cumulativeData.rename(columns = {'transactionId' : 'count_orders', 'visitors': 'count_visitors'})\n",
    "cumulativeData['conversion'] = round(cumulativeData['count_orders'] / cumulativeData['count_visitors'], 5)\n",
    "\n",
    "# Выделение данных по отдельным группам\n",
    "cumulativeA = cumulativeData[cumulativeData['group']=='A']\n",
    "cumulativeB = cumulativeData[cumulativeData['group']=='B']\n",
    "\n",
    "cumulativeData.head()"
   ]
  },
  {
   "cell_type": "markdown",
   "metadata": {},
   "source": [
    "Функции для построения графиков двух групп и их отношений "
   ]
  },
  {
   "cell_type": "code",
   "execution_count": 8,
   "metadata": {},
   "outputs": [],
   "source": [
    "def draw_graphic_two_groups(boundary_y, ylabel, title, y_values):\n",
    "    plt.figure(figsize=(9,4))\n",
    "    plt.plot(cumulativeA['date'], y_values[0], label='A')\n",
    "    plt.plot(cumulativeB['date'], y_values[1], label='B')\n",
    "    plt.axis([\"2019-08-01\", '2019-08-31', 0, boundary_y]) \n",
    "\n",
    "    plt.xlabel('Дата')\n",
    "    plt.ylabel(ylabel)\n",
    "    plt.title(title)\n",
    "\n",
    "    plt.grid()\n",
    "    plt.legend();"
   ]
  },
  {
   "cell_type": "code",
   "execution_count": 9,
   "metadata": {},
   "outputs": [],
   "source": [
    "def draw_graphic_relative(axis_coordinate, ylabel, title, y_values):\n",
    "    plt.figure(figsize=(9,4))\n",
    "    plt.plot(mergedCumulative['date'], y_values)\n",
    "    plt.axis([\"2019-08-01\", '2019-08-31', -1, 1]) \n",
    "    plt.axhline(y=axis_coordinate, color='black', linestyle='--', label=f'у = {axis_coordinate}') \n",
    "\n",
    "    plt.xlabel('Дата')\n",
    "    plt.ylabel(ylabel)\n",
    "    plt.title(title)\n",
    "\n",
    "    plt.grid()\n",
    "    plt.legend();"
   ]
  },
  {
   "cell_type": "markdown",
   "metadata": {},
   "source": [
    "### Кумулятивная выручка по группам  <a name='cum_revenue_by_groups'></a>"
   ]
  },
  {
   "cell_type": "code",
   "execution_count": 10,
   "metadata": {},
   "outputs": [
    {
     "data": {
      "image/png": "[encoded data removed]",
      "text/plain": [
       "<Figure size 648x288 with 1 Axes>"
      ]
     },
     "metadata": {
      "needs_background": "light"
     },
     "output_type": "display_data"
    }
   ],
   "source": [
    "draw_graphic_two_groups(6500000, 'Кумулятивная выручка групп', 'График кумулятивной выручки по группам',\n",
    "              [cumulativeA['revenue'],cumulativeB['revenue']])"
   ]
  },
  {
   "cell_type": "markdown",
   "metadata": {},
   "source": [
    "#### Выводы:\n",
    "- Кумулятивная выручка группы В больше выручки группы А;\n",
    "- Не было не единого дня без продаж не в единой группе.\n",
    "\n",
    "#### Предположения:\n",
    "- В период 18, 19 августа клиенты группы В совершили крупные покупки;\n",
    "- Кумулятивные выручки двух групп за исключением аномалий в группе В схожи."
   ]
  },
  {
   "cell_type": "markdown",
   "metadata": {},
   "source": [
    "### Кумулятивное среднее чека по группам <a name='mean_check_by_groups'></a>"
   ]
  },
  {
   "cell_type": "code",
   "execution_count": 11,
   "metadata": {},
   "outputs": [
    {
     "data": {
      "image/png": "[encoded data removed]",
      "text/plain": [
       "<Figure size 648x288 with 1 Axes>"
      ]
     },
     "metadata": {
      "needs_background": "light"
     },
     "output_type": "display_data"
    }
   ],
   "source": [
    "draw_graphic_two_groups(12000, 'Кумулятивные средние чеки по группам', 'График кумулятивного среднего чека по группам',\n",
    "              [cumulativeA['revenue'] / cumulativeA['count_orders'], cumulativeB['revenue'] /  cumulativeB['count_orders']])"
   ]
  },
  {
   "cell_type": "markdown",
   "metadata": {},
   "source": [
    "#### Выводы:\n",
    "- Кумулятивный средний чек группы В больше группы А;\n",
    "- После 18 августа средний чек группы В падает, A растёт;\n",
    "- В период 18, 19 августа клиенты группы В совершили крупные покупки;\n",
    "- 3 - 7 августа в группе А уменьшился средний чек. \n",
    "\n",
    "#### Предположения:\n",
    "- Без аномалий в группе В после 17 августа средний чек группы В остается стабильным;\n",
    "- Есть взаимосвязь между ростом среднего чека одной группы и одновременным падением в другой после удаления аномальных дней."
   ]
  },
  {
   "cell_type": "markdown",
   "metadata": {},
   "source": [
    "### Относительное изменения кумулятивного среднего чека <a name = 'Change_cum_mean_check'></a>"
   ]
  },
  {
   "cell_type": "code",
   "execution_count": 12,
   "metadata": {},
   "outputs": [
    {
     "data": {
      "image/png": "[encoded data removed]",
      "text/plain": [
       "<Figure size 648x288 with 1 Axes>"
      ]
     },
     "metadata": {
      "needs_background": "light"
     },
     "output_type": "display_data"
    }
   ],
   "source": [
    "mergedCumulative = cumulativeA.merge(cumulativeB, left_on='date', right_on='date', how='left', suffixes=['A', 'B'])\n",
    "draw_graphic_relative(0.25, 'Изменения кумулятивного среднего чека',\n",
    "                      'График относительного изменения кумулятивного среднего чека группы B к группе A',\n",
    "                     (mergedCumulative['revenueB']/mergedCumulative['count_ordersB']) \\\n",
    "    /(mergedCumulative['revenueA']/mergedCumulative['count_ordersA'])-1)"
   ]
  },
  {
   "cell_type": "markdown",
   "metadata": {},
   "source": [
    "#### Выводы:\n",
    "- Имеются кратковременные промежутки, где кумулятивное среднее группы В стремительно растёт;\n",
    "- Подавляющую длительность времени кумулятивный средний чек группы В выше группы А;\n",
    "- Имеются некоторое число крупных заказов 2, 6, 19 августа в группе В.\n",
    "\n",
    "#### Предположения:\n",
    "- Существует некоторая периодичность в падениях кумулятивного среднего чека группы В к группе А, при этом длительность первого такого падения в два раза меньше повторного;\n",
    "- Аномально большие заказы имеются только в группе В."
   ]
  },
  {
   "cell_type": "markdown",
   "metadata": {},
   "source": [
    "### Кумулятивная конверсия по группам <a name='cum_conversion_by_gr'></a>"
   ]
  },
  {
   "cell_type": "code",
   "execution_count": 13,
   "metadata": {},
   "outputs": [
    {
     "data": {
      "image/png": "[encoded data removed]",
      "text/plain": [
       "<Figure size 648x288 with 1 Axes>"
      ]
     },
     "metadata": {
      "needs_background": "light"
     },
     "output_type": "display_data"
    }
   ],
   "source": [
    "draw_graphic_two_groups(0.05, 'Значение кумулятивной конверсии групп', 'График кумулятивной конверсии по группам ',\n",
    "              [cumulativeData.query('group == \"A\"')['conversion'], cumulativeData.query('group == \"B\"')['conversion']])"
   ]
  },
  {
   "cell_type": "markdown",
   "metadata": {},
   "source": [
    "#### Выводы:\n",
    "- Кумулятивная конверсия в обеих группах стабильна;\n",
    "- Кумулятивная конверсия в группе В на шестой день А В теста стала превосходить значения в группе А и оставшееся время теста была постоянна выше кумулятивной конверсии в группе А.\n",
    "\n",
    "#### Предположения:\n",
    "- Влияние величины кумулятивной конверсии в одной группе на значение в другой группе отсутствует;\n",
    "- Влияние фактора даты на величину конверсии минимально."
   ]
  },
  {
   "cell_type": "markdown",
   "metadata": {},
   "source": [
    "### Oтносительноe изменениe кумулятивной конверсии <a name='rel_cum_conversion_by_gr'></a>"
   ]
  },
  {
   "cell_type": "code",
   "execution_count": 14,
   "metadata": {},
   "outputs": [
    {
     "data": {
      "image/png": "[encoded data removed]",
      "text/plain": [
       "<Figure size 648x288 with 1 Axes>"
      ]
     },
     "metadata": {
      "needs_background": "light"
     },
     "output_type": "display_data"
    }
   ],
   "source": [
    "draw_graphic_relative(0.15,'Отношение конверсий двух групп',\n",
    "                      'Относительный прирост конверсии группы B относительно группы A',\n",
    "                     mergedCumulative['conversionB']/mergedCumulative['conversionA']-1)"
   ]
  },
  {
   "cell_type": "markdown",
   "metadata": {},
   "source": [
    "#### Выводы:\n",
    "- Конверсия в группе В стала больше конверсии в группе А 6 августа и такое соотношение сохраняется с изменением в относительном отношении на 0.1 раза. \n",
    "\n",
    "#### Предположения:\n",
    "- Конверсия нормализовалось и если метрика оценка тестирования - конверсии тест можно прекращать, однако необходимо рассмотреть отношение конверсий двух групп без выбросов. "
   ]
  },
  {
   "cell_type": "markdown",
   "metadata": {},
   "source": [
    "### Количество заказов по пользователям <a name='count_orders_by_users'></a>"
   ]
  },
  {
   "cell_type": "code",
   "execution_count": 15,
   "metadata": {},
   "outputs": [
    {
     "data": {
      "image/png": "[encoded data removed]",
      "text/plain": [
       "<Figure size 432x288 with 1 Axes>"
      ]
     },
     "metadata": {
      "needs_background": "light"
     },
     "output_type": "display_data"
    }
   ],
   "source": [
    "count_orders_by_user = orders_df['visitorId'].value_counts()\n",
    "x_values = pd.Series(range(0,len(count_orders_by_user)))\n",
    "plt.scatter(x_values, count_orders_by_user, alpha = 0.5)\n",
    "\n",
    "plt.xlabel('Число пользователей')\n",
    "plt.ylabel('Количество заказов')\n",
    "plt.title('Распределение количества заказов одним человеком');"
   ]
  },
  {
   "cell_type": "code",
   "execution_count": 16,
   "metadata": {},
   "outputs": [
    {
     "name": "stdout",
     "output_type": "stream",
     "text": [
      "[2. 4.]\n",
      "10 - Количество посетителей, купивших за рассматриваемый период более 4 раз\n",
      "2.91% - Процент пользователей, совершивших более 2 заказов\n",
      "9.12% - Процент пользователей, совершивших более 1 заказов\n"
     ]
    }
   ],
   "source": [
    "print(np.percentile(count_orders_by_user, [95, 99])) \n",
    "print(f'{sum(count_orders_by_user > 4)} - Количество посетителей, купивших за рассматриваемый период более 4 раз')\n",
    "print(f'{sum(count_orders_by_user > 2) / len(count_orders_by_user):.2%} - Процент пользователей, совершивших более 2 заказов')\n",
    "print(f'{sum(count_orders_by_user > 1) / len(count_orders_by_user):.2%} - Процент пользователей, совершивших более 1 заказов')"
   ]
  },
  {
   "cell_type": "markdown",
   "metadata": {},
   "source": [
    "#### Выводы:\n",
    "- Считаю, что отказаться от 2.91 процентов пользователей, как аномальных - допустимо и поступаю именно так;\n",
    "- Лишь 9.12% пользователей совершили более одного заказа;\n",
    "- Лишь 10 посетителей интернет магазина купили более 4 раз за наблюдаемый временной отрезок.\n",
    "\n",
    "#### Предположения:\n",
    "- Покупки из предлагаемого модельного ряда интересовали подавляющее число покупателей лишь единожды за время теста. "
   ]
  },
  {
   "cell_type": "markdown",
   "metadata": {},
   "source": [
    "### Стоимость заказов <a name='cost_order'></a>"
   ]
  },
  {
   "cell_type": "code",
   "execution_count": 17,
   "metadata": {},
   "outputs": [
    {
     "name": "stdout",
     "output_type": "stream",
     "text": [
      "2 - заказa на более чем 100000\n"
     ]
    },
    {
     "data": {
      "image/png": "[encoded data removed]",
      "text/plain": [
       "<Figure size 432x288 with 1 Axes>"
      ]
     },
     "metadata": {
      "needs_background": "light"
     },
     "output_type": "display_data"
    }
   ],
   "source": [
    "print('{} - заказa на более чем 100000'.format(orders_df.query('revenue > 100000')['date'].count()))\n",
    "x_values = pd.Series(range(0,len(orders_df.query('revenue < 100000')['revenue'])))\n",
    "plt.scatter(x_values, orders_df.query('revenue < 100000')['revenue'], alpha = 0.5)\n",
    "\n",
    "plt.xlabel('Число пользователей')\n",
    "plt.ylabel('Стоимость заказа')\n",
    "plt.title('Распределение стоимости заказов менее 100000 ');"
   ]
  },
  {
   "cell_type": "code",
   "execution_count": 18,
   "metadata": {},
   "outputs": [
    {
     "name": "stdout",
     "output_type": "stream",
     "text": [
      "[28000.  58233.2]\n",
      "11 - Количество посетителей, купивших более чем на 60000\n",
      "79.62% - Процент посетителей, купивших менее чем на 10000\n"
     ]
    }
   ],
   "source": [
    "print(np.percentile(orders_df['revenue'], [95, 99])) \n",
    "print('{} - Количество посетителей, купивших более чем на 60000'.format(sum(orders_df['revenue'] > 60000)))\n",
    "\n",
    "orders_df['revenue'].describe()\n",
    "print('{:.2%} - Процент посетителей, купивших менее чем на 10000'.format(sum(orders_df['revenue'] < 10000)/len(orders_df)))"
   ]
  },
  {
   "cell_type": "markdown",
   "metadata": {},
   "source": [
    "Отдельному рассмотрению подлежит два заказа более 100000, они были удалены из набора стоимости заказов, чтобы добиться лучше детализации стоимостей.\n",
    "\n",
    "#### Выводы:\n",
    "- Лишь 5% пользователей совершили заказ более чем на 28000 - считаю эту границу для аномальных стоимостей заказов оптимальной;\n",
    "- Лишь 11 посетителей интернет магазина купили более чем на 60000.\n",
    "\n",
    "#### Предположения:\n",
    "- Специальные предложения для заказов менее 10000 будут воздействовать на 80% аудитории интернет магазина, что может положительно сказаться на количестве таких заказов."
   ]
  },
  {
   "cell_type": "markdown",
   "metadata": {},
   "source": [
    "### Статистическая значимость различий конверсий <a name='significance_conversion'></a>"
   ]
  },
  {
   "cell_type": "markdown",
   "metadata": {},
   "source": [
    "#### Гипотезы\n",
    "\n",
    "Нулевая гипотеза - конверсии с точки зрения средних значений в группе А и В равны. Альтернативная - средние значения конверсий в двух группах различны."
   ]
  },
  {
   "cell_type": "markdown",
   "metadata": {},
   "source": [
    "Функции для вывода о гипотезах, сравнения конверсий двух групп. "
   ]
  },
  {
   "cell_type": "code",
   "execution_count": 19,
   "metadata": {},
   "outputs": [],
   "source": [
    "def conclusion_about_hypothesis(groupA, groupB, hypothesis):\n",
    "    p_val = stats.mannwhitneyu(groupA, groupB)[1]\n",
    "    \n",
    "    if p_val < 0.05:\n",
    "        print(f'p-value {p_val:.5f} < 0.05 значит отвергаем гипотезу о {hypothesis}')\n",
    "    else:\n",
    "        print(f'p-value {p_val:.5f} > 0.05 значит не отвергаем гипотезу о {hypothesis}')"
   ]
  },
  {
   "cell_type": "code",
   "execution_count": 20,
   "metadata": {},
   "outputs": [],
   "source": [
    "def compare_conversion(df, hypothesis):\n",
    "    \n",
    "    # Получение количества заказов по группам \n",
    "    ordersByUsersA = df[df['group']=='A'].groupby('visitorId', as_index=False).agg({'transactionId': pd.Series.nunique})\n",
    "    ordersByUsersA.columns = ['visitorId', 'orders']\n",
    "\n",
    "    ordersByUsersB = df[df['group']=='B'].groupby('visitorId', as_index=False).agg({'transactionId': pd.Series.nunique})\n",
    "    ordersByUsersB.columns = ['visitorId', 'orders']\n",
    "\n",
    "    # Получение столбцов заказов по визитам, группам\n",
    "    sample_B = pd.concat([ordersByUsersB['orders'], pd.Series(0, index=np.arange\n",
    "        (mergedCumulative.loc[30, 'count_visitorsB']- len(ordersByUsersB['orders'])), name='orders')],axis=0) \n",
    "    \n",
    "    sample_A = pd.concat([ordersByUsersA['orders'], pd.Series(0, index=np.arange\n",
    "        (mergedCumulative.loc[30, 'count_visitorsA'] - len(ordersByUsersA['orders'])), name='orders')],axis=0) \n",
    "\n",
    "    conclusion_about_hypothesis(sample_A, sample_B, hypothesis)\n",
    "    \n",
    "    print(\"{0:.2%} - процент на который конверсия группы В больше, чем в группе А\"\n",
    "      .format(sample_B.mean() / sample_A.mean()-1)) "
   ]
  },
  {
   "cell_type": "code",
   "execution_count": 21,
   "metadata": {},
   "outputs": [],
   "source": [
    "anomaly_count_order_vis_id = orders_df.groupby('visitorId')['visitorId'].count() \\\n",
    "    [(orders_df.groupby('visitorId')['visitorId'].count() > 2)].index\n",
    "\n",
    "orders_without_anomaly = orders_df[np.logical_and(orders_df['revenue'] < 28000,\n",
    "                                np.logical_not(orders_df['visitorId'].isin(anomaly_count_order_vis_id)))]"
   ]
  },
  {
   "cell_type": "code",
   "execution_count": 22,
   "metadata": {},
   "outputs": [
    {
     "name": "stdout",
     "output_type": "stream",
     "text": [
      "p-value 0.00840 < 0.05 значит отвергаем гипотезу о равенстве конверсий в двух группах с \"сырыми\" данными\n",
      "13.81% - процент на который конверсия группы В больше, чем в группе А\n"
     ]
    }
   ],
   "source": [
    "compare_conversion(orders_df, 'равенстве конверсий в двух группах с \"сырыми\" данными')"
   ]
  },
  {
   "cell_type": "code",
   "execution_count": 23,
   "metadata": {},
   "outputs": [
    {
     "name": "stdout",
     "output_type": "stream",
     "text": [
      "p-value 0.00680 < 0.05 значит отвергаем гипотезу о равенстве конверсий в двух группах с очищенными данными\n",
      "17.23% - процент на который конверсия группы В больше, чем в группе А\n"
     ]
    }
   ],
   "source": [
    "compare_conversion(orders_without_anomaly, 'равенстве конверсий в двух группах с очищенными данными')"
   ]
  },
  {
   "cell_type": "markdown",
   "metadata": {},
   "source": [
    "#### Выводы:\n",
    "- В двух исследуемых группах конверсии не равны;\n",
    "- Удаление аномалий добавило уверенности в не равенстве конверсий двух групп.\n",
    "\n",
    "#### Предположения:\n",
    "- Изменение, тестировавшиеся при помощи А/В теста положительно отразится на прибыли компании."
   ]
  },
  {
   "cell_type": "markdown",
   "metadata": {},
   "source": [
    "### Статистическая значимость различий средних чеков <a name='significance_mean_check'></a>"
   ]
  },
  {
   "cell_type": "markdown",
   "metadata": {},
   "source": [
    "#### Гипотезы\n",
    "\n",
    "Нулевая гипотеза - средний чек в группе А и В равны. Альтернативная - средний чек в двух группах различен."
   ]
  },
  {
   "cell_type": "code",
   "execution_count": 24,
   "metadata": {},
   "outputs": [
    {
     "name": "stdout",
     "output_type": "stream",
     "text": [
      "p-value 0.36465 > 0.05 значит не отвергаем гипотезу о равенстве средних чеков в двух группах с \"сырыми\" данными\n",
      "25.87% - процент на который средний доход группы В больше дохода группы А\n"
     ]
    }
   ],
   "source": [
    "revenue_orders_df_group_A = orders_df[orders_df['group']=='A']['revenue']\n",
    "revenue_orders_df_group_B = orders_df[orders_df['group']=='B']['revenue']\n",
    "\n",
    "conclusion_about_hypothesis(revenue_orders_df_group_A,revenue_orders_df_group_B, \n",
    "                           'равенстве средних чеков в двух группах с \"сырыми\" данными')\n",
    "print(\"{0:.2%} - процент на который средний доход группы В больше дохода группы А\"\n",
    "      .format(revenue_orders_df_group_B.mean()/revenue_orders_df_group_A.mean()-1)) "
   ]
  },
  {
   "cell_type": "code",
   "execution_count": 25,
   "metadata": {},
   "outputs": [
    {
     "name": "stdout",
     "output_type": "stream",
     "text": [
      "p-value 0.34536 > 0.05 значит не отвергаем гипотезу о равенстве средних чеков в двух группах с очищенными данными\n",
      "2.79% - процент на который средний доход группы А больше дохода группы В\n"
     ]
    }
   ],
   "source": [
    "revenue_orders_without_anomaly_gr_A = orders_without_anomaly[orders_without_anomaly['group']=='A']['revenue']\n",
    "revenue_orders_without_anomaly_gr_B = orders_without_anomaly[orders_without_anomaly['group']=='B']['revenue']\n",
    "\n",
    "conclusion_about_hypothesis(revenue_orders_without_anomaly_gr_A, revenue_orders_without_anomaly_gr_B, \n",
    "                           'равенстве средних чеков в двух группах с очищенными данными')\n",
    "\n",
    "print(\"{0:.2%} - процент на который средний доход группы А больше дохода группы В\"\n",
    "      .format(revenue_orders_without_anomaly_gr_A.mean()/revenue_orders_without_anomaly_gr_B.mean()-1)) "
   ]
  },
  {
   "cell_type": "markdown",
   "metadata": {},
   "source": [
    "#### Выводы:\n",
    "- Подтвердилось предположение о равенстве средних чеков без выбросов;\n",
    "- Выбросы влияли на отношение средних чеков, однако влияние на вывод о равенстве чеков минимально;\n",
    "- Изменение, тестировавшиеся при помощи А/В теста положительно отразилось на прибыли компании."
   ]
  },
  {
   "cell_type": "markdown",
   "metadata": {},
   "source": [
    "## Часть 3. Общий вывод <a name='conclusion'></a>\n",
    "\n",
    "Остановить тест, зафиксировать, что тестируемая гипотеза В при внедрении будет приносить компании прибыль больше, чем имеется сейчас, такое решение принято за счёт пунктов ниже, которые были подтверждены в ходе тестирования:\n",
    "- Стабилизации относительного прироста конверсии и среднего чека по группам;\n",
    "- Роста конверсии в группе В относительно А;\n",
    "- Стабильного, равного размера среднего чека в обеих группах.\n",
    "\n",
    "\n",
    "\n",
    "Во время проведения А/В теста были сделаны следующие наблюдения:\n",
    "- Наиболее типичный медианный чек заказа около 3000; \n",
    "- Наибольшее число покупателей совершили лишь 1 покупку за наблюдаемый месяц, то есть либо модельный ряд предполагает не частые покупки, либо аудиторию что-то не устроило;\n",
    "- Было выявлено два аномальных заказа, которые составили существенную часть суммарного дохода компании, и вне А/В теста можно было бы рассмотреть, что отличает эти заказы от других;\n",
    "- Любопытная особенность, наблюдаемая во время теста - существует некоторая периодичность в падениях кумулятивного среднего чека группы В к группе А, при этом длительность первого такого падения в два раза меньше повторного."
   ]
  }
 ],
 "metadata": {
  "kernelspec": {
   "display_name": "Python 3",
   "language": "python",
   "name": "python3"
  },
  "language_info": {
   "codemirror_mode": {
    "name": "ipython",
    "version": 3
   },
   "file_extension": ".py",
   "mimetype": "text/x-python",
   "name": "python",
   "nbconvert_exporter": "python",
   "pygments_lexer": "ipython3",
   "version": "3.7.8"
  },
  "toc": {
   "base_numbering": 1,
   "nav_menu": {},
   "number_sections": true,
   "sideBar": true,
   "skip_h1_title": false,
   "title_cell": "Table of Contents",
   "title_sidebar": "Contents",
   "toc_cell": false,
   "toc_position": {},
   "toc_section_display": true,
   "toc_window_display": false
  }
 },
 "nbformat": 4,
 "nbformat_minor": 2
}
