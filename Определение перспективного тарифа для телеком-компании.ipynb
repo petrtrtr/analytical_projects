{
 "cells": [
  {
   "cell_type": "markdown",
   "metadata": {},
   "source": [
    "## Описание проекта\n",
    "\n",
    "Клиентам предлагают два тарифных плана: Смарт и Ультра. Чтобы скорректировать рекламный бюджет, коммерческий департамент хочет понять, какой тариф приносит больше денег. Предстояло сделать предварительный анализ тарифов на небольшой выборке клиентов. В  распоряжении данные 500 пользователей: кто они, откуда, каким тарифом пользуются, сколько звонков и сообщений каждый отправил за год. Нужно проанализировать поведение клиентов и сделать вывод — какой тариф лучше."
   ]
  },
  {
   "cell_type": "markdown",
   "metadata": {},
   "source": [
    "[Шаг 1. Изучение общей информации](#step1)\n",
    "- [Таблица calls](#calls)\n",
    "- [Таблица internet](#internet)\n",
    "- [Таблица users](#users)\n",
    "- [Таблица tariffs](#tariffs)\n",
    "- [Таблица messages](#messages)\n",
    "- [Первичный вывод](#primary_conclusion)\n",
    "\n",
    "[Шаг 2. Подготовка данных](#step2)\n",
    "- [Приведение данных к нужным типам](#bringing_data)\n",
    "- [Поиск и исправление ошибок в данных](#search_replace_errors)\n",
    "   - [Добавление количества сделанных звонков и израсходованных минут разговора по месяцам.](#calls_monthly)\n",
    "   - [Добавление количество отправленных сообщений по месяцам.](#messages_monthly)\n",
    "   - [Добавление объема израсходованного интернет-трафика по месяцам.](#traffic_monthly)\n",
    "   - [Добавление помесячной выручки.](#proceed_monthly)\n",
    "        \n",
    "[Шаг 3. Анализ данных](#step3)\n",
    "- [Гистограммы отправленных сообщений по тарифам.](#hists_msgs)\n",
    "- [Гистограммы минут разговоров.](#hists_minutes)\n",
    "- [Гистограммы трафика по тарифам.](#hists_traffic)\n",
    "- [Вывод](#conclusion_step3)\n",
    "    \n",
    "[Шаг 4. Проверка гипотез](#step4)\n",
    "- [Гипотеза 1](#hyp1)\n",
    "   - [Проверка равенства дисперсий выборок пользователей двух тарифных планов](#var_tariff)\n",
    "   - [Проверка равенства выручек пользователей двух тарифных планов](#mean_tariff)\n",
    "- [Гипотеза 2](#hyp2)\n",
    "   - [Проверка равенства дисперсий выборок пользователей Москвы и регионов](#var_Msc_reg)\n",
    "   - [Проверка равенства средних выборок пользователей Москвы и регионов](#mean_Msc_reg)\n",
    "\n",
    "[Шаг 5. Общий вывод](#general_conclusion) "
   ]
  },
  {
   "cell_type": "markdown",
   "metadata": {},
   "source": [
    "## Шаг 1. Изучение общей информации. <a name=\"step1\"></a>"
   ]
  },
  {
   "cell_type": "code",
   "execution_count": 1,
   "metadata": {},
   "outputs": [],
   "source": [
    "import pandas as pd\n",
    "import numpy as np\n",
    "import seaborn as sns\n",
    "import math\n",
    "\n",
    "from scipy import stats as st\n",
    "import matplotlib.pyplot as plt\n",
    "from matplotlib import cm"
   ]
  },
  {
   "cell_type": "markdown",
   "metadata": {},
   "source": [
    "### Таблица calls <a name=\"calls\"></a>"
   ]
  },
  {
   "cell_type": "code",
   "execution_count": 2,
   "metadata": {},
   "outputs": [
    {
     "name": "stdout",
     "output_type": "stream",
     "text": [
      "<class 'pandas.core.frame.DataFrame'>\n",
      "RangeIndex: 202607 entries, 0 to 202606\n",
      "Data columns (total 4 columns):\n",
      "id           202607 non-null object\n",
      "call_date    202607 non-null object\n",
      "duration     202607 non-null float64\n",
      "user_id      202607 non-null int64\n",
      "dtypes: float64(1), int64(1), object(2)\n",
      "memory usage: 6.2+ MB\n"
     ]
    },
    {
     "data": {
      "text/html": [
       "<div>\n",
       "<style scoped>\n",
       "    .dataframe tbody tr th:only-of-type {\n",
       "        vertical-align: middle;\n",
       "    }\n",
       "\n",
       "    .dataframe tbody tr th {\n",
       "        vertical-align: top;\n",
       "    }\n",
       "\n",
       "    .dataframe thead th {\n",
       "        text-align: right;\n",
       "    }\n",
       "</style>\n",
       "<table border=\"1\" class=\"dataframe\">\n",
       "  <thead>\n",
       "    <tr style=\"text-align: right;\">\n",
       "      <th></th>\n",
       "      <th>id</th>\n",
       "      <th>call_date</th>\n",
       "      <th>duration</th>\n",
       "      <th>user_id</th>\n",
       "    </tr>\n",
       "  </thead>\n",
       "  <tbody>\n",
       "    <tr>\n",
       "      <td>0</td>\n",
       "      <td>1000_0</td>\n",
       "      <td>2018-07-25</td>\n",
       "      <td>0.0</td>\n",
       "      <td>1000</td>\n",
       "    </tr>\n",
       "    <tr>\n",
       "      <td>1</td>\n",
       "      <td>1000_1</td>\n",
       "      <td>2018-08-17</td>\n",
       "      <td>0.0</td>\n",
       "      <td>1000</td>\n",
       "    </tr>\n",
       "    <tr>\n",
       "      <td>2</td>\n",
       "      <td>1000_2</td>\n",
       "      <td>2018-06-11</td>\n",
       "      <td>3.0</td>\n",
       "      <td>1000</td>\n",
       "    </tr>\n",
       "    <tr>\n",
       "      <td>3</td>\n",
       "      <td>1000_3</td>\n",
       "      <td>2018-09-21</td>\n",
       "      <td>14.0</td>\n",
       "      <td>1000</td>\n",
       "    </tr>\n",
       "    <tr>\n",
       "      <td>4</td>\n",
       "      <td>1000_4</td>\n",
       "      <td>2018-12-15</td>\n",
       "      <td>6.0</td>\n",
       "      <td>1000</td>\n",
       "    </tr>\n",
       "  </tbody>\n",
       "</table>\n",
       "</div>"
      ],
      "text/plain": [
       "       id   call_date  duration  user_id\n",
       "0  1000_0  2018-07-25       0.0     1000\n",
       "1  1000_1  2018-08-17       0.0     1000\n",
       "2  1000_2  2018-06-11       3.0     1000\n",
       "3  1000_3  2018-09-21      14.0     1000\n",
       "4  1000_4  2018-12-15       6.0     1000"
      ]
     },
     "metadata": {},
     "output_type": "display_data"
    },
    {
     "name": "stdout",
     "output_type": "stream",
     "text": [
      "39613  - количество звонков, длительность которых равна 0\n"
     ]
    }
   ],
   "source": [
    "calls_df = pd.read_csv('/datasets/calls.csv') \n",
    "calls_df.info()\n",
    "calls_df['duration'] = np.ceil(calls_df['duration'])\n",
    "display(calls_df.head())\n",
    "\n",
    "print(calls_df.query('duration == 0')['duration'].count(), ' - количество звонков, длительность которых равна 0')"
   ]
  },
  {
   "cell_type": "markdown",
   "metadata": {},
   "source": [
    "Таблица состоит из следующих столбцов:\n",
    "* id — уникальный номер звонка;\n",
    "* call_date — дата звонка;\n",
    "* duration — длительность звонка в минутах;\n",
    "* user_id — идентификатор пользователя, сделавшего звонок.\n",
    "\n",
    "19.5% из всех звонков с нулевой длительностью, кажется весьма реалистичным, но обратим внимание в будущем на это явление."
   ]
  },
  {
   "cell_type": "markdown",
   "metadata": {},
   "source": [
    "### Таблица internet <a name=\"internet\"></a>"
   ]
  },
  {
   "cell_type": "code",
   "execution_count": 3,
   "metadata": {},
   "outputs": [
    {
     "name": "stdout",
     "output_type": "stream",
     "text": [
      "<class 'pandas.core.frame.DataFrame'>\n",
      "RangeIndex: 149396 entries, 0 to 149395\n",
      "Data columns (total 5 columns):\n",
      "Unnamed: 0      149396 non-null int64\n",
      "id              149396 non-null object\n",
      "mb_used         149396 non-null float64\n",
      "session_date    149396 non-null object\n",
      "user_id         149396 non-null int64\n",
      "dtypes: float64(1), int64(2), object(2)\n",
      "memory usage: 5.7+ MB\n"
     ]
    },
    {
     "data": {
      "text/html": [
       "<div>\n",
       "<style scoped>\n",
       "    .dataframe tbody tr th:only-of-type {\n",
       "        vertical-align: middle;\n",
       "    }\n",
       "\n",
       "    .dataframe tbody tr th {\n",
       "        vertical-align: top;\n",
       "    }\n",
       "\n",
       "    .dataframe thead th {\n",
       "        text-align: right;\n",
       "    }\n",
       "</style>\n",
       "<table border=\"1\" class=\"dataframe\">\n",
       "  <thead>\n",
       "    <tr style=\"text-align: right;\">\n",
       "      <th></th>\n",
       "      <th>Unnamed: 0</th>\n",
       "      <th>id</th>\n",
       "      <th>mb_used</th>\n",
       "      <th>session_date</th>\n",
       "      <th>user_id</th>\n",
       "    </tr>\n",
       "  </thead>\n",
       "  <tbody>\n",
       "    <tr>\n",
       "      <td>0</td>\n",
       "      <td>0</td>\n",
       "      <td>1000_0</td>\n",
       "      <td>113.0</td>\n",
       "      <td>2018-11-25</td>\n",
       "      <td>1000</td>\n",
       "    </tr>\n",
       "    <tr>\n",
       "      <td>1</td>\n",
       "      <td>1</td>\n",
       "      <td>1000_1</td>\n",
       "      <td>1053.0</td>\n",
       "      <td>2018-09-07</td>\n",
       "      <td>1000</td>\n",
       "    </tr>\n",
       "    <tr>\n",
       "      <td>2</td>\n",
       "      <td>2</td>\n",
       "      <td>1000_2</td>\n",
       "      <td>1198.0</td>\n",
       "      <td>2018-06-25</td>\n",
       "      <td>1000</td>\n",
       "    </tr>\n",
       "    <tr>\n",
       "      <td>3</td>\n",
       "      <td>3</td>\n",
       "      <td>1000_3</td>\n",
       "      <td>551.0</td>\n",
       "      <td>2018-08-22</td>\n",
       "      <td>1000</td>\n",
       "    </tr>\n",
       "    <tr>\n",
       "      <td>4</td>\n",
       "      <td>4</td>\n",
       "      <td>1000_4</td>\n",
       "      <td>303.0</td>\n",
       "      <td>2018-09-24</td>\n",
       "      <td>1000</td>\n",
       "    </tr>\n",
       "  </tbody>\n",
       "</table>\n",
       "</div>"
      ],
      "text/plain": [
       "   Unnamed: 0      id  mb_used session_date  user_id\n",
       "0           0  1000_0    113.0   2018-11-25     1000\n",
       "1           1  1000_1   1053.0   2018-09-07     1000\n",
       "2           2  1000_2   1198.0   2018-06-25     1000\n",
       "3           3  1000_3    551.0   2018-08-22     1000\n",
       "4           4  1000_4    303.0   2018-09-24     1000"
      ]
     },
     "metadata": {},
     "output_type": "display_data"
    },
    {
     "name": "stdout",
     "output_type": "stream",
     "text": [
      "149396\n"
     ]
    },
    {
     "data": {
      "text/plain": [
       "Index(['id', 'mb_used', 'session_date', 'user_id'], dtype='object')"
      ]
     },
     "execution_count": 3,
     "metadata": {},
     "output_type": "execute_result"
    }
   ],
   "source": [
    "internet_df = pd.read_csv('/datasets/internet.csv') \n",
    "internet_df.info()\n",
    "internet_df['mb_used'] = np.ceil(internet_df['mb_used'])\n",
    "\n",
    "display(internet_df.head())\n",
    "print(len(internet_df['Unnamed: 0'].unique()))\n",
    "internet_df.drop(['Unnamed: 0'], axis=1, inplace=True)\n",
    "internet_df.columns"
   ]
  },
  {
   "cell_type": "markdown",
   "metadata": {},
   "source": [
    "Таблица состоит из следующих столбцов:\n",
    "* id — уникальный номер сессии;\n",
    "* mb_used — объём потраченного за сессию интернет-трафика (в мегабайтах);\n",
    "* session_date — дата интернет-сессии;\n",
    "* user_id — идентификатор пользователя.\n",
    "\n",
    "Проверил, что все значения в столбце 'Unnamed: 0' уникальные (просто порядковые числа) в связи с чем удалил его за ненадобностью."
   ]
  },
  {
   "cell_type": "markdown",
   "metadata": {},
   "source": [
    "### Таблица users <a name=\"users\"></a>"
   ]
  },
  {
   "cell_type": "code",
   "execution_count": 4,
   "metadata": {},
   "outputs": [
    {
     "data": {
      "text/html": [
       "<div>\n",
       "<style scoped>\n",
       "    .dataframe tbody tr th:only-of-type {\n",
       "        vertical-align: middle;\n",
       "    }\n",
       "\n",
       "    .dataframe tbody tr th {\n",
       "        vertical-align: top;\n",
       "    }\n",
       "\n",
       "    .dataframe thead th {\n",
       "        text-align: right;\n",
       "    }\n",
       "</style>\n",
       "<table border=\"1\" class=\"dataframe\">\n",
       "  <thead>\n",
       "    <tr style=\"text-align: right;\">\n",
       "      <th></th>\n",
       "      <th>user_id</th>\n",
       "      <th>age</th>\n",
       "      <th>churn_date</th>\n",
       "      <th>city</th>\n",
       "      <th>first_name</th>\n",
       "      <th>last_name</th>\n",
       "      <th>reg_date</th>\n",
       "      <th>tariff</th>\n",
       "    </tr>\n",
       "  </thead>\n",
       "  <tbody>\n",
       "    <tr>\n",
       "      <td>0</td>\n",
       "      <td>1000</td>\n",
       "      <td>52</td>\n",
       "      <td>NaN</td>\n",
       "      <td>Краснодар</td>\n",
       "      <td>Рафаил</td>\n",
       "      <td>Верещагин</td>\n",
       "      <td>2018-05-25</td>\n",
       "      <td>ultra</td>\n",
       "    </tr>\n",
       "    <tr>\n",
       "      <td>1</td>\n",
       "      <td>1001</td>\n",
       "      <td>41</td>\n",
       "      <td>NaN</td>\n",
       "      <td>Москва</td>\n",
       "      <td>Иван</td>\n",
       "      <td>Ежов</td>\n",
       "      <td>2018-11-01</td>\n",
       "      <td>smart</td>\n",
       "    </tr>\n",
       "    <tr>\n",
       "      <td>2</td>\n",
       "      <td>1002</td>\n",
       "      <td>59</td>\n",
       "      <td>NaN</td>\n",
       "      <td>Стерлитамак</td>\n",
       "      <td>Евгений</td>\n",
       "      <td>Абрамович</td>\n",
       "      <td>2018-06-17</td>\n",
       "      <td>smart</td>\n",
       "    </tr>\n",
       "    <tr>\n",
       "      <td>3</td>\n",
       "      <td>1003</td>\n",
       "      <td>23</td>\n",
       "      <td>NaN</td>\n",
       "      <td>Москва</td>\n",
       "      <td>Белла</td>\n",
       "      <td>Белякова</td>\n",
       "      <td>2018-08-17</td>\n",
       "      <td>ultra</td>\n",
       "    </tr>\n",
       "    <tr>\n",
       "      <td>4</td>\n",
       "      <td>1004</td>\n",
       "      <td>68</td>\n",
       "      <td>NaN</td>\n",
       "      <td>Новокузнецк</td>\n",
       "      <td>Татьяна</td>\n",
       "      <td>Авдеенко</td>\n",
       "      <td>2018-05-14</td>\n",
       "      <td>ultra</td>\n",
       "    </tr>\n",
       "  </tbody>\n",
       "</table>\n",
       "</div>"
      ],
      "text/plain": [
       "   user_id  age churn_date         city first_name  last_name    reg_date  \\\n",
       "0     1000   52        NaN    Краснодар     Рафаил  Верещагин  2018-05-25   \n",
       "1     1001   41        NaN       Москва       Иван       Ежов  2018-11-01   \n",
       "2     1002   59        NaN  Стерлитамак    Евгений  Абрамович  2018-06-17   \n",
       "3     1003   23        NaN       Москва      Белла   Белякова  2018-08-17   \n",
       "4     1004   68        NaN  Новокузнецк    Татьяна   Авдеенко  2018-05-14   \n",
       "\n",
       "  tariff  \n",
       "0  ultra  \n",
       "1  smart  \n",
       "2  smart  \n",
       "3  ultra  \n",
       "4  ultra  "
      ]
     },
     "metadata": {},
     "output_type": "display_data"
    },
    {
     "name": "stdout",
     "output_type": "stream",
     "text": [
      "<class 'pandas.core.frame.DataFrame'>\n",
      "RangeIndex: 500 entries, 0 to 499\n",
      "Data columns (total 8 columns):\n",
      "user_id       500 non-null int64\n",
      "age           500 non-null int64\n",
      "churn_date    38 non-null object\n",
      "city          500 non-null object\n",
      "first_name    500 non-null object\n",
      "last_name     500 non-null object\n",
      "reg_date      500 non-null object\n",
      "tariff        500 non-null object\n",
      "dtypes: int64(2), object(6)\n",
      "memory usage: 31.4+ KB\n"
     ]
    }
   ],
   "source": [
    "users_df = pd.read_csv('/datasets/users.csv') \n",
    "display(users_df.head())\n",
    "users_df.info()\n",
    "users_df['churn_date'].fillna('2020-07-14', inplace=True)"
   ]
  },
  {
   "cell_type": "markdown",
   "metadata": {},
   "source": [
    "Таблица состоит из следующих столбцов:\n",
    "* user_id — уникальный идентификатор пользователя;\n",
    "* first_name — имя пользователя;\n",
    "* last_name — фамилия пользователя;\n",
    "* age — возраст пользователя (годы);\n",
    "* reg_date — дата подключения тарифа (день, месяц, год);\n",
    "* churn_date — дата прекращения пользования тарифом (если значение пропущено, то тариф ещё действовал на момент выгрузки данных);\n",
    "* city — город проживания пользователя;\n",
    "* tariff — название тарифного плана.\n",
    "\n",
    "Тех людей, у которых дата прекращения пользования тарифом не указана азменил на значение, отличающиеся от представленных, но всё же дату, для потенциального удобства работы со столбцом."
   ]
  },
  {
   "cell_type": "markdown",
   "metadata": {},
   "source": [
    "### Таблица tariffs <a name=\"tariffs\"></a>"
   ]
  },
  {
   "cell_type": "code",
   "execution_count": 5,
   "metadata": {},
   "outputs": [
    {
     "name": "stdout",
     "output_type": "stream",
     "text": [
      "<class 'pandas.core.frame.DataFrame'>\n",
      "RangeIndex: 2 entries, 0 to 1\n",
      "Data columns (total 8 columns):\n",
      "messages_included        2 non-null int64\n",
      "mb_per_month_included    2 non-null int64\n",
      "minutes_included         2 non-null int64\n",
      "rub_monthly_fee          2 non-null int64\n",
      "rub_per_gb               2 non-null int64\n",
      "rub_per_message          2 non-null int64\n",
      "rub_per_minute           2 non-null int64\n",
      "tariff_name              2 non-null object\n",
      "dtypes: int64(7), object(1)\n",
      "memory usage: 256.0+ bytes\n"
     ]
    },
    {
     "data": {
      "text/html": [
       "<div>\n",
       "<style scoped>\n",
       "    .dataframe tbody tr th:only-of-type {\n",
       "        vertical-align: middle;\n",
       "    }\n",
       "\n",
       "    .dataframe tbody tr th {\n",
       "        vertical-align: top;\n",
       "    }\n",
       "\n",
       "    .dataframe thead th {\n",
       "        text-align: right;\n",
       "    }\n",
       "</style>\n",
       "<table border=\"1\" class=\"dataframe\">\n",
       "  <thead>\n",
       "    <tr style=\"text-align: right;\">\n",
       "      <th></th>\n",
       "      <th>messages_included</th>\n",
       "      <th>mb_per_month_included</th>\n",
       "      <th>minutes_included</th>\n",
       "      <th>rub_monthly_fee</th>\n",
       "      <th>rub_per_gb</th>\n",
       "      <th>rub_per_message</th>\n",
       "      <th>rub_per_minute</th>\n",
       "      <th>tariff_name</th>\n",
       "    </tr>\n",
       "  </thead>\n",
       "  <tbody>\n",
       "    <tr>\n",
       "      <td>0</td>\n",
       "      <td>50</td>\n",
       "      <td>15360</td>\n",
       "      <td>500</td>\n",
       "      <td>550</td>\n",
       "      <td>200</td>\n",
       "      <td>3</td>\n",
       "      <td>3</td>\n",
       "      <td>smart</td>\n",
       "    </tr>\n",
       "    <tr>\n",
       "      <td>1</td>\n",
       "      <td>1000</td>\n",
       "      <td>30720</td>\n",
       "      <td>3000</td>\n",
       "      <td>1950</td>\n",
       "      <td>150</td>\n",
       "      <td>1</td>\n",
       "      <td>1</td>\n",
       "      <td>ultra</td>\n",
       "    </tr>\n",
       "  </tbody>\n",
       "</table>\n",
       "</div>"
      ],
      "text/plain": [
       "   messages_included  mb_per_month_included  minutes_included  \\\n",
       "0                 50                  15360               500   \n",
       "1               1000                  30720              3000   \n",
       "\n",
       "   rub_monthly_fee  rub_per_gb  rub_per_message  rub_per_minute tariff_name  \n",
       "0              550         200                3               3       smart  \n",
       "1             1950         150                1               1       ultra  "
      ]
     },
     "metadata": {},
     "output_type": "display_data"
    }
   ],
   "source": [
    "tariffs_df = pd.read_csv('/datasets/tariffs.csv') \n",
    "tariffs_df.info()\n",
    "display(tariffs_df.head())"
   ]
  },
  {
   "cell_type": "markdown",
   "metadata": {},
   "source": [
    "Таблица состоит из следующих столбцов:\n",
    "* tariff_name — название тарифа;\n",
    "* rub_monthly_fee — ежемесячная абонентская плата в рублях;\n",
    "* minutes_included — количество минут разговора в месяц, включённых в абонентскую плату;\n",
    "* messages_included — количество сообщений в месяц, включённых в абонентскую плату;\n",
    "* mb_per_month_included — объём интернет-трафика, включённого в абонентскую плату (в мегабайтах);\n",
    "* rub_per_minute — стоимость минуты разговора сверх тарифного пакета (например, если в тарифе 100 минут разговора в месяц, то со * 101 минуты будет взиматься плата);\n",
    "* rub_per_message — стоимость отправки сообщения сверх тарифного пакета;\n",
    "* rub_per_gb — стоимость дополнительного гигабайта интернет-трафика сверх тарифного пакета (1 гигабайт = 1024 мегабайта).\n",
    "\n",
    "Ничего неожиданного в данных обнаружено не было"
   ]
  },
  {
   "cell_type": "markdown",
   "metadata": {},
   "source": [
    "### Таблица messages <a name=\"messages\"></a>"
   ]
  },
  {
   "cell_type": "code",
   "execution_count": 6,
   "metadata": {},
   "outputs": [
    {
     "name": "stdout",
     "output_type": "stream",
     "text": [
      "<class 'pandas.core.frame.DataFrame'>\n",
      "RangeIndex: 123036 entries, 0 to 123035\n",
      "Data columns (total 3 columns):\n",
      "id              123036 non-null object\n",
      "message_date    123036 non-null object\n",
      "user_id         123036 non-null int64\n",
      "dtypes: int64(1), object(2)\n",
      "memory usage: 2.8+ MB\n"
     ]
    },
    {
     "data": {
      "text/html": [
       "<div>\n",
       "<style scoped>\n",
       "    .dataframe tbody tr th:only-of-type {\n",
       "        vertical-align: middle;\n",
       "    }\n",
       "\n",
       "    .dataframe tbody tr th {\n",
       "        vertical-align: top;\n",
       "    }\n",
       "\n",
       "    .dataframe thead th {\n",
       "        text-align: right;\n",
       "    }\n",
       "</style>\n",
       "<table border=\"1\" class=\"dataframe\">\n",
       "  <thead>\n",
       "    <tr style=\"text-align: right;\">\n",
       "      <th></th>\n",
       "      <th>id</th>\n",
       "      <th>message_date</th>\n",
       "      <th>user_id</th>\n",
       "    </tr>\n",
       "  </thead>\n",
       "  <tbody>\n",
       "    <tr>\n",
       "      <td>0</td>\n",
       "      <td>1000_0</td>\n",
       "      <td>2018-06-27</td>\n",
       "      <td>1000</td>\n",
       "    </tr>\n",
       "    <tr>\n",
       "      <td>1</td>\n",
       "      <td>1000_1</td>\n",
       "      <td>2018-10-08</td>\n",
       "      <td>1000</td>\n",
       "    </tr>\n",
       "    <tr>\n",
       "      <td>2</td>\n",
       "      <td>1000_2</td>\n",
       "      <td>2018-08-04</td>\n",
       "      <td>1000</td>\n",
       "    </tr>\n",
       "    <tr>\n",
       "      <td>3</td>\n",
       "      <td>1000_3</td>\n",
       "      <td>2018-06-16</td>\n",
       "      <td>1000</td>\n",
       "    </tr>\n",
       "    <tr>\n",
       "      <td>4</td>\n",
       "      <td>1000_4</td>\n",
       "      <td>2018-12-05</td>\n",
       "      <td>1000</td>\n",
       "    </tr>\n",
       "  </tbody>\n",
       "</table>\n",
       "</div>"
      ],
      "text/plain": [
       "       id message_date  user_id\n",
       "0  1000_0   2018-06-27     1000\n",
       "1  1000_1   2018-10-08     1000\n",
       "2  1000_2   2018-08-04     1000\n",
       "3  1000_3   2018-06-16     1000\n",
       "4  1000_4   2018-12-05     1000"
      ]
     },
     "metadata": {},
     "output_type": "display_data"
    }
   ],
   "source": [
    "messages_df = pd.read_csv('/datasets/messages.csv') \n",
    "messages_df.info()\n",
    "display(messages_df.head())"
   ]
  },
  {
   "cell_type": "markdown",
   "metadata": {},
   "source": [
    "Таблица состоит из следующих столбцов:\n",
    "* id — уникальный номер сообщения\n",
    "* message_date — дата сообщения\n",
    "* user_id — идентификатор пользователя, отправившего сообщение\n",
    "\n",
    "На первый взгляд чего-либо неожиданного найдено не было, кроме того, что и во всех предыдущих столбцах с данными формат дат не распознается. Изменим это на следующем шаге."
   ]
  },
  {
   "cell_type": "markdown",
   "metadata": {},
   "source": [
    "### Первичный вывод <a name=\"primary_conclusion\"></a>"
   ]
  },
  {
   "cell_type": "markdown",
   "metadata": {},
   "source": [
    "* calls - выбросов нет, звонки с длительностью 0 - пропущенные, их 19% считаю допустимым;\n",
    "* internet - удалил столбец 'Unnamed: 0' по причине его неинформативности;\n",
    "* users - столбец 'churn_date' имел пропуски, это неудивительно, ведь не все разрывают контракты, в связи с чем такие пропуски заменил на выделяющееся значение;\n",
    "* tariffs - аномалий нет;\n",
    "* messages - ошибок нет."
   ]
  },
  {
   "cell_type": "markdown",
   "metadata": {},
   "source": [
    "## Шаг 2. Подготовка данных <a name=\"step2\"></a>"
   ]
  },
  {
   "cell_type": "markdown",
   "metadata": {},
   "source": [
    "### Приведение данных к нужным типам <a name=\"bringing_data\"></a>"
   ]
  },
  {
   "cell_type": "code",
   "execution_count": 7,
   "metadata": {},
   "outputs": [
    {
     "name": "stdout",
     "output_type": "stream",
     "text": [
      "id                   object\n",
      "call_date    datetime64[ns]\n",
      "duration            float64\n",
      "user_id               int64\n",
      "dtype: object\n",
      "id                      object\n",
      "mb_used                float64\n",
      "session_date    datetime64[ns]\n",
      "user_id                  int64\n",
      "dtype: object\n",
      "user_id                int64\n",
      "age                    int64\n",
      "churn_date    datetime64[ns]\n",
      "city                  object\n",
      "first_name            object\n",
      "last_name             object\n",
      "reg_date      datetime64[ns]\n",
      "tariff                object\n",
      "dtype: object\n"
     ]
    },
    {
     "data": {
      "text/plain": [
       "id                      object\n",
       "message_date    datetime64[ns]\n",
       "user_id                  int64\n",
       "dtype: object"
      ]
     },
     "execution_count": 7,
     "metadata": {},
     "output_type": "execute_result"
    }
   ],
   "source": [
    "calls_df['call_date'] = pd.to_datetime(calls_df['call_date'])\n",
    "print(calls_df.dtypes)\n",
    "\n",
    "internet_df['session_date'] = pd.to_datetime(internet_df['session_date'])\n",
    "print(internet_df.dtypes)\n",
    "\n",
    "users_df['reg_date'] = pd.to_datetime(users_df['reg_date'])\n",
    "users_df['churn_date'] = pd.to_datetime(users_df['churn_date'])\n",
    "print(users_df.dtypes)\n",
    "\n",
    "messages_df['message_date'] = pd.to_datetime(messages_df['message_date'])\n",
    "messages_df.dtypes"
   ]
  },
  {
   "cell_type": "markdown",
   "metadata": {},
   "source": [
    "### Поиск и исправление ошибок в данных <a name=\"search_replace_errors\"></a>"
   ]
  },
  {
   "cell_type": "markdown",
   "metadata": {},
   "source": [
    "#### Добавление количества сделанных звонков и израсходованных минут разговора по месяцам. <a name=\"calls_monthly\"></a>"
   ]
  },
  {
   "cell_type": "code",
   "execution_count": 8,
   "metadata": {},
   "outputs": [
    {
     "name": "stdout",
     "output_type": "stream",
     "text": [
      "<class 'pandas.core.frame.DataFrame'>\n",
      "Int64Index: 3182 entries, 0 to 3181\n",
      "Data columns (total 11 columns):\n",
      "user_id                 3182 non-null int64\n",
      "age                     3182 non-null int64\n",
      "churn_date              3182 non-null datetime64[ns]\n",
      "city                    3182 non-null object\n",
      "first_name              3182 non-null object\n",
      "last_name               3182 non-null object\n",
      "reg_date                3182 non-null datetime64[ns]\n",
      "tariff                  3182 non-null object\n",
      "year_and_month          3174 non-null period[M]\n",
      "count_calls             3174 non-null float64\n",
      "total_duration_calls    3174 non-null float64\n",
      "dtypes: datetime64[ns](2), float64(2), int64(2), object(4), period[M](1)\n",
      "memory usage: 298.3+ KB\n"
     ]
    }
   ],
   "source": [
    "calls_df['year_and_month'] = pd.to_datetime(calls_df['call_date']).dt.to_period('M')\n",
    "user_id_count_calls_df = pd.DataFrame(calls_df.groupby(['user_id', 'year_and_month'])[['duration']].\n",
    "                                      agg(['count', 'sum']))\n",
    "\n",
    "user_id_count_calls_df.reset_index(inplace=True)\n",
    "user_id_count_calls_df.columns = ['user_id', 'year_and_month', 'count_calls', 'total_duration_calls']\n",
    "\n",
    "if 'count_calls' not in users_df.columns:\n",
    "    users_df = users_df.merge(user_id_count_calls_df, how='left',on=['user_id'])\n",
    "\n",
    "users_df.info()\n",
    "users_df['year_and_month'].fillna(pd.Period('2020-07'), inplace=True)\n",
    "users_df.fillna(0, inplace=True)"
   ]
  },
  {
   "cell_type": "markdown",
   "metadata": {},
   "source": [
    "В восьми вставляемых значениях есть пропуски, у этого может быть две причины:\n",
    "* Пользователь просто не разговаривает по телефону;\n",
    "* О некоторых клиентах неизвестно их взаимодействие со звонками.\n",
    "\n",
    "Предположив, что пропуски связаны с тем, что человек не пользуется звонками обнулил пропущенные значения в столбцах с параметрами звонка, а дата указана производная выбивающаяся из набора данных."
   ]
  },
  {
   "cell_type": "markdown",
   "metadata": {},
   "source": [
    "#### Добавление количество отправленных сообщений по месяцам. <a name=\"messages_monthly\"></a>"
   ]
  },
  {
   "cell_type": "code",
   "execution_count": 9,
   "metadata": {},
   "outputs": [
    {
     "name": "stdout",
     "output_type": "stream",
     "text": [
      "<class 'pandas.core.frame.DataFrame'>\n",
      "Int64Index: 3182 entries, 0 to 3181\n",
      "Data columns (total 12 columns):\n",
      "user_id                 3182 non-null int64\n",
      "age                     3182 non-null int64\n",
      "churn_date              3182 non-null datetime64[ns]\n",
      "city                    3182 non-null object\n",
      "first_name              3182 non-null object\n",
      "last_name               3182 non-null object\n",
      "reg_date                3182 non-null datetime64[ns]\n",
      "tariff                  3182 non-null object\n",
      "year_and_month          3182 non-null period[M]\n",
      "count_calls             3182 non-null float64\n",
      "total_duration_calls    3182 non-null float64\n",
      "count_msg               2678 non-null float64\n",
      "dtypes: datetime64[ns](2), float64(3), int64(2), object(4), period[M](1)\n",
      "memory usage: 323.2+ KB\n",
      "<class 'pandas.core.frame.DataFrame'>\n",
      "Int64Index: 500 entries, 1000 to 1499\n",
      "Data columns (total 1 columns):\n",
      "count_msg    500 non-null float64\n",
      "dtypes: float64(1)\n",
      "memory usage: 7.8 KB\n",
      "None\n"
     ]
    }
   ],
   "source": [
    "messages_df['year_and_month'] = pd.to_datetime(messages_df['message_date']).dt.to_period('M')\n",
    "messages_aggregate_df = pd.DataFrame(messages_df.groupby(['user_id', 'year_and_month'])[['user_id']].\n",
    "                                     agg(['count']).reset_index())\n",
    "messages_aggregate_df.columns = ['user_id', 'year_and_month', 'count_msg']\n",
    "\n",
    "if 'count_msg' not in users_df.columns:\n",
    "    users_df = users_df.merge(messages_aggregate_df, how='left',on=['user_id', 'year_and_month'])\n",
    "\n",
    "users_df.info()\n",
    "print(users_df.groupby('user_id')[['count_msg']].sum().info())\n",
    "users_df.fillna(0,inplace=True)"
   ]
  },
  {
   "cell_type": "markdown",
   "metadata": {},
   "source": [
    "Есть месяца в которые отдельные люди не пользовались отправкой сообщений, также проверил, что хоть одно сообщение задетектировано для каждого пользователя, в связи с чем пропущенные просто заменил на 0."
   ]
  },
  {
   "cell_type": "markdown",
   "metadata": {},
   "source": [
    "#### Добавление объема израсходованного интернет-трафика по месяцам. <a name=\"traffic_monthly\"></a>"
   ]
  },
  {
   "cell_type": "code",
   "execution_count": 10,
   "metadata": {},
   "outputs": [
    {
     "name": "stdout",
     "output_type": "stream",
     "text": [
      "<class 'pandas.core.frame.DataFrame'>\n",
      "Int64Index: 3182 entries, 0 to 3181\n",
      "Data columns (total 13 columns):\n",
      "user_id                 3182 non-null int64\n",
      "age                     3182 non-null int64\n",
      "churn_date              3182 non-null datetime64[ns]\n",
      "city                    3182 non-null object\n",
      "first_name              3182 non-null object\n",
      "last_name               3182 non-null object\n",
      "reg_date                3182 non-null datetime64[ns]\n",
      "tariff                  3182 non-null object\n",
      "year_and_month          3182 non-null period[M]\n",
      "count_calls             3182 non-null float64\n",
      "total_duration_calls    3182 non-null float64\n",
      "count_msg               3182 non-null float64\n",
      "sum_mb_used             3163 non-null float64\n",
      "dtypes: datetime64[ns](2), float64(4), int64(2), object(4), period[M](1)\n",
      "memory usage: 348.0+ KB\n",
      "<class 'pandas.core.frame.DataFrame'>\n",
      "Int64Index: 500 entries, 1000 to 1499\n",
      "Data columns (total 1 columns):\n",
      "sum_mb_used    500 non-null float64\n",
      "dtypes: float64(1)\n",
      "memory usage: 7.8 KB\n",
      "None\n"
     ]
    }
   ],
   "source": [
    "internet_df['year_and_month'] = pd.to_datetime(internet_df['session_date']).dt.to_period('M')\n",
    "internet_aggregate_df = pd.DataFrame(internet_df.groupby(['user_id', 'year_and_month'])[['mb_used']].\n",
    "                                     agg(['sum']).reset_index())\n",
    "internet_aggregate_df.columns = ['user_id', 'year_and_month', 'sum_mb_used']\n",
    "\n",
    "if 'sum_mb_used' not in users_df.columns:\n",
    "    users_df = users_df.merge(internet_aggregate_df, how='left',on=['user_id', 'year_and_month'])\n",
    "\n",
    "users_df.info()\n",
    "print(users_df.groupby('user_id')[['sum_mb_used']].sum().info())\n",
    "users_df.fillna(0,inplace=True)"
   ]
  },
  {
   "cell_type": "markdown",
   "metadata": {},
   "source": [
    "Есть месяца, в которые отдельные люди не пользовались интернетом сообщений, также проверил, что расход траффика задетектирован для каждого пользователя, в связи с чем пропущенные просто заменил на 0."
   ]
  },
  {
   "cell_type": "markdown",
   "metadata": {},
   "source": [
    "#### Добавление помесячной выручки. <a name=\"proceed_monthly\"></a>"
   ]
  },
  {
   "cell_type": "code",
   "execution_count": 11,
   "metadata": {},
   "outputs": [
    {
     "data": {
      "text/html": [
       "<div>\n",
       "<style scoped>\n",
       "    .dataframe tbody tr th:only-of-type {\n",
       "        vertical-align: middle;\n",
       "    }\n",
       "\n",
       "    .dataframe tbody tr th {\n",
       "        vertical-align: top;\n",
       "    }\n",
       "\n",
       "    .dataframe thead th {\n",
       "        text-align: right;\n",
       "    }\n",
       "</style>\n",
       "<table border=\"1\" class=\"dataframe\">\n",
       "  <thead>\n",
       "    <tr style=\"text-align: right;\">\n",
       "      <th></th>\n",
       "      <th>user_id</th>\n",
       "      <th>age</th>\n",
       "      <th>churn_date</th>\n",
       "      <th>city</th>\n",
       "      <th>first_name</th>\n",
       "      <th>last_name</th>\n",
       "      <th>reg_date</th>\n",
       "      <th>tariff</th>\n",
       "      <th>year_and_month</th>\n",
       "      <th>count_calls</th>\n",
       "      <th>total_duration_calls</th>\n",
       "      <th>count_msg</th>\n",
       "      <th>sum_mb_used</th>\n",
       "      <th>total_proceed</th>\n",
       "    </tr>\n",
       "  </thead>\n",
       "  <tbody>\n",
       "    <tr>\n",
       "      <td>0</td>\n",
       "      <td>1000</td>\n",
       "      <td>52</td>\n",
       "      <td>2020-07-14</td>\n",
       "      <td>Краснодар</td>\n",
       "      <td>Рафаил</td>\n",
       "      <td>Верещагин</td>\n",
       "      <td>2018-05-25</td>\n",
       "      <td>ultra</td>\n",
       "      <td>2018-05</td>\n",
       "      <td>22</td>\n",
       "      <td>159.0</td>\n",
       "      <td>22</td>\n",
       "      <td>2256.0</td>\n",
       "      <td>1950</td>\n",
       "    </tr>\n",
       "    <tr>\n",
       "      <td>1</td>\n",
       "      <td>1000</td>\n",
       "      <td>52</td>\n",
       "      <td>2020-07-14</td>\n",
       "      <td>Краснодар</td>\n",
       "      <td>Рафаил</td>\n",
       "      <td>Верещагин</td>\n",
       "      <td>2018-05-25</td>\n",
       "      <td>ultra</td>\n",
       "      <td>2018-06</td>\n",
       "      <td>43</td>\n",
       "      <td>172.0</td>\n",
       "      <td>60</td>\n",
       "      <td>23257.0</td>\n",
       "      <td>1950</td>\n",
       "    </tr>\n",
       "    <tr>\n",
       "      <td>2</td>\n",
       "      <td>1000</td>\n",
       "      <td>52</td>\n",
       "      <td>2020-07-14</td>\n",
       "      <td>Краснодар</td>\n",
       "      <td>Рафаил</td>\n",
       "      <td>Верещагин</td>\n",
       "      <td>2018-05-25</td>\n",
       "      <td>ultra</td>\n",
       "      <td>2018-07</td>\n",
       "      <td>47</td>\n",
       "      <td>340.0</td>\n",
       "      <td>75</td>\n",
       "      <td>14016.0</td>\n",
       "      <td>1950</td>\n",
       "    </tr>\n",
       "    <tr>\n",
       "      <td>3</td>\n",
       "      <td>1000</td>\n",
       "      <td>52</td>\n",
       "      <td>2020-07-14</td>\n",
       "      <td>Краснодар</td>\n",
       "      <td>Рафаил</td>\n",
       "      <td>Верещагин</td>\n",
       "      <td>2018-05-25</td>\n",
       "      <td>ultra</td>\n",
       "      <td>2018-08</td>\n",
       "      <td>52</td>\n",
       "      <td>408.0</td>\n",
       "      <td>81</td>\n",
       "      <td>14070.0</td>\n",
       "      <td>1950</td>\n",
       "    </tr>\n",
       "    <tr>\n",
       "      <td>4</td>\n",
       "      <td>1000</td>\n",
       "      <td>52</td>\n",
       "      <td>2020-07-14</td>\n",
       "      <td>Краснодар</td>\n",
       "      <td>Рафаил</td>\n",
       "      <td>Верещагин</td>\n",
       "      <td>2018-05-25</td>\n",
       "      <td>ultra</td>\n",
       "      <td>2018-09</td>\n",
       "      <td>58</td>\n",
       "      <td>466.0</td>\n",
       "      <td>57</td>\n",
       "      <td>14581.0</td>\n",
       "      <td>1950</td>\n",
       "    </tr>\n",
       "  </tbody>\n",
       "</table>\n",
       "</div>"
      ],
      "text/plain": [
       "   user_id  age churn_date       city first_name  last_name   reg_date tariff  \\\n",
       "0     1000   52 2020-07-14  Краснодар     Рафаил  Верещагин 2018-05-25  ultra   \n",
       "1     1000   52 2020-07-14  Краснодар     Рафаил  Верещагин 2018-05-25  ultra   \n",
       "2     1000   52 2020-07-14  Краснодар     Рафаил  Верещагин 2018-05-25  ultra   \n",
       "3     1000   52 2020-07-14  Краснодар     Рафаил  Верещагин 2018-05-25  ultra   \n",
       "4     1000   52 2020-07-14  Краснодар     Рафаил  Верещагин 2018-05-25  ultra   \n",
       "\n",
       "  year_and_month  count_calls  total_duration_calls  count_msg  sum_mb_used  \\\n",
       "0        2018-05           22                 159.0         22       2256.0   \n",
       "1        2018-06           43                 172.0         60      23257.0   \n",
       "2        2018-07           47                 340.0         75      14016.0   \n",
       "3        2018-08           52                 408.0         81      14070.0   \n",
       "4        2018-09           58                 466.0         57      14581.0   \n",
       "\n",
       "   total_proceed  \n",
       "0           1950  \n",
       "1           1950  \n",
       "2           1950  \n",
       "3           1950  \n",
       "4           1950  "
      ]
     },
     "execution_count": 11,
     "metadata": {},
     "output_type": "execute_result"
    }
   ],
   "source": [
    "users_df['count_calls'] = users_df['count_calls'].astype(int)\n",
    "users_df['count_msg'] = users_df['count_msg'].astype(int)\n",
    "\n",
    "def generate_proceed(row):\n",
    "    tariff_name = row['tariff']\n",
    "    tariff = tariffs_df.query('tariff_name == @tariff_name')\n",
    "    \n",
    "    spent_minutes_over_tariff = math.ceil(row['total_duration_calls'] - tariff['minutes_included'])\n",
    "    spent_messages_over_tariff = int(row['count_msg'] - tariff['messages_included'])\n",
    "    spent_net_over_tariff = math.ceil((row['sum_mb_used'] - tariff['mb_per_month_included']) / 1024)\n",
    "    total_proceed = int(tariff['rub_monthly_fee'])\n",
    "\n",
    "    if spent_minutes_over_tariff > 0:\n",
    "        total_proceed += spent_minutes_over_tariff * tariff['rub_per_minute']\n",
    "    if spent_messages_over_tariff > 0:\n",
    "        total_proceed += spent_messages_over_tariff * tariff['rub_per_message']\n",
    "    if spent_net_over_tariff > 0:\n",
    "        total_proceed += spent_net_over_tariff * tariff['rub_per_gb']\n",
    "            \n",
    "    return int(total_proceed) \n",
    "    \n",
    "users_df['total_proceed'] = users_df.apply(generate_proceed, axis=1)\n",
    "\n",
    "users_df.head()"
   ]
  },
  {
   "cell_type": "markdown",
   "metadata": {},
   "source": [
    "Выделил потраченные минуты, сообщения, траффик сверх тарифного плана умножил на стоимость по тарифному плану и прибавил стоимость абонентской платы, тем самым получив выручку с каждого отдельного пользователя в конкретный месяц."
   ]
  },
  {
   "cell_type": "markdown",
   "metadata": {},
   "source": [
    "## Шаг 3. Анализ данных <a name=\"step3\"></a>"
   ]
  },
  {
   "cell_type": "code",
   "execution_count": 12,
   "metadata": {},
   "outputs": [
    {
     "data": {
      "text/html": [
       "<div>\n",
       "<style scoped>\n",
       "    .dataframe tbody tr th:only-of-type {\n",
       "        vertical-align: middle;\n",
       "    }\n",
       "\n",
       "    .dataframe tbody tr th {\n",
       "        vertical-align: top;\n",
       "    }\n",
       "\n",
       "    .dataframe thead tr th {\n",
       "        text-align: left;\n",
       "    }\n",
       "\n",
       "    .dataframe thead tr:last-of-type th {\n",
       "        text-align: right;\n",
       "    }\n",
       "</style>\n",
       "<table border=\"1\" class=\"dataframe\">\n",
       "  <thead>\n",
       "    <tr>\n",
       "      <th></th>\n",
       "      <th>count</th>\n",
       "      <th>mean</th>\n",
       "      <th>var</th>\n",
       "      <th>std</th>\n",
       "    </tr>\n",
       "    <tr>\n",
       "      <th></th>\n",
       "      <th>count_msg</th>\n",
       "      <th>count_msg</th>\n",
       "      <th>count_msg</th>\n",
       "      <th>count_msg</th>\n",
       "    </tr>\n",
       "    <tr>\n",
       "      <th>tariff</th>\n",
       "      <th></th>\n",
       "      <th></th>\n",
       "      <th></th>\n",
       "      <th></th>\n",
       "    </tr>\n",
       "  </thead>\n",
       "  <tbody>\n",
       "    <tr>\n",
       "      <td>smart</td>\n",
       "      <td>2225</td>\n",
       "      <td>33.37</td>\n",
       "      <td>798.88</td>\n",
       "      <td>28.26</td>\n",
       "    </tr>\n",
       "    <tr>\n",
       "      <td>ultra</td>\n",
       "      <td>957</td>\n",
       "      <td>48.73</td>\n",
       "      <td>2199.93</td>\n",
       "      <td>46.90</td>\n",
       "    </tr>\n",
       "  </tbody>\n",
       "</table>\n",
       "</div>"
      ],
      "text/plain": [
       "           count      mean       var       std\n",
       "       count_msg count_msg count_msg count_msg\n",
       "tariff                                        \n",
       "smart       2225     33.37    798.88     28.26\n",
       "ultra        957     48.73   2199.93     46.90"
      ]
     },
     "metadata": {},
     "output_type": "display_data"
    },
    {
     "data": {
      "text/html": [
       "<div>\n",
       "<style scoped>\n",
       "    .dataframe tbody tr th:only-of-type {\n",
       "        vertical-align: middle;\n",
       "    }\n",
       "\n",
       "    .dataframe tbody tr th {\n",
       "        vertical-align: top;\n",
       "    }\n",
       "\n",
       "    .dataframe thead tr th {\n",
       "        text-align: left;\n",
       "    }\n",
       "\n",
       "    .dataframe thead tr:last-of-type th {\n",
       "        text-align: right;\n",
       "    }\n",
       "</style>\n",
       "<table border=\"1\" class=\"dataframe\">\n",
       "  <thead>\n",
       "    <tr>\n",
       "      <th></th>\n",
       "      <th>count</th>\n",
       "      <th>mean</th>\n",
       "      <th>var</th>\n",
       "      <th>std</th>\n",
       "    </tr>\n",
       "    <tr>\n",
       "      <th></th>\n",
       "      <th>total_duration_calls</th>\n",
       "      <th>total_duration_calls</th>\n",
       "      <th>total_duration_calls</th>\n",
       "      <th>total_duration_calls</th>\n",
       "    </tr>\n",
       "    <tr>\n",
       "      <th>tariff</th>\n",
       "      <th></th>\n",
       "      <th></th>\n",
       "      <th></th>\n",
       "      <th></th>\n",
       "    </tr>\n",
       "  </thead>\n",
       "  <tbody>\n",
       "    <tr>\n",
       "      <td>smart</td>\n",
       "      <td>2225</td>\n",
       "      <td>6.98</td>\n",
       "      <td>9.99</td>\n",
       "      <td>3.16</td>\n",
       "    </tr>\n",
       "    <tr>\n",
       "      <td>ultra</td>\n",
       "      <td>957</td>\n",
       "      <td>9.03</td>\n",
       "      <td>26.52</td>\n",
       "      <td>5.15</td>\n",
       "    </tr>\n",
       "  </tbody>\n",
       "</table>\n",
       "</div>"
      ],
      "text/plain": [
       "                      count                 mean                  var  \\\n",
       "       total_duration_calls total_duration_calls total_duration_calls   \n",
       "tariff                                                                  \n",
       "smart                  2225                 6.98                 9.99   \n",
       "ultra                   957                 9.03                26.52   \n",
       "\n",
       "                        std  \n",
       "       total_duration_calls  \n",
       "tariff                       \n",
       "smart                  3.16  \n",
       "ultra                  5.15  "
      ]
     },
     "metadata": {},
     "output_type": "display_data"
    },
    {
     "data": {
      "text/html": [
       "<div>\n",
       "<style scoped>\n",
       "    .dataframe tbody tr th:only-of-type {\n",
       "        vertical-align: middle;\n",
       "    }\n",
       "\n",
       "    .dataframe tbody tr th {\n",
       "        vertical-align: top;\n",
       "    }\n",
       "\n",
       "    .dataframe thead tr th {\n",
       "        text-align: left;\n",
       "    }\n",
       "\n",
       "    .dataframe thead tr:last-of-type th {\n",
       "        text-align: right;\n",
       "    }\n",
       "</style>\n",
       "<table border=\"1\" class=\"dataframe\">\n",
       "  <thead>\n",
       "    <tr>\n",
       "      <th></th>\n",
       "      <th>count</th>\n",
       "      <th>mean</th>\n",
       "      <th>var</th>\n",
       "      <th>std</th>\n",
       "    </tr>\n",
       "    <tr>\n",
       "      <th></th>\n",
       "      <th>sum_gb_used</th>\n",
       "      <th>sum_gb_used</th>\n",
       "      <th>sum_gb_used</th>\n",
       "      <th>sum_gb_used</th>\n",
       "    </tr>\n",
       "    <tr>\n",
       "      <th>tariff</th>\n",
       "      <th></th>\n",
       "      <th></th>\n",
       "      <th></th>\n",
       "      <th></th>\n",
       "    </tr>\n",
       "  </thead>\n",
       "  <tbody>\n",
       "    <tr>\n",
       "      <td>smart</td>\n",
       "      <td>2225</td>\n",
       "      <td>15.84</td>\n",
       "      <td>33.21</td>\n",
       "      <td>5.76</td>\n",
       "    </tr>\n",
       "    <tr>\n",
       "      <td>ultra</td>\n",
       "      <td>957</td>\n",
       "      <td>18.90</td>\n",
       "      <td>99.62</td>\n",
       "      <td>9.98</td>\n",
       "    </tr>\n",
       "  </tbody>\n",
       "</table>\n",
       "</div>"
      ],
      "text/plain": [
       "             count        mean         var         std\n",
       "       sum_gb_used sum_gb_used sum_gb_used sum_gb_used\n",
       "tariff                                                \n",
       "smart         2225       15.84       33.21        5.76\n",
       "ultra          957       18.90       99.62        9.98"
      ]
     },
     "metadata": {},
     "output_type": "display_data"
    }
   ],
   "source": [
    "if 'sum_gb_used' not in users_df.columns:\n",
    "    users_df['total_duration_calls'] = users_df['total_duration_calls'] / 60 \n",
    "    users_df['sum_mb_used'] = users_df['sum_mb_used'] / 1024\n",
    "    users_df = users_df.rename(columns={\"sum_mb_used\": \"sum_gb_used\"})\n",
    "\n",
    "display(round(users_df.pivot_table(index='tariff', values='count_msg', aggfunc=['count', 'mean', 'var', 'std']), 2))\n",
    "display(round(users_df.pivot_table(index='tariff', values='total_duration_calls', aggfunc=['count', 'mean', 'var', 'std']), 2))\n",
    "display(round(users_df.pivot_table(index='tariff', values='sum_gb_used', aggfunc=['count', 'mean', 'var', 'std']), 2))"
   ]
  },
  {
   "cell_type": "markdown",
   "metadata": {},
   "source": [
    "Доступнее, когда объем траффика представлен в гигабайтах, а время переговоров в часах, поэтому изменил единицы измерения."
   ]
  },
  {
   "cell_type": "markdown",
   "metadata": {},
   "source": [
    "### Гистограммы отправленных сообщений по тарифам. <a name=\"hists_msgs\"></a>"
   ]
  },
  {
   "cell_type": "code",
   "execution_count": 13,
   "metadata": {},
   "outputs": [
    {
     "data": {
      "image/png": "[encoded data removed]",
      "text/plain": [
       "<Figure size 432x288 with 1 Axes>"
      ]
     },
     "metadata": {
      "needs_background": "light"
     },
     "output_type": "display_data"
    }
   ],
   "source": [
    "users_df.query('tariff == \"ultra\"')['count_msg'].plot(kind='hist', bins=50, range=(1,50))\n",
    "plt.title(\"Гистограмма отправленных сообщений в месяц для пользователей тарифа «Ультра», отправляющих немного сообщений.\")\n",
    "plt.xlabel(\"Количество отправленных сообщений.\")\n",
    "plt.ylabel(\"Количество пользователей.\");"
   ]
  },
  {
   "cell_type": "code",
   "execution_count": 14,
   "metadata": {},
   "outputs": [
    {
     "data": {
      "image/png": "[encoded data removed]",
      "text/plain": [
       "<Figure size 1152x288 with 1 Axes>"
      ]
     },
     "metadata": {
      "needs_background": "light"
     },
     "output_type": "display_data"
    }
   ],
   "source": [
    "users_df.query('tariff == \"ultra\"')['count_msg'].plot(kind='hist', bins=50, range=(50,230), figsize=(16,4))\n",
    "plt.title(\"Гистограмма отправленных сообщений в месяц для пользователей тарифа «Ультра», отправляющих много сообщений.\")\n",
    "plt.xlabel(\"Количество отправленных сообщений.\")\n",
    "plt.ylabel(\"Количество пользователей.\");"
   ]
  },
  {
   "cell_type": "code",
   "execution_count": 15,
   "metadata": {},
   "outputs": [
    {
     "data": {
      "image/png": "[encoded data removed]",
      "text/plain": [
       "<Figure size 432x288 with 1 Axes>"
      ]
     },
     "metadata": {
      "needs_background": "light"
     },
     "output_type": "display_data"
    }
   ],
   "source": [
    "cmap = cm.get_cmap('Spectral') \n",
    "\n",
    "users_df.query('tariff == \"smart\"')['count_msg'].plot(kind='hist', bins=50, range=(1,50), cmap = cmap)\n",
    "plt.title(\"Гистограмма отправленных сообщений в месяц для пользователей тарифа «Ультра», отправляющих немного сообщений.\")\n",
    "plt.xlabel(\"Количество отправленных сообщений.\")\n",
    "plt.ylabel(\"Количество пользователей.\");"
   ]
  },
  {
   "cell_type": "code",
   "execution_count": 16,
   "metadata": {},
   "outputs": [
    {
     "data": {
      "image/png": "[encoded data removed]",
      "text/plain": [
       "<Figure size 1152x288 with 1 Axes>"
      ]
     },
     "metadata": {
      "needs_background": "light"
     },
     "output_type": "display_data"
    }
   ],
   "source": [
    "users_df.query('tariff == \"smart\"')['count_msg'].plot(kind='hist', bins=50, range=(50,150), cmap = cmap, figsize=(16,4))\n",
    "plt.title(\"Гистограмма отправленных сообщений в месяц для пользователей тарифа «Ультра», отправляющих много сообщений.\")\n",
    "plt.xlabel(\"Количество отправленных сообщений.\")\n",
    "plt.ylabel(\"Количество пользователей.\");"
   ]
  },
  {
   "cell_type": "code",
   "execution_count": 17,
   "metadata": {},
   "outputs": [
    {
     "data": {
      "text/html": [
       "<div>\n",
       "<style scoped>\n",
       "    .dataframe tbody tr th:only-of-type {\n",
       "        vertical-align: middle;\n",
       "    }\n",
       "\n",
       "    .dataframe tbody tr th {\n",
       "        vertical-align: top;\n",
       "    }\n",
       "\n",
       "    .dataframe thead tr th {\n",
       "        text-align: left;\n",
       "    }\n",
       "\n",
       "    .dataframe thead tr:last-of-type th {\n",
       "        text-align: right;\n",
       "    }\n",
       "</style>\n",
       "<table border=\"1\" class=\"dataframe\">\n",
       "  <thead>\n",
       "    <tr>\n",
       "      <th></th>\n",
       "      <th colspan=\"8\" halign=\"left\">describe</th>\n",
       "    </tr>\n",
       "    <tr>\n",
       "      <th></th>\n",
       "      <th>25%</th>\n",
       "      <th>50%</th>\n",
       "      <th>75%</th>\n",
       "      <th>count</th>\n",
       "      <th>max</th>\n",
       "      <th>mean</th>\n",
       "      <th>min</th>\n",
       "      <th>std</th>\n",
       "    </tr>\n",
       "    <tr>\n",
       "      <th>tariff</th>\n",
       "      <th></th>\n",
       "      <th></th>\n",
       "      <th></th>\n",
       "      <th></th>\n",
       "      <th></th>\n",
       "      <th></th>\n",
       "      <th></th>\n",
       "      <th></th>\n",
       "    </tr>\n",
       "  </thead>\n",
       "  <tbody>\n",
       "    <tr>\n",
       "      <td>smart</td>\n",
       "      <td>10.0</td>\n",
       "      <td>28.0</td>\n",
       "      <td>51.0</td>\n",
       "      <td>2225.0</td>\n",
       "      <td>143.0</td>\n",
       "      <td>33.37</td>\n",
       "      <td>0.0</td>\n",
       "      <td>28.26</td>\n",
       "    </tr>\n",
       "    <tr>\n",
       "      <td>ultra</td>\n",
       "      <td>5.0</td>\n",
       "      <td>39.0</td>\n",
       "      <td>79.0</td>\n",
       "      <td>957.0</td>\n",
       "      <td>224.0</td>\n",
       "      <td>48.73</td>\n",
       "      <td>0.0</td>\n",
       "      <td>46.90</td>\n",
       "    </tr>\n",
       "  </tbody>\n",
       "</table>\n",
       "</div>"
      ],
      "text/plain": [
       "       describe                                              \n",
       "            25%   50%   75%   count    max   mean  min    std\n",
       "tariff                                                       \n",
       "smart      10.0  28.0  51.0  2225.0  143.0  33.37  0.0  28.26\n",
       "ultra       5.0  39.0  79.0   957.0  224.0  48.73  0.0  46.90"
      ]
     },
     "metadata": {},
     "output_type": "display_data"
    }
   ],
   "source": [
    "display(round(users_df.pivot_table(index='tariff', values='count_msg', aggfunc=['describe']), 2))"
   ]
  },
  {
   "cell_type": "markdown",
   "metadata": {},
   "source": [
    "Пользователи тарифа «Ультра» примерно в полтора раза чаще отправляют сообщения, чем люди пользующиеся тарифом «Смарт», эта взаимосвязь прослеживается при сравнении второй, третьей квартили, максимальных значений "
   ]
  },
  {
   "cell_type": "markdown",
   "metadata": {},
   "source": [
    "### Гистограммы минут разговоров. <a name=\"hists_minutes\"></a>"
   ]
  },
  {
   "cell_type": "code",
   "execution_count": 18,
   "metadata": {},
   "outputs": [
    {
     "data": {
      "image/png": "[encoded data removed]",
      "text/plain": [
       "<Figure size 432x288 with 1 Axes>"
      ]
     },
     "metadata": {
      "needs_background": "light"
     },
     "output_type": "display_data"
    }
   ],
   "source": [
    "users_df.query('tariff == \"ultra\"')['total_duration_calls'].plot(kind='hist', bins=50)\n",
    "plt.title(\"Гистограмма часов разговоров в месяц для пользователей тарифа «Ультра».\")\n",
    "plt.xlabel(\"Количество потраченных часов связи.\")\n",
    "plt.ylabel(\"Количество пользователей.\");"
   ]
  },
  {
   "cell_type": "code",
   "execution_count": 19,
   "metadata": {},
   "outputs": [
    {
     "data": {
      "image/png": "[encoded data removed]",
      "text/plain": [
       "<Figure size 432x288 with 1 Axes>"
      ]
     },
     "metadata": {
      "needs_background": "light"
     },
     "output_type": "display_data"
    }
   ],
   "source": [
    "users_df.query('tariff == \"smart\"')['total_duration_calls'].plot(kind='hist', bins=50, cmap=cmap)\n",
    "plt.title(\"Гистограмма часов разговоров в месяц для пользователей тарифа «Смарт».\")\n",
    "plt.xlabel(\"Количество потраченных часов связи.\")\n",
    "plt.ylabel(\"Количество пользователей.\");"
   ]
  },
  {
   "cell_type": "code",
   "execution_count": 20,
   "metadata": {},
   "outputs": [
    {
     "data": {
      "text/html": [
       "<div>\n",
       "<style scoped>\n",
       "    .dataframe tbody tr th:only-of-type {\n",
       "        vertical-align: middle;\n",
       "    }\n",
       "\n",
       "    .dataframe tbody tr th {\n",
       "        vertical-align: top;\n",
       "    }\n",
       "\n",
       "    .dataframe thead tr th {\n",
       "        text-align: left;\n",
       "    }\n",
       "\n",
       "    .dataframe thead tr:last-of-type th {\n",
       "        text-align: right;\n",
       "    }\n",
       "</style>\n",
       "<table border=\"1\" class=\"dataframe\">\n",
       "  <thead>\n",
       "    <tr>\n",
       "      <th></th>\n",
       "      <th colspan=\"8\" halign=\"left\">describe</th>\n",
       "    </tr>\n",
       "    <tr>\n",
       "      <th></th>\n",
       "      <th>25%</th>\n",
       "      <th>50%</th>\n",
       "      <th>75%</th>\n",
       "      <th>count</th>\n",
       "      <th>max</th>\n",
       "      <th>mean</th>\n",
       "      <th>min</th>\n",
       "      <th>std</th>\n",
       "    </tr>\n",
       "    <tr>\n",
       "      <th>tariff</th>\n",
       "      <th></th>\n",
       "      <th></th>\n",
       "      <th></th>\n",
       "      <th></th>\n",
       "      <th></th>\n",
       "      <th></th>\n",
       "      <th></th>\n",
       "      <th></th>\n",
       "    </tr>\n",
       "  </thead>\n",
       "  <tbody>\n",
       "    <tr>\n",
       "      <td>smart</td>\n",
       "      <td>4.73</td>\n",
       "      <td>7.03</td>\n",
       "      <td>9.08</td>\n",
       "      <td>2225.0</td>\n",
       "      <td>23.92</td>\n",
       "      <td>6.98</td>\n",
       "      <td>0.0</td>\n",
       "      <td>3.16</td>\n",
       "    </tr>\n",
       "    <tr>\n",
       "      <td>ultra</td>\n",
       "      <td>5.13</td>\n",
       "      <td>8.75</td>\n",
       "      <td>12.60</td>\n",
       "      <td>957.0</td>\n",
       "      <td>27.88</td>\n",
       "      <td>9.03</td>\n",
       "      <td>0.0</td>\n",
       "      <td>5.15</td>\n",
       "    </tr>\n",
       "  </tbody>\n",
       "</table>\n",
       "</div>"
      ],
      "text/plain": [
       "       describe                                             \n",
       "            25%   50%    75%   count    max  mean  min   std\n",
       "tariff                                                      \n",
       "smart      4.73  7.03   9.08  2225.0  23.92  6.98  0.0  3.16\n",
       "ultra      5.13  8.75  12.60   957.0  27.88  9.03  0.0  5.15"
      ]
     },
     "metadata": {},
     "output_type": "display_data"
    }
   ],
   "source": [
    "display(round(users_df.pivot_table(index='tariff', values='total_duration_calls', aggfunc=['describe']), 2))"
   ]
  },
  {
   "cell_type": "markdown",
   "metadata": {},
   "source": [
    "Распределение людей по часам разговора несимметрично, уномодально, при этом пользователи тарифа «Смарт» разговаривают реже, чем абоненты тарифного плана «Ультра»."
   ]
  },
  {
   "cell_type": "markdown",
   "metadata": {},
   "source": [
    "### Гистограммы трафика по тарифам. <a name=\"hists_traffic\"></a>"
   ]
  },
  {
   "cell_type": "code",
   "execution_count": 21,
   "metadata": {},
   "outputs": [
    {
     "data": {
      "image/png": "[encoded data removed]",
      "text/plain": [
       "<Figure size 432x288 with 1 Axes>"
      ]
     },
     "metadata": {
      "needs_background": "light"
     },
     "output_type": "display_data"
    }
   ],
   "source": [
    "users_df.query('tariff == \"ultra\"')['sum_gb_used'].plot(kind='hist', bins=50)\n",
    "plt.title(\"Гистограмма часов разговоров в месяц для пользователей тарифа Ультра.\")\n",
    "plt.xlabel(\"Количество потраченных гигабайтов.\")\n",
    "plt.ylabel(\"Количество пользователей.\");"
   ]
  },
  {
   "cell_type": "code",
   "execution_count": 22,
   "metadata": {},
   "outputs": [
    {
     "data": {
      "image/png": "[encoded data removed]",
      "text/plain": [
       "<Figure size 432x288 with 1 Axes>"
      ]
     },
     "metadata": {
      "needs_background": "light"
     },
     "output_type": "display_data"
    }
   ],
   "source": [
    "users_df.query('tariff == \"smart\"')['sum_gb_used'].plot(kind='hist', bins=50, cmap=cmap)\n",
    "plt.title(\"Гистограмма часов разговоров в месяц для пользователей тарифа «Смарт».\")\n",
    "plt.xlabel(\"Количество потраченных гигабайтов.\")\n",
    "plt.ylabel(\"Количество пользователей.\");"
   ]
  },
  {
   "cell_type": "code",
   "execution_count": 23,
   "metadata": {},
   "outputs": [
    {
     "data": {
      "text/html": [
       "<div>\n",
       "<style scoped>\n",
       "    .dataframe tbody tr th:only-of-type {\n",
       "        vertical-align: middle;\n",
       "    }\n",
       "\n",
       "    .dataframe tbody tr th {\n",
       "        vertical-align: top;\n",
       "    }\n",
       "\n",
       "    .dataframe thead tr th {\n",
       "        text-align: left;\n",
       "    }\n",
       "\n",
       "    .dataframe thead tr:last-of-type th {\n",
       "        text-align: right;\n",
       "    }\n",
       "</style>\n",
       "<table border=\"1\" class=\"dataframe\">\n",
       "  <thead>\n",
       "    <tr>\n",
       "      <th></th>\n",
       "      <th colspan=\"8\" halign=\"left\">describe</th>\n",
       "    </tr>\n",
       "    <tr>\n",
       "      <th></th>\n",
       "      <th>25%</th>\n",
       "      <th>50%</th>\n",
       "      <th>75%</th>\n",
       "      <th>count</th>\n",
       "      <th>max</th>\n",
       "      <th>mean</th>\n",
       "      <th>min</th>\n",
       "      <th>std</th>\n",
       "    </tr>\n",
       "    <tr>\n",
       "      <th>tariff</th>\n",
       "      <th></th>\n",
       "      <th></th>\n",
       "      <th></th>\n",
       "      <th></th>\n",
       "      <th></th>\n",
       "      <th></th>\n",
       "      <th></th>\n",
       "      <th></th>\n",
       "    </tr>\n",
       "  </thead>\n",
       "  <tbody>\n",
       "    <tr>\n",
       "      <td>smart</td>\n",
       "      <td>12.34</td>\n",
       "      <td>16.11</td>\n",
       "      <td>19.60</td>\n",
       "      <td>2225.0</td>\n",
       "      <td>37.71</td>\n",
       "      <td>15.84</td>\n",
       "      <td>0.0</td>\n",
       "      <td>5.76</td>\n",
       "    </tr>\n",
       "    <tr>\n",
       "      <td>ultra</td>\n",
       "      <td>11.15</td>\n",
       "      <td>18.86</td>\n",
       "      <td>26.19</td>\n",
       "      <td>957.0</td>\n",
       "      <td>48.62</td>\n",
       "      <td>18.90</td>\n",
       "      <td>0.0</td>\n",
       "      <td>9.98</td>\n",
       "    </tr>\n",
       "  </tbody>\n",
       "</table>\n",
       "</div>"
      ],
      "text/plain": [
       "       describe                                               \n",
       "            25%    50%    75%   count    max   mean  min   std\n",
       "tariff                                                        \n",
       "smart     12.34  16.11  19.60  2225.0  37.71  15.84  0.0  5.76\n",
       "ultra     11.15  18.86  26.19   957.0  48.62  18.90  0.0  9.98"
      ]
     },
     "metadata": {},
     "output_type": "display_data"
    }
   ],
   "source": [
    "display(round(users_df.pivot_table(index='tariff', values='sum_gb_used', aggfunc=['describe']), 2))"
   ]
  },
  {
   "cell_type": "markdown",
   "metadata": {},
   "source": [
    "Распределение людей, пользующихся тарифом «Смарт» схоже с нормальным, как и при рассмотрении трат предыдущих опций пользователи тарифа «Ультра» более активно пользуются интернетом."
   ]
  },
  {
   "cell_type": "markdown",
   "metadata": {},
   "source": [
    "### Вывод <a name=\"conclusion_step3\"></a>"
   ]
  },
  {
   "cell_type": "markdown",
   "metadata": {},
   "source": [
    "Пользователи тарифа «Ультра» тратят более коммуникабельны в целом, при этом разница в потреблении различных способах коммуникаций неоднородна, сообщений отправляют примерно в полтора раза больше, а остальными опциями пользуются не настолько активнее.\n",
    "75 процентам пользователей достаточно следующего количества минут, сообщений, траффика:\n",
    "* Ультра \n",
    "    * 26.16\tГигабайт;\n",
    "    * 79 сообщений;\n",
    "    * 11.91 часа.\n",
    "* Смарт\n",
    "    * 19.58 Гигабайт;\n",
    "    * 51 сообщений;\n",
    "    * 8.59 часов."
   ]
  },
  {
   "cell_type": "markdown",
   "metadata": {},
   "source": [
    "## Шаг 4. Проверка гипотез <a name=\"step4\"></a>"
   ]
  },
  {
   "cell_type": "markdown",
   "metadata": {},
   "source": [
    "### Гипотеза 1 <a name=\"hyp1\"></a>"
   ]
  },
  {
   "cell_type": "markdown",
   "metadata": {},
   "source": [
    "Нулевая гипотеза - средние выручки пользователей тарифов «Ультра» и «Смарт» равны между собой.\n",
    "Альтернативная - средние выручки  пользователей тарифов «Ультра» и «Смарт» не равны между собой."
   ]
  },
  {
   "cell_type": "markdown",
   "metadata": {},
   "source": [
    "#### Проверка равенства дисперсий выборок пользователей двух тарифных планов <a name=\"var_tariff\"></a>"
   ]
  },
  {
   "cell_type": "code",
   "execution_count": 24,
   "metadata": {},
   "outputs": [
    {
     "name": "stdout",
     "output_type": "stream",
     "text": [
      "p-значение: 1.0923340364431958e-121\n",
      "Отвергаем гипотезу о равенстве дисперсий\n"
     ]
    }
   ],
   "source": [
    "alpha = .05\n",
    "\n",
    "users_df_tariff_ultra = users_df.query('tariff == \"ultra\"')['total_proceed']\n",
    "users_df_tariff_smart = users_df.query('tariff == \"smart\"')['total_proceed']\n",
    "\n",
    "stat, p = st.levene(users_df_tariff_ultra, users_df_tariff_smart)\n",
    "print('p-значение:', p)\n",
    "\n",
    "if (p < alpha):\n",
    "    print(\"Отвергаем гипотезу о равенстве дисперсий\")\n",
    "else:\n",
    "    print(\"Принимаем гипотезу о равенстве дисперсий\") "
   ]
  },
  {
   "cell_type": "markdown",
   "metadata": {},
   "source": [
    "Воспользовавшись тестом Левена для проверки равенства дисперсий в группах можем осознанно использовать Т-критерий Стьюдента с опцией показывающей неравенство дисперсий. "
   ]
  },
  {
   "cell_type": "markdown",
   "metadata": {},
   "source": [
    "#### Проверка равенства выручек пользователей двух тарифных планов  <a name=\"mean_tariff\"></a>"
   ]
  },
  {
   "cell_type": "code",
   "execution_count": 25,
   "metadata": {},
   "outputs": [
    {
     "name": "stdout",
     "output_type": "stream",
     "text": [
      "p-значение: 1.6749696862727309e-242\n",
      "Отвергаем нулевую гипотезу\n"
     ]
    }
   ],
   "source": [
    "results_hypothesis_equality_tests = st.ttest_ind(\n",
    "    users_df_tariff_ultra, \n",
    "    users_df_tariff_smart, equal_var = False)\n",
    "\n",
    "print('p-значение:', results_hypothesis_equality_tests.pvalue)\n",
    "\n",
    "if (results_hypothesis_equality_tests.pvalue < alpha):\n",
    "    print(\"Отвергаем нулевую гипотезу\")\n",
    "else:\n",
    "    print(\"Не получилось отвергнуть нулевую гипотезу\") "
   ]
  },
  {
   "cell_type": "markdown",
   "metadata": {},
   "source": [
    "Чтобы проверить гипотезу о равенстве среднего двух генеральных совокупностей по взятым из них выборкам, применил метод scipy.stats.ttest_ind, предназначенный для проверки гипотез о равенстве средних."
   ]
  },
  {
   "cell_type": "markdown",
   "metadata": {},
   "source": [
    "### Гипотеза 2 <a name=\"hyp2\"></a>"
   ]
  },
  {
   "cell_type": "markdown",
   "metadata": {},
   "source": [
    "Нулевая гипотеза - средние выручки пользователей Москвы и иных регионов равны между собой.\n",
    "Альтернативная - средние выручки  пользователей Москвы и иных регионов не равны между собой."
   ]
  },
  {
   "cell_type": "markdown",
   "metadata": {},
   "source": [
    "#### Проверка равенства дисперсий выборок пользователей Москвы и регионов <a name=\"var_Msc_reg\"></a>"
   ]
  },
  {
   "cell_type": "code",
   "execution_count": 26,
   "metadata": {},
   "outputs": [
    {
     "name": "stdout",
     "output_type": "stream",
     "text": [
      "p-значение: 0.007579313972060715\n",
      "Отвергаем гипотезу о равенстве дисперсий\n"
     ]
    }
   ],
   "source": [
    "alpha = .05\n",
    "\n",
    "users_df_Moscow = users_df.query('city == \"Москва\"')['total_proceed']\n",
    "users_df_other_regions = users_df.query('city != \"Москва\"')['total_proceed']\n",
    "\n",
    "stat, p = st.levene(users_df_Moscow, users_df_other_regions)\n",
    "print('p-значение:', p)\n",
    "\n",
    "if (p < alpha):\n",
    "    print(\"Отвергаем гипотезу о равенстве дисперсий\")\n",
    "else:\n",
    "    print(\"Принимаем гипотезу о равенстве дисперсий\") "
   ]
  },
  {
   "cell_type": "markdown",
   "metadata": {},
   "source": [
    "Воспользовавшись тестом Левена для проверки равенства дисперсий в группах можем осознанно использовать Т-критерий Стьюдента с опцией показывающей неравенство дисперсий. "
   ]
  },
  {
   "cell_type": "markdown",
   "metadata": {},
   "source": [
    "#### Проверка равенства средних выборок пользователей Москвы и регионов mean_Msc_reg<a name=\"mean_Msc_reg\"></a>"
   ]
  },
  {
   "cell_type": "code",
   "execution_count": 27,
   "metadata": {},
   "outputs": [
    {
     "name": "stdout",
     "output_type": "stream",
     "text": [
      "p-значение: 0.4339860402809208\n",
      "Не получилось отвергнуть нулевую гипотезу\n"
     ]
    }
   ],
   "source": [
    "results_hypothesis_equality_tests = st.ttest_ind(\n",
    "    users_df_Moscow, \n",
    "    users_df_other_regions, equal_var = False)\n",
    "\n",
    "print('p-значение:', results_hypothesis_equality_tests.pvalue)\n",
    "\n",
    "if (results_hypothesis_equality_tests.pvalue < alpha):\n",
    "    print(\"Отвергаем нулевую гипотезу\")\n",
    "else:\n",
    "    print(\"Не получилось отвергнуть нулевую гипотезу\") "
   ]
  },
  {
   "cell_type": "markdown",
   "metadata": {},
   "source": [
    "Чтобы проверить гипотезу о равенстве среднего двух генеральных совокупностей по взятым из них выборкам, применил метод scipy.stats.ttest_ind, предназначенный для проверки гипотез о равенстве средних."
   ]
  },
  {
   "cell_type": "markdown",
   "metadata": {},
   "source": [
    "## Шаг 5. Общий вывод <a name=\"general_conclusion\"></a>"
   ]
  },
  {
   "cell_type": "markdown",
   "metadata": {},
   "source": [
    "В процессе предварительного анализа тарифов клиентов на небольшой выборке из 500 человек было выявлено следующее:\n",
    "При рассмотрении полученных таблиц обнаружено:\n",
    "* calls - выбросов нет, звонки с длительностью 0 - пропущенные, их 19% считаю допустимым;\n",
    "* internet - удалил столбец 'Unnamed: 0' по причине его неинформативности;\n",
    "* users - столбец 'churn_date' имел пропуски, это неудивительно, ведь не все разрывают контракты, в связи с чем такие пропуски заменил на выделяющееся значение;\n",
    "* Столбцы, содержащие значения дат не были в формате дат.\n",
    "\n",
    "Были добавлены следующие столбцы:\n",
    "* Количество сделанных звонков и израсходованных минут разговора по месяцам;\n",
    "* Количество отправленных сообщений по месяцам;\n",
    "* Объем израсходованного интернет-трафика по месяцам;\n",
    "* Помесячная выручка с каждого пользователя.\n",
    "\n",
    "Было выяснено, что 75 процентам пользователей достаточно следующего количества опций:\n",
    "* Ультра \n",
    "    * 26.16\tГигабайт;\n",
    "    * 79 сообщений;\n",
    "    * 11.91 часа.\n",
    "* Смарт\n",
    "    * 19.58 Гигабайт;\n",
    "    * 51 сообщений;\n",
    "    * 8.59 часов.\n",
    "    \n",
    "Выявлено, что пользователи тарифного плана «Ультра» больше пользуются услугами.\n",
    "\n",
    "Была опровергнута гипотеза, что пользователи тарифа «Ультра» и «Смарт» приносят в среднем равную выручку компании\n",
    "Была подтверждена гипотеза, что пользователи Москвы и иных регионов приносят в среднем равную выручку компании\n",
    "\n",
    "При доказательстве этих фактов доказывалась нулевая гипотеза равенства средних значений, доказательство которой проще. \n",
    "\n",
    "На основании проведенного анализа выявлено, что в среднем тариф «Ультра» выгоднее для компании, что пользование людьми средствами коммуникации от месяца к месяцу может меняться, что все люди из выборки за время наблюдения хотя бы в одном месяце пользовались каждым средством связи."
   ]
  }
 ],
 "metadata": {
  "kernelspec": {
   "display_name": "Python 3",
   "language": "python",
   "name": "python3"
  },
  "language_info": {
   "codemirror_mode": {
    "name": "ipython",
    "version": 3
   },
   "file_extension": ".py",
   "mimetype": "text/x-python",
   "name": "python",
   "nbconvert_exporter": "python",
   "pygments_lexer": "ipython3",
   "version": "3.7.6"
  }
 },
 "nbformat": 4,
 "nbformat_minor": 2
}
