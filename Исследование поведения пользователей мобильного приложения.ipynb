{
 "cells": [
  {
   "cell_type": "markdown",
   "metadata": {},
   "source": [
    "## Исследование поведения пользователей мобильного приложения\n",
    "\n",
    "Необходимо:\n",
    "- Выявить путь пользователя;\n",
    "- Изучите воронку событий;\n",
    "- Обработать результаты A/A/B-эксперимента изменения шрифтов;"
   ]
  },
  {
   "cell_type": "markdown",
   "metadata": {},
   "source": [
    "[Подготовка данных.](#preparation)\n",
    " - [Описание данных](#description)\n",
    " - [Приведение данных в порядок](#data_adaptation)\n",
    " - [Резюмирование проделанного](#little_conclusion)\n",
    "\n",
    "[Изучение данных.](#analyze)\n",
    "\n",
    "[Изучение воронки данных.](#funnel)\n",
    "\n",
    "[Изучение результатов эксперимента.](#res_exp)\n",
    " - [Проверка соотношения долей пользователей по различным действиям в двух контрольных группах](#gr12)\n",
    " - [Проверка соотношения долей пользователей по различным действиям в экспериментальной группе и первой контрольной](#gr1exp)\n",
    " - [Проверка соотношения долей пользователей по различным действиям в экспериментальной группе и второй контрольной](#gr2exp)\n",
    " - [Проверка соотношения долей пользователей по различным действиям в экспериментальной группе и объединённой  контрольной группе](#gr12exp)\n",
    " - [Вывод о результатах экспериментов](#conclusion_res)\n",
    "\n",
    "[Общий вывод](#conclusion)"
   ]
  },
  {
   "cell_type": "markdown",
   "metadata": {},
   "source": [
    "## Подготовка данных. <a name='preparation'></a>"
   ]
  },
  {
   "cell_type": "code",
   "execution_count": 1,
   "metadata": {},
   "outputs": [],
   "source": [
    "%%capture\n",
    "!pip install plotly -U\n",
    "\n",
    "from plotly import graph_objects as go\n",
    "import pandas as pd\n",
    "import seaborn as sns\n",
    "import matplotlib.pyplot as plt\n",
    "import numpy as np\n",
    "import datetime \n",
    "import math\n",
    "from scipy import stats \n",
    "sns.set_palette('pastel') \n",
    "pd.options.mode.chained_assignment = None"
   ]
  },
  {
   "cell_type": "code",
   "execution_count": 2,
   "metadata": {},
   "outputs": [
    {
     "name": "stdout",
     "output_type": "stream",
     "text": [
      "<class 'pandas.core.frame.DataFrame'>\n",
      "RangeIndex: 244126 entries, 0 to 244125\n",
      "Data columns (total 4 columns):\n",
      "EventName         244126 non-null object\n",
      "DeviceIDHash      244126 non-null int64\n",
      "EventTimestamp    244126 non-null int64\n",
      "ExpId             244126 non-null int64\n",
      "dtypes: int64(3), object(1)\n",
      "memory usage: 7.5+ MB\n"
     ]
    },
    {
     "data": {
      "text/html": [
       "<div>\n",
       "<style scoped>\n",
       "    .dataframe tbody tr th:only-of-type {\n",
       "        vertical-align: middle;\n",
       "    }\n",
       "\n",
       "    .dataframe tbody tr th {\n",
       "        vertical-align: top;\n",
       "    }\n",
       "\n",
       "    .dataframe thead th {\n",
       "        text-align: right;\n",
       "    }\n",
       "</style>\n",
       "<table border=\"1\" class=\"dataframe\">\n",
       "  <thead>\n",
       "    <tr style=\"text-align: right;\">\n",
       "      <th></th>\n",
       "      <th>EventName</th>\n",
       "      <th>DeviceIDHash</th>\n",
       "      <th>EventTimestamp</th>\n",
       "      <th>ExpId</th>\n",
       "    </tr>\n",
       "  </thead>\n",
       "  <tbody>\n",
       "    <tr>\n",
       "      <td>0</td>\n",
       "      <td>MainScreenAppear</td>\n",
       "      <td>4575588528974610257</td>\n",
       "      <td>1564029816</td>\n",
       "      <td>246</td>\n",
       "    </tr>\n",
       "    <tr>\n",
       "      <td>1</td>\n",
       "      <td>MainScreenAppear</td>\n",
       "      <td>7416695313311560658</td>\n",
       "      <td>1564053102</td>\n",
       "      <td>246</td>\n",
       "    </tr>\n",
       "    <tr>\n",
       "      <td>2</td>\n",
       "      <td>PaymentScreenSuccessful</td>\n",
       "      <td>3518123091307005509</td>\n",
       "      <td>1564054127</td>\n",
       "      <td>248</td>\n",
       "    </tr>\n",
       "    <tr>\n",
       "      <td>3</td>\n",
       "      <td>CartScreenAppear</td>\n",
       "      <td>3518123091307005509</td>\n",
       "      <td>1564054127</td>\n",
       "      <td>248</td>\n",
       "    </tr>\n",
       "    <tr>\n",
       "      <td>4</td>\n",
       "      <td>PaymentScreenSuccessful</td>\n",
       "      <td>6217807653094995999</td>\n",
       "      <td>1564055322</td>\n",
       "      <td>248</td>\n",
       "    </tr>\n",
       "  </tbody>\n",
       "</table>\n",
       "</div>"
      ],
      "text/plain": [
       "                 EventName         DeviceIDHash  EventTimestamp  ExpId\n",
       "0         MainScreenAppear  4575588528974610257      1564029816    246\n",
       "1         MainScreenAppear  7416695313311560658      1564053102    246\n",
       "2  PaymentScreenSuccessful  3518123091307005509      1564054127    248\n",
       "3         CartScreenAppear  3518123091307005509      1564054127    248\n",
       "4  PaymentScreenSuccessful  6217807653094995999      1564055322    248"
      ]
     },
     "execution_count": 2,
     "metadata": {},
     "output_type": "execute_result"
    }
   ],
   "source": [
    "action_user_df = pd.read_csv('/datasets/logs_exp.csv', sep='\\t')\n",
    "action_user_df.info()\n",
    "action_user_df.head()"
   ]
  },
  {
   "cell_type": "markdown",
   "metadata": {},
   "source": [
    "### Описание данных<a name='description'></a>\n",
    "\n",
    "Каждая запись в логе — это действие пользователя, или событие.\n",
    "- EventName — название события;\n",
    "- DeviceIDHash — уникальный идентификатор пользователя;\n",
    "- EventTimestamp — время события;\n",
    "- ExpId — номер эксперимента: 246 и 247 — контрольные группы, а 248 — экспериментальная."
   ]
  },
  {
   "cell_type": "code",
   "execution_count": 3,
   "metadata": {},
   "outputs": [],
   "source": [
    "primary_set_peoples_in_gr = action_user_df.groupby('ExpId')['DeviceIDHash'].nunique().values"
   ]
  },
  {
   "cell_type": "markdown",
   "metadata": {},
   "source": [
    "### Приведение данных в порядок <a name='data_adaptation'></a>\n"
   ]
  },
  {
   "cell_type": "code",
   "execution_count": 4,
   "metadata": {},
   "outputs": [
    {
     "name": "stdout",
     "output_type": "stream",
     "text": [
      "413 - количество дубликатов\n",
      "PaymentScreenSuccessful    195\n",
      "MainScreenAppear           104\n",
      "CartScreenAppear            63\n",
      "Tutorial                    34\n",
      "OffersScreenAppear          17\n",
      "Name: appear_screens, dtype: int64\n"
     ]
    }
   ],
   "source": [
    "action_user_df.rename(columns={\"EventName\": \"appear_screens\", \"DeviceIDHash\": \"hash_device_id\",\n",
    "                               \"EventTimestamp\": \"event_timestamp\", \"ExpId\": \"exp_id\"}, inplace=True)\n",
    "print(f'{action_user_df.duplicated().sum()} - количество дубликатов')\n",
    "print(action_user_df.loc[action_user_df.duplicated()]['appear_screens'].value_counts())\n",
    "action_user_df.drop_duplicates(inplace=True)"
   ]
  },
  {
   "cell_type": "code",
   "execution_count": 5,
   "metadata": {},
   "outputs": [
    {
     "name": "stdout",
     "output_type": "stream",
     "text": [
      "<class 'pandas.core.frame.DataFrame'>\n",
      "Int64Index: 243713 entries, 0 to 244125\n",
      "Data columns (total 5 columns):\n",
      "appear_screens    243713 non-null object\n",
      "hash_device_id    243713 non-null int64\n",
      "exp_id            243713 non-null object\n",
      "date_event        243713 non-null datetime64[ns]\n",
      "time_event        243713 non-null datetime64[ns]\n",
      "dtypes: datetime64[ns](2), int64(1), object(2)\n",
      "memory usage: 11.2+ MB\n"
     ]
    },
    {
     "data": {
      "text/html": [
       "<div>\n",
       "<style scoped>\n",
       "    .dataframe tbody tr th:only-of-type {\n",
       "        vertical-align: middle;\n",
       "    }\n",
       "\n",
       "    .dataframe tbody tr th {\n",
       "        vertical-align: top;\n",
       "    }\n",
       "\n",
       "    .dataframe thead th {\n",
       "        text-align: right;\n",
       "    }\n",
       "</style>\n",
       "<table border=\"1\" class=\"dataframe\">\n",
       "  <thead>\n",
       "    <tr style=\"text-align: right;\">\n",
       "      <th></th>\n",
       "      <th>appear_screens</th>\n",
       "      <th>hash_device_id</th>\n",
       "      <th>exp_id</th>\n",
       "      <th>date_event</th>\n",
       "      <th>time_event</th>\n",
       "    </tr>\n",
       "  </thead>\n",
       "  <tbody>\n",
       "    <tr>\n",
       "      <td>0</td>\n",
       "      <td>Main</td>\n",
       "      <td>4575588528974610257</td>\n",
       "      <td>КГ 1</td>\n",
       "      <td>2019-07-25</td>\n",
       "      <td>2019-07-25 04:43:36</td>\n",
       "    </tr>\n",
       "    <tr>\n",
       "      <td>1</td>\n",
       "      <td>Main</td>\n",
       "      <td>7416695313311560658</td>\n",
       "      <td>КГ 1</td>\n",
       "      <td>2019-07-25</td>\n",
       "      <td>2019-07-25 11:11:42</td>\n",
       "    </tr>\n",
       "    <tr>\n",
       "      <td>2</td>\n",
       "      <td>Payment successful</td>\n",
       "      <td>3518123091307005509</td>\n",
       "      <td>ЭГ</td>\n",
       "      <td>2019-07-25</td>\n",
       "      <td>2019-07-25 11:28:47</td>\n",
       "    </tr>\n",
       "    <tr>\n",
       "      <td>3</td>\n",
       "      <td>Cart</td>\n",
       "      <td>3518123091307005509</td>\n",
       "      <td>ЭГ</td>\n",
       "      <td>2019-07-25</td>\n",
       "      <td>2019-07-25 11:28:47</td>\n",
       "    </tr>\n",
       "    <tr>\n",
       "      <td>4</td>\n",
       "      <td>Payment successful</td>\n",
       "      <td>6217807653094995999</td>\n",
       "      <td>ЭГ</td>\n",
       "      <td>2019-07-25</td>\n",
       "      <td>2019-07-25 11:48:42</td>\n",
       "    </tr>\n",
       "  </tbody>\n",
       "</table>\n",
       "</div>"
      ],
      "text/plain": [
       "       appear_screens       hash_device_id exp_id date_event  \\\n",
       "0                Main  4575588528974610257   КГ 1 2019-07-25   \n",
       "1                Main  7416695313311560658   КГ 1 2019-07-25   \n",
       "2  Payment successful  3518123091307005509     ЭГ 2019-07-25   \n",
       "3                Cart  3518123091307005509     ЭГ 2019-07-25   \n",
       "4  Payment successful  6217807653094995999     ЭГ 2019-07-25   \n",
       "\n",
       "           time_event  \n",
       "0 2019-07-25 04:43:36  \n",
       "1 2019-07-25 11:11:42  \n",
       "2 2019-07-25 11:28:47  \n",
       "3 2019-07-25 11:28:47  \n",
       "4 2019-07-25 11:48:42  "
      ]
     },
     "execution_count": 5,
     "metadata": {},
     "output_type": "execute_result"
    }
   ],
   "source": [
    "action_user_df['exp_id'] = action_user_df['exp_id'].replace({246: 'КГ 1', 247: 'КГ 2', 248: 'ЭГ'})\n",
    "action_user_df['appear_screens'] = action_user_df['appear_screens'].replace({'MainScreenAppear': 'Main',\n",
    "    'OffersScreenAppear': 'Offers', 'CartScreenAppear': 'Cart', 'PaymentScreenSuccessful': 'Payment successful'})\n",
    "\n",
    "action_user_df['date_event'] = pd.to_datetime(action_user_df['event_timestamp'], unit='s').astype(dtype='datetime64[D]')\n",
    "action_user_df['time_event'] = pd.to_datetime(action_user_df['event_timestamp'], unit='s')\n",
    "action_user_df.drop(['event_timestamp'], axis=1, inplace=True)\n",
    "action_user_df.info()\n",
    "action_user_df.head()"
   ]
  },
  {
   "cell_type": "markdown",
   "metadata": {},
   "source": [
    "### Резюмирование проделанного <a name = 'little_conclusion'></a>\n",
    "\n",
    "* Удалён неинформативный столбец с timestamp'ами;\n",
    "* Созданы столбцы даты и даты со временем;\n",
    "* В столбце с действиями описываются появление различных экранов, в связи с чем переименовал столбец, поменял появление различных экранов на название конкретных экранов;\n",
    "* Заменены номерa групп на более информативные КГ 1 (246), КГ 2 (247), ЭГ (248), где К - контрольная, Э - экспериментальная, Г - группа;\n",
    "* Какой-то закономерности в событиях, у которых есть дубликаты не выявлено, 413 дубликатов удалено, возможными причинами их появления считаю:\n",
    "   * Некорректная работа приложения;\n",
    "   * Многократные попытки пользователем совершить одно и тоже действие, например по причине зависания приложения; \n",
    "   * Иные технические ошибки."
   ]
  },
  {
   "cell_type": "markdown",
   "metadata": {},
   "source": [
    "## Изучение данных. <a name ='analyze'></a>\n"
   ]
  },
  {
   "cell_type": "code",
   "execution_count": 6,
   "metadata": {},
   "outputs": [
    {
     "name": "stdout",
     "output_type": "stream",
     "text": [
      "5 - количество различных событий\n",
      "7551 - количество различных пользователей\n",
      "32.28 - среднее число событий на пользователя\n",
      "2019-07-25 - самая ранняя дата 2019-08-07 - самая поздняя дата\n"
     ]
    }
   ],
   "source": [
    "print('{} - количество различных событий'.format(action_user_df['appear_screens'].nunique()))\n",
    "print('{} - количество различных пользователей'.format(action_user_df['hash_device_id'].nunique()))\n",
    "print('{:.2f} - среднее число событий на пользователя'.format(action_user_df.\n",
    "                                                              groupby('hash_device_id')['appear_screens'].count().mean()))\n",
    "print('{} - самая ранняя дата {} - самая поздняя дата'.\n",
    "      format(action_user_df['date_event'].min().date(), action_user_df['date_event'].max().date()))\n"
   ]
  },
  {
   "cell_type": "code",
   "execution_count": 7,
   "metadata": {},
   "outputs": [
    {
     "data": {
      "image/png": "[encoded data removed]",
      "text/plain": [
       "<Figure size 432x288 with 1 Axes>"
      ]
     },
     "metadata": {
      "needs_background": "light"
     },
     "output_type": "display_data"
    }
   ],
   "source": [
    "data_for_hist = action_user_df['date_event'].value_counts().reset_index().sort_values('index', ascending=True)\n",
    "data_for_hist['index'] = data_for_hist['index'].dt.strftime('%Y-%m-%d')\n",
    "ax = sns.barplot(x=\"index\", y=\"date_event\", data = data_for_hist)\n",
    "ax.set_xlabel(\"Даты событий\")\n",
    "ax.set_title(\"Распределение событий по датам\")\n",
    "ax.set_ylabel(\"Количество событий в день\")\n",
    "ax.set_xticklabels(ax.get_xticklabels(), rotation=-45);"
   ]
  },
  {
   "cell_type": "markdown",
   "metadata": {},
   "source": [
    "Колоссальное отличие в данных за различные даты, в связи с чем далее будем считать границей свежести - второе августа."
   ]
  },
  {
   "cell_type": "code",
   "execution_count": 8,
   "metadata": {},
   "outputs": [
    {
     "data": {
      "image/png": "[encoded data removed]",
      "text/plain": [
       "<Figure size 1584x360 with 6 Axes>"
      ]
     },
     "metadata": {
      "needs_background": "light"
     },
     "output_type": "display_data"
    }
   ],
   "source": [
    "# Выделение четного часа события\n",
    "action_user_df['even_hours'] = action_user_df['time_event'] \\\n",
    "            .apply(lambda dt: datetime.datetime(dt.year, dt.month, dt.day, 2 * (dt.hour // 2)))\n",
    "\n",
    "# Получение информации о событиях за шесть дней из последней недели, выявление часа, даты события \n",
    "hist_by_even_hours = action_user_df.query('date_event >= \"2019-08-01\" and date_event != \"2019-08-07\"') \\\n",
    "                        ['even_hours'].value_counts().reset_index()\n",
    "hist_by_even_hours['date'] = hist_by_even_hours['index'].dt.date\n",
    "hist_by_even_hours['index'] = hist_by_even_hours['index'].dt.hour\n",
    "hist_by_even_hours = hist_by_even_hours.sort_values('date', ascending=True)\n",
    "\n",
    "fig, axs = plt.subplots(nrows=2, ncols=3, figsize=(22,5))\n",
    "plt.subplots_adjust(hspace = 0.65)\n",
    "\n",
    "# Построение гистограмм распределений событий по часам за шесть дней из крайней недели \n",
    "for counter_day in range(hist_by_even_hours['date'].nunique()):\n",
    "    considered_date = hist_by_even_hours['date'].unique()[counter_day]\n",
    "    sns.barplot(ax = axs[counter_day // 3, counter_day % 3], x=\"index\", y=\"even_hours\", \n",
    "                data=hist_by_even_hours.query('date == @considered_date').sort_values('index', ascending=True))\n",
    "    \n",
    "    axs[counter_day // 3, counter_day % 3].set_title(f'Рассматриваемый день - {considered_date}')\n",
    "    axs[counter_day // 3, counter_day % 3].set_ylabel(f'Число событий за 2 часа')\n",
    "    axs[counter_day // 3, counter_day % 3].set_xlabel(f'Час начала рассмотрения событий')"
   ]
  },
  {
   "cell_type": "code",
   "execution_count": 9,
   "metadata": {},
   "outputs": [
    {
     "data": {
      "image/png": "[encoded data removed]",
      "text/plain": [
       "<Figure size 432x288 with 1 Axes>"
      ]
     },
     "metadata": {
      "needs_background": "light"
     },
     "output_type": "display_data"
    }
   ],
   "source": [
    "# Получение информации о событиях в крайний день \n",
    "info_last_day = action_user_df.query('date_event == \"2019-08-07\"')\n",
    "info_last_day['hour_event'] = info_last_day['time_event'].dt.hour\n",
    "info_last_day = info_last_day['hour_event'].value_counts().reset_index().sort_values('index', ascending = True)\n",
    "\n",
    "ax = sns.barplot(x=\"index\", y=\"hour_event\", data = info_last_day)\n",
    "ax.set_xlabel(\"Часы событий\")\n",
    "ax.set_title(\"Распределение событий по часам\")\n",
    "ax.set_ylabel(\"Количество событий в час\");"
   ]
  },
  {
   "cell_type": "code",
   "execution_count": 10,
   "metadata": {},
   "outputs": [
    {
     "name": "stdout",
     "output_type": "stream",
     "text": [
      "2826 - Число потерянных событий\n",
      "17 - Число потерянных пользователей\n",
      "ЭГ      84563\n",
      "КГ 1    79302\n",
      "КГ 2    77022\n",
      "Name: exp_id, dtype: int64  Число пользователей по группам\n",
      "ЭГ      1019\n",
      "КГ 1     879\n",
      "КГ 2     928\n",
      "Name: exp_id, dtype: int64\n",
      "Количество удаленных пользователей из каждой группы.\n"
     ]
    }
   ],
   "source": [
    "print(len(action_user_df) - len(action_user_df.query('date_event >= \"2019-08-01\"')), '- Число потерянных событий')\n",
    "print(action_user_df['hash_device_id'].nunique() - \n",
    "      action_user_df.query('date_event >= \"2019-08-01\"')['hash_device_id'].nunique(), '- Число потерянных пользователей')\n",
    "\n",
    "print(action_user_df.query('date_event >= \"2019-08-01\"')['exp_id'].value_counts(), ' Число пользователей по группам')\n",
    "print(action_user_df['exp_id'].value_counts() - action_user_df.query('date_event >= \"2019-08-01\"')['exp_id'].value_counts())\n",
    "print('Количество удаленных пользователей из каждой группы.')\n",
    "action_user_df = action_user_df.query('date_event >= \"2019-08-01\"')"
   ]
  },
  {
   "cell_type": "markdown",
   "metadata": {},
   "source": [
    "### Вывод:\n",
    "* 5 - количество различных видов событий, число событий всего равно числу строк 243713;\n",
    "* 7551 - количество различных пользователей до актуализации временного промежутка;\n",
    "* 32.28 - среднее число событий на пользователя;\n",
    "* Минимальная доступная дата - 2019-07-25, самая поздняя - 2019-08-07;\n",
    "* С первого по седьмое августа число событий стабильно высокое 30000 - 35000;\n",
    "* Распределение числа событий внутри дня последнего времени похожи между собой с пиком в районе 14 часов;\n",
    "* По данным последнего дня неизвестны часть данных с 21 часа и позднее, в связи с чем и последний день возможно рассматривать далее, лишь делая поправку на это;\n",
    "* Потеряны лишь 2826 устаревших событий, это около одного процента от общего их числа и 17 пользователей 0.23% от всех пользователей;\n",
    "* Имеются представители всех трёх экспериментальных групп, при этом число удаленных пользователей из каждой группы примерно равны."
   ]
  },
  {
   "cell_type": "markdown",
   "metadata": {},
   "source": [
    "## Изучение воронки данных <a name='funnel'></a>\n"
   ]
  },
  {
   "cell_type": "code",
   "execution_count": 11,
   "metadata": {},
   "outputs": [
    {
     "data": {
      "image/png": "[encoded data removed]",
      "text/plain": [
       "<Figure size 432x288 with 1 Axes>"
      ]
     },
     "metadata": {
      "needs_background": "light"
     },
     "output_type": "display_data"
    }
   ],
   "source": [
    "ax = sns.barplot(x=\"index\", y=\"appear_screens\", data = action_user_df['appear_screens'].value_counts().reset_index())\n",
    "ax.set_xlabel(\"События из логов\")\n",
    "ax.set_title(\"Распределение числа различных событий\")\n",
    "ax.set_ylabel(\"Число различных событий\")\n",
    "ax.set_xticklabels(ax.get_xticklabels(), rotation=-45);"
   ]
  },
  {
   "cell_type": "markdown",
   "metadata": {},
   "source": [
    "Посчитайте, сколько пользователей совершали каждое из этих событий. Отсортируйте события по числу пользователей. Посчитайте долю пользователей, которые хоть раз совершали событие.\n"
   ]
  },
  {
   "cell_type": "code",
   "execution_count": 12,
   "metadata": {},
   "outputs": [
    {
     "name": "stdout",
     "output_type": "stream",
     "text": [
      "466 - количество пользователей, увидевшие все экраны\n"
     ]
    },
    {
     "data": {
      "image/png": "[encoded data removed]",
      "text/plain": [
       "<Figure size 1584x360 with 2 Axes>"
      ]
     },
     "metadata": {
      "needs_background": "light"
     },
     "output_type": "display_data"
    }
   ],
   "source": [
    "funnel_df = action_user_df.groupby('hash_device_id')['appear_screens'].nunique().reset_index()\n",
    "print('{} - количество пользователей, увидевшие все экраны'.format(funnel_df.query('appear_screens == 5').count().values[0]))\n",
    "\n",
    "actions_by_users = action_user_df. \\\n",
    "            groupby('appear_screens')['hash_device_id'].nunique().reset_index().sort_values('hash_device_id', ascending=False)\n",
    "\n",
    "fig, axs = plt.subplots(nrows=1, ncols=2, figsize=(22,5))\n",
    "sns.barplot(ax = axs[0], x=\"appear_screens\", y=\"hash_device_id\", data = actions_by_users)\n",
    "axs[0].set_xlabel(\"События из логов\")\n",
    "axs[0].set_title(\"Распределение числа пользователей по событиям\")\n",
    "axs[0].set_ylabel(\"Число различных пользователей\")\n",
    "axs[0].set_xticklabels(ax.get_xticklabels(), rotation=-45);\n",
    "\n",
    "\n",
    "actions_by_users['proportion_action'] =  round(actions_by_users['hash_device_id'] /\n",
    "                                               action_user_df['hash_device_id'].nunique(), 2)\n",
    "sns.barplot(ax = axs[1], x=\"appear_screens\", y=\"proportion_action\", \n",
    "                data=actions_by_users)\n",
    "axs[1].set_xlabel(\"События из логов\")\n",
    "axs[1].set_title(\"Распределение долей пользователей по событиям\")\n",
    "axs[1].set_ylabel(\"Доли пользователей\")\n",
    "axs[1].set_xticklabels(ax.get_xticklabels(), rotation=-45);"
   ]
  },
  {
   "cell_type": "markdown",
   "metadata": {},
   "source": [
    "Последовательностью событий будем считать следующее: Главный экран, предложение, корзина, сообщение об успешной покупке.\n",
    "\n",
    "Сложно предположить о популярных последовательностях действий, но есть следующие соображения:\n",
    "* Часто первым событием может являться - главный экран;\n",
    "* В некоторых случаях пользователи перед оплатой оказываются в корзине;\n",
    "* После главной страницы пользователям могут быть интересны предложения;\n",
    "* Возможно существуют много пользователей, которые просто открывают приложение и оказываются лишь на одной странице и всё.\n",
    "\n",
    "Найдём популярные последовательности событий, но обозначу пару допущений:\n",
    "* Будем рассматривать последовательность действий без ограничения по времени, не обращая внимание на временные промежутки между событиями;\n",
    "* Будем обращать внимание только на первое событие каждого вида.  "
   ]
  },
  {
   "cell_type": "code",
   "execution_count": 13,
   "metadata": {},
   "outputs": [
    {
     "data": {
      "text/plain": [
       "{\"'Main'\": 2701,\n",
       " \"'Main', 'Offers'\": 760,\n",
       " \"'Main', 'Offers', 'Payment successful', 'Cart'\": 712,\n",
       " \"'Main', 'Payment successful', 'Cart', 'Offers'\": 655,\n",
       " \"'Main', 'Offers', 'Cart', 'Payment successful'\": 646,\n",
       " \"'Main', 'Cart', 'Payment successful', 'Offers'\": 473}"
      ]
     },
     "execution_count": 13,
     "metadata": {},
     "output_type": "execute_result"
    }
   ],
   "source": [
    "# Получение последовательности событий для пользователя\n",
    "def get_sequence_actions(arr_actions):\n",
    "    list_sequence = list()\n",
    "    for element in arr_actions:\n",
    "        if element not in list_sequence:\n",
    "            list_sequence.append(element)\n",
    "        \n",
    "        if len(list_sequence) == 5:\n",
    "            break;\n",
    "            \n",
    "    return str(list_sequence)[1:-1]\n",
    "    \n",
    "# Получение словаря последовательностей событий и частоты их встречаемости\n",
    "def get_top_sequence(df):\n",
    "    dict_sequences = {}\n",
    "    \n",
    "    for id_device in df['hash_device_id'].unique():\n",
    "        result_functions = get_sequence_actions(action_user_df.query('hash_device_id == @id_device')\n",
    "                                                .sort_values('time_event')['appear_screens'].values)\n",
    "        \n",
    "        if result_functions in dict_sequences:\n",
    "            dict_sequences[result_functions] += 1\n",
    "        else:\n",
    "            dict_sequences[result_functions] = 1 \n",
    "\n",
    "    return dict_sequences\n",
    "    \n",
    "dict_seq = get_top_sequence(action_user_df)\n",
    "dict_seq = { key:value for (key,value) in dict_seq.items() if value > action_user_df['hash_device_id'].nunique() * 0.05}\n",
    "{key: value for key, value in sorted(dict_seq.items(), key=lambda dict_seq: dict_seq[1], reverse=True)}"
   ]
  },
  {
   "cell_type": "code",
   "execution_count": 14,
   "metadata": {},
   "outputs": [
    {
     "data": {
      "image/png": "[encoded data removed]",
      "text/plain": [
       "<Figure size 432x288 with 1 Axes>"
      ]
     },
     "metadata": {
      "needs_background": "light"
     },
     "output_type": "display_data"
    }
   ],
   "source": [
    "actions_by_users.reset_index(drop = True, inplace = True)\n",
    "\n",
    "for counter in range(1,4):\n",
    "    actions_by_users.loc[counter, 'from_last'] = round(actions_by_users.loc[counter, 'hash_device_id'] /\n",
    "                                                       actions_by_users.loc[counter-1, 'hash_device_id'], 2)\n",
    "    \n",
    "ax = sns.barplot(x=\"appear_screens\", y=\"from_last\", data = actions_by_users.loc[1:3])\n",
    "ax.set_xlabel(\"События из логов\")\n",
    "ax.set_title(\"Распределение отношений чисел пользователей относительно предыдущих этапов\")\n",
    "ax.set_ylabel(\"Отношение чисел пользователей\")\n",
    "ax.set_xticklabels(ax.get_xticklabels(), rotation=-45);"
   ]
  },
  {
   "cell_type": "code",
   "execution_count": 15,
   "metadata": {},
   "outputs": [
    {
     "name": "stdout",
     "output_type": "stream",
     "text": [
      "0.48 -  доля пользователей, которая доходит от первого события до оплаты\n"
     ]
    },
    {
     "data": {
      "image/png": "[encoded data removed]",
      "text/plain": [
       "<Figure size 432x288 with 1 Axes>"
      ]
     },
     "metadata": {
      "needs_background": "light"
     },
     "output_type": "display_data"
    }
   ],
   "source": [
    "for counter in range(1,4):\n",
    "    actions_by_users.loc[counter, 'difference_peoples'] = actions_by_users.loc[counter-1, 'hash_device_id'] - \\\n",
    "        actions_by_users.loc[counter, 'hash_device_id']\n",
    "\n",
    "\n",
    "ax = sns.barplot(x=\"appear_screens\", y=\"difference_peoples\", data = actions_by_users.loc[1:3])\n",
    "ax.set_xlabel(\"События из логов\")\n",
    "ax.set_title(\"Распределение убыли пользователей по шагам\")\n",
    "ax.set_ylabel(\"Потеря числа пользователей относительно предыдущего шага\")\n",
    "ax.set_xticklabels(ax.get_xticklabels(), rotation=-45);\n",
    "print('{:.2f} -  доля пользователей, которая доходит от первого события до оплаты'.\n",
    "      format(actions_by_users.loc[3,'hash_device_id'] / actions_by_users.loc[0,'hash_device_id']))"
   ]
  },
  {
   "cell_type": "code",
   "execution_count": 16,
   "metadata": {},
   "outputs": [],
   "source": [
    "control_group1 = action_user_df.query('exp_id == \"КГ 1\"')\n",
    "control_group2 = action_user_df.query('exp_id == \"КГ 2\"')\n",
    "experiment_group = action_user_df.query('exp_id == \"ЭГ\"')\n",
    "\n",
    "aggr_control_group1 = control_group1.groupby('appear_screens')['hash_device_id'].nunique(). \\\n",
    "            sort_values(ascending=False)\n",
    "aggr_control_group2 = control_group2.groupby('appear_screens')['hash_device_id'].nunique(). \\\n",
    "            sort_values(ascending=False)\n",
    "aggr_experiment_group = experiment_group.groupby('appear_screens')['hash_device_id'].nunique(). \\\n",
    "            sort_values(ascending=False)"
   ]
  },
  {
   "cell_type": "code",
   "execution_count": 29,
   "metadata": {},
   "outputs": [
    {
     "data": {
      "application/vnd.plotly.v1+json": {
       "config": {
        "plotlyServerURL": "https://plot.ly"
       },
       "data": [
        {
         "name": "Экспериментальная группа",
         "textinfo": "value+percent initial",
         "type": "funnel",
         "x": [
          2493,
          1531,
          1230,
          1181
         ],
         "y": [
          "Main",
          "Offers",
          "Cart",
          "Payment successful"
         ]
        },
        {
         "name": "Контрольная группа 1",
         "orientation": "h",
         "textinfo": "value+percent previous",
         "textposition": "inside",
         "type": "funnel",
         "x": [
          2450,
          1542,
          1266,
          1200
         ],
         "y": [
          "Main",
          "Offers",
          "Cart",
          "Payment successful"
         ]
        },
        {
         "name": "Контрольная группа 2",
         "orientation": "h",
         "textinfo": "value+percent total",
         "textposition": "inside",
         "type": "funnel",
         "x": [
          2476,
          1520,
          1238,
          1158
         ],
         "y": [
          "Main",
          "Offers",
          "Cart",
          "Payment successful"
         ]
        }
       ],
       "layout": {
        "template": {
         "data": {
          "bar": [
           {
            "error_x": {
             "color": "#2a3f5f"
            },
            "error_y": {
             "color": "#2a3f5f"
            },
            "marker": {
             "line": {
              "color": "#E5ECF6",
              "width": 0.5
             }
            },
            "type": "bar"
           }
          ],
          "barpolar": [
           {
            "marker": {
             "line": {
              "color": "#E5ECF6",
              "width": 0.5
             }
            },
            "type": "barpolar"
           }
          ],
          "carpet": [
           {
            "aaxis": {
             "endlinecolor": "#2a3f5f",
             "gridcolor": "white",
             "linecolor": "white",
             "minorgridcolor": "white",
             "startlinecolor": "#2a3f5f"
            },
            "baxis": {
             "endlinecolor": "#2a3f5f",
             "gridcolor": "white",
             "linecolor": "white",
             "minorgridcolor": "white",
             "startlinecolor": "#2a3f5f"
            },
            "type": "carpet"
           }
          ],
          "choropleth": [
           {
            "colorbar": {
             "outlinewidth": 0,
             "ticks": ""
            },
            "type": "choropleth"
           }
          ],
          "contour": [
           {
            "colorbar": {
             "outlinewidth": 0,
             "ticks": ""
            },
            "colorscale": [
             [
              0,
              "#0d0887"
             ],
             [
              0.1111111111111111,
              "#46039f"
             ],
             [
              0.2222222222222222,
              "#7201a8"
             ],
             [
              0.3333333333333333,
              "#9c179e"
             ],
             [
              0.4444444444444444,
              "#bd3786"
             ],
             [
              0.5555555555555556,
              "#d8576b"
             ],
             [
              0.6666666666666666,
              "#ed7953"
             ],
             [
              0.7777777777777778,
              "#fb9f3a"
             ],
             [
              0.8888888888888888,
              "#fdca26"
             ],
             [
              1,
              "#f0f921"
             ]
            ],
            "type": "contour"
           }
          ],
          "contourcarpet": [
           {
            "colorbar": {
             "outlinewidth": 0,
             "ticks": ""
            },
            "type": "contourcarpet"
           }
          ],
          "heatmap": [
           {
            "colorbar": {
             "outlinewidth": 0,
             "ticks": ""
            },
            "colorscale": [
             [
              0,
              "#0d0887"
             ],
             [
              0.1111111111111111,
              "#46039f"
             ],
             [
              0.2222222222222222,
              "#7201a8"
             ],
             [
              0.3333333333333333,
              "#9c179e"
             ],
             [
              0.4444444444444444,
              "#bd3786"
             ],
             [
              0.5555555555555556,
              "#d8576b"
             ],
             [
              0.6666666666666666,
              "#ed7953"
             ],
             [
              0.7777777777777778,
              "#fb9f3a"
             ],
             [
              0.8888888888888888,
              "#fdca26"
             ],
             [
              1,
              "#f0f921"
             ]
            ],
            "type": "heatmap"
           }
          ],
          "heatmapgl": [
           {
            "colorbar": {
             "outlinewidth": 0,
             "ticks": ""
            },
            "colorscale": [
             [
              0,
              "#0d0887"
             ],
             [
              0.1111111111111111,
              "#46039f"
             ],
             [
              0.2222222222222222,
              "#7201a8"
             ],
             [
              0.3333333333333333,
              "#9c179e"
             ],
             [
              0.4444444444444444,
              "#bd3786"
             ],
             [
              0.5555555555555556,
              "#d8576b"
             ],
             [
              0.6666666666666666,
              "#ed7953"
             ],
             [
              0.7777777777777778,
              "#fb9f3a"
             ],
             [
              0.8888888888888888,
              "#fdca26"
             ],
             [
              1,
              "#f0f921"
             ]
            ],
            "type": "heatmapgl"
           }
          ],
          "histogram": [
           {
            "marker": {
             "colorbar": {
              "outlinewidth": 0,
              "ticks": ""
             }
            },
            "type": "histogram"
           }
          ],
          "histogram2d": [
           {
            "colorbar": {
             "outlinewidth": 0,
             "ticks": ""
            },
            "colorscale": [
             [
              0,
              "#0d0887"
             ],
             [
              0.1111111111111111,
              "#46039f"
             ],
             [
              0.2222222222222222,
              "#7201a8"
             ],
             [
              0.3333333333333333,
              "#9c179e"
             ],
             [
              0.4444444444444444,
              "#bd3786"
             ],
             [
              0.5555555555555556,
              "#d8576b"
             ],
             [
              0.6666666666666666,
              "#ed7953"
             ],
             [
              0.7777777777777778,
              "#fb9f3a"
             ],
             [
              0.8888888888888888,
              "#fdca26"
             ],
             [
              1,
              "#f0f921"
             ]
            ],
            "type": "histogram2d"
           }
          ],
          "histogram2dcontour": [
           {
            "colorbar": {
             "outlinewidth": 0,
             "ticks": ""
            },
            "colorscale": [
             [
              0,
              "#0d0887"
             ],
             [
              0.1111111111111111,
              "#46039f"
             ],
             [
              0.2222222222222222,
              "#7201a8"
             ],
             [
              0.3333333333333333,
              "#9c179e"
             ],
             [
              0.4444444444444444,
              "#bd3786"
             ],
             [
              0.5555555555555556,
              "#d8576b"
             ],
             [
              0.6666666666666666,
              "#ed7953"
             ],
             [
              0.7777777777777778,
              "#fb9f3a"
             ],
             [
              0.8888888888888888,
              "#fdca26"
             ],
             [
              1,
              "#f0f921"
             ]
            ],
            "type": "histogram2dcontour"
           }
          ],
          "mesh3d": [
           {
            "colorbar": {
             "outlinewidth": 0,
             "ticks": ""
            },
            "type": "mesh3d"
           }
          ],
          "parcoords": [
           {
            "line": {
             "colorbar": {
              "outlinewidth": 0,
              "ticks": ""
             }
            },
            "type": "parcoords"
           }
          ],
          "pie": [
           {
            "automargin": true,
            "type": "pie"
           }
          ],
          "scatter": [
           {
            "marker": {
             "colorbar": {
              "outlinewidth": 0,
              "ticks": ""
             }
            },
            "type": "scatter"
           }
          ],
          "scatter3d": [
           {
            "line": {
             "colorbar": {
              "outlinewidth": 0,
              "ticks": ""
             }
            },
            "marker": {
             "colorbar": {
              "outlinewidth": 0,
              "ticks": ""
             }
            },
            "type": "scatter3d"
           }
          ],
          "scattercarpet": [
           {
            "marker": {
             "colorbar": {
              "outlinewidth": 0,
              "ticks": ""
             }
            },
            "type": "scattercarpet"
           }
          ],
          "scattergeo": [
           {
            "marker": {
             "colorbar": {
              "outlinewidth": 0,
              "ticks": ""
             }
            },
            "type": "scattergeo"
           }
          ],
          "scattergl": [
           {
            "marker": {
             "colorbar": {
              "outlinewidth": 0,
              "ticks": ""
             }
            },
            "type": "scattergl"
           }
          ],
          "scattermapbox": [
           {
            "marker": {
             "colorbar": {
              "outlinewidth": 0,
              "ticks": ""
             }
            },
            "type": "scattermapbox"
           }
          ],
          "scatterpolar": [
           {
            "marker": {
             "colorbar": {
              "outlinewidth": 0,
              "ticks": ""
             }
            },
            "type": "scatterpolar"
           }
          ],
          "scatterpolargl": [
           {
            "marker": {
             "colorbar": {
              "outlinewidth": 0,
              "ticks": ""
             }
            },
            "type": "scatterpolargl"
           }
          ],
          "scatterternary": [
           {
            "marker": {
             "colorbar": {
              "outlinewidth": 0,
              "ticks": ""
             }
            },
            "type": "scatterternary"
           }
          ],
          "surface": [
           {
            "colorbar": {
             "outlinewidth": 0,
             "ticks": ""
            },
            "colorscale": [
             [
              0,
              "#0d0887"
             ],
             [
              0.1111111111111111,
              "#46039f"
             ],
             [
              0.2222222222222222,
              "#7201a8"
             ],
             [
              0.3333333333333333,
              "#9c179e"
             ],
             [
              0.4444444444444444,
              "#bd3786"
             ],
             [
              0.5555555555555556,
              "#d8576b"
             ],
             [
              0.6666666666666666,
              "#ed7953"
             ],
             [
              0.7777777777777778,
              "#fb9f3a"
             ],
             [
              0.8888888888888888,
              "#fdca26"
             ],
             [
              1,
              "#f0f921"
             ]
            ],
            "type": "surface"
           }
          ],
          "table": [
           {
            "cells": {
             "fill": {
              "color": "#EBF0F8"
             },
             "line": {
              "color": "white"
             }
            },
            "header": {
             "fill": {
              "color": "#C8D4E3"
             },
             "line": {
              "color": "white"
             }
            },
            "type": "table"
           }
          ]
         },
         "layout": {
          "annotationdefaults": {
           "arrowcolor": "#2a3f5f",
           "arrowhead": 0,
           "arrowwidth": 1
          },
          "autotypenumbers": "strict",
          "coloraxis": {
           "colorbar": {
            "outlinewidth": 0,
            "ticks": ""
           }
          },
          "colorscale": {
           "diverging": [
            [
             0,
             "#8e0152"
            ],
            [
             0.1,
             "#c51b7d"
            ],
            [
             0.2,
             "#de77ae"
            ],
            [
             0.3,
             "#f1b6da"
            ],
            [
             0.4,
             "#fde0ef"
            ],
            [
             0.5,
             "#f7f7f7"
            ],
            [
             0.6,
             "#e6f5d0"
            ],
            [
             0.7,
             "#b8e186"
            ],
            [
             0.8,
             "#7fbc41"
            ],
            [
             0.9,
             "#4d9221"
            ],
            [
             1,
             "#276419"
            ]
           ],
           "sequential": [
            [
             0,
             "#0d0887"
            ],
            [
             0.1111111111111111,
             "#46039f"
            ],
            [
             0.2222222222222222,
             "#7201a8"
            ],
            [
             0.3333333333333333,
             "#9c179e"
            ],
            [
             0.4444444444444444,
             "#bd3786"
            ],
            [
             0.5555555555555556,
             "#d8576b"
            ],
            [
             0.6666666666666666,
             "#ed7953"
            ],
            [
             0.7777777777777778,
             "#fb9f3a"
            ],
            [
             0.8888888888888888,
             "#fdca26"
            ],
            [
             1,
             "#f0f921"
            ]
           ],
           "sequentialminus": [
            [
             0,
             "#0d0887"
            ],
            [
             0.1111111111111111,
             "#46039f"
            ],
            [
             0.2222222222222222,
             "#7201a8"
            ],
            [
             0.3333333333333333,
             "#9c179e"
            ],
            [
             0.4444444444444444,
             "#bd3786"
            ],
            [
             0.5555555555555556,
             "#d8576b"
            ],
            [
             0.6666666666666666,
             "#ed7953"
            ],
            [
             0.7777777777777778,
             "#fb9f3a"
            ],
            [
             0.8888888888888888,
             "#fdca26"
            ],
            [
             1,
             "#f0f921"
            ]
           ]
          },
          "colorway": [
           "#636efa",
           "#EF553B",
           "#00cc96",
           "#ab63fa",
           "#FFA15A",
           "#19d3f3",
           "#FF6692",
           "#B6E880",
           "#FF97FF",
           "#FECB52"
          ],
          "font": {
           "color": "#2a3f5f"
          },
          "geo": {
           "bgcolor": "white",
           "lakecolor": "white",
           "landcolor": "#E5ECF6",
           "showlakes": true,
           "showland": true,
           "subunitcolor": "white"
          },
          "hoverlabel": {
           "align": "left"
          },
          "hovermode": "closest",
          "mapbox": {
           "style": "light"
          },
          "paper_bgcolor": "white",
          "plot_bgcolor": "#E5ECF6",
          "polar": {
           "angularaxis": {
            "gridcolor": "white",
            "linecolor": "white",
            "ticks": ""
           },
           "bgcolor": "#E5ECF6",
           "radialaxis": {
            "gridcolor": "white",
            "linecolor": "white",
            "ticks": ""
           }
          },
          "scene": {
           "xaxis": {
            "backgroundcolor": "#E5ECF6",
            "gridcolor": "white",
            "gridwidth": 2,
            "linecolor": "white",
            "showbackground": true,
            "ticks": "",
            "zerolinecolor": "white"
           },
           "yaxis": {
            "backgroundcolor": "#E5ECF6",
            "gridcolor": "white",
            "gridwidth": 2,
            "linecolor": "white",
            "showbackground": true,
            "ticks": "",
            "zerolinecolor": "white"
           },
           "zaxis": {
            "backgroundcolor": "#E5ECF6",
            "gridcolor": "white",
            "gridwidth": 2,
            "linecolor": "white",
            "showbackground": true,
            "ticks": "",
            "zerolinecolor": "white"
           }
          },
          "shapedefaults": {
           "line": {
            "color": "#2a3f5f"
           }
          },
          "ternary": {
           "aaxis": {
            "gridcolor": "white",
            "linecolor": "white",
            "ticks": ""
           },
           "baxis": {
            "gridcolor": "white",
            "linecolor": "white",
            "ticks": ""
           },
           "bgcolor": "#E5ECF6",
           "caxis": {
            "gridcolor": "white",
            "linecolor": "white",
            "ticks": ""
           }
          },
          "title": {
           "x": 0.05
          },
          "xaxis": {
           "automargin": true,
           "gridcolor": "white",
           "linecolor": "white",
           "ticks": "",
           "title": {
            "standoff": 15
           },
           "zerolinecolor": "white",
           "zerolinewidth": 2
          },
          "yaxis": {
           "automargin": true,
           "gridcolor": "white",
           "linecolor": "white",
           "ticks": "",
           "title": {
            "standoff": 15
           },
           "zerolinecolor": "white",
           "zerolinewidth": 2
          }
         }
        }
       }
      },
      "text/html": [
       "<div>                            <div id=\"a766e394-2663-4edf-aa40-58e4fcac3fbc\" class=\"plotly-graph-div\" style=\"height:525px; width:100%;\"></div>            <script type=\"text/javascript\">                require([\"plotly\"], function(Plotly) {                    window.PLOTLYENV=window.PLOTLYENV || {};                                    if (document.getElementById(\"a766e394-2663-4edf-aa40-58e4fcac3fbc\")) {                    Plotly.newPlot(                        \"a766e394-2663-4edf-aa40-58e4fcac3fbc\",                        [{\"name\": \"\\u042d\\u043a\\u0441\\u043f\\u0435\\u0440\\u0438\\u043c\\u0435\\u043d\\u0442\\u0430\\u043b\\u044c\\u043d\\u0430\\u044f \\u0433\\u0440\\u0443\\u043f\\u043f\\u0430\", \"textinfo\": \"value+percent initial\", \"type\": \"funnel\", \"x\": [2493, 1531, 1230, 1181], \"y\": [\"Main\", \"Offers\", \"Cart\", \"Payment successful\"]}, {\"name\": \"\\u041a\\u043e\\u043d\\u0442\\u0440\\u043e\\u043b\\u044c\\u043d\\u0430\\u044f \\u0433\\u0440\\u0443\\u043f\\u043f\\u0430 1\", \"orientation\": \"h\", \"textinfo\": \"value+percent previous\", \"textposition\": \"inside\", \"type\": \"funnel\", \"x\": [2450, 1542, 1266, 1200], \"y\": [\"Main\", \"Offers\", \"Cart\", \"Payment successful\"]}, {\"name\": \"\\u041a\\u043e\\u043d\\u0442\\u0440\\u043e\\u043b\\u044c\\u043d\\u0430\\u044f \\u0433\\u0440\\u0443\\u043f\\u043f\\u0430 2\", \"orientation\": \"h\", \"textinfo\": \"value+percent total\", \"textposition\": \"inside\", \"type\": \"funnel\", \"x\": [2476, 1520, 1238, 1158], \"y\": [\"Main\", \"Offers\", \"Cart\", \"Payment successful\"]}],                        {\"template\": {\"data\": {\"bar\": [{\"error_x\": {\"color\": \"#2a3f5f\"}, \"error_y\": {\"color\": \"#2a3f5f\"}, \"marker\": {\"line\": {\"color\": \"#E5ECF6\", \"width\": 0.5}}, \"type\": \"bar\"}], \"barpolar\": [{\"marker\": {\"line\": {\"color\": \"#E5ECF6\", \"width\": 0.5}}, \"type\": \"barpolar\"}], \"carpet\": [{\"aaxis\": {\"endlinecolor\": \"#2a3f5f\", \"gridcolor\": \"white\", \"linecolor\": \"white\", \"minorgridcolor\": \"white\", \"startlinecolor\": \"#2a3f5f\"}, \"baxis\": {\"endlinecolor\": \"#2a3f5f\", \"gridcolor\": \"white\", \"linecolor\": \"white\", \"minorgridcolor\": \"white\", \"startlinecolor\": \"#2a3f5f\"}, \"type\": \"carpet\"}], \"choropleth\": [{\"colorbar\": {\"outlinewidth\": 0, \"ticks\": \"\"}, \"type\": \"choropleth\"}], \"contour\": [{\"colorbar\": {\"outlinewidth\": 0, \"ticks\": \"\"}, \"colorscale\": [[0.0, \"#0d0887\"], [0.1111111111111111, \"#46039f\"], [0.2222222222222222, \"#7201a8\"], [0.3333333333333333, \"#9c179e\"], [0.4444444444444444, \"#bd3786\"], [0.5555555555555556, \"#d8576b\"], [0.6666666666666666, \"#ed7953\"], [0.7777777777777778, \"#fb9f3a\"], [0.8888888888888888, \"#fdca26\"], [1.0, \"#f0f921\"]], \"type\": \"contour\"}], \"contourcarpet\": [{\"colorbar\": {\"outlinewidth\": 0, \"ticks\": \"\"}, \"type\": \"contourcarpet\"}], \"heatmap\": [{\"colorbar\": {\"outlinewidth\": 0, \"ticks\": \"\"}, \"colorscale\": [[0.0, \"#0d0887\"], [0.1111111111111111, \"#46039f\"], [0.2222222222222222, \"#7201a8\"], [0.3333333333333333, \"#9c179e\"], [0.4444444444444444, \"#bd3786\"], [0.5555555555555556, \"#d8576b\"], [0.6666666666666666, \"#ed7953\"], [0.7777777777777778, \"#fb9f3a\"], [0.8888888888888888, \"#fdca26\"], [1.0, \"#f0f921\"]], \"type\": \"heatmap\"}], \"heatmapgl\": [{\"colorbar\": {\"outlinewidth\": 0, \"ticks\": \"\"}, \"colorscale\": [[0.0, \"#0d0887\"], [0.1111111111111111, \"#46039f\"], [0.2222222222222222, \"#7201a8\"], [0.3333333333333333, \"#9c179e\"], [0.4444444444444444, \"#bd3786\"], [0.5555555555555556, \"#d8576b\"], [0.6666666666666666, \"#ed7953\"], [0.7777777777777778, \"#fb9f3a\"], [0.8888888888888888, \"#fdca26\"], [1.0, \"#f0f921\"]], \"type\": \"heatmapgl\"}], \"histogram\": [{\"marker\": {\"colorbar\": {\"outlinewidth\": 0, \"ticks\": \"\"}}, \"type\": \"histogram\"}], \"histogram2d\": [{\"colorbar\": {\"outlinewidth\": 0, \"ticks\": \"\"}, \"colorscale\": [[0.0, \"#0d0887\"], [0.1111111111111111, \"#46039f\"], [0.2222222222222222, \"#7201a8\"], [0.3333333333333333, \"#9c179e\"], [0.4444444444444444, \"#bd3786\"], [0.5555555555555556, \"#d8576b\"], [0.6666666666666666, \"#ed7953\"], [0.7777777777777778, \"#fb9f3a\"], [0.8888888888888888, \"#fdca26\"], [1.0, \"#f0f921\"]], \"type\": \"histogram2d\"}], \"histogram2dcontour\": [{\"colorbar\": {\"outlinewidth\": 0, \"ticks\": \"\"}, \"colorscale\": [[0.0, \"#0d0887\"], [0.1111111111111111, \"#46039f\"], [0.2222222222222222, \"#7201a8\"], [0.3333333333333333, \"#9c179e\"], [0.4444444444444444, \"#bd3786\"], [0.5555555555555556, \"#d8576b\"], [0.6666666666666666, \"#ed7953\"], [0.7777777777777778, \"#fb9f3a\"], [0.8888888888888888, \"#fdca26\"], [1.0, \"#f0f921\"]], \"type\": \"histogram2dcontour\"}], \"mesh3d\": [{\"colorbar\": {\"outlinewidth\": 0, \"ticks\": \"\"}, \"type\": \"mesh3d\"}], \"parcoords\": [{\"line\": {\"colorbar\": {\"outlinewidth\": 0, \"ticks\": \"\"}}, \"type\": \"parcoords\"}], \"pie\": [{\"automargin\": true, \"type\": \"pie\"}], \"scatter\": [{\"marker\": {\"colorbar\": {\"outlinewidth\": 0, \"ticks\": \"\"}}, \"type\": \"scatter\"}], \"scatter3d\": [{\"line\": {\"colorbar\": {\"outlinewidth\": 0, \"ticks\": \"\"}}, \"marker\": {\"colorbar\": {\"outlinewidth\": 0, \"ticks\": \"\"}}, \"type\": \"scatter3d\"}], \"scattercarpet\": [{\"marker\": {\"colorbar\": {\"outlinewidth\": 0, \"ticks\": \"\"}}, \"type\": \"scattercarpet\"}], \"scattergeo\": [{\"marker\": {\"colorbar\": {\"outlinewidth\": 0, \"ticks\": \"\"}}, \"type\": \"scattergeo\"}], \"scattergl\": [{\"marker\": {\"colorbar\": {\"outlinewidth\": 0, \"ticks\": \"\"}}, \"type\": \"scattergl\"}], \"scattermapbox\": [{\"marker\": {\"colorbar\": {\"outlinewidth\": 0, \"ticks\": \"\"}}, \"type\": \"scattermapbox\"}], \"scatterpolar\": [{\"marker\": {\"colorbar\": {\"outlinewidth\": 0, \"ticks\": \"\"}}, \"type\": \"scatterpolar\"}], \"scatterpolargl\": [{\"marker\": {\"colorbar\": {\"outlinewidth\": 0, \"ticks\": \"\"}}, \"type\": \"scatterpolargl\"}], \"scatterternary\": [{\"marker\": {\"colorbar\": {\"outlinewidth\": 0, \"ticks\": \"\"}}, \"type\": \"scatterternary\"}], \"surface\": [{\"colorbar\": {\"outlinewidth\": 0, \"ticks\": \"\"}, \"colorscale\": [[0.0, \"#0d0887\"], [0.1111111111111111, \"#46039f\"], [0.2222222222222222, \"#7201a8\"], [0.3333333333333333, \"#9c179e\"], [0.4444444444444444, \"#bd3786\"], [0.5555555555555556, \"#d8576b\"], [0.6666666666666666, \"#ed7953\"], [0.7777777777777778, \"#fb9f3a\"], [0.8888888888888888, \"#fdca26\"], [1.0, \"#f0f921\"]], \"type\": \"surface\"}], \"table\": [{\"cells\": {\"fill\": {\"color\": \"#EBF0F8\"}, \"line\": {\"color\": \"white\"}}, \"header\": {\"fill\": {\"color\": \"#C8D4E3\"}, \"line\": {\"color\": \"white\"}}, \"type\": \"table\"}]}, \"layout\": {\"annotationdefaults\": {\"arrowcolor\": \"#2a3f5f\", \"arrowhead\": 0, \"arrowwidth\": 1}, \"autotypenumbers\": \"strict\", \"coloraxis\": {\"colorbar\": {\"outlinewidth\": 0, \"ticks\": \"\"}}, \"colorscale\": {\"diverging\": [[0, \"#8e0152\"], [0.1, \"#c51b7d\"], [0.2, \"#de77ae\"], [0.3, \"#f1b6da\"], [0.4, \"#fde0ef\"], [0.5, \"#f7f7f7\"], [0.6, \"#e6f5d0\"], [0.7, \"#b8e186\"], [0.8, \"#7fbc41\"], [0.9, \"#4d9221\"], [1, \"#276419\"]], \"sequential\": [[0.0, \"#0d0887\"], [0.1111111111111111, \"#46039f\"], [0.2222222222222222, \"#7201a8\"], [0.3333333333333333, \"#9c179e\"], [0.4444444444444444, \"#bd3786\"], [0.5555555555555556, \"#d8576b\"], [0.6666666666666666, \"#ed7953\"], [0.7777777777777778, \"#fb9f3a\"], [0.8888888888888888, \"#fdca26\"], [1.0, \"#f0f921\"]], \"sequentialminus\": [[0.0, \"#0d0887\"], [0.1111111111111111, \"#46039f\"], [0.2222222222222222, \"#7201a8\"], [0.3333333333333333, \"#9c179e\"], [0.4444444444444444, \"#bd3786\"], [0.5555555555555556, \"#d8576b\"], [0.6666666666666666, \"#ed7953\"], [0.7777777777777778, \"#fb9f3a\"], [0.8888888888888888, \"#fdca26\"], [1.0, \"#f0f921\"]]}, \"colorway\": [\"#636efa\", \"#EF553B\", \"#00cc96\", \"#ab63fa\", \"#FFA15A\", \"#19d3f3\", \"#FF6692\", \"#B6E880\", \"#FF97FF\", \"#FECB52\"], \"font\": {\"color\": \"#2a3f5f\"}, \"geo\": {\"bgcolor\": \"white\", \"lakecolor\": \"white\", \"landcolor\": \"#E5ECF6\", \"showlakes\": true, \"showland\": true, \"subunitcolor\": \"white\"}, \"hoverlabel\": {\"align\": \"left\"}, \"hovermode\": \"closest\", \"mapbox\": {\"style\": \"light\"}, \"paper_bgcolor\": \"white\", \"plot_bgcolor\": \"#E5ECF6\", \"polar\": {\"angularaxis\": {\"gridcolor\": \"white\", \"linecolor\": \"white\", \"ticks\": \"\"}, \"bgcolor\": \"#E5ECF6\", \"radialaxis\": {\"gridcolor\": \"white\", \"linecolor\": \"white\", \"ticks\": \"\"}}, \"scene\": {\"xaxis\": {\"backgroundcolor\": \"#E5ECF6\", \"gridcolor\": \"white\", \"gridwidth\": 2, \"linecolor\": \"white\", \"showbackground\": true, \"ticks\": \"\", \"zerolinecolor\": \"white\"}, \"yaxis\": {\"backgroundcolor\": \"#E5ECF6\", \"gridcolor\": \"white\", \"gridwidth\": 2, \"linecolor\": \"white\", \"showbackground\": true, \"ticks\": \"\", \"zerolinecolor\": \"white\"}, \"zaxis\": {\"backgroundcolor\": \"#E5ECF6\", \"gridcolor\": \"white\", \"gridwidth\": 2, \"linecolor\": \"white\", \"showbackground\": true, \"ticks\": \"\", \"zerolinecolor\": \"white\"}}, \"shapedefaults\": {\"line\": {\"color\": \"#2a3f5f\"}}, \"ternary\": {\"aaxis\": {\"gridcolor\": \"white\", \"linecolor\": \"white\", \"ticks\": \"\"}, \"baxis\": {\"gridcolor\": \"white\", \"linecolor\": \"white\", \"ticks\": \"\"}, \"bgcolor\": \"#E5ECF6\", \"caxis\": {\"gridcolor\": \"white\", \"linecolor\": \"white\", \"ticks\": \"\"}}, \"title\": {\"x\": 0.05}, \"xaxis\": {\"automargin\": true, \"gridcolor\": \"white\", \"linecolor\": \"white\", \"ticks\": \"\", \"title\": {\"standoff\": 15}, \"zerolinecolor\": \"white\", \"zerolinewidth\": 2}, \"yaxis\": {\"automargin\": true, \"gridcolor\": \"white\", \"linecolor\": \"white\", \"ticks\": \"\", \"title\": {\"standoff\": 15}, \"zerolinecolor\": \"white\", \"zerolinewidth\": 2}}}},                        {\"responsive\": true}                    ).then(function(){\n",
       "                            \n",
       "var gd = document.getElementById('a766e394-2663-4edf-aa40-58e4fcac3fbc');\n",
       "var x = new MutationObserver(function (mutations, observer) {{\n",
       "        var display = window.getComputedStyle(gd).display;\n",
       "        if (!display || display === 'none') {{\n",
       "            console.log([gd, 'removed!']);\n",
       "            Plotly.purge(gd);\n",
       "            observer.disconnect();\n",
       "        }}\n",
       "}});\n",
       "\n",
       "// Listen for the removal of the full notebook cells\n",
       "var notebookContainer = gd.closest('#notebook-container');\n",
       "if (notebookContainer) {{\n",
       "    x.observe(notebookContainer, {childList: true});\n",
       "}}\n",
       "\n",
       "// Listen for the clearing of the current output cell\n",
       "var outputEl = gd.closest('.output');\n",
       "if (outputEl) {{\n",
       "    x.observe(outputEl, {childList: true});\n",
       "}}\n",
       "\n",
       "                        })                };                });            </script>        </div>"
      ]
     },
     "metadata": {},
     "output_type": "display_data"
    }
   ],
   "source": [
    "fig = go.Figure()\n",
    "\n",
    "fig.add_trace(go.Funnel(\n",
    "    name = 'Экспериментальная группа',\n",
    "    y = aggr_experiment_group[:-1].index,\n",
    "    x = aggr_experiment_group[:-1].values,\n",
    "    textinfo = \"value+percent initial\"))\n",
    "\n",
    "fig.add_trace(go.Funnel(\n",
    "    name = 'Контрольная группа 1',\n",
    "    orientation = \"h\",\n",
    "    y = aggr_control_group1[:-1].index,\n",
    "    x = aggr_control_group1[:-1].values,\n",
    "    textposition = \"inside\",\n",
    "    textinfo = \"value+percent previous\"))\n",
    "\n",
    "fig.add_trace(go.Funnel(\n",
    "    name = 'Контрольная группа 2',\n",
    "    orientation = \"h\",\n",
    "    y = aggr_control_group2[:-1].index,\n",
    "    x = aggr_control_group2[:-1].values,\n",
    "    textposition = \"inside\",\n",
    "    textinfo = \"value+percent total\"))\n",
    "\n",
    "fig.show()"
   ]
  },
  {
   "cell_type": "markdown",
   "metadata": {},
   "source": [
    "### Вывод о воронках:\n",
    "\n",
    "* Рассматриваемая воронка является несвязанной, так как оплату - конечное действие пользователи производят со всех экранов;\n",
    "* Всего в логах 5 событий, 1 из которых является опциональным, и используется небольшим числом пользователей;\n",
    "* Наибольшее число пользователей теряется при переходе от главного экрана к окну предложений, что может говорить о недовольстве дизайном - функционалом, который встречает пользователей;\n",
    "* 48 процентов пользователей от главного экрана доходят до оплаты, что является отличным показателем, кого-то оределенно нужно похвалить."
   ]
  },
  {
   "cell_type": "markdown",
   "metadata": {},
   "source": [
    "## Изучение результатов эксперимента.<a name='res_exp'></a>"
   ]
  },
  {
   "cell_type": "code",
   "execution_count": 18,
   "metadata": {},
   "outputs": [
    {
     "name": "stdout",
     "output_type": "stream",
     "text": [
      "[2484 2513 2537] Пользователей в первой контрольной группе, второй, экспериментальной соответственно\n"
     ]
    }
   ],
   "source": [
    "print(action_user_df.groupby('exp_id')['hash_device_id'].nunique().values, \n",
    "      'Пользователей в первой контрольной группе, второй, экспериментальной соответственно')"
   ]
  },
  {
   "cell_type": "code",
   "execution_count": 19,
   "metadata": {},
   "outputs": [
    {
     "name": "stdout",
     "output_type": "stream",
     "text": [
      "Количество пользователей, потерянных при переходе к актуальному временному промежутку по группам\n"
     ]
    },
    {
     "data": {
      "text/plain": [
       "array([5, 7, 5])"
      ]
     },
     "execution_count": 19,
     "metadata": {},
     "output_type": "execute_result"
    }
   ],
   "source": [
    "print('Количество пользователей, потерянных при переходе к актуальному временному промежутку по группам')\n",
    "primary_set_peoples_in_gr - action_user_df.groupby('exp_id')['hash_device_id'].nunique().values "
   ]
  },
  {
   "cell_type": "code",
   "execution_count": 20,
   "metadata": {},
   "outputs": [],
   "source": [
    "# Функция проведения z теста\n",
    "def z_test_check(successes, trials, proportion_action, alpha=0.05):\n",
    "    p1 = successes[0] / trials[0]\n",
    "    p2 = successes[1] / trials[1]\n",
    "    p_combined = (successes[0] + successes[1]) / (trials[0] + trials[1])\n",
    "    \n",
    "    difference = p1 - p2 \n",
    "    z_value = difference / math.sqrt(p_combined * (1 - p_combined) * (1/trials[0] + 1/trials[1]))\n",
    "    distr = stats.norm(0, 1)  \n",
    "    z_value = difference / math.sqrt(p_combined * (1 - p_combined) * (1/trials[0] + 1/trials[1]))\n",
    "\n",
    "    distr = stats.norm(0, 1) \n",
    "    p_value = (1 - distr.cdf(abs(z_value))) * 2\n",
    "    print('p-значение: ', p_value)\n",
    "\n",
    "    if (p_value < alpha):\n",
    "        print(f\"Отвергаем нулевую гипотезу: между долями появления {proportion_action} есть значимая разница\")\n",
    "    else:\n",
    "        print(f\"Не получилось отвергнуть нулевую гипотезу, нет оснований считать доли появления {proportion_action} разными\") "
   ]
  },
  {
   "cell_type": "code",
   "execution_count": 21,
   "metadata": {},
   "outputs": [],
   "source": [
    "# Функция перебора по действиям в группе и вызову z тестов по отдельным действиям\n",
    "def z_test_by_all_actions(group1, group2, alpha=0.05):\n",
    "    actions_arr = group1.groupby('appear_screens')['hash_device_id'].nunique().index\n",
    "    count_users_by_actions_gr1 = group1.groupby('appear_screens')['hash_device_id'].nunique().values\n",
    "    count_users_by_actions_gr2 = group2.groupby('appear_screens')['hash_device_id'].nunique().values\n",
    "    \n",
    "    for counter in range(len(count_users_by_actions_gr2)):\n",
    "        z_test_check([count_users_by_actions_gr1[counter], count_users_by_actions_gr2[counter]], \n",
    "                     [group1['hash_device_id'].nunique(), group2['hash_device_id'].nunique()], actions_arr[counter], alpha)"
   ]
  },
  {
   "cell_type": "markdown",
   "metadata": {},
   "source": [
    "### Проверка соотношения долей пользователей по различным действиям в двух контрольных группах<a name='gr12'></a>"
   ]
  },
  {
   "cell_type": "code",
   "execution_count": 22,
   "metadata": {},
   "outputs": [
    {
     "name": "stdout",
     "output_type": "stream",
     "text": [
      "p-значение:  0.22883372237997213\n",
      "Не получилось отвергнуть нулевую гипотезу, нет оснований считать доли появления Cart разными\n",
      "p-значение:  0.7570597232046099\n",
      "Не получилось отвергнуть нулевую гипотезу, нет оснований считать доли появления Main разными\n",
      "p-значение:  0.2480954578522181\n",
      "Не получилось отвергнуть нулевую гипотезу, нет оснований считать доли появления Offers разными\n",
      "p-значение:  0.11456679313141849\n",
      "Не получилось отвергнуть нулевую гипотезу, нет оснований считать доли появления Payment successful разными\n",
      "p-значение:  0.9376996189257114\n",
      "Не получилось отвергнуть нулевую гипотезу, нет оснований считать доли появления Tutorial разными\n"
     ]
    }
   ],
   "source": [
    "z_test_by_all_actions(control_group1, control_group2, alpha=0.05/20)"
   ]
  },
  {
   "cell_type": "markdown",
   "metadata": {},
   "source": [
    "### Проверка соотношения долей пользователей по различным действиям в экспериментальной группе и первой контрольной<a name='gr1exp'></a>"
   ]
  },
  {
   "cell_type": "code",
   "execution_count": 23,
   "metadata": {},
   "outputs": [
    {
     "name": "stdout",
     "output_type": "stream",
     "text": [
      "p-значение:  0.07842923237520116\n",
      "Не получилось отвергнуть нулевую гипотезу, нет оснований считать доли появления Cart разными\n",
      "p-значение:  0.2949721933554552\n",
      "Не получилось отвергнуть нулевую гипотезу, нет оснований считать доли появления Main разными\n",
      "p-значение:  0.20836205402738917\n",
      "Не получилось отвергнуть нулевую гипотезу, нет оснований считать доли появления Offers разными\n",
      "p-значение:  0.2122553275697796\n",
      "Не получилось отвергнуть нулевую гипотезу, нет оснований считать доли появления Payment successful разными\n",
      "p-значение:  0.8264294010087645\n",
      "Не получилось отвергнуть нулевую гипотезу, нет оснований считать доли появления Tutorial разными\n"
     ]
    }
   ],
   "source": [
    "z_test_by_all_actions(control_group1, experiment_group, alpha=0.05/20)"
   ]
  },
  {
   "cell_type": "markdown",
   "metadata": {},
   "source": [
    "### Проверка соотношения долей пользователей по различным действиям в экспериментальной группе и второй контрольной<a name='gr2exp'></a>"
   ]
  },
  {
   "cell_type": "code",
   "execution_count": 24,
   "metadata": {},
   "outputs": [
    {
     "name": "stdout",
     "output_type": "stream",
     "text": [
      "p-значение:  0.5786197879539783\n",
      "Не получилось отвергнуть нулевую гипотезу, нет оснований считать доли появления Cart разными\n",
      "p-значение:  0.4587053616621515\n",
      "Не получилось отвергнуть нулевую гипотезу, нет оснований считать доли появления Main разными\n",
      "p-значение:  0.9197817830592261\n",
      "Не получилось отвергнуть нулевую гипотезу, нет оснований считать доли появления Offers разными\n",
      "p-значение:  0.7373415053803964\n",
      "Не получилось отвергнуть нулевую гипотезу, нет оснований считать доли появления Payment successful разными\n",
      "p-значение:  0.765323922474501\n",
      "Не получилось отвергнуть нулевую гипотезу, нет оснований считать доли появления Tutorial разными\n"
     ]
    }
   ],
   "source": [
    "z_test_by_all_actions(control_group2, experiment_group, alpha=0.05/20)"
   ]
  },
  {
   "cell_type": "markdown",
   "metadata": {},
   "source": [
    "### Проверка соотношения долей пользователей по различным действиям в экспериментальной группе и объединённой  контрольной группе<a name='gr12exp'></a>"
   ]
  },
  {
   "cell_type": "code",
   "execution_count": 25,
   "metadata": {},
   "outputs": [
    {
     "name": "stdout",
     "output_type": "stream",
     "text": [
      "p-значение:  0.18175875284404386\n",
      "Не получилось отвергнуть нулевую гипотезу, нет оснований считать доли появления Cart разными\n",
      "p-значение:  0.29424526837179577\n",
      "Не получилось отвергнуть нулевую гипотезу, нет оснований считать доли появления Main разными\n",
      "p-значение:  0.43425549655188256\n",
      "Не получилось отвергнуть нулевую гипотезу, нет оснований считать доли появления Offers разными\n",
      "p-значение:  0.6004294282308704\n",
      "Не получилось отвергнуть нулевую гипотезу, нет оснований считать доли появления Payment successful разными\n",
      "p-значение:  0.764862472531507\n",
      "Не получилось отвергнуть нулевую гипотезу, нет оснований считать доли появления Tutorial разными\n"
     ]
    }
   ],
   "source": [
    "z_test_by_all_actions(pd.concat([control_group1, control_group2]), experiment_group, alpha=0.05/20)"
   ]
  },
  {
   "cell_type": "markdown",
   "metadata": {},
   "source": [
    "Было проверено 20 гипотез, и есть вероятность, что в одной из проверок была допущена ошибка, но так как допустимо предположить, что результаты остальных 19 тестов верны, и во всех тестах получен результат, который не выявил отличий в выборках, то предположение об отстутсвии статистически значимого различия не подвергается сомнению.   "
   ]
  },
  {
   "cell_type": "markdown",
   "metadata": {},
   "source": [
    "### Вывод о результатах экспериментов: <a name='conclusion_res'></a>\n",
    "* Количество пользователей в групппах близко, но слишком отличается, необходимо уточнить причину довольно большого отличия в численности групп для А Б тестов;\n",
    "* Применив Z-тест для проверок равенства частей пользователей по всем действиям значимых различий выявлено не было, и даже предполагая, что один из результатов тестов - ошибочный так как 20 тестов, и уровень значимости 0.05, предположение о равенстве групп отвергнуть невозможно;\n",
    "* P value при сравнении первой контрольной группы и экспериментальной были ниже, чем при сравнении экспериментальной со второй контрольной группой;\n",
    "* Исходя из пункта выше при объединении контрольных групп p-value усреднились, чем при сравнении в отдельных контрольных группах."
   ]
  },
  {
   "cell_type": "markdown",
   "metadata": {},
   "source": [
    "## Общий вывод <a name='conclusion'></a>\n",
    "\n",
    "* Информация о данных:\n",
    "  * 5 - различных видов событий, из которых одно опциональное;\n",
    "  * Рассматриваемый временной промежуток 2019-07-25, 2019-08-07, при этом актуальным считаю промежуток с 1 по 8 августа, в данных отсутствует информация о действиях за восьмое августа в период с 22 и до конца дня;\n",
    "  * Потеряны лишь 2826 устаревших событий, это около одного процента от общего их числа и 17 пользователей 0.23% от всех пользователей;\n",
    "  * 7534 - пользователей приложением в актуальный временной промежуток, при этом распределение по группам осталось равномерным, 2484, 2513, 2537 человек;\n",
    "  * Распределение числа событий внутри дня похожи между собой с пиком в районе 14 часов.\n",
    "  \n",
    "* Вывод о воронках:\n",
    "    * Рассматриваемая воронка является несвязанной, так как оплату - конечное действие пользователи производят со всех иных экранов;\n",
    "    * Наибольшее число пользователей теряется при переходе от главного экрана к окну предложений, что может говорить о недовольстве дизайном - функционалом, который встречает пользователей;\n",
    "    * 48 процентов пользователей от главного экрана доходят до оплаты, что является отличным показателем;\n",
    "    \n",
    "* Вывод о результатах экспериментов:\n",
    "    * Количество пользователей в групппах близко, но слишком отличается, необходимо уточнить причину довольно большого отличия в численности групп для А Б тестов;\n",
    "    * Применив Z-тест для проверок равенства частей пользователей по всем действиям значимых различий выявлено не было, и даже предполагая, что один из результатов тестов - ошибочный так как 20 тестов, и уровень значимости 0.05, предположение о равенстве групп отвергнуть невозможно;\n",
    "    * P value при сравнении первой контрольной группы и экспериментальной были ниже, чем при сравнении экспериментальной со второй контрольной группой;\n",
    "    * Исходя из пункта выше при объединении контрольных групп p-value усреднились, чем при сравнении в отдельных контрольных группах."
   ]
  }
 ],
 "metadata": {
  "kernelspec": {
   "display_name": "Python 3",
   "language": "python",
   "name": "python3"
  },
  "language_info": {
   "codemirror_mode": {
    "name": "ipython",
    "version": 3
   },
   "file_extension": ".py",
   "mimetype": "text/x-python",
   "name": "python",
   "nbconvert_exporter": "python",
   "pygments_lexer": "ipython3",
   "version": "3.7.6"
  }
 },
 "nbformat": 4,
 "nbformat_minor": 2
}
