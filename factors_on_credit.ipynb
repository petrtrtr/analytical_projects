{
 "cells": [
   {
   "cell_type": "markdown",
   "metadata": {},
   "source": [
    "### Исследование объявлений о продаже квартир. "
   ]
  },
   {
   "cell_type": "markdown",
   "metadata": {},
   "source": [
    "В распоряжении архив объявлений о продаже квартир в Санкт-Петербурге и соседних населённых пунктов за несколько лет. Необходимо научиться определять рыночную стоимость объектов недвижимости. Задача — установить параметры. Это позволит построить автоматизированную систему: она отследит аномалии и мошенническую деятельность."
   ]
  },
  {
   "cell_type": "markdown",
   "metadata": {},
   "source": [
    "### Шаг 1. Откройте файл с данными и изучите общую информацию. "
   ]
  },
  {
   "cell_type": "code",
   "execution_count": 2,
   "metadata": {},
   "outputs": [],
   "source": [
    "import pandas as pd\n",
    "import numpy as np\n",
    "from termcolor import colored\n",
    "import matplotlib.pyplot as plt"
   ]
  },
  {
   "cell_type": "code",
   "execution_count": 3,
   "metadata": {},
   "outputs": [
    {
     "data": {
      "text/html": [
       "<div>\n",
       "<style scoped>\n",
       "    .dataframe tbody tr th:only-of-type {\n",
       "        vertical-align: middle;\n",
       "    }\n",
       "\n",
       "    .dataframe tbody tr th {\n",
       "        vertical-align: top;\n",
       "    }\n",
       "\n",
       "    .dataframe thead th {\n",
       "        text-align: right;\n",
       "    }\n",
       "</style>\n",
       "<table border=\"1\" class=\"dataframe\">\n",
       "  <thead>\n",
       "    <tr style=\"text-align: right;\">\n",
       "      <th></th>\n",
       "      <th>children</th>\n",
       "      <th>days_employed</th>\n",
       "      <th>dob_years</th>\n",
       "      <th>education</th>\n",
       "      <th>education_id</th>\n",
       "      <th>family_status</th>\n",
       "      <th>family_status_id</th>\n",
       "      <th>gender</th>\n",
       "      <th>income_type</th>\n",
       "      <th>debt</th>\n",
       "      <th>total_income</th>\n",
       "      <th>purpose</th>\n",
       "    </tr>\n",
       "  </thead>\n",
       "  <tbody>\n",
       "    <tr>\n",
       "      <td>0</td>\n",
       "      <td>1</td>\n",
       "      <td>-8437.673028</td>\n",
       "      <td>42</td>\n",
       "      <td>высшее</td>\n",
       "      <td>0</td>\n",
       "      <td>женат / замужем</td>\n",
       "      <td>0</td>\n",
       "      <td>F</td>\n",
       "      <td>сотрудник</td>\n",
       "      <td>0</td>\n",
       "      <td>253875.639453</td>\n",
       "      <td>покупка жилья</td>\n",
       "    </tr>\n",
       "    <tr>\n",
       "      <td>1</td>\n",
       "      <td>1</td>\n",
       "      <td>-4024.803754</td>\n",
       "      <td>36</td>\n",
       "      <td>среднее</td>\n",
       "      <td>1</td>\n",
       "      <td>женат / замужем</td>\n",
       "      <td>0</td>\n",
       "      <td>F</td>\n",
       "      <td>сотрудник</td>\n",
       "      <td>0</td>\n",
       "      <td>112080.014102</td>\n",
       "      <td>приобретение автомобиля</td>\n",
       "    </tr>\n",
       "    <tr>\n",
       "      <td>2</td>\n",
       "      <td>0</td>\n",
       "      <td>-5623.422610</td>\n",
       "      <td>33</td>\n",
       "      <td>Среднее</td>\n",
       "      <td>1</td>\n",
       "      <td>женат / замужем</td>\n",
       "      <td>0</td>\n",
       "      <td>M</td>\n",
       "      <td>сотрудник</td>\n",
       "      <td>0</td>\n",
       "      <td>145885.952297</td>\n",
       "      <td>покупка жилья</td>\n",
       "    </tr>\n",
       "    <tr>\n",
       "      <td>3</td>\n",
       "      <td>3</td>\n",
       "      <td>-4124.747207</td>\n",
       "      <td>32</td>\n",
       "      <td>среднее</td>\n",
       "      <td>1</td>\n",
       "      <td>женат / замужем</td>\n",
       "      <td>0</td>\n",
       "      <td>M</td>\n",
       "      <td>сотрудник</td>\n",
       "      <td>0</td>\n",
       "      <td>267628.550329</td>\n",
       "      <td>дополнительное образование</td>\n",
       "    </tr>\n",
       "    <tr>\n",
       "      <td>4</td>\n",
       "      <td>0</td>\n",
       "      <td>340266.072047</td>\n",
       "      <td>53</td>\n",
       "      <td>среднее</td>\n",
       "      <td>1</td>\n",
       "      <td>гражданский брак</td>\n",
       "      <td>1</td>\n",
       "      <td>F</td>\n",
       "      <td>пенсионер</td>\n",
       "      <td>0</td>\n",
       "      <td>158616.077870</td>\n",
       "      <td>сыграть свадьбу</td>\n",
       "    </tr>\n",
       "  </tbody>\n",
       "</table>\n",
       "</div>"
      ],
      "text/plain": [
       "   children  days_employed  dob_years education  education_id  \\\n",
       "0         1   -8437.673028         42    высшее             0   \n",
       "1         1   -4024.803754         36   среднее             1   \n",
       "2         0   -5623.422610         33   Среднее             1   \n",
       "3         3   -4124.747207         32   среднее             1   \n",
       "4         0  340266.072047         53   среднее             1   \n",
       "\n",
       "      family_status  family_status_id gender income_type  debt   total_income  \\\n",
       "0   женат / замужем                 0      F   сотрудник     0  253875.639453   \n",
       "1   женат / замужем                 0      F   сотрудник     0  112080.014102   \n",
       "2   женат / замужем                 0      M   сотрудник     0  145885.952297   \n",
       "3   женат / замужем                 0      M   сотрудник     0  267628.550329   \n",
       "4  гражданский брак                 1      F   пенсионер     0  158616.077870   \n",
       "\n",
       "                      purpose  \n",
       "0               покупка жилья  \n",
       "1     приобретение автомобиля  \n",
       "2               покупка жилья  \n",
       "3  дополнительное образование  \n",
       "4             сыграть свадьбу  "
      ]
     },
     "metadata": {},
     "output_type": "display_data"
    },
    {
     "name": "stdout",
     "output_type": "stream",
     "text": [
      "<class 'pandas.core.frame.DataFrame'>\n",
      "RangeIndex: 21525 entries, 0 to 21524\n",
      "Data columns (total 12 columns):\n",
      "children            21525 non-null int64\n",
      "days_employed       19351 non-null float64\n",
      "dob_years           21525 non-null int64\n",
      "education           21525 non-null object\n",
      "education_id        21525 non-null int64\n",
      "family_status       21525 non-null object\n",
      "family_status_id    21525 non-null int64\n",
      "gender              21525 non-null object\n",
      "income_type         21525 non-null object\n",
      "debt                21525 non-null int64\n",
      "total_income        19351 non-null float64\n",
      "purpose             21525 non-null object\n",
      "dtypes: float64(2), int64(5), object(5)\n",
      "memory usage: 2.0+ MB\n"
     ]
    }
   ],
   "source": [
    "df_borrowers_reliability = pd.read_csv('/datasets/data.csv')\n",
    "\n",
    "display(df_borrowers_reliability.head())\n",
    "df_borrowers_reliability.info()"
   ]
  },
  {
   "cell_type": "markdown",
   "metadata": {},
   "source": [
    "### Вывод"
   ]
  },
  {
   "cell_type": "markdown",
   "metadata": {},
   "source": [
    "Рассмотрим полученную информацию подробнее.\n",
    "\n",
    "Всего в таблице 12 столбцов, тип данных столбцов различен.\n",
    "\n",
    "Подробно разберём, какие в df_borrowers_reliability столбцы и какую информацию о заёмщике они содержат:\n",
    "\n",
    "* children — количество детей в семье\n",
    "* days_employed — общий трудовой стаж в днях\n",
    "* dob_years — возраст клиента в годах\n",
    "* education — уровень образования клиента\n",
    "* education_id — идентификатор уровня образования\n",
    "* family_status — семейное положение\n",
    "* family_status_id — идентификатор семейного положения\n",
    "* gender — пол клиента\n",
    "* income_type — тип занятости\n",
    "* debt — имел ли задолженность по возврату кредитов\n",
    "* total_income — ежемесячный доход\n",
    "* purpose — цель получения кредита\n",
    "\n",
    "Количество значений в столбцах различается. Это говорит о том, что в данных есть пропущенные значения."
   ]
  },
  {
   "cell_type": "markdown",
   "metadata": {},
   "source": [
    "### Шаг 2. Предобработка данных"
   ]
  },
  {
   "cell_type": "markdown",
   "metadata": {},
   "source": [
    "### Обработка пропусков в столбце days_employed"
   ]
  },
  {
   "cell_type": "code",
   "execution_count": 4,
   "metadata": {},
   "outputs": [
    {
     "name": "stdout",
     "output_type": "stream",
     "text": [
      "0  - Количество людей без опыта работы\n"
     ]
    }
   ],
   "source": [
    "count_people_without_experience = df_borrowers_reliability[df_borrowers_reliability['days_employed'] == 0].days_employed.count()\n",
    "print(count_people_without_experience, ' - Количество людей без опыта работы')\n",
    "df_borrowers_reliability['days_employed'] = df_borrowers_reliability['days_employed'].fillna(0)"
   ]
  },
  {
   "cell_type": "markdown",
   "metadata": {},
   "source": [
    "### Обработка пропусков в столбце total_income"
   ]
  },
  {
   "cell_type": "code",
   "execution_count": 5,
   "metadata": {},
   "outputs": [
    {
     "data": {
      "image/png": "[encoded data removed]",
      "text/plain": [
       "<Figure size 432x288 with 1 Axes>"
      ]
     },
     "metadata": {
      "needs_background": "light"
     },
     "output_type": "display_data"
    },
    {
     "data": {
      "image/png": "[encoded data removed]",
      "text/plain": [
       "<Figure size 432x288 with 1 Axes>"
      ]
     },
     "metadata": {
      "needs_background": "light"
     },
     "output_type": "display_data"
    },
    {
     "data": {
      "image/png": "[encoded data removed]",
      "text/plain": [
       "<Figure size 432x288 with 1 Axes>"
      ]
     },
     "metadata": {
      "needs_background": "light"
     },
     "output_type": "display_data"
    }
   ],
   "source": [
    "df_borrowers_reliability['income_type_id'] = df_borrowers_reliability['income_type'].astype('category')\n",
    "cat_columns = df_borrowers_reliability.select_dtypes(['category']).columns\n",
    "df_borrowers_reliability['income_type_id'] = df_borrowers_reliability[cat_columns].apply(lambda x: x.cat.codes)\n",
    "\n",
    "df_borrowers_reliability.plot(kind='scatter',x='income_type_id', y='total_income',alpha=0.2)\n",
    "plt.title(\"График зависимости заработной платы от типа занятости.\")\n",
    "plt.xlabel(\"Тип занятости\")\n",
    "plt.ylabel(\"Размер заработной платы\")\n",
    "\n",
    "df_borrowers_reliability.plot(kind='scatter',x='education_id',y='total_income',alpha=0.2)\n",
    "plt.title(\"График зависимости заработной платы от уровня образования.\")\n",
    "plt.xlabel(\"Уровень образования\")\n",
    "plt.ylabel(\"Размер заработной платы\")\n",
    "\n",
    "df_borrowers_reliability.plot(kind='scatter',x='dob_years', y='total_income',alpha=0.2)\n",
    "plt.title(\"График зависимости заработной платы от возраста.\")\n",
    "plt.xlabel(\"Возраст\")\n",
    "plt.ylabel(\"Размер заработной платы\")\n",
    "\n",
    "mean_dob_years = df_borrowers_reliability.groupby('dob_years')['total_income'].mean()\n",
    "mean_income_type = df_borrowers_reliability.groupby('income_type')['total_income'].mean()\n",
    "mean_education_id = df_borrowers_reliability.groupby('education_id')['total_income'].mean()\n",
    "\n",
    "def calculate_replacement_value(row):\n",
    "    return (mean_dob_years[row['dob_years']] + mean_income_type[row['income_type']] + mean_education_id[row['education_id']]) / 3\n",
    "\n",
    "df_borrowers_reliability['total_income'] = df_borrowers_reliability.apply(calculate_replacement_value, axis=1)"
   ]
  },
  {
   "cell_type": "markdown",
   "metadata": {},
   "source": [
    "### Вывод"
   ]
  },
  {
   "cell_type": "markdown",
   "metadata": {},
   "source": [
    "* Было обнаружено, что данные о трудовом стаже и ежемесячном доходе 2174 человек неизвестны. \n",
    "* Считаю, что возможные причины появления пропусков в данных:\n",
    "    * Отсутствие опыта как такового, так как в таблице нет людей с нулевым стажем, то кто-то из 2174 людей может не иметь работы; \n",
    "    * Кто-то из людей с пропусками может не желать раскрывать данные о своей работе. \n",
    "* Пропуски заполнены по следующему принципу:    \n",
    "    * По причине не влияния данных из столбца трудового стажа на дальнейшие исследования, заменил их на уникальное значение в данном наборе данных \"0\"; \n",
    "    * В случае столбца \"total_income\" его значения важны для дальнейшего исследования, поэтому необходимо заменить пропущенные значения максимально корректно. По этой причине была выдвинута гипотеза, о том, что на размер заработной платы влияет возраст, уровень образования, тип занятости. Проанализировав графики связей этих факторов с размером зарплаты гипотеза была подтверждена. И в случае пропуска заработной платы, они заменяются средним между средних зарплат для каждой группы (возраст, уровень образования, тип занятости)."
   ]
  },
  {
   "cell_type": "markdown",
   "metadata": {},
   "source": [
    "### Обработка артефактов"
   ]
  },
  {
   "cell_type": "code",
   "execution_count": 6,
   "metadata": {},
   "outputs": [
    {
     "data": {
      "text/plain": [
       " 0     14149\n",
       " 1      4818\n",
       " 2      2055\n",
       " 3       330\n",
       " 20       76\n",
       "-1        47\n",
       " 4        41\n",
       " 5         9\n",
       "Name: children, dtype: int64"
      ]
     },
     "metadata": {},
     "output_type": "display_data"
    },
    {
     "data": {
      "text/plain": [
       "0    14149\n",
       "1     4865\n",
       "2     2131\n",
       "3      330\n",
       "4       41\n",
       "5        9\n",
       "Name: children, dtype: int64"
      ]
     },
     "metadata": {},
     "output_type": "display_data"
    },
    {
     "name": "stdout",
     "output_type": "stream",
     "text": [
      "-18388.949900568383 -24.14163324048118 Диапазон стажа в отрицательной области.\n",
      "20444    328728.720605\n",
      "Name: days_employed, dtype: float64 401755.40047533 Диапазон стажа в положительной области.\n"
     ]
    },
    {
     "data": {
      "text/plain": [
       "array([42, 36, 33, 32, 53, 27, 43, 50, 35, 41, 40, 65, 54, 56, 26, 48, 24,\n",
       "       21, 57, 67, 28, 63, 62, 47, 34, 68, 25, 31, 30, 20, 49, 37, 45, 61,\n",
       "       64, 44, 52, 46, 23, 38, 39, 51,  0, 59, 29, 60, 55, 58, 71, 22, 73,\n",
       "       66, 69, 19, 72, 70, 74, 75])"
      ]
     },
     "metadata": {},
     "output_type": "display_data"
    },
    {
     "data": {
      "text/plain": [
       "свадьба                                   797\n",
       "на проведение свадьбы                     777\n",
       "сыграть свадьбу                           774\n",
       "операции с недвижимостью                  676\n",
       "покупка коммерческой недвижимости         664\n",
       "покупка жилья для сдачи                   653\n",
       "операции с жильем                         653\n",
       "операции с коммерческой недвижимостью     651\n",
       "жилье                                     647\n",
       "покупка жилья                             647\n",
       "покупка жилья для семьи                   641\n",
       "строительство собственной недвижимости    635\n",
       "недвижимость                              634\n",
       "операции со своей недвижимостью           630\n",
       "строительство жилой недвижимости          626\n",
       "покупка недвижимости                      624\n",
       "строительство недвижимости                620\n",
       "покупка своего жилья                      620\n",
       "ремонт жилью                              612\n",
       "покупка жилой недвижимости                607\n",
       "на покупку своего автомобиля              505\n",
       "заняться высшим образованием              496\n",
       "автомобиль                                495\n",
       "сделка с подержанным автомобилем          489\n",
       "свой автомобиль                           480\n",
       "на покупку подержанного автомобиля        479\n",
       "автомобили                                478\n",
       "на покупку автомобиля                     472\n",
       "приобретение автомобиля                   462\n",
       "дополнительное образование                462\n",
       "сделка с автомобилем                      455\n",
       "высшее образование                        453\n",
       "получение дополнительного образования     447\n",
       "образование                               447\n",
       "получение образования                     443\n",
       "профильное образование                    436\n",
       "получение высшего образования             426\n",
       "заняться образованием                     412\n",
       "Name: purpose, dtype: int64"
      ]
     },
     "metadata": {},
     "output_type": "display_data"
    }
   ],
   "source": [
    "display(df_borrowers_reliability[\"children\"].value_counts())\n",
    "df_borrowers_reliability[\"children\"] = df_borrowers_reliability[\"children\"].replace({-1: 1, 20: 2})\n",
    "display(df_borrowers_reliability[\"children\"].value_counts())\n",
    "\n",
    "def change_invalid_age(row):\n",
    "    if row[\"days_employed\"] < 0:\n",
    "        return abs(row[\"days_employed\"])\n",
    "    return row[\"days_employed\"] / 24\n",
    "\n",
    "try:\n",
    "    print(df_borrowers_reliability[\"days_employed\"].min(), df_borrowers_reliability[df_borrowers_reliability\n",
    "    [df_borrowers_reliability[\"days_employed\"]<0][\"days_employed\"].max() == df_borrowers_reliability[\"days_employed\"]]\n",
    "    [\"days_employed\"].values[0], \"Диапазон стажа в отрицательной области.\")\n",
    "    \n",
    "    print(df_borrowers_reliability[df_borrowers_reliability[df_borrowers_reliability[\"days_employed\"] > 0][\"days_employed\"]\n",
    "    .min()== df_borrowers_reliability[\"days_employed\"]][\"days_employed\"],df_borrowers_reliability[\"days_employed\"].max()\n",
    "    , \"Диапазон стажа в положительной области.\")\n",
    "    \n",
    "    df_borrowers_reliability[\"days_employed\"] = df_borrowers_reliability.apply(change_invalid_age, axis=1)\n",
    "except:\n",
    "    display('Уже изменены некорректные значения возраста')\n",
    "    \n",
    "display(df_borrowers_reliability[\"dob_years\"].unique())\n",
    "\n",
    "try:\n",
    "    display(df_borrowers_reliability[\"purpose\"].value_counts())\n",
    "except:\n",
    "    display('Уже удален столбец purpose')    "
   ]
  },
  {
   "cell_type": "markdown",
   "metadata": {},
   "source": [
    "### Вывод"
   ]
  },
  {
   "cell_type": "markdown",
   "metadata": {},
   "source": [
    "* children - аномальные значения -1, 20:\n",
    "    * -1 поменял на 1, полагая, что случайно нажат -;\n",
    "    * 20 на 2, предположив, что ноль был нажат случайно.\n",
    "* days_employed - аномальные значения отрицательный стаж, огромные положительные значения:\n",
    "    * Однако сами значения отрицательного стажа по модулю весьма реальные, значения располагаются в диапазоне примерно -50 лет - -24 дня, число -50 лет не смущает по причине того, что стаж может идти с повышающим коэффициентом;\n",
    "    * Положительные значения аномально велики примерно 56 - 900 лет, в связи с чем было предположено, что положительные значения задают стаж не в днях, а в часах и разделены на 24 вновь получившийся диапазон - 2.3 года - 37.5 лет, предполагая что стаж может идти с повышающим коэффициентом 37.5 года не кажется аномально большим значением.\n",
    "* dob_years - 0 не считаю аномальным значением, потому что заемщик может просто скрывать возраст\n"
   ]
  },
  {
   "cell_type": "markdown",
   "metadata": {},
   "source": [
    "### Замена типа данных"
   ]
  },
  {
   "cell_type": "code",
   "execution_count": 7,
   "metadata": {
    "scrolled": true
   },
   "outputs": [
    {
     "name": "stdout",
     "output_type": "stream",
     "text": [
      "столбец - total_income, тип -  float64 \n",
      "столбец - days_employed, тип -  float64\n",
      "столбец - total_income, тип -  int64 \n",
      "столбец - days_employed, тип -  int64\n"
     ]
    }
   ],
   "source": [
    "print(\"столбец - total_income, тип - \", df_borrowers_reliability.dtypes[\"total_income\"]\n",
    "       , \"\\nстолбец - days_employed, тип - \", df_borrowers_reliability.dtypes[\"days_employed\"])\n",
    "\n",
    "df_borrowers_reliability[\"total_income\"] = df_borrowers_reliability[\"total_income\"].astype(int)\n",
    "df_borrowers_reliability[\"days_employed\"] = df_borrowers_reliability[\"days_employed\"].astype(int)\n",
    "\n",
    "print(\"столбец - total_income, тип - \", df_borrowers_reliability.dtypes[\"total_income\"]\n",
    "       , \"\\nстолбец - days_employed, тип - \", df_borrowers_reliability.dtypes[\"days_employed\"])"
   ]
  },
  {
   "cell_type": "markdown",
   "metadata": {},
   "source": [
    "### Вывод"
   ]
  },
  {
   "cell_type": "markdown",
   "metadata": {},
   "source": [
    "total_income, days_employed - значения типа float64, перед заменой необходимо заменить пропущенные значения, но это было сделано предварительно, выбираю astype как подходящую функцию для этой задачи."
   ]
  },
  {
   "cell_type": "markdown",
   "metadata": {},
   "source": [
    "### Обработка дубликатов"
   ]
  },
  {
   "cell_type": "code",
   "execution_count": 8,
   "metadata": {},
   "outputs": [
    {
     "name": "stdout",
     "output_type": "stream",
     "text": [
      "\u001b[31m54 - Количество дубликатов до приведения значений к нижнему регистру.\u001b[0m\n",
      "\u001b[31m['высшее' 'среднее' 'Среднее' 'СРЕДНЕЕ' 'ВЫСШЕЕ' 'неоконченное высшее'\n",
      " 'начальное' 'Высшее' 'НЕОКОНЧЕННОЕ ВЫСШЕЕ' 'Неоконченное высшее'\n",
      " 'НАЧАЛЬНОЕ' 'Начальное' 'Ученая степень' 'УЧЕНАЯ СТЕПЕНЬ'\n",
      " 'ученая степень']\u001b[0m\n",
      "\u001b[34m71 - Количество дубликатов после приведения значений к нижнему регистру.\u001b[0m\n",
      "\u001b[34m['высшее' 'среднее' 'неоконченное высшее' 'начальное' 'ученая степень']\u001b[0m\n",
      "\u001b[35m0 - Проверка отсутствия дубликатов.\u001b[0m\n"
     ]
    }
   ],
   "source": [
    "print(colored(\"{} - Количество дубликатов до приведения значений к нижнему регистру.\".format(df_borrowers_reliability.\n",
    "              duplicated().sum()), \"red\"))\n",
    "\n",
    "print(colored(df_borrowers_reliability[\"education\"].unique(), \"red\"))\n",
    "df_borrowers_reliability[\"education\"] = df_borrowers_reliability[\"education\"].str.lower()\n",
    "\n",
    "print(colored(\"{} - Количество дубликатов после приведения значений к нижнему регистру.\".format(df_borrowers_reliability.\n",
    "              duplicated().sum()), \"blue\"))    \n",
    "print(colored(df_borrowers_reliability[\"education\"].unique(), \"blue\"))\n",
    "\n",
    "df_borrowers_reliability = df_borrowers_reliability.drop_duplicates().reset_index(drop=True)\n",
    "\n",
    "print(colored(\"{} - Проверка отсутствия дубликатов.\".format(df_borrowers_reliability.\n",
    "              duplicated().sum()), \"magenta\"))"
   ]
  },
  {
   "cell_type": "markdown",
   "metadata": {},
   "source": [
    "### Вывод"
   ]
  },
  {
   "cell_type": "markdown",
   "metadata": {},
   "source": [
    "Столбец education - различное использование регистра плодит дубликаты, которые не детектируются методом duplicates в связи с чем привожу к нижнему регистру все значения столбца и обновляю количество найденных дубликатов. Да, существовали записи о клиентах отличающиеся лишь регистром значений в столбце education. После приведения значений к одному регистру выполнил замену дубликатов функцией drop_duplicates. Полагаю, что могут быть и дубликаты по последнему столбцу, но лемматизация в следующем пункте.\n",
    "Предполагаемые причины возникновения дубликатов:\n",
    "* Покупка в кредит нескольких изделий одной и той же стоимости;\n",
    "* Сбой при обработке значений;\n",
    "* Ошибка оператора, создававшего заявку на кредит;\n",
    "* Клиенты с одинаковыми параметрами, взявшие кредит на одинаковую цель.\n"
   ]
  },
  {
   "cell_type": "markdown",
   "metadata": {},
   "source": [
    "### Лемматизация"
   ]
  },
  {
   "cell_type": "markdown",
   "metadata": {},
   "source": [
    "#### Вспомогательные функции"
   ]
  },
  {
   "cell_type": "code",
   "execution_count": 9,
   "metadata": {},
   "outputs": [],
   "source": [
    "from pymystem3 import Mystem\n",
    "module_for_lemmas = Mystem()\n",
    "\n",
    "def aggregate_purpose(goals_lemmas):\n",
    "    if ('жилье' in goals_lemmas) or ('недвижимость' in goals_lemmas):\n",
    "        return 'операции с недвижимостью'\n",
    "            \n",
    "    if 'образование' in goals_lemmas:\n",
    "        return 'повышение образованности'\n",
    "            \n",
    "    if 'свадьба' in goals_lemmas:\n",
    "        return 'организация свадьбы'   \n",
    "            \n",
    "    return 'действия с автомобилем'\n",
    "\n",
    "def generate_aggregated_df(purposes_array):\n",
    "    values_for_df = []\n",
    "    \n",
    "    for purpose in purposes_array:\n",
    "        lemmas = module_for_lemmas.lemmatize(purpose)\n",
    "        values_for_df.append(aggregate_purpose(lemmas))\n",
    "    \n",
    "    upgrades_purposes_df = pd.DataFrame(values_for_df, index=purposes_array)\n",
    "\n",
    "    return upgrades_purposes_df"
   ]
  },
  {
   "cell_type": "markdown",
   "metadata": {},
   "source": [
    "#### Итоговая агрегация целей кредитования "
   ]
  },
  {
   "cell_type": "code",
   "execution_count": 10,
   "metadata": {},
   "outputs": [],
   "source": [
    "try:\n",
    "    unique_purposes = df_borrowers_reliability.purpose.unique()\n",
    "    aggregated_df_purposes = generate_aggregated_df(unique_purposes)\n",
    "    df_borrowers_reliability['aggregated_purpose'] = df_borrowers_reliability['purpose'].map(dict(aggregated_df_purposes[0]))\n",
    "\n",
    "except:\n",
    "    print('столбец purpose уже удален')\n",
    "    "
   ]
  },
  {
   "cell_type": "markdown",
   "metadata": {},
   "source": [
    "### Вывод"
   ]
  },
  {
   "cell_type": "markdown",
   "metadata": {},
   "source": [
    "Различных значений целей кредита в исходном наборе данных 38 штук, однако уникальных значений меньше, мною были выделены следующие:\n",
    "* Повышение образованности;\n",
    "* Операции с недвижимостью;\n",
    "* Действия с автомобилем;\n",
    "* Организация свадьбы.\n",
    "\n",
    "Затем используя все встречающиеся уникальные значения столбца \"purpose\" был создан \"Data Frame\" \"aggregated_df_purposes\", который в соответствие каждому значению из столбца \"purpose\" ставит в соответствие выделенные мною уникальные значения целей. Этот массив был создан, чтобы многократно для каждого значения исходного набора данных не генерировать значение столбца \"purpose\". Затем был создан столбец с обновленными целями."
   ]
  },
  {
   "cell_type": "markdown",
   "metadata": {},
   "source": [
    "### Проверка на дубликаты после лемматизации"
   ]
  },
  {
   "cell_type": "code",
   "execution_count": 11,
   "metadata": {},
   "outputs": [
    {
     "name": "stdout",
     "output_type": "stream",
     "text": [
      "345  - Дубликатов после получения обобщенных целей.\n",
      "0  - Проверка удаления дубликатов.\n"
     ]
    }
   ],
   "source": [
    "try:\n",
    "    df_borrowers_reliability = df_borrowers_reliability.drop(['purpose'], axis=1)\n",
    "    print(df_borrowers_reliability.duplicated().sum(), \" - Дубликатов после получения обобщенных целей.\")\n",
    "    \n",
    "except:\n",
    "    display(\"Уже удален.\")\n",
    "    \n",
    "df_borrowers_reliability = df_borrowers_reliability.drop_duplicates().reset_index(drop=True)\n",
    "print(df_borrowers_reliability.duplicated().sum(), \" - Проверка удаления дубликатов.\")"
   ]
  },
  {
   "cell_type": "markdown",
   "metadata": {},
   "source": [
    "### Вывод"
   ]
  },
  {
   "cell_type": "markdown",
   "metadata": {},
   "source": [
    "После лемматизации и объединении целей в определенные группы были вновь найдены повторы, расправился и с ними, вероятные причины их появления:\n",
    " * Несколько различных операторов, обрабатывающих данных, имевших разное представления об одной и той же цели наплодили клонов заемщиков;\n",
    " * Некорректная попытка изменения целей."
   ]
  },
  {
   "cell_type": "markdown",
   "metadata": {},
   "source": [
    "### Шаг 3. Ответьте на вопросы"
   ]
  },
  {
   "cell_type": "markdown",
   "metadata": {},
   "source": [
    "- Есть ли зависимость между наличием детей и возвратом кредита в срок?"
   ]
  },
  {
   "cell_type": "code",
   "execution_count": 12,
   "metadata": {},
   "outputs": [
    {
     "data": {
      "text/html": [
       "<div>\n",
       "<style scoped>\n",
       "    .dataframe tbody tr th:only-of-type {\n",
       "        vertical-align: middle;\n",
       "    }\n",
       "\n",
       "    .dataframe tbody tr th {\n",
       "        vertical-align: top;\n",
       "    }\n",
       "\n",
       "    .dataframe thead tr th {\n",
       "        text-align: left;\n",
       "    }\n",
       "\n",
       "    .dataframe thead tr:last-of-type th {\n",
       "        text-align: right;\n",
       "    }\n",
       "</style>\n",
       "<table border=\"1\" class=\"dataframe\">\n",
       "  <thead>\n",
       "    <tr>\n",
       "      <th></th>\n",
       "      <th>mean</th>\n",
       "      <th>count</th>\n",
       "    </tr>\n",
       "    <tr>\n",
       "      <th></th>\n",
       "      <th>debt</th>\n",
       "      <th>debt</th>\n",
       "    </tr>\n",
       "    <tr>\n",
       "      <th>children</th>\n",
       "      <th></th>\n",
       "      <th></th>\n",
       "    </tr>\n",
       "  </thead>\n",
       "  <tbody>\n",
       "    <tr>\n",
       "      <td>0</td>\n",
       "      <td>0.076767</td>\n",
       "      <td>13821</td>\n",
       "    </tr>\n",
       "    <tr>\n",
       "      <td>1</td>\n",
       "      <td>0.092786</td>\n",
       "      <td>4796</td>\n",
       "    </tr>\n",
       "    <tr>\n",
       "      <td>2</td>\n",
       "      <td>0.095553</td>\n",
       "      <td>2114</td>\n",
       "    </tr>\n",
       "    <tr>\n",
       "      <td>3</td>\n",
       "      <td>0.082067</td>\n",
       "      <td>329</td>\n",
       "    </tr>\n",
       "    <tr>\n",
       "      <td>4</td>\n",
       "      <td>0.100000</td>\n",
       "      <td>40</td>\n",
       "    </tr>\n",
       "    <tr>\n",
       "      <td>5</td>\n",
       "      <td>0.000000</td>\n",
       "      <td>9</td>\n",
       "    </tr>\n",
       "  </tbody>\n",
       "</table>\n",
       "</div>"
      ],
      "text/plain": [
       "              mean  count\n",
       "              debt   debt\n",
       "children                 \n",
       "0         0.076767  13821\n",
       "1         0.092786   4796\n",
       "2         0.095553   2114\n",
       "3         0.082067    329\n",
       "4         0.100000     40\n",
       "5         0.000000      9"
      ]
     },
     "metadata": {},
     "output_type": "display_data"
    },
    {
     "data": {
      "image/png": "[encoded data removed]",
      "text/plain": [
       "<Figure size 432x288 with 1 Axes>"
      ]
     },
     "metadata": {
      "needs_background": "light"
     },
     "output_type": "display_data"
    }
   ],
   "source": [
    "display(df_borrowers_reliability.pivot_table(index='children', values='debt', aggfunc=['mean','count']))\n",
    "\n",
    "df_borrowers_reliability.groupby('children')['debt'].mean().plot()\n",
    "plt.title(\"График зависимости частоты задолженностей по кредитам от количества детей.\")\n",
    "plt.xlabel(\"Количество детей\")\n",
    "plt.ylabel(\"Частота задолженностей\");"
   ]
  },
  {
   "cell_type": "markdown",
   "metadata": {},
   "source": [
    "### Вывод"
   ]
  },
  {
   "cell_type": "markdown",
   "metadata": {},
   "source": [
    "Зависимости между количеством детей и возвратом кредита в срок нет, расхождение в частоте возвратов в срок у людей, имеющих детей от 0 до 4 пренебрежимо мало. А вот случай, наблюдаемый у людей с 5 детей интересен,являются ли такие заёмщике более благополучными? Однако на основе лишь 9 таких клиентов такой однозначный вывод сделать не представляется возможным."
   ]
  },
  {
   "cell_type": "markdown",
   "metadata": {},
   "source": [
    "- Есть ли зависимость между семейным положением и возвратом кредита в срок?"
   ]
  },
  {
   "cell_type": "code",
   "execution_count": 13,
   "metadata": {},
   "outputs": [
    {
     "data": {
      "text/html": [
       "<div>\n",
       "<style scoped>\n",
       "    .dataframe tbody tr th:only-of-type {\n",
       "        vertical-align: middle;\n",
       "    }\n",
       "\n",
       "    .dataframe tbody tr th {\n",
       "        vertical-align: top;\n",
       "    }\n",
       "\n",
       "    .dataframe thead tr th {\n",
       "        text-align: left;\n",
       "    }\n",
       "\n",
       "    .dataframe thead tr:last-of-type th {\n",
       "        text-align: right;\n",
       "    }\n",
       "</style>\n",
       "<table border=\"1\" class=\"dataframe\">\n",
       "  <thead>\n",
       "    <tr>\n",
       "      <th></th>\n",
       "      <th>mean</th>\n",
       "      <th>count</th>\n",
       "    </tr>\n",
       "    <tr>\n",
       "      <th></th>\n",
       "      <th>debt</th>\n",
       "      <th>debt</th>\n",
       "    </tr>\n",
       "    <tr>\n",
       "      <th>family_status</th>\n",
       "      <th></th>\n",
       "      <th></th>\n",
       "    </tr>\n",
       "  </thead>\n",
       "  <tbody>\n",
       "    <tr>\n",
       "      <td>Не женат / не замужем</td>\n",
       "      <td>0.098455</td>\n",
       "      <td>2783</td>\n",
       "    </tr>\n",
       "    <tr>\n",
       "      <td>в разводе</td>\n",
       "      <td>0.071249</td>\n",
       "      <td>1193</td>\n",
       "    </tr>\n",
       "    <tr>\n",
       "      <td>вдовец / вдова</td>\n",
       "      <td>0.066808</td>\n",
       "      <td>943</td>\n",
       "    </tr>\n",
       "    <tr>\n",
       "      <td>гражданский брак</td>\n",
       "      <td>0.094106</td>\n",
       "      <td>4123</td>\n",
       "    </tr>\n",
       "    <tr>\n",
       "      <td>женат / замужем</td>\n",
       "      <td>0.076987</td>\n",
       "      <td>12067</td>\n",
       "    </tr>\n",
       "  </tbody>\n",
       "</table>\n",
       "</div>"
      ],
      "text/plain": [
       "                           mean  count\n",
       "                           debt   debt\n",
       "family_status                         \n",
       "Не женат / не замужем  0.098455   2783\n",
       "в разводе              0.071249   1193\n",
       "вдовец / вдова         0.066808    943\n",
       "гражданский брак       0.094106   4123\n",
       "женат / замужем        0.076987  12067"
      ]
     },
     "metadata": {},
     "output_type": "display_data"
    },
    {
     "name": "stdout",
     "output_type": "stream",
     "text": [
      "1.3431759479262488  - соотношение задолженностей людей не узаконивших свое семейное положения и тех, кто это сделал \n"
     ]
    },
    {
     "data": {
      "image/png": "[encoded data removed]",
      "text/plain": [
       "<Figure size 432x288 with 1 Axes>"
      ]
     },
     "metadata": {
      "needs_background": "light"
     },
     "output_type": "display_data"
    }
   ],
   "source": [
    "display(df_borrowers_reliability.pivot_table(index='family_status', values='debt', aggfunc=['mean','count']))\n",
    "mean_debt_by_marital_status = df_borrowers_reliability.groupby('family_status')['debt'].mean()\n",
    "\n",
    "difference_in_solvency =  (3 * (mean_debt_by_marital_status[0] + mean_debt_by_marital_status[3])) \\\n",
    "/ (2 * (mean_debt_by_marital_status[1] + mean_debt_by_marital_status[2] + mean_debt_by_marital_status[4]))\n",
    "\n",
    "print(difference_in_solvency, \" - соотношение задолженностей людей не узаконивших свое семейное положения и тех, кто это сделал \")\n",
    "\n",
    "df_borrowers_reliability.groupby('family_status_id')['debt'].mean().plot()\n",
    "plt.title(\"График зависимости частоты задолженностей по кредитам от семейного статуса.\")\n",
    "plt.xlabel(\"Семейный статус\")\n",
    "plt.ylabel(\"Частота задолженностей\");"
   ]
  },
  {
   "cell_type": "code",
   "execution_count": 14,
   "metadata": {},
   "outputs": [
    {
     "data": {
      "text/html": [
       "<style  type=\"text/css\" >\n",
       "</style><table id=\"T_60b5623a_05ba_11eb_9cdc_02420a391f3b\" ><thead>    <tr>        <th class=\"blank level0\" ></th>        <th class=\"col_heading level0 col0\" >mean</th>        <th class=\"col_heading level0 col1\" >count</th>    </tr>    <tr>        <th class=\"blank level1\" ></th>        <th class=\"col_heading level1 col0\" >debt</th>        <th class=\"col_heading level1 col1\" >debt</th>    </tr>    <tr>        <th class=\"index_name level0\" >aggregated_purpose</th>        <th class=\"blank\" ></th>        <th class=\"blank\" ></th>    </tr></thead><tbody>\n",
       "                <tr>\n",
       "                        <th id=\"T_60b5623a_05ba_11eb_9cdc_02420a391f3blevel0_row0\" class=\"row_heading level0 row0\" >действия с автомобилем</th>\n",
       "                        <td id=\"T_60b5623a_05ba_11eb_9cdc_02420a391f3brow0_col0\" class=\"data row0 col0\" >9.41%</td>\n",
       "                        <td id=\"T_60b5623a_05ba_11eb_9cdc_02420a391f3brow0_col1\" class=\"data row0 col1\" >4271</td>\n",
       "            </tr>\n",
       "            <tr>\n",
       "                        <th id=\"T_60b5623a_05ba_11eb_9cdc_02420a391f3blevel0_row1\" class=\"row_heading level0 row1\" >операции с недвижимостью</th>\n",
       "                        <td id=\"T_60b5623a_05ba_11eb_9cdc_02420a391f3brow1_col0\" class=\"data row1 col0\" >7.39%</td>\n",
       "                        <td id=\"T_60b5623a_05ba_11eb_9cdc_02420a391f3brow1_col1\" class=\"data row1 col1\" >10569</td>\n",
       "            </tr>\n",
       "            <tr>\n",
       "                        <th id=\"T_60b5623a_05ba_11eb_9cdc_02420a391f3blevel0_row2\" class=\"row_heading level0 row2\" >организация свадьбы</th>\n",
       "                        <td id=\"T_60b5623a_05ba_11eb_9cdc_02420a391f3brow2_col0\" class=\"data row2 col0\" >8.07%</td>\n",
       "                        <td id=\"T_60b5623a_05ba_11eb_9cdc_02420a391f3brow2_col1\" class=\"data row2 col1\" >2305</td>\n",
       "            </tr>\n",
       "            <tr>\n",
       "                        <th id=\"T_60b5623a_05ba_11eb_9cdc_02420a391f3blevel0_row3\" class=\"row_heading level0 row3\" >повышение образованности</th>\n",
       "                        <td id=\"T_60b5623a_05ba_11eb_9cdc_02420a391f3brow3_col0\" class=\"data row3 col0\" >9.33%</td>\n",
       "                        <td id=\"T_60b5623a_05ba_11eb_9cdc_02420a391f3brow3_col1\" class=\"data row3 col1\" >3964</td>\n",
       "            </tr>\n",
       "    </tbody></table>"
      ],
      "text/plain": [
       "<pandas.io.formats.style.Styler at 0x7f3cf7995450>"
      ]
     },
     "execution_count": 14,
     "metadata": {},
     "output_type": "execute_result"
    }
   ],
   "source": [
    "aggregated_purpose_pivot_table = df_borrowers_reliability.pivot_table(index='aggregated_purpose', \n",
    "                                                        values ='debt', aggfunc = ['mean','count'])\n",
    "aggregated_purpose_pivot_table.style.format({( 'mean', 'debt'): '{:.2%}'})"
   ]
  },
  {
   "cell_type": "markdown",
   "metadata": {},
   "source": [
    "### Вывод"
   ]
  },
  {
   "cell_type": "markdown",
   "metadata": {},
   "source": [
    "Зависимость между семейным положением и возвратом кредита в срок прослеживается, люди узаконившие свои отношения в среднем на 34% чаще не возвращают кредиты, чем люди, которые не делали этого. Особенно не платежеспособными клиентами оказываются люди, потерявшие своего супруга(у)."
   ]
  },
  {
   "cell_type": "markdown",
   "metadata": {},
   "source": [
    "- Есть ли зависимость между уровнем дохода и возвратом кредита в срок?"
   ]
  },
  {
   "cell_type": "code",
   "execution_count": 15,
   "metadata": {},
   "outputs": [
    {
     "data": {
      "text/html": [
       "<div>\n",
       "<style scoped>\n",
       "    .dataframe tbody tr th:only-of-type {\n",
       "        vertical-align: middle;\n",
       "    }\n",
       "\n",
       "    .dataframe tbody tr th {\n",
       "        vertical-align: top;\n",
       "    }\n",
       "\n",
       "    .dataframe thead th {\n",
       "        text-align: right;\n",
       "    }\n",
       "</style>\n",
       "<table border=\"1\" class=\"dataframe\">\n",
       "  <thead>\n",
       "    <tr style=\"text-align: right;\">\n",
       "      <th></th>\n",
       "      <th>mean</th>\n",
       "      <th>count</th>\n",
       "    </tr>\n",
       "    <tr>\n",
       "      <th>total_income_anomaly</th>\n",
       "      <th></th>\n",
       "      <th></th>\n",
       "    </tr>\n",
       "  </thead>\n",
       "  <tbody>\n",
       "    <tr>\n",
       "      <td>(0.0, 61000.0]</td>\n",
       "      <td>NaN</td>\n",
       "      <td>0</td>\n",
       "    </tr>\n",
       "    <tr>\n",
       "      <td>(61000.0, 62000.0]</td>\n",
       "      <td>NaN</td>\n",
       "      <td>0</td>\n",
       "    </tr>\n",
       "    <tr>\n",
       "      <td>(62000.0, 80000.0]</td>\n",
       "      <td>NaN</td>\n",
       "      <td>0</td>\n",
       "    </tr>\n",
       "    <tr>\n",
       "      <td>(80000.0, 100000.0]</td>\n",
       "      <td>NaN</td>\n",
       "      <td>0</td>\n",
       "    </tr>\n",
       "    <tr>\n",
       "      <td>(100000.0, 130000.0]</td>\n",
       "      <td>0.000000</td>\n",
       "      <td>7</td>\n",
       "    </tr>\n",
       "    <tr>\n",
       "      <td>(130000.0, 173000.0]</td>\n",
       "      <td>0.091969</td>\n",
       "      <td>13809</td>\n",
       "    </tr>\n",
       "    <tr>\n",
       "      <td>(173000.0, 200000.0]</td>\n",
       "      <td>0.064326</td>\n",
       "      <td>7291</td>\n",
       "    </tr>\n",
       "    <tr>\n",
       "      <td>(200000.0, 230000.0]</td>\n",
       "      <td>NaN</td>\n",
       "      <td>0</td>\n",
       "    </tr>\n",
       "    <tr>\n",
       "      <td>(230000.0, 500000.0]</td>\n",
       "      <td>0.000000</td>\n",
       "      <td>2</td>\n",
       "    </tr>\n",
       "    <tr>\n",
       "      <td>(500000.0, inf]</td>\n",
       "      <td>NaN</td>\n",
       "      <td>0</td>\n",
       "    </tr>\n",
       "  </tbody>\n",
       "</table>\n",
       "</div>"
      ],
      "text/plain": [
       "                          mean  count\n",
       "total_income_anomaly                 \n",
       "(0.0, 61000.0]             NaN      0\n",
       "(61000.0, 62000.0]         NaN      0\n",
       "(62000.0, 80000.0]         NaN      0\n",
       "(80000.0, 100000.0]        NaN      0\n",
       "(100000.0, 130000.0]  0.000000      7\n",
       "(130000.0, 173000.0]  0.091969  13809\n",
       "(173000.0, 200000.0]  0.064326   7291\n",
       "(200000.0, 230000.0]       NaN      0\n",
       "(230000.0, 500000.0]  0.000000      2\n",
       "(500000.0, inf]            NaN      0"
      ]
     },
     "metadata": {},
     "output_type": "display_data"
    },
    {
     "data": {
      "text/html": [
       "<div>\n",
       "<style scoped>\n",
       "    .dataframe tbody tr th:only-of-type {\n",
       "        vertical-align: middle;\n",
       "    }\n",
       "\n",
       "    .dataframe tbody tr th {\n",
       "        vertical-align: top;\n",
       "    }\n",
       "\n",
       "    .dataframe thead tr th {\n",
       "        text-align: left;\n",
       "    }\n",
       "\n",
       "    .dataframe thead tr:last-of-type th {\n",
       "        text-align: right;\n",
       "    }\n",
       "</style>\n",
       "<table border=\"1\" class=\"dataframe\">\n",
       "  <thead>\n",
       "    <tr>\n",
       "      <th></th>\n",
       "      <th>mean</th>\n",
       "      <th>count</th>\n",
       "    </tr>\n",
       "    <tr>\n",
       "      <th></th>\n",
       "      <th>debt</th>\n",
       "      <th>debt</th>\n",
       "    </tr>\n",
       "    <tr>\n",
       "      <th>total_income_10gr</th>\n",
       "      <th></th>\n",
       "      <th></th>\n",
       "    </tr>\n",
       "  </thead>\n",
       "  <tbody>\n",
       "    <tr>\n",
       "      <td>(124806.999, 148938.0]</td>\n",
       "      <td>0.055398</td>\n",
       "      <td>2112</td>\n",
       "    </tr>\n",
       "    <tr>\n",
       "      <td>(148938.0, 157103.0]</td>\n",
       "      <td>0.077823</td>\n",
       "      <td>2223</td>\n",
       "    </tr>\n",
       "    <tr>\n",
       "      <td>(157103.0, 161097.0]</td>\n",
       "      <td>0.114783</td>\n",
       "      <td>2239</td>\n",
       "    </tr>\n",
       "    <tr>\n",
       "      <td>(161097.0, 163816.0]</td>\n",
       "      <td>0.109478</td>\n",
       "      <td>1973</td>\n",
       "    </tr>\n",
       "    <tr>\n",
       "      <td>(163816.0, 165566.0]</td>\n",
       "      <td>0.102326</td>\n",
       "      <td>2150</td>\n",
       "    </tr>\n",
       "    <tr>\n",
       "      <td>(165566.0, 167477.0]</td>\n",
       "      <td>0.092918</td>\n",
       "      <td>1991</td>\n",
       "    </tr>\n",
       "    <tr>\n",
       "      <td>(167477.0, 175365.0]</td>\n",
       "      <td>0.087470</td>\n",
       "      <td>2115</td>\n",
       "    </tr>\n",
       "    <tr>\n",
       "      <td>(175365.0, 179580.0]</td>\n",
       "      <td>0.069372</td>\n",
       "      <td>2119</td>\n",
       "    </tr>\n",
       "    <tr>\n",
       "      <td>(179580.0, 184798.0]</td>\n",
       "      <td>0.059472</td>\n",
       "      <td>2085</td>\n",
       "    </tr>\n",
       "    <tr>\n",
       "      <td>(184798.0, 294472.0]</td>\n",
       "      <td>0.054710</td>\n",
       "      <td>2102</td>\n",
       "    </tr>\n",
       "  </tbody>\n",
       "</table>\n",
       "</div>"
      ],
      "text/plain": [
       "                            mean count\n",
       "                            debt  debt\n",
       "total_income_10gr                     \n",
       "(124806.999, 148938.0]  0.055398  2112\n",
       "(148938.0, 157103.0]    0.077823  2223\n",
       "(157103.0, 161097.0]    0.114783  2239\n",
       "(161097.0, 163816.0]    0.109478  1973\n",
       "(163816.0, 165566.0]    0.102326  2150\n",
       "(165566.0, 167477.0]    0.092918  1991\n",
       "(167477.0, 175365.0]    0.087470  2115\n",
       "(175365.0, 179580.0]    0.069372  2119\n",
       "(179580.0, 184798.0]    0.059472  2085\n",
       "(184798.0, 294472.0]    0.054710  2102"
      ]
     },
     "metadata": {},
     "output_type": "display_data"
    },
    {
     "name": "stdout",
     "output_type": "stream",
     "text": [
      "0.0823819224027666  - среднее количество должников.\n"
     ]
    }
   ],
   "source": [
    "df_borrowers_reliability['total_income_anomaly'] = pd.cut(df_borrowers_reliability['total_income'],[0,61000,62000,80000,100000,130000,173000,200000,230000,500000,np.inf])\n",
    "display(df_borrowers_reliability.groupby('total_income_anomaly')['debt'].agg(['mean','count']))\n",
    "\n",
    "df_borrowers_reliability['total_income_10gr'] = pd.qcut(df_borrowers_reliability['total_income'], 10)\n",
    "display(df_borrowers_reliability.pivot_table(index = 'total_income_10gr',values = 'debt', aggfunc=['mean','count']))\n",
    "\n",
    "print(df_borrowers_reliability['debt'].mean(), \" - среднее количество должников.\")"
   ]
  },
  {
   "cell_type": "markdown",
   "metadata": {},
   "source": [
    "### Вывод"
   ]
  },
  {
   "cell_type": "markdown",
   "metadata": {},
   "source": [
    "Зависимость между уровнем дохода и возвратом кредита в срок существует. Имеются некоторые аномально отличающиеся по количеству должников ежемесячные доходы заёмщиков: \n",
    "* Из 50 человек, имеющих доход от 61000 до 62000 каждый седьмой кредит не вернул, что в среднем в два раза чаще;\n",
    "* Из 4000 человек, имеющих доход от 150000 до 165000 каждый десятый кредит не вернул, что больше среднего на 25%.\n",
    "В итоге самыми не благонадежными заёмщиками являются люди с доходом в диапазоне 130000 - 170000."
   ]
  },
  {
   "cell_type": "markdown",
   "metadata": {},
   "source": [
    "- Как разные цели кредита влияют на его возврат в срок?"
   ]
  },
  {
   "cell_type": "code",
   "execution_count": 16,
   "metadata": {},
   "outputs": [
    {
     "data": {
      "text/html": [
       "<div>\n",
       "<style scoped>\n",
       "    .dataframe tbody tr th:only-of-type {\n",
       "        vertical-align: middle;\n",
       "    }\n",
       "\n",
       "    .dataframe tbody tr th {\n",
       "        vertical-align: top;\n",
       "    }\n",
       "\n",
       "    .dataframe thead tr th {\n",
       "        text-align: left;\n",
       "    }\n",
       "\n",
       "    .dataframe thead tr:last-of-type th {\n",
       "        text-align: right;\n",
       "    }\n",
       "</style>\n",
       "<table border=\"1\" class=\"dataframe\">\n",
       "  <thead>\n",
       "    <tr>\n",
       "      <th></th>\n",
       "      <th>mean</th>\n",
       "      <th>count</th>\n",
       "    </tr>\n",
       "    <tr>\n",
       "      <th></th>\n",
       "      <th>debt</th>\n",
       "      <th>debt</th>\n",
       "    </tr>\n",
       "    <tr>\n",
       "      <th>aggregated_purpose</th>\n",
       "      <th></th>\n",
       "      <th></th>\n",
       "    </tr>\n",
       "  </thead>\n",
       "  <tbody>\n",
       "    <tr>\n",
       "      <td>действия с автомобилем</td>\n",
       "      <td>0.094123</td>\n",
       "      <td>4271</td>\n",
       "    </tr>\n",
       "    <tr>\n",
       "      <td>операции с недвижимостью</td>\n",
       "      <td>0.073895</td>\n",
       "      <td>10569</td>\n",
       "    </tr>\n",
       "    <tr>\n",
       "      <td>организация свадьбы</td>\n",
       "      <td>0.080694</td>\n",
       "      <td>2305</td>\n",
       "    </tr>\n",
       "    <tr>\n",
       "      <td>повышение образованности</td>\n",
       "      <td>0.093340</td>\n",
       "      <td>3964</td>\n",
       "    </tr>\n",
       "  </tbody>\n",
       "</table>\n",
       "</div>"
      ],
      "text/plain": [
       "                              mean  count\n",
       "                              debt   debt\n",
       "aggregated_purpose                       \n",
       "действия с автомобилем    0.094123   4271\n",
       "операции с недвижимостью  0.073895  10569\n",
       "организация свадьбы       0.080694   2305\n",
       "повышение образованности  0.093340   3964"
      ]
     },
     "metadata": {},
     "output_type": "display_data"
    },
    {
     "name": "stdout",
     "output_type": "stream",
     "text": [
      "0.0823819224027666  - среднее количество должников.\n"
     ]
    }
   ],
   "source": [
    "display(df_borrowers_reliability.pivot_table(index='aggregated_purpose', values ='debt', aggfunc = ['mean','count']))\n",
    "print(df_borrowers_reliability['debt'].mean(), \" - среднее количество должников.\")\n"
   ]
  },
  {
   "cell_type": "markdown",
   "metadata": {},
   "source": [
    "### Вывод"
   ]
  },
  {
   "cell_type": "markdown",
   "metadata": {},
   "source": [
    "Разные цели кредита влияют на его возврат в срок:\n",
    "* Берущие кредит для действий с автомобилем и повышения образования возвращают его реже;\n",
    "* Люди производящие операции с недвижимостью возвращают кредит чаще всех;\n",
    "* А количество взявших кредит на свадьбу и вернувших в срок располагается между двумя категориями выше. "
   ]
  },
  {
   "cell_type": "markdown",
   "metadata": {},
   "source": [
    "### Категоризация данных"
   ]
  },
  {
   "cell_type": "code",
   "execution_count": 17,
   "metadata": {},
   "outputs": [
    {
     "data": {
      "text/html": [
       "<div>\n",
       "<style scoped>\n",
       "    .dataframe tbody tr th:only-of-type {\n",
       "        vertical-align: middle;\n",
       "    }\n",
       "\n",
       "    .dataframe tbody tr th {\n",
       "        vertical-align: top;\n",
       "    }\n",
       "\n",
       "    .dataframe thead tr th {\n",
       "        text-align: left;\n",
       "    }\n",
       "\n",
       "    .dataframe thead tr:last-of-type th {\n",
       "        text-align: right;\n",
       "    }\n",
       "</style>\n",
       "<table border=\"1\" class=\"dataframe\">\n",
       "  <thead>\n",
       "    <tr>\n",
       "      <th></th>\n",
       "      <th>mean</th>\n",
       "      <th>count</th>\n",
       "    </tr>\n",
       "    <tr>\n",
       "      <th></th>\n",
       "      <th>debt</th>\n",
       "      <th>debt</th>\n",
       "    </tr>\n",
       "    <tr>\n",
       "      <th>age_groups</th>\n",
       "      <th></th>\n",
       "      <th></th>\n",
       "    </tr>\n",
       "  </thead>\n",
       "  <tbody>\n",
       "    <tr>\n",
       "      <td>(-1, 20]</td>\n",
       "      <td>0.078788</td>\n",
       "      <td>165</td>\n",
       "    </tr>\n",
       "    <tr>\n",
       "      <td>(20, 34]</td>\n",
       "      <td>0.110370</td>\n",
       "      <td>5844</td>\n",
       "    </tr>\n",
       "    <tr>\n",
       "      <td>(34, 50]</td>\n",
       "      <td>0.081339</td>\n",
       "      <td>8606</td>\n",
       "    </tr>\n",
       "    <tr>\n",
       "      <td>(50, 80]</td>\n",
       "      <td>0.058670</td>\n",
       "      <td>6494</td>\n",
       "    </tr>\n",
       "  </tbody>\n",
       "</table>\n",
       "</div>"
      ],
      "text/plain": [
       "                mean count\n",
       "                debt  debt\n",
       "age_groups                \n",
       "(-1, 20]    0.078788   165\n",
       "(20, 34]    0.110370  5844\n",
       "(34, 50]    0.081339  8606\n",
       "(50, 80]    0.058670  6494"
      ]
     },
     "metadata": {},
     "output_type": "display_data"
    },
    {
     "data": {
      "text/html": [
       "<div>\n",
       "<style scoped>\n",
       "    .dataframe tbody tr th:only-of-type {\n",
       "        vertical-align: middle;\n",
       "    }\n",
       "\n",
       "    .dataframe tbody tr th {\n",
       "        vertical-align: top;\n",
       "    }\n",
       "\n",
       "    .dataframe thead tr th {\n",
       "        text-align: left;\n",
       "    }\n",
       "\n",
       "    .dataframe thead tr:last-of-type th {\n",
       "        text-align: right;\n",
       "    }\n",
       "</style>\n",
       "<table border=\"1\" class=\"dataframe\">\n",
       "  <thead>\n",
       "    <tr>\n",
       "      <th></th>\n",
       "      <th>mean</th>\n",
       "      <th>count</th>\n",
       "    </tr>\n",
       "    <tr>\n",
       "      <th></th>\n",
       "      <th>debt</th>\n",
       "      <th>debt</th>\n",
       "    </tr>\n",
       "    <tr>\n",
       "      <th>education</th>\n",
       "      <th></th>\n",
       "      <th></th>\n",
       "    </tr>\n",
       "  </thead>\n",
       "  <tbody>\n",
       "    <tr>\n",
       "      <td>высшее</td>\n",
       "      <td>0.053349</td>\n",
       "      <td>5211</td>\n",
       "    </tr>\n",
       "    <tr>\n",
       "      <td>начальное</td>\n",
       "      <td>0.109929</td>\n",
       "      <td>282</td>\n",
       "    </tr>\n",
       "    <tr>\n",
       "      <td>неоконченное высшее</td>\n",
       "      <td>0.091398</td>\n",
       "      <td>744</td>\n",
       "    </tr>\n",
       "    <tr>\n",
       "      <td>среднее</td>\n",
       "      <td>0.091618</td>\n",
       "      <td>14866</td>\n",
       "    </tr>\n",
       "    <tr>\n",
       "      <td>ученая степень</td>\n",
       "      <td>0.000000</td>\n",
       "      <td>6</td>\n",
       "    </tr>\n",
       "  </tbody>\n",
       "</table>\n",
       "</div>"
      ],
      "text/plain": [
       "                         mean  count\n",
       "                         debt   debt\n",
       "education                           \n",
       "высшее               0.053349   5211\n",
       "начальное            0.109929    282\n",
       "неоконченное высшее  0.091398    744\n",
       "среднее              0.091618  14866\n",
       "ученая степень       0.000000      6"
      ]
     },
     "metadata": {},
     "output_type": "display_data"
    }
   ],
   "source": [
    "df_borrowers_reliability['age_groups'] = pd.cut(df_borrowers_reliability['dob_years'], [-1,20,34,50,80])\n",
    "\n",
    "display(df_borrowers_reliability.pivot_table(index = 'age_groups',values = 'debt', aggfunc=['mean','count']))\n",
    "display(df_borrowers_reliability.pivot_table(index = 'education',values = 'debt', aggfunc=['mean','count']))\n",
    "\n",
    "df_borrowers_reliability_categorized = df_borrowers_reliability[['aggregated_purpose', 'total_income_10gr', 'debt', 'family_status', 'education', 'age_groups']]"
   ]
  },
  {
   "cell_type": "markdown",
   "metadata": {},
   "source": [
    "### Вывод"
   ]
  },
  {
   "cell_type": "markdown",
   "metadata": {},
   "source": [
    "Во время ответов на вопросы были выявлены столбцы, влияющие на платежеспособность заёмщиков. А в последнем поле code было выяснено, что люди из разных возрастных групп обладают разной платежеспособностью, а также, что люди без высшего образования внушают меньше доверия в возврате кредита. В связи с чем были выделены столбцы: 'aggregated_purpose', 'total_income_10gr', 'debt', 'family_status', 'education', 'age_groups' и из них создан новый набор данных. Значения каждого столбца существенно влияют на платежеспособность, поэтому столбцы и такие."
   ]
  },
  {
   "cell_type": "markdown",
   "metadata": {},
   "source": [
    "### Шаг 4. Общий вывод"
   ]
  },
  {
   "cell_type": "markdown",
   "metadata": {},
   "source": [
    "Были выявлены следующие закономерности: уровень образования, дохода, принадлежность к определенным возрастным группам, семейный статус, цель получения кредита влияют на вероятность банком получить своевременно выплаты по кредиту, однако взаимосвязи между количеством детей и возвратом кредита в срок выявлено не было.\n",
    "\n",
    "Были обнаружены пропуски в столбце \"общий трудовой стаж в днях\" замена производилась на нули, по причинам:\n",
    "* Отсутствия людей без стажа;\n",
    "* Предположения, что некоторые люди не хотели раскрывать стаж.\n",
    "\n",
    "Пропуски были обнаружены и в столбце \"ежемесячный доход\":\n",
    "* Была выдвинута гипотеза, что на размер заработной платы влияет возраст, уровень образования, тип занятости. Проанализировав графики связей этих факторов с размером зарплаты гипотеза была подтверждена. И в случае пропуска заработной платы, она заменялась средним между средних зарплат для каждой группы (возраст, уровень образования, тип занятости).\n",
    "\n",
    "Также были выявлены дубликаты, причинами их возникновения считаю:\n",
    "* Покупка в кредит нескольких изделий одной и той же стоимости одним человеком;\n",
    "* Сбой при обработке значений;\n",
    "* Ошибка оператора, создававшего заявку на кредит;\n",
    "* Клиенты с одинаковыми параметрами, взявшие кредит на одинаковую цель;\n",
    "* Несколько различных операторов, обрабатывающих данных, имевших разное представления об одной и той же цели наплодили клонов заемщиков;\n",
    "* Некорректная попытка изменения целей.\n",
    "\n",
    "Объединены мелкие цели кредитов в более крупные:\n",
    "* Повышение образованности;\n",
    "* Операции с недвижимостью;\n",
    "* Действия с автомобилем;\n",
    "* Организация свадьбы.\n",
    "\n",
    "В результате исследования выявлены критерии для выявления способности потенциального заёмщика вернуть кредит банку. Найдены закономерности, исследование которых невозможно из-за недостатка определенных данных (платежеспособность людей с 5 детьми, с ученой степенью). На основе полученных данных возможно построение рекомендательной системы по оценке платежеспособности клиентов."
   ]
  }
 ],
 "metadata": {
  "kernelspec": {
   "display_name": "Python 3",
   "language": "python",
   "name": "python3"
  },
  "language_info": {
   "codemirror_mode": {
    "name": "ipython",
    "version": 3
   },
   "file_extension": ".py",
   "mimetype": "text/x-python",
   "name": "python",
   "nbconvert_exporter": "python",
   "pygments_lexer": "ipython3",
   "version": "3.7.6"
  }
 },
 "nbformat": 4,
 "nbformat_minor": 2
}
