{
 "cells": [
  {
   "cell_type": "markdown",
   "metadata": {},
   "source": [
    "## Исследование рынка общественного питания в Москве\n",
    "\n",
    "Партнёры по открытию заведения общественного питания с работами официантами озаботились вопросом - как снискать популярность на долгое время? \n",
    "\n",
    "Для ответа на этот вопрос воспользовался открытыми данными о заведениях общественного питания в Москве, проверил следующие факторы, потенциально влияющие на популярность заведений: \n",
    "- наличие сети;\n",
    "- территориальное расположение;\n",
    "- тип заведения;\n",
    "- численность посадочных мест.\n",
    "\n",
    "И подготовил презентацию для обоснования своей позиции."
   ]
  },
  {
   "cell_type": "markdown",
   "metadata": {},
   "source": [
    "[Первичный анализ данных.](#step1)\n",
    "\n",
    "[Анализ данных.](#step2)\n",
    " - [Соотношение видов объектов](#type_object)\n",
    " - [Поиск закономерностей в сетевых заведениях](#network)\n",
    " - [Выявление популярных районов](#pop_districts)\n",
    " - [Выявление закономерностей заведений в популярных районов](#pop_districts_depend)\n",
    " - [Выявление районов с улицами, на которых один вид заведений](#districts_1_inst)\n",
    " \n",
    "[Общий вывод](#conclusion)\n"
   ]
  },
  {
   "cell_type": "markdown",
   "metadata": {},
   "source": [
    "## Первичный анализ данных. <a name=\"step1\"></a>"
   ]
  },
  {
   "cell_type": "code",
   "execution_count": 1,
   "metadata": {},
   "outputs": [],
   "source": [
    "import pandas as pd\n",
    "import seaborn as sns\n",
    "import numpy as np\n",
    "import re\n",
    "import itertools\n",
    "import requests\n",
    "from io import BytesIO\n",
    "\n",
    "from matplotlib import transforms\n",
    "import matplotlib.pyplot as plt\n",
    "\n",
    "pd.options.mode.chained_assignment = None"
   ]
  },
  {
   "cell_type": "code",
   "execution_count": 2,
   "metadata": {},
   "outputs": [],
   "source": [
    "pd.set_option('display.max_colwidth', -1)\n",
    "api_key = 'c83d11b5-7906-4d02-a13b-ef304960c16e'"
   ]
  },
  {
   "cell_type": "code",
   "execution_count": 3,
   "metadata": {},
   "outputs": [
    {
     "name": "stdout",
     "output_type": "stream",
     "text": [
      "85 - количество дубликатов с различными id\n",
      "<class 'pandas.core.frame.DataFrame'>\n",
      "RangeIndex: 15366 entries, 0 to 15365\n",
      "Data columns (total 6 columns):\n",
      "id             15366 non-null int64\n",
      "object_name    15366 non-null object\n",
      "chain          15366 non-null object\n",
      "object_type    15366 non-null object\n",
      "address        15366 non-null object\n",
      "number         15366 non-null int64\n",
      "dtypes: int64(2), object(4)\n",
      "memory usage: 720.4+ KB\n"
     ]
    },
    {
     "data": {
      "text/html": [
       "<div>\n",
       "<style scoped>\n",
       "    .dataframe tbody tr th:only-of-type {\n",
       "        vertical-align: middle;\n",
       "    }\n",
       "\n",
       "    .dataframe tbody tr th {\n",
       "        vertical-align: top;\n",
       "    }\n",
       "\n",
       "    .dataframe thead th {\n",
       "        text-align: right;\n",
       "    }\n",
       "</style>\n",
       "<table border=\"1\" class=\"dataframe\">\n",
       "  <thead>\n",
       "    <tr style=\"text-align: right;\">\n",
       "      <th></th>\n",
       "      <th>id</th>\n",
       "      <th>object_name</th>\n",
       "      <th>chain</th>\n",
       "      <th>object_type</th>\n",
       "      <th>address</th>\n",
       "      <th>number</th>\n",
       "    </tr>\n",
       "  </thead>\n",
       "  <tbody>\n",
       "    <tr>\n",
       "      <td>0</td>\n",
       "      <td>151635</td>\n",
       "      <td>сметана</td>\n",
       "      <td>нет</td>\n",
       "      <td>кафе</td>\n",
       "      <td>город Москва, улица Егора Абакумова, дом 9</td>\n",
       "      <td>48</td>\n",
       "    </tr>\n",
       "    <tr>\n",
       "      <td>1</td>\n",
       "      <td>77874</td>\n",
       "      <td>родник</td>\n",
       "      <td>нет</td>\n",
       "      <td>кафе</td>\n",
       "      <td>город Москва, улица Талалихина, дом 2/1, корпус 1</td>\n",
       "      <td>35</td>\n",
       "    </tr>\n",
       "    <tr>\n",
       "      <td>2</td>\n",
       "      <td>24309</td>\n",
       "      <td>кафе академия</td>\n",
       "      <td>нет</td>\n",
       "      <td>кафе</td>\n",
       "      <td>город Москва, Абельмановская улица, дом 6</td>\n",
       "      <td>95</td>\n",
       "    </tr>\n",
       "    <tr>\n",
       "      <td>3</td>\n",
       "      <td>21894</td>\n",
       "      <td>пиццетория</td>\n",
       "      <td>да</td>\n",
       "      <td>кафе</td>\n",
       "      <td>город Москва, Абрамцевская улица, дом 1</td>\n",
       "      <td>40</td>\n",
       "    </tr>\n",
       "    <tr>\n",
       "      <td>4</td>\n",
       "      <td>119365</td>\n",
       "      <td>кафе вишневая метель</td>\n",
       "      <td>нет</td>\n",
       "      <td>кафе</td>\n",
       "      <td>город Москва, Абрамцевская улица, дом 9, корпус 1</td>\n",
       "      <td>50</td>\n",
       "    </tr>\n",
       "  </tbody>\n",
       "</table>\n",
       "</div>"
      ],
      "text/plain": [
       "       id           object_name chain object_type  \\\n",
       "0  151635  сметана               нет   кафе         \n",
       "1  77874   родник                нет   кафе         \n",
       "2  24309   кафе академия         нет   кафе         \n",
       "3  21894   пиццетория            да    кафе         \n",
       "4  119365  кафе вишневая метель  нет   кафе         \n",
       "\n",
       "                                             address  number  \n",
       "0  город Москва, улица Егора Абакумова, дом 9         48      \n",
       "1  город Москва, улица Талалихина, дом 2/1, корпус 1  35      \n",
       "2  город Москва, Абельмановская улица, дом 6          95      \n",
       "3  город Москва, Абрамцевская улица, дом 1            40      \n",
       "4  город Москва, Абрамцевская улица, дом 9, корпус 1  50      "
      ]
     },
     "execution_count": 3,
     "metadata": {},
     "output_type": "execute_result"
    }
   ],
   "source": [
    "rest_df = pd.read_csv('/datasets/rest_data.csv')\n",
    "rest_df['object_name'] = rest_df['object_name'].str.lower()\n",
    "rest_df['object_name'] = rest_df['object_name'].str.replace(r'[«».]*', '')\n",
    "rest_df['object_name'] = rest_df['object_name'].str.replace(r'-', ' ')\n",
    "rest_df.replace({\"object_type\": {'предприятие быстрого обслуживания':'бистро',\n",
    "                            'магазин (отдел кулинарии)': 'магазин'}}, inplace=True)\n",
    "\n",
    "print('{} - количество дубликатов с различными id'.format(rest_df.loc[:, 'object_name': 'number'].duplicated().sum()))\n",
    "legal_name_type_objects = rest_df['object_type'].unique()\n",
    "rest_df.info() \n",
    "rest_df.head()"
   ]
  },
  {
   "cell_type": "markdown",
   "metadata": {},
   "source": [
    "Таблица состоит из следующих столбцов:\n",
    "\n",
    "* id — идентификатор объекта;\n",
    "* object_name — название объекта общественного питания;\n",
    "* chain — сетевой ресторан;\n",
    "* object_type — тип объекта общественного питания;\n",
    "* address — адрес;\n",
    "* number — количество посадочных мест.\n",
    "\n",
    "Заменил 'предприятие быстрого обслуживания' на 'бистро', 'магазин (отдел кулинарии)' на 'магазин' для более простой обработки. Пропуски отсутствуют. Дубликаты обнаружены, исследуем их."
   ]
  },
  {
   "cell_type": "code",
   "execution_count": 4,
   "metadata": {},
   "outputs": [
    {
     "name": "stdout",
     "output_type": "stream",
     "text": [
      "2381 - id первой повторяющейся записи \n",
      "Рассмотрим значения вокруг первого повтора\n"
     ]
    },
    {
     "data": {
      "text/html": [
       "<div>\n",
       "<style scoped>\n",
       "    .dataframe tbody tr th:only-of-type {\n",
       "        vertical-align: middle;\n",
       "    }\n",
       "\n",
       "    .dataframe tbody tr th {\n",
       "        vertical-align: top;\n",
       "    }\n",
       "\n",
       "    .dataframe thead th {\n",
       "        text-align: right;\n",
       "    }\n",
       "</style>\n",
       "<table border=\"1\" class=\"dataframe\">\n",
       "  <thead>\n",
       "    <tr style=\"text-align: right;\">\n",
       "      <th></th>\n",
       "      <th>id</th>\n",
       "      <th>object_name</th>\n",
       "      <th>chain</th>\n",
       "      <th>object_type</th>\n",
       "      <th>address</th>\n",
       "      <th>number</th>\n",
       "    </tr>\n",
       "  </thead>\n",
       "  <tbody>\n",
       "    <tr>\n",
       "      <td>113</td>\n",
       "      <td>28608</td>\n",
       "      <td>комбинат питания мгту имнэбаумана</td>\n",
       "      <td>нет</td>\n",
       "      <td>буфет</td>\n",
       "      <td>город Москва, Бригадирский переулок, дом 3-5</td>\n",
       "      <td>34</td>\n",
       "    </tr>\n",
       "    <tr>\n",
       "      <td>114</td>\n",
       "      <td>28613</td>\n",
       "      <td>комбинат питания мгту имнэбаумана</td>\n",
       "      <td>нет</td>\n",
       "      <td>закусочная</td>\n",
       "      <td>город Москва, Бригадирский переулок, дом 3-5</td>\n",
       "      <td>216</td>\n",
       "    </tr>\n",
       "    <tr>\n",
       "      <td>115</td>\n",
       "      <td>28614</td>\n",
       "      <td>комбинат питания мгту имнэбаумана</td>\n",
       "      <td>нет</td>\n",
       "      <td>буфет</td>\n",
       "      <td>город Москва, Бригадирский переулок, дом 3-5</td>\n",
       "      <td>12</td>\n",
       "    </tr>\n",
       "    <tr>\n",
       "      <td>2374</td>\n",
       "      <td>28603</td>\n",
       "      <td>комбинат питания мгту имнэбаумана</td>\n",
       "      <td>нет</td>\n",
       "      <td>столовая</td>\n",
       "      <td>город Москва, 2-я Бауманская улица, дом 5, строение 1</td>\n",
       "      <td>100</td>\n",
       "    </tr>\n",
       "    <tr>\n",
       "      <td>2375</td>\n",
       "      <td>28604</td>\n",
       "      <td>комбинат питания мгту имнэбаумана</td>\n",
       "      <td>нет</td>\n",
       "      <td>столовая</td>\n",
       "      <td>город Москва, 2-я Бауманская улица, дом 5, строение 1</td>\n",
       "      <td>150</td>\n",
       "    </tr>\n",
       "    <tr>\n",
       "      <td>2376</td>\n",
       "      <td>28605</td>\n",
       "      <td>комбинат питания мгту имнэбаумана</td>\n",
       "      <td>нет</td>\n",
       "      <td>кафетерий</td>\n",
       "      <td>город Москва, 2-я Бауманская улица, дом 5, строение 1</td>\n",
       "      <td>35</td>\n",
       "    </tr>\n",
       "    <tr>\n",
       "      <td>2377</td>\n",
       "      <td>28606</td>\n",
       "      <td>комбинат питания мгту имнэбаумана</td>\n",
       "      <td>нет</td>\n",
       "      <td>буфет</td>\n",
       "      <td>город Москва, 2-я Бауманская улица, дом 5, строение 1</td>\n",
       "      <td>16</td>\n",
       "    </tr>\n",
       "    <tr>\n",
       "      <td>2378</td>\n",
       "      <td>28607</td>\n",
       "      <td>комбинат питания мгту имнэбаумана</td>\n",
       "      <td>нет</td>\n",
       "      <td>закусочная</td>\n",
       "      <td>город Москва, 2-я Бауманская улица, дом 5, строение 1</td>\n",
       "      <td>16</td>\n",
       "    </tr>\n",
       "    <tr>\n",
       "      <td>2379</td>\n",
       "      <td>28609</td>\n",
       "      <td>комбинат питания мгту имнэбаумана</td>\n",
       "      <td>нет</td>\n",
       "      <td>буфет</td>\n",
       "      <td>город Москва, 2-я Бауманская улица, дом 5, строение 1</td>\n",
       "      <td>30</td>\n",
       "    </tr>\n",
       "    <tr>\n",
       "      <td>2380</td>\n",
       "      <td>28610</td>\n",
       "      <td>комбинат питания мгту имнэбаумана</td>\n",
       "      <td>нет</td>\n",
       "      <td>столовая</td>\n",
       "      <td>город Москва, 2-я Бауманская улица, дом 5, строение 1</td>\n",
       "      <td>200</td>\n",
       "    </tr>\n",
       "    <tr>\n",
       "      <td>2381</td>\n",
       "      <td>28611</td>\n",
       "      <td>комбинат питания мгту имнэбаумана</td>\n",
       "      <td>нет</td>\n",
       "      <td>столовая</td>\n",
       "      <td>город Москва, 2-я Бауманская улица, дом 5, строение 1</td>\n",
       "      <td>100</td>\n",
       "    </tr>\n",
       "    <tr>\n",
       "      <td>2382</td>\n",
       "      <td>28615</td>\n",
       "      <td>комбинат питания мгту имнэбаумана</td>\n",
       "      <td>нет</td>\n",
       "      <td>столовая</td>\n",
       "      <td>город Москва, 2-я Бауманская улица, дом 5, строение 1</td>\n",
       "      <td>168</td>\n",
       "    </tr>\n",
       "    <tr>\n",
       "      <td>2383</td>\n",
       "      <td>28616</td>\n",
       "      <td>комбинат питания мгту имнэбаумана</td>\n",
       "      <td>нет</td>\n",
       "      <td>закусочная</td>\n",
       "      <td>город Москва, 2-я Бауманская улица, дом 5, строение 1</td>\n",
       "      <td>64</td>\n",
       "    </tr>\n",
       "    <tr>\n",
       "      <td>2384</td>\n",
       "      <td>28617</td>\n",
       "      <td>комбинат питания мгту имнэбаумана</td>\n",
       "      <td>нет</td>\n",
       "      <td>столовая</td>\n",
       "      <td>город Москва, 2-я Бауманская улица, дом 5, строение 1</td>\n",
       "      <td>108</td>\n",
       "    </tr>\n",
       "    <tr>\n",
       "      <td>2393</td>\n",
       "      <td>28602</td>\n",
       "      <td>комбинат питания мгту имнэбаумана</td>\n",
       "      <td>нет</td>\n",
       "      <td>буфет</td>\n",
       "      <td>город Москва, 2-я Бауманская улица, дом 5, строение 2</td>\n",
       "      <td>60</td>\n",
       "    </tr>\n",
       "    <tr>\n",
       "      <td>2394</td>\n",
       "      <td>28612</td>\n",
       "      <td>комбинат питания мгту имнэбаумана</td>\n",
       "      <td>нет</td>\n",
       "      <td>столовая</td>\n",
       "      <td>город Москва, 2-я Бауманская улица, дом 5, строение 2</td>\n",
       "      <td>80</td>\n",
       "    </tr>\n",
       "  </tbody>\n",
       "</table>\n",
       "</div>"
      ],
      "text/plain": [
       "         id                        object_name chain object_type  \\\n",
       "113   28608  комбинат питания мгту имнэбаумана  нет   буфет        \n",
       "114   28613  комбинат питания мгту имнэбаумана  нет   закусочная   \n",
       "115   28614  комбинат питания мгту имнэбаумана  нет   буфет        \n",
       "2374  28603  комбинат питания мгту имнэбаумана  нет   столовая     \n",
       "2375  28604  комбинат питания мгту имнэбаумана  нет   столовая     \n",
       "2376  28605  комбинат питания мгту имнэбаумана  нет   кафетерий    \n",
       "2377  28606  комбинат питания мгту имнэбаумана  нет   буфет        \n",
       "2378  28607  комбинат питания мгту имнэбаумана  нет   закусочная   \n",
       "2379  28609  комбинат питания мгту имнэбаумана  нет   буфет        \n",
       "2380  28610  комбинат питания мгту имнэбаумана  нет   столовая     \n",
       "2381  28611  комбинат питания мгту имнэбаумана  нет   столовая     \n",
       "2382  28615  комбинат питания мгту имнэбаумана  нет   столовая     \n",
       "2383  28616  комбинат питания мгту имнэбаумана  нет   закусочная   \n",
       "2384  28617  комбинат питания мгту имнэбаумана  нет   столовая     \n",
       "2393  28602  комбинат питания мгту имнэбаумана  нет   буфет        \n",
       "2394  28612  комбинат питания мгту имнэбаумана  нет   столовая     \n",
       "\n",
       "                                                    address  number  \n",
       "113   город Москва, Бригадирский переулок, дом 3-5           34      \n",
       "114   город Москва, Бригадирский переулок, дом 3-5           216     \n",
       "115   город Москва, Бригадирский переулок, дом 3-5           12      \n",
       "2374  город Москва, 2-я Бауманская улица, дом 5, строение 1  100     \n",
       "2375  город Москва, 2-я Бауманская улица, дом 5, строение 1  150     \n",
       "2376  город Москва, 2-я Бауманская улица, дом 5, строение 1  35      \n",
       "2377  город Москва, 2-я Бауманская улица, дом 5, строение 1  16      \n",
       "2378  город Москва, 2-я Бауманская улица, дом 5, строение 1  16      \n",
       "2379  город Москва, 2-я Бауманская улица, дом 5, строение 1  30      \n",
       "2380  город Москва, 2-я Бауманская улица, дом 5, строение 1  200     \n",
       "2381  город Москва, 2-я Бауманская улица, дом 5, строение 1  100     \n",
       "2382  город Москва, 2-я Бауманская улица, дом 5, строение 1  168     \n",
       "2383  город Москва, 2-я Бауманская улица, дом 5, строение 1  64      \n",
       "2384  город Москва, 2-я Бауманская улица, дом 5, строение 1  108     \n",
       "2393  город Москва, 2-я Бауманская улица, дом 5, строение 2  60      \n",
       "2394  город Москва, 2-я Бауманская улица, дом 5, строение 2  80      "
      ]
     },
     "execution_count": 4,
     "metadata": {},
     "output_type": "execute_result"
    }
   ],
   "source": [
    "print('{} - id первой повторяющейся записи '.format(rest_df.loc[:, 'object_name': 'number'].\n",
    "                duplicated()[rest_df.loc[:, 'object_name': 'number'].duplicated()].index[0]))\n",
    "\n",
    "print('Рассмотрим значения вокруг первого повтора')\n",
    "rest_df.query('object_name == \"комбинат питания мгту имнэбаумана\"')"
   ]
  },
  {
   "cell_type": "markdown",
   "metadata": {},
   "source": [
    "Есть как полностью повторяющиеся значения, вплоть до числа мест в заведении, также есть и минимальные отличия заведений, но при проверке заведений общественного питания на примере МГТУ было выявлено по данным на сайте самого комбината, что это не повторы, а действительно различные заведения, при дальнейшей обработке будем исходить из утверждения о том, что подобные заведения различны. \n",
    "\n",
    "Однако для собственного предприятия общественного питания, считаю не корректным рассматривать в анализе государственные места общественного питания в связи с чем выделяю их и не рассматриваю в будущем."
   ]
  },
  {
   "cell_type": "code",
   "execution_count": 5,
   "metadata": {},
   "outputs": [
    {
     "name": "stdout",
     "output_type": "stream",
     "text": [
      "{'кафе': 1298, 'столовая': 1031, 'ресторан': 532, 'при': 493, 'школа': 480, '№': 394, 'бар': 389, 'гбоу': 262, 'буфет': 219, 'и': 176, '': 166, 'пицца': 131, 'сош': 127, 'кофе': 122, 'школе': 114, 'пекарня': 113, 'шк': 113, 'суши': 112, 'на': 106, 'bar': 104}\n"
     ]
    }
   ],
   "source": [
    "# Получение всех отдельных слов из названий\n",
    "unique_names = rest_df['object_name'].unique()\n",
    "all_words_from_unique_names = []\n",
    "for word in unique_names:\n",
    "    all_words_from_unique_names.extend(word.split(' '))\n",
    "\n",
    "# Формирование словаря частот слов и упорядочивание их по убыванию\n",
    "dict_freq = {element:all_words_from_unique_names.count(element) for element in all_words_from_unique_names}\n",
    "sort_by_freq = {key_element: value_element for key_element, value_element in sorted(dict_freq.items(),\n",
    "                                                                         key=lambda item: item[1], reverse=True)}\n",
    "\n",
    "print(dict(itertools.islice(sort_by_freq.items(), 20)))"
   ]
  },
  {
   "cell_type": "code",
   "execution_count": 6,
   "metadata": {},
   "outputs": [
    {
     "name": "stdout",
     "output_type": "stream",
     "text": [
      "['гбоу', 'гоу', 'сош', 'мгу', 'гбпоу', 'гуп', 'фгуп', 'гп', 'мгпу', 'гум', 'мгту', 'школа', 'школе', 'школы', 'колледж', 'школьник', 'колледже', 'гимназии', 'гимназия', 'колледжа', 'школьного', 'школьная', 'школьно', 'школа№', 'школы№', 'шк104', 'гимнастический', 'шк9', 'школы850', 'шк108', 'шк199', 'шк191', 'шк521', 'шк197', 'шк102', 'шк369', 'шк207', 'шк1311', 'школа)', 'школа1287', 'шк№5', 'шк№', 'шк942', 'колледжах', 'гимназ', 'школ', 'шк498', 'шк1036', 'шк1282', 'шк1752', 'шк1530', 'шк378', 'шк364', 'шк862', 'шк794', 'шк864', 'шк789', 'школьникюз', 'шк765', 'шк1103', 'шк1693', 'шк176школьник', 'шк1107', 'школьное', 'шк877', 'шк915', 'школы932', 'шк1428', 'шк2013', 'школа1740)']\n"
     ]
    }
   ],
   "source": [
    "state_institutions = ['гбоу', 'гоу', 'сош', 'мгу', 'гбпоу', 'гуп', 'фгуп', 'гп', 'мгпу', 'гум', 'мгту']\n",
    "public_catering = ['кафе', 'столовая', 'ресторан', 'бар', 'буфет']\n",
    "\n",
    "# Выявление частых государственных оранизаций\n",
    "for word in sort_by_freq.keys():\n",
    "    res_search = re.search('^колледж|^гимн|^шк[№0-9]+|^школ', word)\n",
    "    if res_search != None:\n",
    "        state_institutions.append(word)\n",
    "            \n",
    "print(state_institutions)"
   ]
  },
  {
   "cell_type": "code",
   "execution_count": 7,
   "metadata": {},
   "outputs": [
    {
     "name": "stdout",
     "output_type": "stream",
     "text": [
      "1505 - количество государственных учреждений\n"
     ]
    }
   ],
   "source": [
    "rest_df['object_name'] = rest_df['object_name'].str.replace(r' *кафе *| *столовая *| *ресторан *| *бар *|буфет *', '')\n",
    "\n",
    "def update_state_status(row):\n",
    "    words_in_name = row['object_name'].split(' ')\n",
    "\n",
    "    for word in words_in_name:\n",
    "        if word in state_institutions:\n",
    "            return True\n",
    "        \n",
    "    return False\n",
    "\n",
    "rest_df['state_status'] = rest_df.apply(update_state_status, axis=1)\n",
    "print('{} - количество государственных учреждений'.format(rest_df['state_status'].sum()))\n",
    "rest_df_no_state = rest_df.query('state_status == False')"
   ]
  },
  {
   "cell_type": "markdown",
   "metadata": {},
   "source": [
    "### Вывод\n",
    "\n",
    "- Существуют государственные места общественного питания, этот рынок имеет специфику и считаю, что рассматривать его не целесообразно в связи с отличием управления, инвестиций;\n",
    "- Считаю, что регистр, наличие кавычек, слов обозначающих вид заведений может добавлять шум в данные, в связи с чем удалил эти символы;\n",
    "- Бывают заведения, у которых вид не соответствует виду указанному в названии, но менять не стал, предполагая, что виды указаны корректно.\n"
   ]
  },
  {
   "cell_type": "markdown",
   "metadata": {},
   "source": [
    "## Анализ данных. <a name=\"step2\"></a>"
   ]
  },
  {
   "cell_type": "markdown",
   "metadata": {},
   "source": [
    "### Соотношение видов объектов <a name='type_object'></a>"
   ]
  },
  {
   "cell_type": "code",
   "execution_count": 8,
   "metadata": {},
   "outputs": [
    {
     "data": {
      "image/png": "[encoded data removed]",
      "text/plain": [
       "<Figure size 1440x360 with 2 Axes>"
      ]
     },
     "metadata": {
      "needs_background": "light"
     },
     "output_type": "display_data"
    }
   ],
   "source": [
    "counts_facility = rest_df_no_state['object_type'].value_counts().reset_index()\n",
    "counts_facility_all = rest_df['object_type'].value_counts().reset_index()\n",
    "\n",
    "fig, axs = plt.subplots(nrows=1, ncols=2, figsize=(20,5))\n",
    "sns.barplot(ax=axs[0], x=\"index\", y=\"object_type\", data=counts_facility, color = 'blue', alpha=0.5)\n",
    "sns.barplot(ax=axs[1], x=\"index\", y=\"object_type\", data=counts_facility_all, color = 'blue', alpha=0.5)\n",
    "\n",
    "[ax.set_xlabel(\"Виды заведений\") for ax in [axs[0], axs[1]]]\n",
    "axs[0].set_title(\"Распределение предприятий общественного питания по видам без государственных\")\n",
    "axs[1].set_title(\"Распределение всех предприятий общественного питания по видам\")\n",
    "[ax.set_ylabel(\"Количество заведений\") for ax in [axs[0], axs[1]]]\n",
    "[ax.set_xticklabels(ax.get_xticklabels(), rotation=-45) for ax in [axs[0], axs[1]]];"
   ]
  },
  {
   "cell_type": "markdown",
   "metadata": {},
   "source": [
    "Два графика выше отличаются данными, используемыми для их построения, для построения правого графика используются данные только не государственных учреждений питания. Эти графики демонстрируют различие в количестве всех заведений и количестве государственных."
   ]
  },
  {
   "cell_type": "code",
   "execution_count": 9,
   "metadata": {},
   "outputs": [
    {
     "data": {
      "image/png": "[encoded data removed]",
      "text/plain": [
       "<Figure size 576x288 with 1 Axes>"
      ]
     },
     "metadata": {
      "needs_background": "light"
     },
     "output_type": "display_data"
    }
   ],
   "source": [
    "count_number_by_type = np.round(pd.pivot_table(rest_df_no_state.loc[:,['object_type', 'number']],\n",
    "                    values='number', index=['object_type'], aggfunc=[np.mean]).reset_index(), 2)\n",
    "\n",
    "count_number_by_type.columns = ['object_type', 'mean_numbers']\n",
    "\n",
    "plt.figure(figsize=(8, 4))\n",
    "sns.set_style(\"whitegrid\") \n",
    "ax = sns.barplot(x=\"object_type\", y=\"mean_numbers\", data=count_number_by_type.sort_values('mean_numbers', ascending=False), \n",
    "                 color = 'blue', alpha=0.5) \n",
    "\n",
    "plt.tight_layout()\n",
    "ax.set_xlabel(\"Виды заведений\")\n",
    "ax.set_title(\"Число посадочных мест в заведениях общественного питания по видам\")\n",
    "ax.set_ylabel(\"Среднее число посадочных мест\")\n",
    "plt.xticks(rotation=-45);"
   ]
  },
  {
   "cell_type": "markdown",
   "metadata": {},
   "source": [
    "### Вывод \n",
    "- Формат столовой и ресторана предполагает прием пищи в самом заведении, в связи с чем численность посадочных мест в среднем выше других видов;\n",
    "- В ресторанах зачастую не только едят, в связи с чем среднее время посещения возрастает, а для поддержания бОльшего числа посетителей необходимо увеличивать число посадочных мест;\n",
    "- Доминирование численности объектов кафе может заключаться в широком значении такого вида объекта, также это слово нейтрально;\n",
    "- Закусочная - слово с несколько негативным оттенком, что уменьшает число владельцев называющих заведения таким видом;\n",
    "- Большое число столовых в городе - государственные;\n",
    "- Кажется, что количество отделов кулинарии в Москве сильно больше 272."
   ]
  },
  {
   "cell_type": "markdown",
   "metadata": {},
   "source": [
    "### Закономерности в сетевых заведениях <a name=\"network\"></a>"
   ]
  },
  {
   "cell_type": "code",
   "execution_count": 10,
   "metadata": {},
   "outputs": [
    {
     "data": {
      "image/png": "[encoded data removed]",
      "text/plain": [
       "<Figure size 432x288 with 1 Axes>"
      ]
     },
     "metadata": {},
     "output_type": "display_data"
    }
   ],
   "source": [
    "def rainbow_text(x,y,ls,lc,**kw):\n",
    "\n",
    "    t = plt.gca().transData\n",
    "    figlocal = plt.gcf()\n",
    "\n",
    "    #horizontal version\n",
    "    for s,c in zip(ls,lc):\n",
    "        text = plt.text(x,y,\" \"+s+\" \",color=c, transform=t, **kw)\n",
    "        text.draw(figlocal.canvas.get_renderer())\n",
    "        ex = text.get_window_extent()\n",
    "        t = transforms.offset_copy(text._transform, x=ex.width, units='dots')\n",
    "\n",
    "    plt.show(figlocal) #plt.show((figlocal,fig))\n",
    "    \n",
    "words_from_title = \"Соотношение сетевых и не сетевых заведений\".split()\n",
    "colors_set = ['black', 'orange', 'black', 'blue', 'blue', 'black']\n",
    "figure, ax = plt.subplots()\n",
    "info_for_graphic = rest_df_no_state['chain'].value_counts().rename({'нет': 'не сетевых', 'да': 'сетевых'})\n",
    "\n",
    "ax.pie(info_for_graphic.values, autopct='%1.1f%%', shadow=True, startangle=90)\n",
    "\n",
    "rainbow_text(-1.3, 1.1, words_from_title, colors_set, size=12)\n",
    "plt.show()"
   ]
  },
  {
   "cell_type": "markdown",
   "metadata": {},
   "source": [
    "Вид объекта общественного питания, которому характерно сетевое распространение и количество таких заведений"
   ]
  },
  {
   "cell_type": "code",
   "execution_count": 11,
   "metadata": {},
   "outputs": [
    {
     "data": {
      "image/png": "[encoded data removed]",
      "text/plain": [
       "<Figure size 432x288 with 1 Axes>"
      ]
     },
     "metadata": {},
     "output_type": "display_data"
    }
   ],
   "source": [
    "percentage_types = rest_df_no_state.query('chain == \"да\"')['object_type'].value_counts() \\\n",
    "/ rest_df_no_state['object_type'].value_counts()\n",
    "percentage_types *= 100\n",
    "percentage_types = percentage_types.reset_index().sort_values('object_type', ascending=False)\n",
    "\n",
    "ax = sns.barplot(x=\"index\", y=\"object_type\", data=percentage_types, color = 'blue', alpha=0.5) \n",
    "ax.set_xlabel(\"Виды заведений\")\n",
    "ax.set_title(\"Распределение процента сетевых учреждений для каждого вида заведений\")\n",
    "ax.set_ylabel(\"Процент сетевых заведений\")\n",
    "ax.set_xticklabels(ax.get_xticklabels(), rotation=-90);"
   ]
  },
  {
   "cell_type": "code",
   "execution_count": 12,
   "metadata": {},
   "outputs": [
    {
     "data": {
      "text/html": [
       "<div>\n",
       "<style scoped>\n",
       "    .dataframe tbody tr th:only-of-type {\n",
       "        vertical-align: middle;\n",
       "    }\n",
       "\n",
       "    .dataframe tbody tr th {\n",
       "        vertical-align: top;\n",
       "    }\n",
       "\n",
       "    .dataframe thead th {\n",
       "        text-align: right;\n",
       "    }\n",
       "</style>\n",
       "<table border=\"1\" class=\"dataframe\">\n",
       "  <thead>\n",
       "    <tr style=\"text-align: right;\">\n",
       "      <th></th>\n",
       "      <th>object_name</th>\n",
       "      <th>count_places</th>\n",
       "      <th>median_persons</th>\n",
       "      <th>mean_persons</th>\n",
       "      <th>min_persons</th>\n",
       "      <th>max_persons</th>\n",
       "    </tr>\n",
       "  </thead>\n",
       "  <tbody>\n",
       "    <tr>\n",
       "      <td>439</td>\n",
       "      <td>шоколадница</td>\n",
       "      <td>173</td>\n",
       "      <td>50.0</td>\n",
       "      <td>57.24</td>\n",
       "      <td>7</td>\n",
       "      <td>150</td>\n",
       "    </tr>\n",
       "    <tr>\n",
       "      <td>25</td>\n",
       "      <td>kfc</td>\n",
       "      <td>170</td>\n",
       "      <td>46.5</td>\n",
       "      <td>55.07</td>\n",
       "      <td>0</td>\n",
       "      <td>400</td>\n",
       "    </tr>\n",
       "    <tr>\n",
       "      <td>244</td>\n",
       "      <td>макдоналдс</td>\n",
       "      <td>166</td>\n",
       "      <td>79.0</td>\n",
       "      <td>88.54</td>\n",
       "      <td>0</td>\n",
       "      <td>580</td>\n",
       "    </tr>\n",
       "    <tr>\n",
       "      <td>102</td>\n",
       "      <td>бургер кинг</td>\n",
       "      <td>144</td>\n",
       "      <td>45.0</td>\n",
       "      <td>46.92</td>\n",
       "      <td>0</td>\n",
       "      <td>150</td>\n",
       "    </tr>\n",
       "    <tr>\n",
       "      <td>395</td>\n",
       "      <td>теремок</td>\n",
       "      <td>105</td>\n",
       "      <td>24.0</td>\n",
       "      <td>26.64</td>\n",
       "      <td>0</td>\n",
       "      <td>200</td>\n",
       "    </tr>\n",
       "    <tr>\n",
       "      <td>225</td>\n",
       "      <td>крошка картошка</td>\n",
       "      <td>92</td>\n",
       "      <td>15.0</td>\n",
       "      <td>21.78</td>\n",
       "      <td>0</td>\n",
       "      <td>120</td>\n",
       "    </tr>\n",
       "    <tr>\n",
       "      <td>157</td>\n",
       "      <td>домино'с пицца</td>\n",
       "      <td>92</td>\n",
       "      <td>16.0</td>\n",
       "      <td>18.27</td>\n",
       "      <td>4</td>\n",
       "      <td>50</td>\n",
       "    </tr>\n",
       "    <tr>\n",
       "      <td>379</td>\n",
       "      <td>суши wok</td>\n",
       "      <td>75</td>\n",
       "      <td>6.0</td>\n",
       "      <td>6.75</td>\n",
       "      <td>0</td>\n",
       "      <td>22</td>\n",
       "    </tr>\n",
       "    <tr>\n",
       "      <td>254</td>\n",
       "      <td>милти</td>\n",
       "      <td>72</td>\n",
       "      <td>0.0</td>\n",
       "      <td>1.33</td>\n",
       "      <td>0</td>\n",
       "      <td>40</td>\n",
       "    </tr>\n",
       "    <tr>\n",
       "      <td>282</td>\n",
       "      <td>папа джонс</td>\n",
       "      <td>53</td>\n",
       "      <td>20.0</td>\n",
       "      <td>21.89</td>\n",
       "      <td>0</td>\n",
       "      <td>63</td>\n",
       "    </tr>\n",
       "  </tbody>\n",
       "</table>\n",
       "</div>"
      ],
      "text/plain": [
       "         object_name  count_places  median_persons  mean_persons  min_persons  \\\n",
       "439  шоколадница      173           50.0            57.24         7             \n",
       "25   kfc              170           46.5            55.07         0             \n",
       "244  макдоналдс       166           79.0            88.54         0             \n",
       "102  бургер кинг      144           45.0            46.92         0             \n",
       "395  теремок          105           24.0            26.64         0             \n",
       "225  крошка картошка  92            15.0            21.78         0             \n",
       "157  домино'с пицца   92            16.0            18.27         4             \n",
       "379  суши wok         75            6.0             6.75          0             \n",
       "254  милти            72            0.0             1.33          0             \n",
       "282  папа джонс       53            20.0            21.89         0             \n",
       "\n",
       "     max_persons  \n",
       "439  150          \n",
       "25   400          \n",
       "244  580          \n",
       "102  150          \n",
       "395  200          \n",
       "225  120          \n",
       "157  50           \n",
       "379  22           \n",
       "254  40           \n",
       "282  63           "
      ]
     },
     "execution_count": 12,
     "metadata": {},
     "output_type": "execute_result"
    }
   ],
   "source": [
    "info_about_network = pd.pivot_table(rest_df_no_state.query('chain == \"да\"').loc[:,['object_name', 'number']],\n",
    "                    values='number', index=['object_name'], aggfunc=['count', 'median', np.mean, np.min, np.max]).reset_index()\n",
    "\n",
    "info_about_network.columns = ['object_name', 'count_places', 'median_persons', 'mean_persons', 'min_persons', 'max_persons']\n",
    "info_about_network['mean_persons'] = round(info_about_network['mean_persons'], 2)\n",
    "info_about_network.sort_values('count_places', ascending=False).head(10)"
   ]
  },
  {
   "cell_type": "code",
   "execution_count": 13,
   "metadata": {},
   "outputs": [
    {
     "name": "stdout",
     "output_type": "stream",
     "text": [
      "38.48% - процент сетевых заведений первых 10 самых популярных сетей\n"
     ]
    }
   ],
   "source": [
    "print('{:.2%} - процент сетевых заведений первых 10 самых популярных сетей'.format(info_about_network.\n",
    "        sort_values('count_places', ascending=False).head(10)['count_places'].sum() / info_about_network['count_places'].sum()))"
   ]
  },
  {
   "cell_type": "code",
   "execution_count": 14,
   "metadata": {},
   "outputs": [
    {
     "name": "stdout",
     "output_type": "stream",
     "text": [
      "236 - количество сетей с одним заведением\n",
      "count    454.000000\n",
      "mean     6.537445  \n",
      "std      18.883801 \n",
      "min      1.000000  \n",
      "25%      1.000000  \n",
      "50%      1.000000  \n",
      "75%      4.000000  \n",
      "max      173.000000\n",
      "Name: count_places, dtype: float64\n"
     ]
    },
    {
     "data": {
      "text/plain": [
       "count    218.000000\n",
       "mean     12.532110 \n",
       "std      25.980166 \n",
       "min      2.000000  \n",
       "25%      2.000000  \n",
       "50%      4.000000  \n",
       "75%      9.000000  \n",
       "max      173.000000\n",
       "Name: count_places, dtype: float64"
      ]
     },
     "execution_count": 14,
     "metadata": {},
     "output_type": "execute_result"
    }
   ],
   "source": [
    "print('{} - количество сетей с одним заведением'.format(info_about_network.query('count_places == 1')['count_places'].count()))\n",
    "print(info_about_network['count_places'].describe())\n",
    "\n",
    "info_about_network.query('count_places > 1')['count_places'].describe()"
   ]
  },
  {
   "cell_type": "markdown",
   "metadata": {},
   "source": [
    "### Вывод о сетевых заведениях\n",
    "\n",
    "* 78.6% заведений являются не сетевыми;\n",
    "* Более половины сетей состоят из 1 заведения и рассматривать их как сеть считаю не целесообразным;\n",
    "* Большое число сетей имеет малое количество заведений в связи с чем возможно рассмотрение характерности числа посадочных мест сетей с точки зрения сети с медианным числом заведений или же с точки зрения действительно больших сетей, я рассматривал со второй позиции;\n",
    "* В крупных сетях большой разброс численности посадочных мест, что говорит о множестве вариантов организации общественного питания в зависимости от внешних факторов;\n",
    "* Среди крупных сетей есть сети похожие друг на друга по ассортименту при этом их медианное число посетителей также близко, к примеру бургер кинг и kfc, домино'с пицца и папа джонс."
   ]
  },
  {
   "cell_type": "markdown",
   "metadata": {},
   "source": [
    "### Выявление популярных районов <a name='pop_districts'></a>\n"
   ]
  },
  {
   "cell_type": "code",
   "execution_count": 15,
   "metadata": {},
   "outputs": [
    {
     "data": {
      "text/plain": [
       "проспект Мира             199\n",
       "Профсоюзная улица         172\n",
       "Ленинградский проспект    171\n",
       "Пресненская набережная    167\n",
       "Варшавское шоссе          154\n",
       "Ленинский проспект        136\n",
       "проспект Вернадского      126\n",
       "Кутузовский проспект      109\n",
       "Каширское шоссе           108\n",
       "Ходынский бульвар         102\n",
       "Name: street, dtype: int64"
      ]
     },
     "execution_count": 15,
     "metadata": {},
     "output_type": "execute_result"
    }
   ],
   "source": [
    "info_about_address =  rest_df_no_state['address'].str.split(\", \", expand=True)\n",
    "\n",
    "street_arr = []\n",
    "name_part_address = ['дом', 'владение', 'домовладение', 'корпус', 'строение']\n",
    "\n",
    "# цикл по заведениям, которые не государственные \n",
    "for counter in (info_about_address.index):\n",
    "    flag_Moscow = info_about_address.loc[counter, 0] == 'город Москва'\n",
    "    insert_flag = False\n",
    "    \n",
    "    # Поиск слова, обозначающего номер дома\n",
    "    for counter_columns in range(1, len(info_about_address.columns) - 1):\n",
    "        if insert_flag:\n",
    "            break\n",
    "        \n",
    "        # Перебор всевозможных синонимов слова дом, корпус и строение корректны в этом смысле, так как это не всегда приписки \n",
    "        for home in name_part_address:\n",
    "            if info_about_address.loc[counter, counter_columns].find(home) != -1:\n",
    "                \n",
    "                # Считаю, что всё, что написано до дома за исключением города адрес типо улицы\n",
    "                street_arr.append(' '.join([str(element) \n",
    "                                        for element in info_about_address.loc[counter, flag_Moscow:counter_columns-1].values]))\n",
    "\n",
    "                insert_flag = True\n",
    "                break\n",
    "\n",
    "rest_df_no_state.loc[:, 'street'] = street_arr\n",
    "top_10_streets = rest_df_no_state['street'].value_counts().head(10)\n",
    "top_10_streets"
   ]
  },
  {
   "cell_type": "code",
   "execution_count": 16,
   "metadata": {},
   "outputs": [],
   "source": [
    "# Получение координат при помощи api по адресам\n",
    "def get_geo_info_about_homes(array_parts_address, api_key, tag):\n",
    "    adress_list = []\n",
    "\n",
    "    # Перебор всех адресов и получение их параметров, координат по адресу или района по координатам\n",
    "    for address_part in array_parts_address:\n",
    "        try:\n",
    "\n",
    "            # В случае надобности координат и районов запросы несколько отличаются\n",
    "            if tag == 'formatted':\n",
    "                URL_for_request = 'https://geocode-maps.yandex.ru/1.x/?apikey={}&kind=district&geocode='.format(api_key) + address_part\n",
    "            else:\n",
    "                URL_for_request = 'https://geocode-maps.yandex.ru/1.x/?apikey={}&geocode='.format(api_key) + address_part\n",
    "\n",
    "            data_for_request = requests.get(URL_for_request).text           \n",
    "            result_requests = re.search(f'<{tag}>(.*?)<', data_for_request).group(1)\n",
    "            adress_list.append(result_requests)\n",
    "        except:\n",
    "            adress_list.append('invalid geo')\n",
    "            print(address_part)\n",
    "\n",
    "    return adress_list"
   ]
  },
  {
   "cell_type": "code",
   "execution_count": 17,
   "metadata": {},
   "outputs": [],
   "source": [
    "# Получение dataFrame из таблицы с google диска \n",
    "def get_df_from_csv(spreadsheet_id):\n",
    "    file_name = 'https://docs.google.com/spreadsheets/d/{}/export?format=csv'.format(spreadsheet_id)\n",
    "    request = requests.get(file_name)\n",
    "    df = pd.read_csv(BytesIO(request.content))\n",
    "\n",
    "    return df"
   ]
  },
  {
   "cell_type": "code",
   "execution_count": 18,
   "metadata": {},
   "outputs": [],
   "source": [
    "# Функция удаления излишней детализации районов\n",
    "def get_dict_disctricts_and_cut_excess(more_districts):\n",
    "    dict_districts = { }\n",
    "\n",
    "    for element_arr in more_districts:\n",
    "        \n",
    "        # Блок с try, по причине наличия адресов, для которых не определяются корректно координаты\n",
    "        try:\n",
    "\n",
    "            dict_districts[element_arr] = re.match(\n",
    "                r'(.*?, (поселение [а-яА-Яё ]*),?|.+?, ([а-яА-Яё ]*район[а-яА-Яё ]*,?))', element_arr).group(3)\n",
    "            if dict_districts[element_arr][-1] == ',':\n",
    "                dict_districts[element_arr] = dict_districts[element_arr][:-int(dict_districts[element_arr][-1] == ',')]\n",
    "        except:\n",
    "\n",
    "            dict_districts[element_arr] = 'invalid'\n",
    "    return dict_districts"
   ]
  },
  {
   "cell_type": "code",
   "execution_count": 19,
   "metadata": {},
   "outputs": [],
   "source": [
    "# Создание промежуточного файла вынужденная мера по причине ограничение на число бесплатных запросов в день\n",
    "# Эта и нижняя ячейка отражают последовательность выполненных действий, но являются промежуточными результатами\n",
    "#top_10_streets = top_10_streets.index\n",
    "#info_about_popular_places = rest_df_no_state.query('street in @top_10_streets')['address'].to_frame()\n",
    "\n",
    "#info_about_popular_places.loc[:,'coordinates'] = get_geo_info_about_homes(info_about_popular_places['address'].values, api_key, 'pos')\n",
    "\n",
    "#info_about_popular_places.to_csv('test.csv', sep=';', encoding='utf-8-sig')"
   ]
  },
  {
   "cell_type": "code",
   "execution_count": 20,
   "metadata": {},
   "outputs": [],
   "source": [
    "# Использование файла с координатами для получения районов популярных мест\n",
    "# info_about_popular_places = get_df_from_csv('1ggoSJjtSUDjE2211LNojHDoywYfNSeG5kkgvA4_uL0U')\n",
    "\n",
    "# info_about_popular_places.loc[:,'districts'] = get_geo_info_about_homes(info_about_popular_places['coordinates'].values, \\\n",
    "#    api_key,  'formatted')\n",
    "\n",
    "# info_about_popular_places = info_about_popular_places.drop(['coordinates'], axis=1)\n",
    "# info_about_popular_places.to_csv('districts_popular_places.csv', sep=';', encoding='utf-8-sig')"
   ]
  },
  {
   "cell_type": "code",
   "execution_count": 21,
   "metadata": {},
   "outputs": [
    {
     "data": {
      "image/png": "[encoded data removed]",
      "text/plain": [
       "<Figure size 432x288 with 1 Axes>"
      ]
     },
     "metadata": {},
     "output_type": "display_data"
    }
   ],
   "source": [
    "# Получение районов по 10 улицам с наибольшим числом заведений\n",
    "address_with_districts = get_df_from_csv('1-D76LdBuxyYiYRE2JL6VeOTiUozgSyzMxoMpuxmAfMg')\n",
    "\n",
    "dict_districts = get_dict_disctricts_and_cut_excess(address_with_districts['districts'].unique())\n",
    "address_with_districts['districts'] = address_with_districts['districts'].map(dict_districts)\n",
    "address_with_districts['districts'].value_counts().head(8).to_frame()\n",
    "\n",
    "ax = sns.barplot(x=\"index\", y=\"districts\",\n",
    "                 data=address_with_districts['districts'].value_counts().head(8).to_frame().reset_index(), \n",
    "                 color = 'blue', alpha=0.5) \n",
    "ax.set_xlabel(\"Pайоны\")\n",
    "ax.set_title(\"Распределение числа заведений по районам\")\n",
    "ax.set_ylabel(\"Число заведений\")\n",
    "ax.set_xticklabels(ax.get_xticklabels(), rotation=-90);"
   ]
  },
  {
   "cell_type": "markdown",
   "metadata": {},
   "source": [
    "### Выводы о районах"
   ]
  },
  {
   "cell_type": "markdown",
   "metadata": {},
   "source": [
    "Выше приведен топ 8 районов по числу заведений, именно восемь, так как в таком случае отличие самого популярного и не популярного района менее чем в три раза. \n",
    "\n",
    "* В разных районах сильно отличается количество заведений;\n",
    "* Первые два района по количеству заведений сильно отличаются от остальных, территориально они находятся рядом друг с другом;\n",
    "\n",
    "Причины большого числа заведений в Пресненском районе:\n",
    "* Содержит деловой центр «Москва-Сити» — развивающийся деловой район в Москве на Пресненской набережной, в котором большое число организаций, высокая плотность рабочих мест;\n",
    "* Включает в себя множество историко-архитектурных памятников;\n",
    "* Расположены объекты федерального и общегородского значения.\n",
    "\n",
    "Причины большого числа заведений в Хорошёвском районе:\n",
    "* Наличие самого большого ТРЦ всей Европы, по официальной информации на сайте, лишь на его территории 81 ресторан;\n",
    "* Наличие крупного стадиона в районе."
   ]
  },
  {
   "cell_type": "markdown",
   "metadata": {},
   "source": [
    "### Выявление закономерностей заведений в популярных районax <a name='pop_districts_depend'></a>\n"
   ]
  },
  {
   "cell_type": "code",
   "execution_count": 22,
   "metadata": {},
   "outputs": [
    {
     "data": {
      "image/png": "[encoded data removed]",
      "text/plain": [
       "<Figure size 1440x360 with 3 Axes>"
      ]
     },
     "metadata": {},
     "output_type": "display_data"
    }
   ],
   "source": [
    "try:\n",
    "    top_10_streets = top_10_streets.index\n",
    "except:\n",
    "    print('Уже нет индекса')\n",
    "number_by_street = rest_df_no_state.query('street in @top_10_streets').groupby('street')['number'].\\\n",
    "        agg(['sum', np.median, 'count']).reset_index()\n",
    "\n",
    "fig, axs = plt.subplots(nrows=1, ncols=3, figsize=(20,5))\n",
    "sns.barplot(ax=axs[0], x=\"street\", y=\"sum\", data=number_by_street.sort_values('sum', ascending=False), \n",
    "                 color = 'blue', alpha=0.5) \n",
    "sns.barplot(ax=axs[1], x=\"street\", y=\"median\", data=number_by_street.sort_values('median', ascending=False), \n",
    "                 color = 'red', alpha=0.5) \n",
    "sns.barplot(ax=axs[2], x=\"street\", y=\"count\", data=number_by_street.sort_values('count', ascending=False), \n",
    "                 color = 'green', alpha=0.5) \n",
    "\n",
    "axs[0].set_xlabel(\"Улицы\")\n",
    "axs[0].set_title(\"Распределение числа посадочных мест по улицам\")\n",
    "axs[0].set_ylabel(\"Суммарное число посадочных мест\")\n",
    "axs[0].set_xticklabels(axs[0].get_xticklabels(), rotation=-90);\n",
    "\n",
    "axs[1].set_xlabel(\"Улицы\")\n",
    "axs[1].set_title(\"Распределение числа посадочных мест по улицам\")\n",
    "axs[1].set_ylabel(\"Медианное число посадочных мест в заведении\")\n",
    "axs[1].set_xticklabels(axs[1].get_xticklabels(), rotation=-90);\n",
    "\n",
    "axs[2].set_xlabel(\"Улицы\")\n",
    "axs[2].set_title(\"Распределение числа заведений по улицам\")\n",
    "axs[2].set_ylabel(\"Число заведений на улице\")\n",
    "axs[2].set_xticklabels(axs[2].get_xticklabels(), rotation=-90);"
   ]
  },
  {
   "cell_type": "markdown",
   "metadata": {},
   "source": [
    "### Выявление районов с улицами, на которых один вид заведений <a name = 'districts_1_inst'></a>\n"
   ]
  },
  {
   "cell_type": "code",
   "execution_count": 23,
   "metadata": {},
   "outputs": [
    {
     "name": "stdout",
     "output_type": "stream",
     "text": [
      "721 - количество улиц с одним видом заведений\n"
     ]
    }
   ],
   "source": [
    "streets_with_one_type = rest_df_no_state.groupby(['street'])['object_type'].nunique().\\\n",
    "            to_frame().query('object_type == 1').index\n",
    "\n",
    "print(f'{len(streets_with_one_type)} - количество улиц с одним видом заведений')"
   ]
  },
  {
   "cell_type": "code",
   "execution_count": 24,
   "metadata": {},
   "outputs": [],
   "source": [
    "# Выделение районов для улиц с единственным видом заведений \n",
    "# one_type_institute_df = rest_df_no_state.query('street in @streets_with_one_type')['address', 'street']\n",
    "# one_type_institute_df.loc[:,'coordinates'] = get_geo_info_about_homes(one_type_institute_df['address'].values, api_key, 'pos')\n",
    "# one_type_institute_df = one_type_institute_df.query('coordinates != \"invalid geo\"')\n",
    "\n",
    "# one_type_institute_df.loc[:, 'districts'] = /\n",
    "# get_geo_info_about_homes(one_type_institute_df['coordinates'].values, api_key, 'formatted')\n",
    "# one_type_institute_df = one_type_institute_df.query('districts != \"invalid geo\"')\n",
    "# one_type_institute_df = one_type_institute_df.drop(['coordinates', 'address'], axis=1)\n",
    "# one_type_institute_df.to_csv('districts_one_type_institute.csv', sep=';', encoding='utf-8-sig')"
   ]
  },
  {
   "cell_type": "code",
   "execution_count": 25,
   "metadata": {},
   "outputs": [
    {
     "data": {
      "image/png": "[encoded data removed]",
      "text/plain": [
       "<Figure size 432x288 with 1 Axes>"
      ]
     },
     "metadata": {},
     "output_type": "display_data"
    }
   ],
   "source": [
    "one_type_institute_df = get_df_from_csv('1qwNgTNqImro8rv2P-ERTCR-G8n1ZUy6wCHUfn0dAFAs')\n",
    "dict_districts = get_dict_disctricts_and_cut_excess(one_type_institute_df['districts'].unique())\n",
    "\n",
    "one_type_institute_df['districts'] = one_type_institute_df['districts'].map(dict_districts)\n",
    "one_type_institute_df = one_type_institute_df.query('districts != \"invalid\"')\n",
    "one_type_institute_df.groupby('districts')['street'].nunique().sort_values(ascending=False).head(10)\n",
    "\n",
    "ax = sns.barplot(x=\"districts\", y=\"street\", data=one_type_institute_df.groupby('districts')['street']. \\\n",
    "                 nunique().sort_values(ascending=False).head(10).to_frame().reset_index(), \n",
    "                 color = 'blue', alpha=0.5) \n",
    "\n",
    "ax.set_xlabel(\"Pайоны\")\n",
    "ax.set_title(\"Распределение числа улиц с одним видом заведений по районам\")\n",
    "ax.set_ylabel(\"Число улиц\")\n",
    "ax.set_xticklabels(ax.get_xticklabels(), rotation=-90);"
   ]
  },
  {
   "cell_type": "markdown",
   "metadata": {},
   "source": [
    "* На 721 улице располагаются заведения одного вида;\n",
    "* Существуют некоторые районы, в которых таких улиц больше, чем в других;\n",
    "* Считаю этот показатель малоэффективным для рассмотрения и последующего прогнозирования.\n"
   ]
  },
  {
   "cell_type": "markdown",
   "metadata": {},
   "source": [
    "## Общий вывод <a name='conclusion'></a>"
   ]
  },
  {
   "cell_type": "markdown",
   "metadata": {},
   "source": [
    "Выявлены ряд закономерностей, которые необходимо учесть при создании собственного кафе:\n",
    "\n",
    "* При выборе вида заведения рекомендую обратить внимание на следующие факторы:\n",
    "  * Формат столовой и ресторана предполагает прием пищи в самом заведении, в связи с чем необходимо закладывать большую численность посадочных мест, а значит и большую площадь заведения;\n",
    "  * В ресторанах зачастую не только едят, в связи с чем среднее время посещения возрастает, а для поддержания бОльшего числа  посетителей необходимо увеличивать число посадочных мест;\n",
    "  * Закусочная, столовая - слова с несколько негативным оттенком, что уменьшает число владельцев называющих заведения такими видами, рекомендую не открывать заведения подобного вида;\n",
    "  * Отделы кулинарии в Москве - самый не популярный вид заведений, кафе напротив, встречается чаще других.\n",
    "\n",
    "\n",
    "* Размышляя о сетевом аспекте следует обратить внимание на следующее:\n",
    "    * 78.6% заведений являются не сетевыми, что говорит о некоторых проблемах в распространении концепций на сеть заведений;\n",
    "    * Большое число сетей имеет малое количество заведений в связи с чем, рекомендую остановиться на открытии одного заведения, а не сразу сети, для отработки системы функционирования;\n",
    "    * С другой стороны в крупных сетях существуют очень разные заведения - киоски и огромные пространства на сотни человек, каждый вид заведения уместен в конкретных условиях, так что необходимо максимально тщательно изучить место будущего заведения;\n",
    "    * Среди крупных сетей есть сети похожие друг на друга по ассортименту при этом их медианное число посетителей также близко, поэтому при открытии заведения можно поискать похожие успешные предприятия и взаимствовать какие-то идеи.\n",
    "    \n",
    "    \n",
    "* Что касается района будущего заведения:\n",
    "   * В разных районах сильно отличается количество заведений;\n",
    "   * На численность посадочных мест влияет множество историко-архитектурных памятников, объекты федерального и общегородского значения, плотность населения, наличие иных крупных сооружений;\n",
    "   * Может иметь место зависимость событий и наплыва посетителей, концерты, матчи спортивных команд;\n",
    "   * Необходимо не забывать анализировать платежеспособность посетителей.\n",
    "   \n",
    "   \n",
    " * Возможные влияния формата:\n",
    "   * Готовность - доверие социума к таким сотрудникам, необходимо узнать настроение людей, стоит хотя бы опрос провести об отношении людей к роботам; \n",
    "   * Чаевые, рестораны и кафе с официантами экономят на зарплате, так как чаевые посетителей являются достойной заменой, будут ли оставлять клиенты роботам на чай - вопрос отдельного исследования;\n",
    "   * Необходимо напирать на плюсы формата, как по мне главное - это стабильность, стабильный вкус, так как возможно обрабатывать продукты, стабильное время ожидания, стабильно высокий сервис.\n",
    "\n",
    "\n",
    "Открытие заведения - сложная задача и необходимо анализировать массу факторов, проведя анализ были выявлены лишь некоторые общие закономерности и перед открытием рекомендую провести дополнительное исследование об отношении к формату, поиску похожих примеров."
   ]
  },
  {
   "cell_type": "markdown",
   "metadata": {},
   "source": [
    "Презентация: https://drive.google.com/file/d/1oHCuTw1PajBVvTUGmVWBpgotv9x1gBV3/view?usp=sharing"
   ]
  }
 ],
 "metadata": {
  "kernelspec": {
   "display_name": "Python 3",
   "language": "python",
   "name": "python3"
  },
  "language_info": {
   "codemirror_mode": {
    "name": "ipython",
    "version": 3
   },
   "file_extension": ".py",
   "mimetype": "text/x-python",
   "name": "python",
   "nbconvert_exporter": "python",
   "pygments_lexer": "ipython3",
   "version": "3.7.8"
  },
  "toc": {
   "base_numbering": 1,
   "nav_menu": {
    "height": "246px",
    "width": "664px"
   },
   "number_sections": true,
   "sideBar": true,
   "skip_h1_title": false,
   "title_cell": "Table of Contents",
   "title_sidebar": "Contents",
   "toc_cell": false,
   "toc_position": {},
   "toc_section_display": true,
   "toc_window_display": false
  }
 },
 "nbformat": 4,
 "nbformat_minor": 2
}
