{
  "nbformat": 4,
  "nbformat_minor": 0,
  "metadata": {
    "colab": {
      "name": "Sbermarket_quarry_shop.ipynb",
      "provenance": [],
      "collapsed_sections": [],
      "toc_visible": true
    },
    "kernelspec": {
      "name": "python3",
      "display_name": "Python 3"
    },
    "language_info": {
      "name": "python"
    }
  },
  "cells": [
    {
      "cell_type": "markdown",
      "metadata": {
        "id": "wfGfjqZFkEYa"
      },
      "source": [
        "# Обработка эксперимента Сбермаркета\n",
        "\n",
        "На текущем варианте лендинга пользователь сначала выбирает ритейлера, переходит в каталог, ищет нужные ему товары и только потом может узнать, что по его адресу выбранного магазина может не оказаться. Необходимо проверить гипотезу, что выбор адреса до этапа выбора магазина поможет избежать “кривых” сценариев без повышения отказов с самого лендинга.\n",
        "\n",
        "**Необходимо:**\n",
        "- Проанализировать дизайн эксперимента. Какие ошибки были допущены? Как можно его улучшить?\n",
        "- Проанализировать данные эксперимента. Какой из вариантов нужно пускать в бой по итогу A/B теста и почему?  \n",
        "- Провести неофициальное расследование и составьте максимально подробный список таких особенностей в приведенных данных. \n"
      ]
    },
    {
      "cell_type": "markdown",
      "metadata": {
        "id": "UmX9yJnwremF"
      },
      "source": [
        "## Техническое вступление"
      ]
    },
    {
      "cell_type": "code",
      "metadata": {
        "id": "LjbBwbUqXUAl",
        "colab": {
          "base_uri": "https://localhost:8080/"
        },
        "outputId": "f63cecfa-9275-49eb-a3ed-598c35ff1fc2"
      },
      "source": [
        "import pandas as pd\n",
        "import numpy as np\n",
        "from scipy import stats \n",
        "\n",
        "import matplotlib.pyplot as plt\n",
        "import plotly.express as px\n",
        "from plotly import graph_objects as go\n",
        "from plotly.subplots import make_subplots\n",
        "\n",
        "from collections import namedtuple, defaultdict\n",
        "import math\n",
        "\n",
        "pd.set_option('display.max_colwidth', -1)"
      ],
      "execution_count": null,
      "outputs": [
        {
          "output_type": "stream",
          "text": [
            "/usr/local/lib/python3.7/dist-packages/ipykernel_launcher.py:13: FutureWarning:\n",
            "\n",
            "Passing a negative integer is deprecated in version 1.0 and will not be supported in future version. Instead, use None to not limit the column width.\n",
            "\n"
          ],
          "name": "stderr"
        }
      ]
    },
    {
      "cell_type": "code",
      "metadata": {
        "colab": {
          "base_uri": "https://localhost:8080/"
        },
        "id": "xhjean7h1MXa",
        "outputId": "0a665d22-c595-44b6-e097-e91ec93216ac"
      },
      "source": [
        "# Пути пользователей в тестовой группе \n",
        "!gdown --id 1s0VRCXqBQZX8maokByEU7cgzr31e3VpY\n",
        "\n",
        "# Пути пользователей в контрольной группе \n",
        "!gdown --id 12zeoZX9_bwWvJ48dnYlgMfb3Tq7_iGU6\n",
        "\n",
        "# Данные\n",
        "!gdown --id 1LqgDKXBVk1Whx_Ro75vuiyJkLlKGkbtb"
      ],
      "execution_count": null,
      "outputs": [
        {
          "output_type": "stream",
          "text": [
            "Downloading...\n",
            "From: https://drive.google.com/uc?id=1s0VRCXqBQZX8maokByEU7cgzr31e3VpY\n",
            "To: /content/sequence_actions_users_test_gr.txt\n",
            "100% 112k/112k [00:00<00:00, 43.7MB/s]\n",
            "Downloading...\n",
            "From: https://drive.google.com/uc?id=12zeoZX9_bwWvJ48dnYlgMfb3Tq7_iGU6\n",
            "To: /content/sequence_actions_users_default_gr.txt\n",
            "100% 326k/326k [00:00<00:00, 47.1MB/s]\n",
            "Downloading...\n",
            "From: https://drive.google.com/uc?id=1LqgDKXBVk1Whx_Ro75vuiyJkLlKGkbtb\n",
            "To: /content/All_files.zip\n",
            "74.0MB [00:01, 44.3MB/s]\n"
          ],
          "name": "stdout"
        }
      ]
    },
    {
      "cell_type": "code",
      "metadata": {
        "colab": {
          "base_uri": "https://localhost:8080/"
        },
        "id": "xNN7eZomXdLQ",
        "outputId": "7c887fc1-e89f-4533-b49c-2ae821de60e7"
      },
      "source": [
        "!unzip All_files.zip"
      ],
      "execution_count": null,
      "outputs": [
        {
          "output_type": "stream",
          "text": [
            "Archive:  All_files.zip\n",
            "  inflating: Career Factory/Shop Selection Started.csv  \n",
            "  inflating: Career Factory/Address Not In Delivery Zone.csv  \n",
            "  inflating: Career Factory/Address Change Initiated.csv  \n",
            "  inflating: Career Factory/Order Completed.csv  \n",
            "  inflating: Career Factory/Shop Selected.csv  \n",
            "  inflating: Career Factory/Landing Viewed.csv  \n",
            "  inflating: Career Factory/AB Test Hit.csv  \n",
            "  inflating: Career Factory/Main Page Viewed.csv  \n",
            "  inflating: Career Factory/Add To Cart Clicked.csv  \n",
            "  inflating: Career Factory/Product Added.csv  \n"
          ],
          "name": "stdout"
        }
      ]
    },
    {
      "cell_type": "markdown",
      "metadata": {
        "id": "7mx4pwtobi9K"
      },
      "source": [
        "## Рассмотрение деления на A/B группы"
      ]
    },
    {
      "cell_type": "code",
      "metadata": {
        "id": "tzwxWnKeFP9t",
        "colab": {
          "base_uri": "https://localhost:8080/"
        },
        "outputId": "3a8807bf-cfe5-4ec4-8f3a-326861aa94d2"
      },
      "source": [
        "AB_df['hit_at'].max()"
      ],
      "execution_count": null,
      "outputs": [
        {
          "output_type": "execute_result",
          "data": {
            "text/plain": [
              "Timestamp('2020-12-10 23:59:57.308000')"
            ]
          },
          "metadata": {
            "tags": []
          },
          "execution_count": 6
        }
      ]
    },
    {
      "cell_type": "code",
      "metadata": {
        "id": "HfREyUXMFLG4",
        "colab": {
          "base_uri": "https://localhost:8080/"
        },
        "outputId": "df5c8ed1-20ed-464e-aaa1-dde3653cce2a"
      },
      "source": [
        "AB_df['hit_at'].min()"
      ],
      "execution_count": null,
      "outputs": [
        {
          "output_type": "execute_result",
          "data": {
            "text/plain": [
              "Timestamp('2020-11-26 00:00:10.318000')"
            ]
          },
          "metadata": {
            "tags": []
          },
          "execution_count": 5
        }
      ]
    },
    {
      "cell_type": "code",
      "metadata": {
        "colab": {
          "base_uri": "https://localhost:8080/",
          "height": 426
        },
        "id": "qWOnh6AYYFdZ",
        "outputId": "b8a0dae2-27ad-462a-f645-2e974e41226a"
      },
      "source": [
        "AB_df = pd.read_csv('/content/Career Factory/AB Test Hit.csv')\n",
        "AB_df['hit_at'] = pd.to_datetime(AB_df['hit_at'].str[:-4], format=\"%Y-%m-%d %H:%M:%S\")\n",
        "AB_df.info()\n",
        "AB_df.head()"
      ],
      "execution_count": null,
      "outputs": [
        {
          "output_type": "stream",
          "text": [
            "<class 'pandas.core.frame.DataFrame'>\n",
            "RangeIndex: 502784 entries, 0 to 502783\n",
            "Data columns (total 6 columns):\n",
            " #   Column        Non-Null Count   Dtype         \n",
            "---  ------        --------------   -----         \n",
            " 0   hit_at        502784 non-null  datetime64[ns]\n",
            " 1   anonymous_id  502784 non-null  object        \n",
            " 2   group         502784 non-null  object        \n",
            " 3   device_type   502784 non-null  object        \n",
            " 4   browser       502784 non-null  object        \n",
            " 5   os            502783 non-null  object        \n",
            "dtypes: datetime64[ns](1), object(5)\n",
            "memory usage: 23.0+ MB\n"
          ],
          "name": "stdout"
        },
        {
          "output_type": "execute_result",
          "data": {
            "text/html": [
              "<div>\n",
              "<style scoped>\n",
              "    .dataframe tbody tr th:only-of-type {\n",
              "        vertical-align: middle;\n",
              "    }\n",
              "\n",
              "    .dataframe tbody tr th {\n",
              "        vertical-align: top;\n",
              "    }\n",
              "\n",
              "    .dataframe thead th {\n",
              "        text-align: right;\n",
              "    }\n",
              "</style>\n",
              "<table border=\"1\" class=\"dataframe\">\n",
              "  <thead>\n",
              "    <tr style=\"text-align: right;\">\n",
              "      <th></th>\n",
              "      <th>hit_at</th>\n",
              "      <th>anonymous_id</th>\n",
              "      <th>group</th>\n",
              "      <th>device_type</th>\n",
              "      <th>browser</th>\n",
              "      <th>os</th>\n",
              "    </tr>\n",
              "  </thead>\n",
              "  <tbody>\n",
              "    <tr>\n",
              "      <th>0</th>\n",
              "      <td>2020-11-30 04:21:38.616</td>\n",
              "      <td>3e05a2dc-3922-4caf-b837-08fcb337c82e</td>\n",
              "      <td>default</td>\n",
              "      <td>desktop</td>\n",
              "      <td>IE</td>\n",
              "      <td>Windows</td>\n",
              "    </tr>\n",
              "    <tr>\n",
              "      <th>1</th>\n",
              "      <td>2020-12-01 20:24:04.363</td>\n",
              "      <td>7f00b6ca-7938-4866-a323-c520838f5ef9</td>\n",
              "      <td>default</td>\n",
              "      <td>desktop</td>\n",
              "      <td>IE</td>\n",
              "      <td>Windows</td>\n",
              "    </tr>\n",
              "    <tr>\n",
              "      <th>2</th>\n",
              "      <td>2020-11-28 20:16:52.901</td>\n",
              "      <td>91e9900e-2cc6-4362-92b4-9e6712a6918e</td>\n",
              "      <td>address_first</td>\n",
              "      <td>desktop</td>\n",
              "      <td>IE</td>\n",
              "      <td>Windows</td>\n",
              "    </tr>\n",
              "    <tr>\n",
              "      <th>3</th>\n",
              "      <td>2020-11-29 13:29:40.557</td>\n",
              "      <td>616dd5e8-dee2-47aa-9d80-0dfadcf1922f</td>\n",
              "      <td>default</td>\n",
              "      <td>desktop</td>\n",
              "      <td>IE</td>\n",
              "      <td>Windows</td>\n",
              "    </tr>\n",
              "    <tr>\n",
              "      <th>4</th>\n",
              "      <td>2020-11-27 14:56:29.471</td>\n",
              "      <td>64734da4-d9f3-4d53-b401-4d0819a6e5fb</td>\n",
              "      <td>default</td>\n",
              "      <td>desktop</td>\n",
              "      <td>IE</td>\n",
              "      <td>Windows</td>\n",
              "    </tr>\n",
              "  </tbody>\n",
              "</table>\n",
              "</div>"
            ],
            "text/plain": [
              "                   hit_at  ...       os\n",
              "0 2020-11-30 04:21:38.616  ...  Windows\n",
              "1 2020-12-01 20:24:04.363  ...  Windows\n",
              "2 2020-11-28 20:16:52.901  ...  Windows\n",
              "3 2020-11-29 13:29:40.557  ...  Windows\n",
              "4 2020-11-27 14:56:29.471  ...  Windows\n",
              "\n",
              "[5 rows x 6 columns]"
            ]
          },
          "metadata": {
            "tags": []
          },
          "execution_count": 4
        }
      ]
    },
    {
      "cell_type": "code",
      "metadata": {
        "colab": {
          "base_uri": "https://localhost:8080/"
        },
        "id": "1_WfIwBcUS6_",
        "outputId": "c13f0ab0-5ad2-4fef-e0b6-9cbf47e5accd"
      },
      "source": [
        "print(f'Полных дубликатов в AB_df = {AB_df.duplicated().sum()}.')\n",
        "\n",
        "print('Дубликатов в AB_df, отличающихся датой = {}.'.\n",
        "      format(AB_df.loc[:, 'anonymous_id':'os'].duplicated().sum()))"
      ],
      "execution_count": null,
      "outputs": [
        {
          "output_type": "stream",
          "text": [
            "Полных дубликатов в AB_df = 0.\n",
            "Дубликатов в AB_df, отличающихся датой = 13140.\n"
          ],
          "name": "stdout"
        }
      ]
    },
    {
      "cell_type": "code",
      "metadata": {
        "colab": {
          "base_uri": "https://localhost:8080/",
          "height": 77
        },
        "id": "z-eQbWdoFD6M",
        "outputId": "fad53e92-2a00-4fc8-bfae-4b4f1447ad80"
      },
      "source": [
        "display(AB_df[AB_df['os'].isnull()])\n",
        "AB_df = AB_df.drop(AB_df[AB_df['os'].isnull()].index)"
      ],
      "execution_count": null,
      "outputs": [
        {
          "output_type": "display_data",
          "data": {
            "text/html": [
              "<div>\n",
              "<style scoped>\n",
              "    .dataframe tbody tr th:only-of-type {\n",
              "        vertical-align: middle;\n",
              "    }\n",
              "\n",
              "    .dataframe tbody tr th {\n",
              "        vertical-align: top;\n",
              "    }\n",
              "\n",
              "    .dataframe thead th {\n",
              "        text-align: right;\n",
              "    }\n",
              "</style>\n",
              "<table border=\"1\" class=\"dataframe\">\n",
              "  <thead>\n",
              "    <tr style=\"text-align: right;\">\n",
              "      <th></th>\n",
              "      <th>hit_at</th>\n",
              "      <th>anonymous_id</th>\n",
              "      <th>group</th>\n",
              "      <th>device_type</th>\n",
              "      <th>browser</th>\n",
              "      <th>os</th>\n",
              "    </tr>\n",
              "  </thead>\n",
              "  <tbody>\n",
              "    <tr>\n",
              "      <th>353476</th>\n",
              "      <td>2020-11-26 08:04:14.164</td>\n",
              "      <td>43c2bbe6-ba74-4b76-9597-421d3175ad30</td>\n",
              "      <td>default</td>\n",
              "      <td>desktop</td>\n",
              "      <td>Firefox</td>\n",
              "      <td>NaN</td>\n",
              "    </tr>\n",
              "  </tbody>\n",
              "</table>\n",
              "</div>"
            ],
            "text/plain": [
              "                        hit_at  ...   os\n",
              "353476 2020-11-26 08:04:14.164  ...  NaN\n",
              "\n",
              "[1 rows x 6 columns]"
            ]
          },
          "metadata": {
            "tags": []
          }
        }
      ]
    },
    {
      "cell_type": "markdown",
      "metadata": {
        "id": "dnPjctptGzQA"
      },
      "source": [
        "Всего лишь 1 пропуск в одном столбце, но дополнительно стоит рассмотреть в связи с чем он мог появиться.\n",
        "\n",
        "13140 дубликатов, которые пристальнее рассмотрим  ниже."
      ]
    },
    {
      "cell_type": "markdown",
      "metadata": {
        "id": "nx-cn3KcYchp"
      },
      "source": [
        "### Функции для анализа"
      ]
    },
    {
      "cell_type": "code",
      "metadata": {
        "id": "Ne1ZOQgtYhqo"
      },
      "source": [
        "analyze_columns = ['device_type', 'browser', 'os']\n",
        "\n",
        "def define_count_users_not_unique(df):\n",
        "  \"\"\"\n",
        "  Определяет количество пользователей, у которых в наборе столбцов\n",
        "  analyze_columns более одного уникального значения.\n",
        "  \n",
        "  df - рассматриваемый датафрейм пользователей\n",
        "  \"\"\"\n",
        "  \n",
        "  for column_name in analyze_columns: \n",
        "    print('У {} пользователей в столбце {} более одного уникального значения.'.\n",
        "        format(len(df.groupby('anonymous_id')[column_name].nunique().\n",
        "                   reset_index().query(f'{column_name} > 1')), column_name))"
      ],
      "execution_count": null,
      "outputs": []
    },
    {
      "cell_type": "code",
      "metadata": {
        "id": "BmpvpP66u8nJ"
      },
      "source": [
        "def skew_check(df1, df2, check_column, deviation_limit, suffixes_):\n",
        "  \"\"\"\n",
        "  Проверяет отсутствие перекоса в двух датафреймах в заданном столбце.\n",
        "\n",
        "  df1 - первый датафрейм для сравнения \n",
        "  df2 - второй датафрейм для сравнения \n",
        "  check_column - проверяемый столбец\n",
        "  deviation_limit - отклонение в двух группах, считаемое допустимым \n",
        "  suffixes_ - суффиксы к столбцу сравнения\n",
        "  \"\"\"\n",
        "  \n",
        "  # Формирования относительного разделения по значениям столбца\n",
        "  df1_rel = (round(df1[check_column].value_counts() / len(df1), 2)).reset_index()\n",
        "  df2_rel = (round(df2[check_column].value_counts() / len(df2), 2)).reset_index()\n",
        "  \n",
        "  df_aggregate = df1_rel.merge(df2_rel, how='outer', on='index',\n",
        "                                  suffixes=(suffixes_[0], suffixes_[1]))\n",
        "  \n",
        "  # Сравнение разницы частей в двух группах \n",
        "  df_aggregate['compare_parts'] = abs(df_aggregate[f'{check_column}{suffixes_[0]}']\n",
        "                                  - df_aggregate[f'{check_column}{suffixes_[1]}'])\n",
        "  \n",
        "  return df_aggregate.query('compare_parts > @deviation_limit')\\\n",
        "  [['index', f'{check_column}{suffixes_[0]}', f'{check_column}{suffixes_[1]}']]"
      ],
      "execution_count": null,
      "outputs": []
    },
    {
      "cell_type": "code",
      "metadata": {
        "id": "BnXvQKlZvwOg"
      },
      "source": [
        "def get_sequence_actions(arr_actions):\n",
        "    \"\"\"\n",
        "    Получение последовательности событий для пользователя\n",
        "\n",
        "    arr_actions - упорядоченный по времени массив всех действий пользователя \n",
        "    \"\"\"\n",
        "    list_sequence = list()\n",
        "    for element in arr_actions:\n",
        "        if element not in list_sequence:\n",
        "            list_sequence.append(element)\n",
        "        \n",
        "        if len(list_sequence) == 9:\n",
        "            break;\n",
        "            \n",
        "    return str(list_sequence)[1:-1]"
      ],
      "execution_count": null,
      "outputs": []
    },
    {
      "cell_type": "code",
      "metadata": {
        "id": "cXweQlxw0HDD"
      },
      "source": [
        "def get_top_sequence(df):\n",
        "    \"\"\"\n",
        "    Получение словаря последовательностей событий и частоты их встречаемости\n",
        "\n",
        "    df - рассматриваемый датафрейм\n",
        "    \"\"\"\n",
        "  \n",
        "    dict_sequences = defaultdict(int)\n",
        "    \n",
        "    for id_user in df['anonymous_id'].unique():\n",
        "        result_functions = get_sequence_actions(df.query('anonymous_id == @id_user')\n",
        "                                  .sort_values('timestamp')['type_action'].values)\n",
        "        \n",
        "        dict_sequences[result_functions] += 1\n",
        "\n",
        "    return dict_sequences"
      ],
      "execution_count": null,
      "outputs": []
    },
    {
      "cell_type": "markdown",
      "metadata": {
        "id": "iLp3-EEtvxnO"
      },
      "source": [
        "Функции путей пользователя находят лишь последовательность первых, уникальных действий."
      ]
    },
    {
      "cell_type": "markdown",
      "metadata": {
        "id": "7fP0Sg9KNGYN"
      },
      "source": [
        "### Пользователи попавшие в AB_df более одного раза"
      ]
    },
    {
      "cell_type": "code",
      "metadata": {
        "colab": {
          "base_uri": "https://localhost:8080/"
        },
        "id": "kKGTFrQBNQOO",
        "outputId": "64963ca5-641f-4af4-cf71-062e3377e5a6"
      },
      "source": [
        "ids_more1_once = AB_df.groupby('anonymous_id')['hit_at'].count().reset_index().\\\n",
        "            query('hit_at > 1')['anonymous_id'].values\n",
        "\n",
        "AB_more1_once_df = AB_df.query('anonymous_id in @ids_more1_once').copy()\n",
        "define_count_users_not_unique(AB_more1_once_df)"
      ],
      "execution_count": null,
      "outputs": [
        {
          "output_type": "stream",
          "text": [
            "У 66 пользователей в столбце device_type более одного уникального значения.\n",
            "У 57 пользователей в столбце browser более одного уникального значения.\n",
            "У 54 пользователей в столбце os более одного уникального значения.\n"
          ],
          "name": "stdout"
        }
      ]
    },
    {
      "cell_type": "code",
      "metadata": {
        "colab": {
          "base_uri": "https://localhost:8080/"
        },
        "id": "OS1GViRvV4zu",
        "outputId": "7944098b-2dcc-4237-936e-07403be04aa5"
      },
      "source": [
        "print('Пользователей, которые попали в таблицу разделения на группы более 1 раза =',\n",
        "      AB_more1_once_df['anonymous_id'].nunique())\n",
        "\n",
        "print('Пользователей, всего =', AB_df['anonymous_id'].nunique())"
      ],
      "execution_count": null,
      "outputs": [
        {
          "output_type": "stream",
          "text": [
            "Пользователей, которые попали в таблицу разделения на группы более 1 раза = 11120\n",
            "Пользователей, всего = 489018\n"
          ],
          "name": "stdout"
        }
      ]
    },
    {
      "cell_type": "code",
      "metadata": {
        "id": "FYrLKOav7sVG"
      },
      "source": [
        "# Эквивалент ячейки ниже, просто работает 4 минуты\n",
        "# info_by_id_all_df = AB_df.groupby('anonymous_id')[['os', 'device_type', 'browser']].max().reset_index()"
      ],
      "execution_count": null,
      "outputs": []
    },
    {
      "cell_type": "markdown",
      "metadata": {
        "id": "lbEj8bCRYh6U"
      },
      "source": [
        "Такая группировка допустима, по причине малого числа пользователей с различными устройствами, браузерами, ОС."
      ]
    },
    {
      "cell_type": "code",
      "metadata": {
        "colab": {
          "base_uri": "https://localhost:8080/"
        },
        "id": "RBAngR3Y_FPZ",
        "outputId": "bc8e2265-6eef-434f-ffe4-aee5c9d9d786"
      },
      "source": [
        "!gdown --id 1mFdJcC1vLlDzbkpprctI4PuMTCZXurCY\n",
        "info_by_id_all_df = pd.read_csv('/content/statistics_by_id.csv')"
      ],
      "execution_count": null,
      "outputs": [
        {
          "output_type": "stream",
          "text": [
            "Downloading...\n",
            "From: https://drive.google.com/uc?id=1mFdJcC1vLlDzbkpprctI4PuMTCZXurCY\n",
            "To: /content/statistics_by_id.csv\n",
            "29.4MB [00:00, 80.4MB/s]\n"
          ],
          "name": "stdout"
        }
      ]
    },
    {
      "cell_type": "code",
      "metadata": {
        "colab": {
          "base_uri": "https://localhost:8080/"
        },
        "id": "dWUR495LSTxC",
        "outputId": "8072e5ef-849f-4264-9a51-5344531dc6c5"
      },
      "source": [
        "for column_name in analyze_columns:\n",
        "  print(f'В столбце - {column_name}, отличаются  следующие относительные значения:\\n', \n",
        "        skew_check(AB_more1_once_df, \n",
        "                  info_by_id_all_df, column_name, 0.1, ['_duplicate', '_all']), '\\n')"
      ],
      "execution_count": null,
      "outputs": [
        {
          "output_type": "stream",
          "text": [
            "В столбце - device_type, отличаются  следующие относительные значения:\n",
            " Empty DataFrame\n",
            "Columns: [index, device_type_duplicate, device_type_all]\n",
            "Index: [] \n",
            "\n",
            "В столбце - browser, отличаются  следующие относительные значения:\n",
            " Empty DataFrame\n",
            "Columns: [index, browser_duplicate, browser_all]\n",
            "Index: [] \n",
            "\n",
            "В столбце - os, отличаются  следующие относительные значения:\n",
            "      index  os_duplicate  os_all\n",
            "0  Windows  0.4           0.27   \n",
            "\n"
          ],
          "name": "stdout"
        }
      ]
    },
    {
      "cell_type": "markdown",
      "metadata": {
        "id": "eWLJOwJ5TGO8"
      },
      "source": [
        "Лишь 2.3% от всех пользователей в А, В тестировании попали в таблицу более одного раза, часть незначительная. Заметных отличий этих пользователей, относительно остальных не обнаружено, они пользовались одними и теми же устройствами, операционной системой, браузером.\n",
        "\n",
        "Определим, есть ли особенности у пользователей, которые при этом были определены в две разные группы."
      ]
    },
    {
      "cell_type": "markdown",
      "metadata": {
        "id": "dJL7_b4x8v7G"
      },
      "source": [
        "### Пользователи, попавшие в обе группы теста"
      ]
    },
    {
      "cell_type": "code",
      "metadata": {
        "colab": {
          "base_uri": "https://localhost:8080/"
        },
        "id": "-vi6lMCplpL2",
        "outputId": "676ff5f9-a110-4fc9-aad7-326318973c30"
      },
      "source": [
        "ids_default = set(AB_df.query('group == \"default\"')['anonymous_id'].values)\n",
        "ids_address_first = set(AB_df.query('group == \"address_first\"')['anonymous_id'].values)\n",
        "intersaction_ids = ids_address_first & ids_default\n",
        "ids_address_first = ids_address_first - intersaction_ids\n",
        "ids_default = ids_default - intersaction_ids\n",
        "print('Количество пользователей, которые оказались в двух группах = {}'.format(len(intersaction_ids)))"
      ],
      "execution_count": null,
      "outputs": [
        {
          "output_type": "stream",
          "text": [
            "Количество пользователей, которые оказались в двух группах = 528\n"
          ],
          "name": "stdout"
        }
      ]
    },
    {
      "cell_type": "markdown",
      "metadata": {
        "id": "kj_54tHJ8-22"
      },
      "source": [
        "Расследуем, чем характерны пользователи, попавшие в обе группы А/В теста."
      ]
    },
    {
      "cell_type": "code",
      "metadata": {
        "colab": {
          "base_uri": "https://localhost:8080/"
        },
        "id": "wv_vOX-EuqGk",
        "outputId": "fbc1ab18-e2b7-41fd-c4ce-2129719104a1"
      },
      "source": [
        "AB_intersection_df = AB_df.query('anonymous_id in @intersaction_ids')\n",
        "\n",
        "# Некоторые пользователи в df_AB встречаются более 2 раз, поэтому столь нагроможденная конструкция \n",
        "user_times_to_A_B_gr = AB_intersection_df.groupby(['anonymous_id', 'group'])['hit_at'].\\\n",
        "min().reset_index().groupby('anonymous_id').agg({'hit_at': ['min', 'max']}).reset_index()\n",
        "\n",
        "# Определение разности отнесения к различным группам\n",
        "user_times_to_A_B_gr.columns = user_times_to_A_B_gr.columns.droplevel()\n",
        "user_times_to_A_B_gr = user_times_to_A_B_gr.rename({(''): 'anonymous_id'}, axis=1)\n",
        "user_times_to_A_B_gr['sub'] = user_times_to_A_B_gr['max'] - user_times_to_A_B_gr['min']\n",
        "\n",
        "# Определение числа пользователей, по интервалам времени отнесения к разным группам\n",
        "user_times_to_A_B_gr['intervals_time'] = pd.cut(user_times_to_A_B_gr['sub'],\n",
        "    list(map(pd.Timedelta, ['-1 days 00:00:00', '0 days 00:01:00', '0 days 01:00:00', \n",
        "                        '1 days 00:00:00', '5 days 00:00:00', '15 days 00:00:00'])))\n",
        "user_times_to_A_B_gr.groupby('intervals_time')['anonymous_id'].nunique()"
      ],
      "execution_count": null,
      "outputs": [
        {
          "output_type": "execute_result",
          "data": {
            "text/plain": [
              "intervals_time\n",
              "(-1 days +00:00:00, 0 days 00:01:00]    426\n",
              "(0 days 00:01:00, 0 days 01:00:00]      42 \n",
              "(0 days 01:00:00, 1 days 00:00:00]      26 \n",
              "(1 days 00:00:00, 5 days 00:00:00]      21 \n",
              "(5 days 00:00:00, 15 days 00:00:00]     13 \n",
              "Name: anonymous_id, dtype: int64"
            ]
          },
          "metadata": {
            "tags": []
          },
          "execution_count": 17
        }
      ]
    },
    {
      "cell_type": "markdown",
      "metadata": {
        "id": "_OOVQdUXyX8q"
      },
      "source": [
        "80% пользователей, которые попали в обе группы были отнесены в них с разностью менее 1 минуты."
      ]
    },
    {
      "cell_type": "code",
      "metadata": {
        "colab": {
          "base_uri": "https://localhost:8080/"
        },
        "id": "FPt0UnAj2oRG",
        "outputId": "7fdb0efd-10e7-4a45-9a65-66f9a97722f2"
      },
      "source": [
        "define_count_users_not_unique(AB_intersection_df)\n",
        "info_by_id_intersection_df = AB_intersection_df.groupby('anonymous_id') \\\n",
        "  [analyze_columns].max().reset_index()"
      ],
      "execution_count": null,
      "outputs": [
        {
          "output_type": "stream",
          "text": [
            "У 0 пользователей в столбце device_type более одного уникального значения.\n",
            "У 0 пользователей в столбце browser более одного уникального значения.\n",
            "У 0 пользователей в столбце os более одного уникального значения.\n"
          ],
          "name": "stdout"
        }
      ]
    },
    {
      "cell_type": "markdown",
      "metadata": {
        "id": "p77s9jNY4tCO"
      },
      "source": [
        "Значит все пользователи принадлежащие различным группам были отнесены с одного типа устройств, браузера, ОС, определим с каких именно."
      ]
    },
    {
      "cell_type": "code",
      "metadata": {
        "colab": {
          "base_uri": "https://localhost:8080/"
        },
        "id": "I8E7hVsl-XgB",
        "outputId": "e16b48a9-96eb-46b6-9cea-6423507e2e09"
      },
      "source": [
        "for column_name in analyze_columns:\n",
        "  print(f'В столбце - {column_name}, отличаются  следующие относительные значения:\\n', \n",
        "        skew_check(info_by_id_intersection_df, \n",
        "                   info_by_id_all_df, column_name, 0.1, ['_intersection', '_all']), '\\n')"
      ],
      "execution_count": null,
      "outputs": [
        {
          "output_type": "stream",
          "text": [
            "В столбце - device_type, отличаются  следующие относительные значения:\n",
            "      index  device_type_intersection  device_type_all\n",
            "0  mobile   0.80                      0.61           \n",
            "1  desktop  0.18                      0.38            \n",
            "\n",
            "В столбце - browser, отличаются  следующие относительные значения:\n",
            "            index  browser_intersection  browser_all\n",
            "5  Mobile Safari  0.03                  0.17        \n",
            "\n",
            "В столбце - os, отличаются  следующие относительные значения:\n",
            "      index  os_intersection  os_all\n",
            "0  Android  0.76             0.39  \n",
            "1  Windows  0.15             0.27  \n",
            "2  iOS      0.06             0.23   \n",
            "\n"
          ],
          "name": "stdout"
        }
      ]
    },
    {
      "cell_type": "markdown",
      "metadata": {
        "id": "lVkPt4usJC-B"
      },
      "source": [
        "Некоторые соотношение встречаемости различных значений в столбцах для этих пользователей не характерны для общих соотношений."
      ]
    },
    {
      "cell_type": "code",
      "metadata": {
        "id": "NjOY_zrnnzVZ"
      },
      "source": [
        "AB_df = AB_df.query('anonymous_id not in @intersaction_ids')\n",
        "AB_df = AB_df.groupby(['anonymous_id', 'device_type', 'browser', 'os', 'group'])['hit_at'].\\\n",
        "        min().reset_index()\n",
        "\n",
        "# Борьба с пользователями, которые попали несколько раз с разных источников\n",
        "dropping_users = AB_df['anonymous_id'].value_counts().\\\n",
        "        sort_values().reset_index().query('anonymous_id == 2')['index'].values\n",
        "AB_df = AB_df.query('anonymous_id not in @dropping_users')"
      ],
      "execution_count": null,
      "outputs": []
    },
    {
      "cell_type": "markdown",
      "metadata": {
        "id": "NKpCfTgssRlx"
      },
      "source": [
        "### Вывод о делении\n",
        "1. 2.3% пользователей попали в разделение на группы дважды и более раз, что говорит о некорректной работе способа разбиения.\n",
        "\n",
        "2. Имеются существенные отличия в относительном числе значений в некоторых столбцах пользователей, отнесенных в разные группы, что может свидетельствовать о некорректном разбиении для некоторых ОС, устройств. Рекомендую обратить  внимание на метод присваивания группы A/B теста следующим пользователям:\n",
        "\n",
        "  * c устройством mobile;\n",
        "  * ОС Android;\n",
        "  * кто обращался к сервису чаще раза в минуту.\n",
        "\n",
        "3. Имелся единственный пропуск ОС во всём датасете, он не фатален, но стоит конкретнее изучить возможные причины появления.\n",
        "\n",
        "В дальнейшем рассмотрении не будут участвовать пользователи, попавшие в обе группы тестирования."
      ]
    },
    {
      "cell_type": "markdown",
      "metadata": {
        "id": "LzBj-1OFsL0Y"
      },
      "source": [
        "## Пользовательские сценарии\n"
      ]
    },
    {
      "cell_type": "code",
      "metadata": {
        "id": "xZ-UgPrHnFb7"
      },
      "source": [
        "all_stages_df = pd.DataFrame([], columns=['anonymous_id', 'timestamp', 'type_action'])\n",
        "count_users_test_gr, count_users_control_gr = [], []\n",
        "\n",
        "stages_path_user = ['Landing Viewed', 'Main Page Viewed', 'Add To Cart Clicked',\n",
        "                    'Address Change Initiated', 'Shop Selected', \n",
        "                    'Product Added', 'Shop Selection Started', 'Order Completed']\n",
        "\n",
        "for stage in stages_path_user:\n",
        "  tmp_df = pd.read_csv(f'/content/Career Factory/{stage}.csv')\n",
        "  tmp_df['type_action'] = stage\n",
        "  tmp_df['timestamp'] = pd.to_datetime(tmp_df['timestamp'].str[:-4], format=\"%Y-%m-%d %H:%M:%S\")\n",
        "\n",
        "  all_stages_df = pd.concat([all_stages_df, tmp_df])\n",
        "\n",
        "  count_users_control_gr.append(tmp_df.query('anonymous_id in @ids_default')['anonymous_id'].nunique())\n",
        "  count_users_test_gr.append(tmp_df.query('anonymous_id in @ids_address_first')['anonymous_id'].nunique())"
      ],
      "execution_count": null,
      "outputs": []
    },
    {
      "cell_type": "markdown",
      "metadata": {
        "id": "Yzm7wVKjtMOy"
      },
      "source": [
        "### Особенность разделения на группы"
      ]
    },
    {
      "cell_type": "code",
      "metadata": {
        "colab": {
          "base_uri": "https://localhost:8080/"
        },
        "id": "KEoOoeXK1QyY",
        "outputId": "8eafb946-fe6a-46f1-c7b3-c3ce4d628e80"
      },
      "source": [
        "ids_AB = set(AB_df['anonymous_id'].unique())\n",
        "ids_stages = set(all_stages_df['anonymous_id'].unique())\n",
        "substraction_sets = ids_AB - ids_stages\n",
        "print('{} - число пользователей, отнесённых к группе, '\\\n",
        "      'но не совершивших не единого действия'.format(len(substraction_sets)))"
      ],
      "execution_count": null,
      "outputs": [
        {
          "output_type": "stream",
          "text": [
            "192231 - число пользователей, отнесённых к группе, но не совершивших не единого действия\n"
          ],
          "name": "stdout"
        }
      ]
    },
    {
      "cell_type": "code",
      "metadata": {
        "colab": {
          "base_uri": "https://localhost:8080/"
        },
        "id": "RX1IPKRJkcjo",
        "outputId": "d8d3e901-fd2e-49e7-caf9-d2ef1d988a89"
      },
      "source": [
        " for column_name in analyze_columns:\n",
        "  print(f'В столбце - {column_name}, отличаются  следующие относительные значения:\\n', \n",
        "        skew_check(info_by_id_all_df.query('anonymous_id in @ids_stages'),  \n",
        "                   info_by_id_all_df, column_name, 0.1, ['_intersection', '_all']), '\\n')"
      ],
      "execution_count": null,
      "outputs": [
        {
          "output_type": "stream",
          "text": [
            "В столбце - device_type, отличаются  следующие относительные значения:\n",
            " Empty DataFrame\n",
            "Columns: [index, device_type_intersection, device_type_all]\n",
            "Index: [] \n",
            "\n",
            "В столбце - browser, отличаются  следующие относительные значения:\n",
            " Empty DataFrame\n",
            "Columns: [index, browser_intersection, browser_all]\n",
            "Index: [] \n",
            "\n",
            "В столбце - os, отличаются  следующие относительные значения:\n",
            " Empty DataFrame\n",
            "Columns: [index, os_intersection, os_all]\n",
            "Index: [] \n",
            "\n"
          ],
          "name": "stdout"
        }
      ]
    },
    {
      "cell_type": "markdown",
      "metadata": {
        "id": "LKezUV7Q1R5t"
      },
      "source": [
        "192231 пользователь был отнесен к группе, но не совершил за наблюдаемый промежуток времени не единого действия. Подозрительно. Но и для пользователей, совершивших хоть какие-то действия существенных различий в распределении категогрий не появилось. Исследуем, как распределено время первых контактов с сервисом и время отнесения к группе."
      ]
    },
    {
      "cell_type": "code",
      "metadata": {
        "id": "Dju8aKy52-SI"
      },
      "source": [
        "first_action_user_df = all_stages_df.groupby('anonymous_id')['timestamp'].min().\\\n",
        "                  reset_index()\n",
        "\n",
        "first_action_user_df = first_action_user_df.merge(AB_df, on='anonymous_id')\n",
        "first_action_user_df['delta_time'] = first_action_user_df['hit_at'] -\\\n",
        "                                    first_action_user_df['timestamp']"
      ],
      "execution_count": null,
      "outputs": []
    },
    {
      "cell_type": "code",
      "metadata": {
        "id": "XjoED6vu4Pvw"
      },
      "source": [
        "first_action_user_df['interval'] = pd.cut(first_action_user_df['delta_time'],  \n",
        "      list(map(pd.Timedelta, ['-23 days 00:00:00', '-1 days 00:00:00', '-1 days +23:00:00', \n",
        "                            '-1 days +23:59:00', '0 days 00:00:00', '0 days 00:01:00',\n",
        "                            '0 days 01:00:00', '1 days 00:00:00', '15 days 00:00:00'])))\n",
        "\n",
        "for_plotly = first_action_user_df['interval'].value_counts().reset_index()\n",
        "for_plotly['index'] = for_plotly['index'].astype('str')\n",
        "for_plotly['index'] = for_plotly['index'].str.replace(':00,', ',').str.replace(':00]', ']')\n",
        "for_seaborn = for_plotly[:2]\n",
        "for_plotly = for_plotly[2:]"
      ],
      "execution_count": null,
      "outputs": []
    },
    {
      "cell_type": "code",
      "metadata": {
        "colab": {
          "base_uri": "https://localhost:8080/",
          "height": 295
        },
        "id": "EgPs53kbbvFw",
        "outputId": "bc89ee78-b90b-432a-d101-37fbbba2ef4d"
      },
      "source": [
        "plt.hist(for_seaborn['index'], weights=for_seaborn['interval'], bins = 3, alpha = 0.5, label='Wii')\n",
        "plt.ylabel('Число пользователей')\n",
        "plt.xlabel('Разность времени')\n",
        "plt.title('Разность времени добавления в группы А В и первой активности в сервисе');"
      ],
      "execution_count": null,
      "outputs": [
        {
          "output_type": "display_data",
          "data": {
            "image/png": "[encoded data removed]",
            "text/plain": [
              "<Figure size 432x288 with 1 Axes>"
            ]
          },
          "metadata": {
            "tags": [],
            "needs_background": "light"
          }
        }
      ]
    },
    {
      "cell_type": "code",
      "metadata": {
        "colab": {
          "base_uri": "https://localhost:8080/",
          "height": 517
        },
        "id": "LhzAZJK18Wc7",
        "outputId": "9756e35f-8697-490b-81ae-b31d03ca56b1"
      },
      "source": [
        "fig = go.Figure(go.Bar(x=for_plotly['index'], y=for_plotly['interval']))\n",
        "\n",
        "fig.update_layout(title=\"Гистограмма распределения разницы между первым действием и добавлением в группу\",\n",
        "                  xaxis_title=\"Разность времени\",\n",
        "                  yaxis_title=\"Число пользователей\",\n",
        "                  width=850,\n",
        "                  height=500)\n",
        "fig.update_traces(hoverinfo=\"all\", \n",
        "      hovertemplate=\"Временной промежуток: %{x}<br> Число пользователей: %{y}\")\n",
        "\n",
        "fig.show();"
      ],
      "execution_count": null,
      "outputs": [
        {
          "output_type": "display_data",
          "data": {
            "text/html": [
              "<html>\n",
              "<head><meta charset=\"utf-8\" /></head>\n",
              "<body>\n",
              "    <div>\n",
              "            <script src=\"https://cdnjs.cloudflare.com/ajax/libs/mathjax/2.7.5/MathJax.js?config=TeX-AMS-MML_SVG\"></script><script type=\"text/javascript\">if (window.MathJax) {MathJax.Hub.Config({SVG: {font: \"STIX-Web\"}});}</script>\n",
              "                <script type=\"text/javascript\">window.PlotlyConfig = {MathJaxConfig: 'local'};</script>\n",
              "        <script src=\"https://cdn.plot.ly/plotly-latest.min.js\"></script>    \n",
              "            <div id=\"fc797606-3261-46f8-ac00-dc452e5d52df\" class=\"plotly-graph-div\" style=\"height:500px; width:850px;\"></div>\n",
              "            <script type=\"text/javascript\">\n",
              "                \n",
              "                    window.PLOTLYENV=window.PLOTLYENV || {};\n",
              "                    \n",
              "                if (document.getElementById(\"fc797606-3261-46f8-ac00-dc452e5d52df\")) {\n",
              "                    Plotly.newPlot(\n",
              "                        'fc797606-3261-46f8-ac00-dc452e5d52df',\n",
              "                        [{\"hoverinfo\": \"all\", \"hovertemplate\": \"\\u0412\\u0440\\u0435\\u043c\\u0435\\u043d\\u043d\\u043e\\u0439 \\u043f\\u0440\\u043e\\u043c\\u0435\\u0436\\u0443\\u0442\\u043e\\u043a: %{x}<br> \\u0427\\u0438\\u0441\\u043b\\u043e \\u043f\\u043e\\u043b\\u044c\\u0437\\u043e\\u0432\\u0430\\u0442\\u0435\\u043b\\u0435\\u0439: %{y}\", \"type\": \"bar\", \"x\": [\"(-1 days +23:00, -1 days +23:59]\", \"(-23 days +00:00, -1 days +00:00]\", \"(1 days 00:00, 15 days 00:00]\", \"(-1 days +00:00, -1 days +23:00]\", \"(0 days 00:01, 0 days 01:00]\", \"(0 days 01:00, 1 days 00:00]\"], \"y\": [12287, 4735, 3804, 1519, 1448, 747]}],\n",
              "                        {\"height\": 500, \"template\": {\"data\": {\"bar\": [{\"error_x\": {\"color\": \"#2a3f5f\"}, \"error_y\": {\"color\": \"#2a3f5f\"}, \"marker\": {\"line\": {\"color\": \"#E5ECF6\", \"width\": 0.5}}, \"type\": \"bar\"}], \"barpolar\": [{\"marker\": {\"line\": {\"color\": \"#E5ECF6\", \"width\": 0.5}}, \"type\": \"barpolar\"}], \"carpet\": [{\"aaxis\": {\"endlinecolor\": \"#2a3f5f\", \"gridcolor\": \"white\", \"linecolor\": \"white\", \"minorgridcolor\": \"white\", \"startlinecolor\": \"#2a3f5f\"}, \"baxis\": {\"endlinecolor\": \"#2a3f5f\", \"gridcolor\": \"white\", \"linecolor\": \"white\", \"minorgridcolor\": \"white\", \"startlinecolor\": \"#2a3f5f\"}, \"type\": \"carpet\"}], \"choropleth\": [{\"colorbar\": {\"outlinewidth\": 0, \"ticks\": \"\"}, \"type\": \"choropleth\"}], \"contour\": [{\"colorbar\": {\"outlinewidth\": 0, \"ticks\": \"\"}, \"colorscale\": [[0.0, \"#0d0887\"], [0.1111111111111111, \"#46039f\"], [0.2222222222222222, \"#7201a8\"], [0.3333333333333333, \"#9c179e\"], [0.4444444444444444, \"#bd3786\"], [0.5555555555555556, \"#d8576b\"], [0.6666666666666666, \"#ed7953\"], [0.7777777777777778, \"#fb9f3a\"], [0.8888888888888888, \"#fdca26\"], [1.0, \"#f0f921\"]], \"type\": \"contour\"}], \"contourcarpet\": [{\"colorbar\": {\"outlinewidth\": 0, \"ticks\": \"\"}, \"type\": \"contourcarpet\"}], \"heatmap\": [{\"colorbar\": {\"outlinewidth\": 0, \"ticks\": \"\"}, \"colorscale\": [[0.0, \"#0d0887\"], [0.1111111111111111, \"#46039f\"], [0.2222222222222222, \"#7201a8\"], [0.3333333333333333, \"#9c179e\"], [0.4444444444444444, \"#bd3786\"], [0.5555555555555556, \"#d8576b\"], [0.6666666666666666, \"#ed7953\"], [0.7777777777777778, \"#fb9f3a\"], [0.8888888888888888, \"#fdca26\"], [1.0, \"#f0f921\"]], \"type\": \"heatmap\"}], \"heatmapgl\": [{\"colorbar\": {\"outlinewidth\": 0, \"ticks\": \"\"}, \"colorscale\": [[0.0, \"#0d0887\"], [0.1111111111111111, \"#46039f\"], [0.2222222222222222, \"#7201a8\"], [0.3333333333333333, \"#9c179e\"], [0.4444444444444444, \"#bd3786\"], [0.5555555555555556, \"#d8576b\"], [0.6666666666666666, \"#ed7953\"], [0.7777777777777778, \"#fb9f3a\"], [0.8888888888888888, \"#fdca26\"], [1.0, \"#f0f921\"]], \"type\": \"heatmapgl\"}], \"histogram\": [{\"marker\": {\"colorbar\": {\"outlinewidth\": 0, \"ticks\": \"\"}}, \"type\": \"histogram\"}], \"histogram2d\": [{\"colorbar\": {\"outlinewidth\": 0, \"ticks\": \"\"}, \"colorscale\": [[0.0, \"#0d0887\"], [0.1111111111111111, \"#46039f\"], [0.2222222222222222, \"#7201a8\"], [0.3333333333333333, \"#9c179e\"], [0.4444444444444444, \"#bd3786\"], [0.5555555555555556, \"#d8576b\"], [0.6666666666666666, \"#ed7953\"], [0.7777777777777778, \"#fb9f3a\"], [0.8888888888888888, \"#fdca26\"], [1.0, \"#f0f921\"]], \"type\": \"histogram2d\"}], \"histogram2dcontour\": [{\"colorbar\": {\"outlinewidth\": 0, \"ticks\": \"\"}, \"colorscale\": [[0.0, \"#0d0887\"], [0.1111111111111111, \"#46039f\"], [0.2222222222222222, \"#7201a8\"], [0.3333333333333333, \"#9c179e\"], [0.4444444444444444, \"#bd3786\"], [0.5555555555555556, \"#d8576b\"], [0.6666666666666666, \"#ed7953\"], [0.7777777777777778, \"#fb9f3a\"], [0.8888888888888888, \"#fdca26\"], [1.0, \"#f0f921\"]], \"type\": \"histogram2dcontour\"}], \"mesh3d\": [{\"colorbar\": {\"outlinewidth\": 0, \"ticks\": \"\"}, \"type\": \"mesh3d\"}], \"parcoords\": [{\"line\": {\"colorbar\": {\"outlinewidth\": 0, \"ticks\": \"\"}}, \"type\": \"parcoords\"}], \"pie\": [{\"automargin\": true, \"type\": \"pie\"}], \"scatter\": [{\"marker\": {\"colorbar\": {\"outlinewidth\": 0, \"ticks\": \"\"}}, \"type\": \"scatter\"}], \"scatter3d\": [{\"line\": {\"colorbar\": {\"outlinewidth\": 0, \"ticks\": \"\"}}, \"marker\": {\"colorbar\": {\"outlinewidth\": 0, \"ticks\": \"\"}}, \"type\": \"scatter3d\"}], \"scattercarpet\": [{\"marker\": {\"colorbar\": {\"outlinewidth\": 0, \"ticks\": \"\"}}, \"type\": \"scattercarpet\"}], \"scattergeo\": [{\"marker\": {\"colorbar\": {\"outlinewidth\": 0, \"ticks\": \"\"}}, \"type\": \"scattergeo\"}], \"scattergl\": [{\"marker\": {\"colorbar\": {\"outlinewidth\": 0, \"ticks\": \"\"}}, \"type\": \"scattergl\"}], \"scattermapbox\": [{\"marker\": {\"colorbar\": {\"outlinewidth\": 0, \"ticks\": \"\"}}, \"type\": \"scattermapbox\"}], \"scatterpolar\": [{\"marker\": {\"colorbar\": {\"outlinewidth\": 0, \"ticks\": \"\"}}, \"type\": \"scatterpolar\"}], \"scatterpolargl\": [{\"marker\": {\"colorbar\": {\"outlinewidth\": 0, \"ticks\": \"\"}}, \"type\": \"scatterpolargl\"}], \"scatterternary\": [{\"marker\": {\"colorbar\": {\"outlinewidth\": 0, \"ticks\": \"\"}}, \"type\": \"scatterternary\"}], \"surface\": [{\"colorbar\": {\"outlinewidth\": 0, \"ticks\": \"\"}, \"colorscale\": [[0.0, \"#0d0887\"], [0.1111111111111111, \"#46039f\"], [0.2222222222222222, \"#7201a8\"], [0.3333333333333333, \"#9c179e\"], [0.4444444444444444, \"#bd3786\"], [0.5555555555555556, \"#d8576b\"], [0.6666666666666666, \"#ed7953\"], [0.7777777777777778, \"#fb9f3a\"], [0.8888888888888888, \"#fdca26\"], [1.0, \"#f0f921\"]], \"type\": \"surface\"}], \"table\": [{\"cells\": {\"fill\": {\"color\": \"#EBF0F8\"}, \"line\": {\"color\": \"white\"}}, \"header\": {\"fill\": {\"color\": \"#C8D4E3\"}, \"line\": {\"color\": \"white\"}}, \"type\": \"table\"}]}, \"layout\": {\"annotationdefaults\": {\"arrowcolor\": \"#2a3f5f\", \"arrowhead\": 0, \"arrowwidth\": 1}, \"coloraxis\": {\"colorbar\": {\"outlinewidth\": 0, \"ticks\": \"\"}}, \"colorscale\": {\"diverging\": [[0, \"#8e0152\"], [0.1, \"#c51b7d\"], [0.2, \"#de77ae\"], [0.3, \"#f1b6da\"], [0.4, \"#fde0ef\"], [0.5, \"#f7f7f7\"], [0.6, \"#e6f5d0\"], [0.7, \"#b8e186\"], [0.8, \"#7fbc41\"], [0.9, \"#4d9221\"], [1, \"#276419\"]], \"sequential\": [[0.0, \"#0d0887\"], [0.1111111111111111, \"#46039f\"], [0.2222222222222222, \"#7201a8\"], [0.3333333333333333, \"#9c179e\"], [0.4444444444444444, \"#bd3786\"], [0.5555555555555556, \"#d8576b\"], [0.6666666666666666, \"#ed7953\"], [0.7777777777777778, \"#fb9f3a\"], [0.8888888888888888, \"#fdca26\"], [1.0, \"#f0f921\"]], \"sequentialminus\": [[0.0, \"#0d0887\"], [0.1111111111111111, \"#46039f\"], [0.2222222222222222, \"#7201a8\"], [0.3333333333333333, \"#9c179e\"], [0.4444444444444444, \"#bd3786\"], [0.5555555555555556, \"#d8576b\"], [0.6666666666666666, \"#ed7953\"], [0.7777777777777778, \"#fb9f3a\"], [0.8888888888888888, \"#fdca26\"], [1.0, \"#f0f921\"]]}, \"colorway\": [\"#636efa\", \"#EF553B\", \"#00cc96\", \"#ab63fa\", \"#FFA15A\", \"#19d3f3\", \"#FF6692\", \"#B6E880\", \"#FF97FF\", \"#FECB52\"], \"font\": {\"color\": \"#2a3f5f\"}, \"geo\": {\"bgcolor\": \"white\", \"lakecolor\": \"white\", \"landcolor\": \"#E5ECF6\", \"showlakes\": true, \"showland\": true, \"subunitcolor\": \"white\"}, \"hoverlabel\": {\"align\": \"left\"}, \"hovermode\": \"closest\", \"mapbox\": {\"style\": \"light\"}, \"paper_bgcolor\": \"white\", \"plot_bgcolor\": \"#E5ECF6\", \"polar\": {\"angularaxis\": {\"gridcolor\": \"white\", \"linecolor\": \"white\", \"ticks\": \"\"}, \"bgcolor\": \"#E5ECF6\", \"radialaxis\": {\"gridcolor\": \"white\", \"linecolor\": \"white\", \"ticks\": \"\"}}, \"scene\": {\"xaxis\": {\"backgroundcolor\": \"#E5ECF6\", \"gridcolor\": \"white\", \"gridwidth\": 2, \"linecolor\": \"white\", \"showbackground\": true, \"ticks\": \"\", \"zerolinecolor\": \"white\"}, \"yaxis\": {\"backgroundcolor\": \"#E5ECF6\", \"gridcolor\": \"white\", \"gridwidth\": 2, \"linecolor\": \"white\", \"showbackground\": true, \"ticks\": \"\", \"zerolinecolor\": \"white\"}, \"zaxis\": {\"backgroundcolor\": \"#E5ECF6\", \"gridcolor\": \"white\", \"gridwidth\": 2, \"linecolor\": \"white\", \"showbackground\": true, \"ticks\": \"\", \"zerolinecolor\": \"white\"}}, \"shapedefaults\": {\"line\": {\"color\": \"#2a3f5f\"}}, \"ternary\": {\"aaxis\": {\"gridcolor\": \"white\", \"linecolor\": \"white\", \"ticks\": \"\"}, \"baxis\": {\"gridcolor\": \"white\", \"linecolor\": \"white\", \"ticks\": \"\"}, \"bgcolor\": \"#E5ECF6\", \"caxis\": {\"gridcolor\": \"white\", \"linecolor\": \"white\", \"ticks\": \"\"}}, \"title\": {\"x\": 0.05}, \"xaxis\": {\"automargin\": true, \"gridcolor\": \"white\", \"linecolor\": \"white\", \"ticks\": \"\", \"title\": {\"standoff\": 15}, \"zerolinecolor\": \"white\", \"zerolinewidth\": 2}, \"yaxis\": {\"automargin\": true, \"gridcolor\": \"white\", \"linecolor\": \"white\", \"ticks\": \"\", \"title\": {\"standoff\": 15}, \"zerolinecolor\": \"white\", \"zerolinewidth\": 2}}}, \"title\": {\"text\": \"\\u0413\\u0438\\u0441\\u0442\\u043e\\u0433\\u0440\\u0430\\u043c\\u043c\\u0430 \\u0440\\u0430\\u0441\\u043f\\u0440\\u0435\\u0434\\u0435\\u043b\\u0435\\u043d\\u0438\\u044f \\u0440\\u0430\\u0437\\u043d\\u0438\\u0446\\u044b \\u043c\\u0435\\u0436\\u0434\\u0443 \\u043f\\u0435\\u0440\\u0432\\u044b\\u043c \\u0434\\u0435\\u0439\\u0441\\u0442\\u0432\\u0438\\u0435\\u043c \\u0438 \\u0434\\u043e\\u0431\\u0430\\u0432\\u043b\\u0435\\u043d\\u0438\\u0435\\u043c \\u0432 \\u0433\\u0440\\u0443\\u043f\\u043f\\u0443\"}, \"width\": 850, \"xaxis\": {\"title\": {\"text\": \"\\u0420\\u0430\\u0437\\u043d\\u043e\\u0441\\u0442\\u044c \\u0432\\u0440\\u0435\\u043c\\u0435\\u043d\\u0438\"}}, \"yaxis\": {\"title\": {\"text\": \"\\u0427\\u0438\\u0441\\u043b\\u043e \\u043f\\u043e\\u043b\\u044c\\u0437\\u043e\\u0432\\u0430\\u0442\\u0435\\u043b\\u0435\\u0439\"}}},\n",
              "                        {\"responsive\": true}\n",
              "                    ).then(function(){\n",
              "                            \n",
              "var gd = document.getElementById('fc797606-3261-46f8-ac00-dc452e5d52df');\n",
              "var x = new MutationObserver(function (mutations, observer) {{\n",
              "        var display = window.getComputedStyle(gd).display;\n",
              "        if (!display || display === 'none') {{\n",
              "            console.log([gd, 'removed!']);\n",
              "            Plotly.purge(gd);\n",
              "            observer.disconnect();\n",
              "        }}\n",
              "}});\n",
              "\n",
              "// Listen for the removal of the full notebook cells\n",
              "var notebookContainer = gd.closest('#notebook-container');\n",
              "if (notebookContainer) {{\n",
              "    x.observe(notebookContainer, {childList: true});\n",
              "}}\n",
              "\n",
              "// Listen for the clearing of the current output cell\n",
              "var outputEl = gd.closest('.output');\n",
              "if (outputEl) {{\n",
              "    x.observe(outputEl, {childList: true});\n",
              "}}\n",
              "\n",
              "                        })\n",
              "                };\n",
              "                \n",
              "            </script>\n",
              "        </div>\n",
              "</body>\n",
              "</html>"
            ]
          },
          "metadata": {
            "tags": []
          }
        }
      ]
    },
    {
      "cell_type": "markdown",
      "metadata": {
        "id": "Q6cVRqSgvTbK"
      },
      "source": [
        "Если разница между добавлением в группу A/B теста и первым действием меньше минуты, это кажется логичным, но когда разница более суток в ту или иную сторону это кажется странным, предметнее расмотрим такие сценарии."
      ]
    },
    {
      "cell_type": "markdown",
      "metadata": {
        "id": "qWoBEyXxxoqQ"
      },
      "source": [
        "### Пользовательские пути тестовой группы"
      ]
    },
    {
      "cell_type": "code",
      "metadata": {
        "id": "KyM1U7KikZJw"
      },
      "source": [
        "first_action_user_df['interval'] = first_action_user_df['interval'].astype('str')"
      ],
      "execution_count": null,
      "outputs": []
    },
    {
      "cell_type": "code",
      "metadata": {
        "id": "aeUwIXLAjscT",
        "colab": {
          "base_uri": "https://localhost:8080/"
        },
        "outputId": "1eaf5b67-b52d-4973-ccf1-ccd335661a64"
      },
      "source": [
        "ids_B_gr_incorrect = first_action_user_df.query('interval == \"(1 days 00:00:00,'\\\n",
        "          ' 15 days 00:00:00]\" and group == \"address_first\"')['anonymous_id'].unique()\n",
        "all_stages_B_gr_incorrect = all_stages_df.query('anonymous_id in @ids_B_gr_incorrect')\n",
        "dict_path_B_gr_incorrect = get_top_sequence(all_stages_B_gr_incorrect)\n",
        "sorted(dict_path_B_gr_incorrect.items(), key=lambda x: x[1], reverse= True)[:10]"
      ],
      "execution_count": null,
      "outputs": [
        {
          "output_type": "execute_result",
          "data": {
            "text/plain": [
              "[(\"'Main Page Viewed', 'Shop Selected', 'Add To Cart Clicked', 'Product Added', 'Landing Viewed'\",\n",
              "  20),\n",
              " (\"'Main Page Viewed', 'Add To Cart Clicked', 'Product Added', 'Landing Viewed'\",\n",
              "  20),\n",
              " (\"'Main Page Viewed', 'Add To Cart Clicked', 'Product Added', 'Shop Selected', 'Landing Viewed'\",\n",
              "  18),\n",
              " (\"'Main Page Viewed', 'Add To Cart Clicked', 'Product Added', 'Landing Viewed', 'Shop Selected'\",\n",
              "  12),\n",
              " (\"'Main Page Viewed', 'Shop Selected', 'Add To Cart Clicked', 'Product Added'\",\n",
              "  11),\n",
              " (\"'Shop Selected', 'Main Page Viewed', 'Add To Cart Clicked', 'Product Added'\",\n",
              "  9),\n",
              " (\"'Landing Viewed'\", 8),\n",
              " (\"'Main Page Viewed', 'Add To Cart Clicked', 'Product Added'\", 8),\n",
              " (\"'Main Page Viewed'\", 8),\n",
              " (\"'Shop Selected', 'Main Page Viewed', 'Add To Cart Clicked', 'Product Added', 'Landing Viewed'\",\n",
              "  7)]"
            ]
          },
          "metadata": {
            "tags": []
          },
          "execution_count": 29
        }
      ]
    },
    {
      "cell_type": "markdown",
      "metadata": {
        "id": "3nmvScyMEIBF"
      },
      "source": [
        "Ожидалось, что у пользователей из группы address_first пользователь сначала выбирает адрес, а лишь затем проводит какие-то действия с продуктами, магазинами. Однако для десяти самых популярных пользовательских сценариев  пункта с адресом не было вовсе. Проверим, сколько вообще людей, попавших в address_first выбирают адрес до начала манипуляций с магазинами, продуктами."
      ]
    },
    {
      "cell_type": "code",
      "metadata": {
        "colab": {
          "base_uri": "https://localhost:8080/"
        },
        "id": "W2KVlbhNuw8T",
        "outputId": "4ced8a9c-d00b-401f-8a99-07c43a5bb5a8"
      },
      "source": [
        "dict_seq_test = {}\n",
        "\n",
        "with open('/content/sequence_actions_users_test_gr.txt') as f:\n",
        "  for line in f:\n",
        "    parts_line = line.split(':')\n",
        "    dict_seq_test[parts_line[0].replace('\\'', '')] = int(parts_line[1].\n",
        "                                            replace(',\\n', '').replace(' ', ''))\n",
        "  \n",
        "sorted(dict_seq_test.items(), key=lambda x: x[1], reverse= True)[:10]"
      ],
      "execution_count": null,
      "outputs": [
        {
          "output_type": "execute_result",
          "data": {
            "text/plain": [
              "[(' \"Landing Viewed\"', 12267),\n",
              " (' \"Main Page Viewed\"', 4524),\n",
              " (' \"Landing Viewed, Address Change Initiated, Shop Selection Started, Shop Selected, Main Page Viewed\"',\n",
              "  2414),\n",
              " (' \"Landing Viewed, Address Change Initiated\"', 2122),\n",
              " (' \"Add To Cart Clicked, Address Change Initiated\"', 1387),\n",
              " (' \"Landing Viewed, Address Change Initiated, Shop Selection Started, Shop Selected, Main Page Viewed, Add To Cart Clicked, Product Added\"',\n",
              "  1308),\n",
              " (' \"Landing Viewed, Address Change Initiated, Shop Selection Started\"', 433),\n",
              " (' \"Landing Viewed, Main Page Viewed\"', 416),\n",
              " (' \"Landing Viewed, Address Change Initiated, Address Not In Delivery Zone\"',\n",
              "  362),\n",
              " (' \"Landing Viewed, Main Page Viewed, Shop Selected, Add To Cart Clicked, Product Added\"',\n",
              "  288)]"
            ]
          },
          "metadata": {
            "tags": []
          },
          "execution_count": 30
        }
      ]
    },
    {
      "cell_type": "markdown",
      "metadata": {
        "id": "D-FXCl-EvnQ3"
      },
      "source": [
        "Даже в топ 10 самых популярных сценариев для пользователей есть сценарии, где либо выбора адреса нет вообще, либо он происходит в некорректный момент, посчитаем число таких пользователей. \n",
        "\n",
        "Будем считать тех, кто произвел какие-то манипуляции с магазином или товаром до выбора адреса."
      ]
    },
    {
      "cell_type": "code",
      "metadata": {
        "colab": {
          "base_uri": "https://localhost:8080/"
        },
        "id": "P5stg3bOw-T8",
        "outputId": "d49951cf-d2dd-42a1-caad-dd93dad166fd"
      },
      "source": [
        "counter_incorrect_path_users = 0\n",
        "total_sum = 0\n",
        "\n",
        "check_stages = ['Shop Selected', 'Shop Celection Started',\n",
        "                'Add To Cart Clicked', 'Product Added']\n",
        "\n",
        "\n",
        "for key, item in dict_seq_test.items():\n",
        "\n",
        "  pos_select_address = key.find('Address Change Initiated')\n",
        "  total_sum += item\n",
        "\n",
        "  # В цикле проверяю взаимное расположение этапов\n",
        "  for stage in check_stages:\n",
        "    pos_stage = key.find(stage)\n",
        "\n",
        "    if pos_stage != -1:\n",
        "\n",
        "      if pos_stage < pos_select_address or pos_select_address == -1 and pos_stage > -1:\n",
        "        counter_incorrect_path_users += item\n",
        "        break;\n",
        "\n",
        "print(f'Всего пользователей в группе {total_sum}')\n",
        "print(f'Пользователей в группе, но с некорректным для группы путём '\\\n",
        "      f'{counter_incorrect_path_users}')"
      ],
      "execution_count": null,
      "outputs": [
        {
          "output_type": "stream",
          "text": [
            "Всего пользователей в группе 33145\n",
            "Пользователей в группе, но с некорректным для группы путём 6200\n"
          ],
          "name": "stdout"
        }
      ]
    },
    {
      "cell_type": "markdown",
      "metadata": {
        "id": "VKz0UfbP3NmJ"
      },
      "source": [
        "Почти 20% всех пользователей, которые попали в экспериментальную группу фактически имели пути действий не характерные для этой группы, возможные причины:\n",
        "\n",
        "1.   Из-за выбора магазина по умолчанию модалка \"Address Change Initiated\" не показывается этой группе пользователей, вероятный вариант, но хотелось бы дополнительной информации, об этом. \n",
        "2.   Ошибки в логировании отдельных событий. \n",
        "\n",
        "Будем считать этих подозрительных пользователей всё же принадлежащим к тестовой группе, но рекомендую в следующий раз явно описывать почему могли появиться такие пользовательские пути, если это запланировано. "
      ]
    },
    {
      "cell_type": "markdown",
      "metadata": {
        "id": "enKi5wE4qdCg"
      },
      "source": [
        "### Воронки пользовательских путей"
      ]
    },
    {
      "cell_type": "code",
      "metadata": {
        "id": "rPd-zBHfeaNt"
      },
      "source": [
        "stages_test, values_test = list(zip(*sorted(list(zip(stages_path_user, count_users_test_gr)),\n",
        "                                        key = lambda x: x[1], reverse=True)))[:2]"
      ],
      "execution_count": null,
      "outputs": []
    },
    {
      "cell_type": "code",
      "metadata": {
        "colab": {
          "base_uri": "https://localhost:8080/",
          "height": 541
        },
        "id": "Lj2P0nJzeSa3",
        "outputId": "d21e492b-2d65-4174-aac1-992843b837a1"
      },
      "source": [
        "fig = make_subplots(rows=1, cols=2,subplot_titles=(\"Control group\", \"Test group\"))\n",
        "\n",
        "fig.add_trace(go.Funnel(\n",
        "    name = 'Control',\n",
        "    orientation = \"h\",\n",
        "    y = stages_path_user,\n",
        "    x = count_users_control_gr,\n",
        "    textposition = \"inside\",\n",
        "    textinfo = \"value+percent total\"), row=1, col=1)\n",
        "\n",
        "fig.add_trace(go.Funnel(\n",
        "    name = 'Test',\n",
        "    orientation = \"h\",\n",
        "    y = list(stages_test),\n",
        "    x = list(values_test),\n",
        "    textposition = \"inside\",\n",
        "    textinfo = \"value+percent total\"), row=1, col=2)\n",
        "\n",
        "fig.show();"
      ],
      "execution_count": null,
      "outputs": [
        {
          "output_type": "display_data",
          "data": {
            "text/html": [
              "<html>\n",
              "<head><meta charset=\"utf-8\" /></head>\n",
              "<body>\n",
              "    <div>\n",
              "            <script src=\"https://cdnjs.cloudflare.com/ajax/libs/mathjax/2.7.5/MathJax.js?config=TeX-AMS-MML_SVG\"></script><script type=\"text/javascript\">if (window.MathJax) {MathJax.Hub.Config({SVG: {font: \"STIX-Web\"}});}</script>\n",
              "                <script type=\"text/javascript\">window.PlotlyConfig = {MathJaxConfig: 'local'};</script>\n",
              "        <script src=\"https://cdn.plot.ly/plotly-latest.min.js\"></script>    \n",
              "            <div id=\"6a58527b-f782-4f34-b6b2-6f650ea76bcc\" class=\"plotly-graph-div\" style=\"height:525px; width:100%;\"></div>\n",
              "            <script type=\"text/javascript\">\n",
              "                \n",
              "                    window.PLOTLYENV=window.PLOTLYENV || {};\n",
              "                    \n",
              "                if (document.getElementById(\"6a58527b-f782-4f34-b6b2-6f650ea76bcc\")) {\n",
              "                    Plotly.newPlot(\n",
              "                        '6a58527b-f782-4f34-b6b2-6f650ea76bcc',\n",
              "                        [{\"name\": \"Control\", \"orientation\": \"h\", \"textinfo\": \"value+percent total\", \"textposition\": \"inside\", \"type\": \"funnel\", \"x\": [187184, 145629, 63029, 50584, 43380, 38745, 23028, 7762], \"xaxis\": \"x\", \"y\": [\"Landing Viewed\", \"Main Page Viewed\", \"Add To Cart Clicked\", \"Address Change Initiated\", \"Shop Selected\", \"Product Added\", \"Shop Selection Started\", \"Order Completed\"], \"yaxis\": \"y\"}, {\"name\": \"Test\", \"orientation\": \"h\", \"textinfo\": \"value+percent total\", \"textposition\": \"inside\", \"type\": \"funnel\", \"x\": [23550, 15465, 12541, 8333, 7749, 6802, 5358, 1010], \"xaxis\": \"x2\", \"y\": [\"Landing Viewed\", \"Main Page Viewed\", \"Address Change Initiated\", \"Shop Selected\", \"Add To Cart Clicked\", \"Shop Selection Started\", \"Product Added\", \"Order Completed\"], \"yaxis\": \"y2\"}],\n",
              "                        {\"annotations\": [{\"font\": {\"size\": 16}, \"showarrow\": false, \"text\": \"Control group\", \"x\": 0.225, \"xanchor\": \"center\", \"xref\": \"paper\", \"y\": 1.0, \"yanchor\": \"bottom\", \"yref\": \"paper\"}, {\"font\": {\"size\": 16}, \"showarrow\": false, \"text\": \"Test group\", \"x\": 0.775, \"xanchor\": \"center\", \"xref\": \"paper\", \"y\": 1.0, \"yanchor\": \"bottom\", \"yref\": \"paper\"}], \"template\": {\"data\": {\"bar\": [{\"error_x\": {\"color\": \"#2a3f5f\"}, \"error_y\": {\"color\": \"#2a3f5f\"}, \"marker\": {\"line\": {\"color\": \"#E5ECF6\", \"width\": 0.5}}, \"type\": \"bar\"}], \"barpolar\": [{\"marker\": {\"line\": {\"color\": \"#E5ECF6\", \"width\": 0.5}}, \"type\": \"barpolar\"}], \"carpet\": [{\"aaxis\": {\"endlinecolor\": \"#2a3f5f\", \"gridcolor\": \"white\", \"linecolor\": \"white\", \"minorgridcolor\": \"white\", \"startlinecolor\": \"#2a3f5f\"}, \"baxis\": {\"endlinecolor\": \"#2a3f5f\", \"gridcolor\": \"white\", \"linecolor\": \"white\", \"minorgridcolor\": \"white\", \"startlinecolor\": \"#2a3f5f\"}, \"type\": \"carpet\"}], \"choropleth\": [{\"colorbar\": {\"outlinewidth\": 0, \"ticks\": \"\"}, \"type\": \"choropleth\"}], \"contour\": [{\"colorbar\": {\"outlinewidth\": 0, \"ticks\": \"\"}, \"colorscale\": [[0.0, \"#0d0887\"], [0.1111111111111111, \"#46039f\"], [0.2222222222222222, \"#7201a8\"], [0.3333333333333333, \"#9c179e\"], [0.4444444444444444, \"#bd3786\"], [0.5555555555555556, \"#d8576b\"], [0.6666666666666666, \"#ed7953\"], [0.7777777777777778, \"#fb9f3a\"], [0.8888888888888888, \"#fdca26\"], [1.0, \"#f0f921\"]], \"type\": \"contour\"}], \"contourcarpet\": [{\"colorbar\": {\"outlinewidth\": 0, \"ticks\": \"\"}, \"type\": \"contourcarpet\"}], \"heatmap\": [{\"colorbar\": {\"outlinewidth\": 0, \"ticks\": \"\"}, \"colorscale\": [[0.0, \"#0d0887\"], [0.1111111111111111, \"#46039f\"], [0.2222222222222222, \"#7201a8\"], [0.3333333333333333, \"#9c179e\"], [0.4444444444444444, \"#bd3786\"], [0.5555555555555556, \"#d8576b\"], [0.6666666666666666, \"#ed7953\"], [0.7777777777777778, \"#fb9f3a\"], [0.8888888888888888, \"#fdca26\"], [1.0, \"#f0f921\"]], \"type\": \"heatmap\"}], \"heatmapgl\": [{\"colorbar\": {\"outlinewidth\": 0, \"ticks\": \"\"}, \"colorscale\": [[0.0, \"#0d0887\"], [0.1111111111111111, \"#46039f\"], [0.2222222222222222, \"#7201a8\"], [0.3333333333333333, \"#9c179e\"], [0.4444444444444444, \"#bd3786\"], [0.5555555555555556, \"#d8576b\"], [0.6666666666666666, \"#ed7953\"], [0.7777777777777778, \"#fb9f3a\"], [0.8888888888888888, \"#fdca26\"], [1.0, \"#f0f921\"]], \"type\": \"heatmapgl\"}], \"histogram\": [{\"marker\": {\"colorbar\": {\"outlinewidth\": 0, \"ticks\": \"\"}}, \"type\": \"histogram\"}], \"histogram2d\": [{\"colorbar\": {\"outlinewidth\": 0, \"ticks\": \"\"}, \"colorscale\": [[0.0, \"#0d0887\"], [0.1111111111111111, \"#46039f\"], [0.2222222222222222, \"#7201a8\"], [0.3333333333333333, \"#9c179e\"], [0.4444444444444444, \"#bd3786\"], [0.5555555555555556, \"#d8576b\"], [0.6666666666666666, \"#ed7953\"], [0.7777777777777778, \"#fb9f3a\"], [0.8888888888888888, \"#fdca26\"], [1.0, \"#f0f921\"]], \"type\": \"histogram2d\"}], \"histogram2dcontour\": [{\"colorbar\": {\"outlinewidth\": 0, \"ticks\": \"\"}, \"colorscale\": [[0.0, \"#0d0887\"], [0.1111111111111111, \"#46039f\"], [0.2222222222222222, \"#7201a8\"], [0.3333333333333333, \"#9c179e\"], [0.4444444444444444, \"#bd3786\"], [0.5555555555555556, \"#d8576b\"], [0.6666666666666666, \"#ed7953\"], [0.7777777777777778, \"#fb9f3a\"], [0.8888888888888888, \"#fdca26\"], [1.0, \"#f0f921\"]], \"type\": \"histogram2dcontour\"}], \"mesh3d\": [{\"colorbar\": {\"outlinewidth\": 0, \"ticks\": \"\"}, \"type\": \"mesh3d\"}], \"parcoords\": [{\"line\": {\"colorbar\": {\"outlinewidth\": 0, \"ticks\": \"\"}}, \"type\": \"parcoords\"}], \"pie\": [{\"automargin\": true, \"type\": \"pie\"}], \"scatter\": [{\"marker\": {\"colorbar\": {\"outlinewidth\": 0, \"ticks\": \"\"}}, \"type\": \"scatter\"}], \"scatter3d\": [{\"line\": {\"colorbar\": {\"outlinewidth\": 0, \"ticks\": \"\"}}, \"marker\": {\"colorbar\": {\"outlinewidth\": 0, \"ticks\": \"\"}}, \"type\": \"scatter3d\"}], \"scattercarpet\": [{\"marker\": {\"colorbar\": {\"outlinewidth\": 0, \"ticks\": \"\"}}, \"type\": \"scattercarpet\"}], \"scattergeo\": [{\"marker\": {\"colorbar\": {\"outlinewidth\": 0, \"ticks\": \"\"}}, \"type\": \"scattergeo\"}], \"scattergl\": [{\"marker\": {\"colorbar\": {\"outlinewidth\": 0, \"ticks\": \"\"}}, \"type\": \"scattergl\"}], \"scattermapbox\": [{\"marker\": {\"colorbar\": {\"outlinewidth\": 0, \"ticks\": \"\"}}, \"type\": \"scattermapbox\"}], \"scatterpolar\": [{\"marker\": {\"colorbar\": {\"outlinewidth\": 0, \"ticks\": \"\"}}, \"type\": \"scatterpolar\"}], \"scatterpolargl\": [{\"marker\": {\"colorbar\": {\"outlinewidth\": 0, \"ticks\": \"\"}}, \"type\": \"scatterpolargl\"}], \"scatterternary\": [{\"marker\": {\"colorbar\": {\"outlinewidth\": 0, \"ticks\": \"\"}}, \"type\": \"scatterternary\"}], \"surface\": [{\"colorbar\": {\"outlinewidth\": 0, \"ticks\": \"\"}, \"colorscale\": [[0.0, \"#0d0887\"], [0.1111111111111111, \"#46039f\"], [0.2222222222222222, \"#7201a8\"], [0.3333333333333333, \"#9c179e\"], [0.4444444444444444, \"#bd3786\"], [0.5555555555555556, \"#d8576b\"], [0.6666666666666666, \"#ed7953\"], [0.7777777777777778, \"#fb9f3a\"], [0.8888888888888888, \"#fdca26\"], [1.0, \"#f0f921\"]], \"type\": \"surface\"}], \"table\": [{\"cells\": {\"fill\": {\"color\": \"#EBF0F8\"}, \"line\": {\"color\": \"white\"}}, \"header\": {\"fill\": {\"color\": \"#C8D4E3\"}, \"line\": {\"color\": \"white\"}}, \"type\": \"table\"}]}, \"layout\": {\"annotationdefaults\": {\"arrowcolor\": \"#2a3f5f\", \"arrowhead\": 0, \"arrowwidth\": 1}, \"coloraxis\": {\"colorbar\": {\"outlinewidth\": 0, \"ticks\": \"\"}}, \"colorscale\": {\"diverging\": [[0, \"#8e0152\"], [0.1, \"#c51b7d\"], [0.2, \"#de77ae\"], [0.3, \"#f1b6da\"], [0.4, \"#fde0ef\"], [0.5, \"#f7f7f7\"], [0.6, \"#e6f5d0\"], [0.7, \"#b8e186\"], [0.8, \"#7fbc41\"], [0.9, \"#4d9221\"], [1, \"#276419\"]], \"sequential\": [[0.0, \"#0d0887\"], [0.1111111111111111, \"#46039f\"], [0.2222222222222222, \"#7201a8\"], [0.3333333333333333, \"#9c179e\"], [0.4444444444444444, \"#bd3786\"], [0.5555555555555556, \"#d8576b\"], [0.6666666666666666, \"#ed7953\"], [0.7777777777777778, \"#fb9f3a\"], [0.8888888888888888, \"#fdca26\"], [1.0, \"#f0f921\"]], \"sequentialminus\": [[0.0, \"#0d0887\"], [0.1111111111111111, \"#46039f\"], [0.2222222222222222, \"#7201a8\"], [0.3333333333333333, \"#9c179e\"], [0.4444444444444444, \"#bd3786\"], [0.5555555555555556, \"#d8576b\"], [0.6666666666666666, \"#ed7953\"], [0.7777777777777778, \"#fb9f3a\"], [0.8888888888888888, \"#fdca26\"], [1.0, \"#f0f921\"]]}, \"colorway\": [\"#636efa\", \"#EF553B\", \"#00cc96\", \"#ab63fa\", \"#FFA15A\", \"#19d3f3\", \"#FF6692\", \"#B6E880\", \"#FF97FF\", \"#FECB52\"], \"font\": {\"color\": \"#2a3f5f\"}, \"geo\": {\"bgcolor\": \"white\", \"lakecolor\": \"white\", \"landcolor\": \"#E5ECF6\", \"showlakes\": true, \"showland\": true, \"subunitcolor\": \"white\"}, \"hoverlabel\": {\"align\": \"left\"}, \"hovermode\": \"closest\", \"mapbox\": {\"style\": \"light\"}, \"paper_bgcolor\": \"white\", \"plot_bgcolor\": \"#E5ECF6\", \"polar\": {\"angularaxis\": {\"gridcolor\": \"white\", \"linecolor\": \"white\", \"ticks\": \"\"}, \"bgcolor\": \"#E5ECF6\", \"radialaxis\": {\"gridcolor\": \"white\", \"linecolor\": \"white\", \"ticks\": \"\"}}, \"scene\": {\"xaxis\": {\"backgroundcolor\": \"#E5ECF6\", \"gridcolor\": \"white\", \"gridwidth\": 2, \"linecolor\": \"white\", \"showbackground\": true, \"ticks\": \"\", \"zerolinecolor\": \"white\"}, \"yaxis\": {\"backgroundcolor\": \"#E5ECF6\", \"gridcolor\": \"white\", \"gridwidth\": 2, \"linecolor\": \"white\", \"showbackground\": true, \"ticks\": \"\", \"zerolinecolor\": \"white\"}, \"zaxis\": {\"backgroundcolor\": \"#E5ECF6\", \"gridcolor\": \"white\", \"gridwidth\": 2, \"linecolor\": \"white\", \"showbackground\": true, \"ticks\": \"\", \"zerolinecolor\": \"white\"}}, \"shapedefaults\": {\"line\": {\"color\": \"#2a3f5f\"}}, \"ternary\": {\"aaxis\": {\"gridcolor\": \"white\", \"linecolor\": \"white\", \"ticks\": \"\"}, \"baxis\": {\"gridcolor\": \"white\", \"linecolor\": \"white\", \"ticks\": \"\"}, \"bgcolor\": \"#E5ECF6\", \"caxis\": {\"gridcolor\": \"white\", \"linecolor\": \"white\", \"ticks\": \"\"}}, \"title\": {\"x\": 0.05}, \"xaxis\": {\"automargin\": true, \"gridcolor\": \"white\", \"linecolor\": \"white\", \"ticks\": \"\", \"title\": {\"standoff\": 15}, \"zerolinecolor\": \"white\", \"zerolinewidth\": 2}, \"yaxis\": {\"automargin\": true, \"gridcolor\": \"white\", \"linecolor\": \"white\", \"ticks\": \"\", \"title\": {\"standoff\": 15}, \"zerolinecolor\": \"white\", \"zerolinewidth\": 2}}}, \"xaxis\": {\"anchor\": \"y\", \"domain\": [0.0, 0.45]}, \"xaxis2\": {\"anchor\": \"y2\", \"domain\": [0.55, 1.0]}, \"yaxis\": {\"anchor\": \"x\", \"domain\": [0.0, 1.0]}, \"yaxis2\": {\"anchor\": \"x2\", \"domain\": [0.0, 1.0]}},\n",
              "                        {\"responsive\": true}\n",
              "                    ).then(function(){\n",
              "                            \n",
              "var gd = document.getElementById('6a58527b-f782-4f34-b6b2-6f650ea76bcc');\n",
              "var x = new MutationObserver(function (mutations, observer) {{\n",
              "        var display = window.getComputedStyle(gd).display;\n",
              "        if (!display || display === 'none') {{\n",
              "            console.log([gd, 'removed!']);\n",
              "            Plotly.purge(gd);\n",
              "            observer.disconnect();\n",
              "        }}\n",
              "}});\n",
              "\n",
              "// Listen for the removal of the full notebook cells\n",
              "var notebookContainer = gd.closest('#notebook-container');\n",
              "if (notebookContainer) {{\n",
              "    x.observe(notebookContainer, {childList: true});\n",
              "}}\n",
              "\n",
              "// Listen for the clearing of the current output cell\n",
              "var outputEl = gd.closest('.output');\n",
              "if (outputEl) {{\n",
              "    x.observe(outputEl, {childList: true});\n",
              "}}\n",
              "\n",
              "                        })\n",
              "                };\n",
              "                \n",
              "            </script>\n",
              "        </div>\n",
              "</body>\n",
              "</html>"
            ]
          },
          "metadata": {
            "tags": []
          }
        }
      ]
    },
    {
      "cell_type": "markdown",
      "metadata": {
        "id": "3q-LM7mQpxt3"
      },
      "source": [
        "Изменение сценариев пользователей закономерно отразилось на воронках групп. Однако число пользователей выбирающих магазин, меньше чем тех, чем тех, кто успешно выбрали магазин в обеих группах.\n",
        "\n"
      ]
    },
    {
      "cell_type": "markdown",
      "metadata": {
        "id": "JO-5w6aP9AYK"
      },
      "source": [
        "### Рассмотрение путей пользователей в группах"
      ]
    },
    {
      "cell_type": "code",
      "metadata": {
        "id": "xk059RxUewnO"
      },
      "source": [
        "id_actions_df = all_stages_df.loc[:, ['anonymous_id', 'timestamp', 'type_action']]\n",
        "id_actions_df_test = id_actions_df.query('anonymous_id in @ids_address_first')\n",
        "id_actions_df_default = id_actions_df.query('anonymous_id in @ids_default')"
      ],
      "execution_count": null,
      "outputs": []
    },
    {
      "cell_type": "code",
      "metadata": {
        "id": "pIGSqC7yVN-b"
      },
      "source": [
        "# Эквивалент ячейке ниже\n",
        "# %%time\n",
        "# dict_seq_default = get_top_sequence(id_actions_df_default)"
      ],
      "execution_count": null,
      "outputs": []
    },
    {
      "cell_type": "code",
      "metadata": {
        "id": "hDhGqz9pIvdr"
      },
      "source": [
        "dict_seq_default = {}\n",
        "\n",
        "with open('/content/sequence_actions_users_default_gr.txt') as f:\n",
        "  for line in f:\n",
        "    parts_line = line.split(':')\n",
        "    dict_seq_default[parts_line[0].replace('\\'', '')] = int(parts_line[1].replace(',\\n', '').replace(' ', ''))"
      ],
      "execution_count": null,
      "outputs": []
    },
    {
      "cell_type": "markdown",
      "metadata": {
        "id": "SAKlqYy_T4ZS"
      },
      "source": [
        "Рассмотрим 10 самых популярных путей пользователей в обеих группах. "
      ]
    },
    {
      "cell_type": "code",
      "metadata": {
        "id": "5zO1oComI8JS"
      },
      "source": [
        "path_default_df = pd.DataFrame(sorted(dict_seq_default.items(), key=lambda x: x[1],\n",
        "                  reverse= True), columns=['user_path', 'count_unique_id']).head(10)\n",
        "                  \n",
        "path_default_df['user_path'] = path_default_df['user_path'].str.replace('\"', '')\n",
        "\n",
        "path_default_df['rank'] = path_default_df.index + 1"
      ],
      "execution_count": null,
      "outputs": []
    },
    {
      "cell_type": "code",
      "metadata": {
        "id": "RbflmBtIH0e5"
      },
      "source": [
        "path_test_df = pd.DataFrame(sorted(dict_seq_test.items(), key=lambda x: x[1],\n",
        "              reverse= True), columns=['user_path', 'count_unique_id']).head(10)\n",
        "\n",
        "path_test_df['user_path'] = path_test_df['user_path'].str.replace(' \"', '').str.replace('\"', '')\n",
        "\n",
        "path_test_df['rank'] = path_test_df.index + 1"
      ],
      "execution_count": null,
      "outputs": []
    },
    {
      "cell_type": "code",
      "metadata": {
        "colab": {
          "base_uri": "https://localhost:8080/",
          "height": 496
        },
        "id": "7-Qr_b7pUuwZ",
        "outputId": "f23d8a03-a70a-4e12-bfa4-0003e93f8b9f"
      },
      "source": [
        "top_10_paths_user = path_default_df.merge(path_test_df, on='user_path', how='outer',\n",
        "                                suffixes=('_default', '_test'))\n",
        "top_10_paths_user"
      ],
      "execution_count": null,
      "outputs": [
        {
          "output_type": "execute_result",
          "data": {
            "text/html": [
              "<div>\n",
              "<style scoped>\n",
              "    .dataframe tbody tr th:only-of-type {\n",
              "        vertical-align: middle;\n",
              "    }\n",
              "\n",
              "    .dataframe tbody tr th {\n",
              "        vertical-align: top;\n",
              "    }\n",
              "\n",
              "    .dataframe thead th {\n",
              "        text-align: right;\n",
              "    }\n",
              "</style>\n",
              "<table border=\"1\" class=\"dataframe\">\n",
              "  <thead>\n",
              "    <tr style=\"text-align: right;\">\n",
              "      <th></th>\n",
              "      <th>user_path</th>\n",
              "      <th>count_unique_id_default</th>\n",
              "      <th>rank_default</th>\n",
              "      <th>count_unique_id_test</th>\n",
              "      <th>rank_test</th>\n",
              "    </tr>\n",
              "  </thead>\n",
              "  <tbody>\n",
              "    <tr>\n",
              "      <th>0</th>\n",
              "      <td>Landing Viewed</td>\n",
              "      <td>99566.0</td>\n",
              "      <td>1.0</td>\n",
              "      <td>12267.0</td>\n",
              "      <td>1.0</td>\n",
              "    </tr>\n",
              "    <tr>\n",
              "      <th>1</th>\n",
              "      <td>Landing Viewed, Main Page Viewed</td>\n",
              "      <td>38761.0</td>\n",
              "      <td>2.0</td>\n",
              "      <td>416.0</td>\n",
              "      <td>8.0</td>\n",
              "    </tr>\n",
              "    <tr>\n",
              "      <th>2</th>\n",
              "      <td>Main Page Viewed</td>\n",
              "      <td>35911.0</td>\n",
              "      <td>3.0</td>\n",
              "      <td>4524.0</td>\n",
              "      <td>2.0</td>\n",
              "    </tr>\n",
              "    <tr>\n",
              "      <th>3</th>\n",
              "      <td>Add To Cart Clicked, Address Change Initiated</td>\n",
              "      <td>10886.0</td>\n",
              "      <td>4.0</td>\n",
              "      <td>1387.0</td>\n",
              "      <td>5.0</td>\n",
              "    </tr>\n",
              "    <tr>\n",
              "      <th>4</th>\n",
              "      <td>Landing Viewed, Main Page Viewed, Shop Selected</td>\n",
              "      <td>3764.0</td>\n",
              "      <td>5.0</td>\n",
              "      <td>NaN</td>\n",
              "      <td>NaN</td>\n",
              "    </tr>\n",
              "    <tr>\n",
              "      <th>5</th>\n",
              "      <td>Landing Viewed, Main Page Viewed, Add To Cart Clicked, Address Change Initiated</td>\n",
              "      <td>3404.0</td>\n",
              "      <td>6.0</td>\n",
              "      <td>NaN</td>\n",
              "      <td>NaN</td>\n",
              "    </tr>\n",
              "    <tr>\n",
              "      <th>6</th>\n",
              "      <td>Landing Viewed, Main Page Viewed, Shop Selection Started, Shop Selected</td>\n",
              "      <td>3262.0</td>\n",
              "      <td>7.0</td>\n",
              "      <td>NaN</td>\n",
              "      <td>NaN</td>\n",
              "    </tr>\n",
              "    <tr>\n",
              "      <th>7</th>\n",
              "      <td>Landing Viewed, Main Page Viewed, Shop Selected, Add To Cart Clicked, Product Added</td>\n",
              "      <td>3180.0</td>\n",
              "      <td>8.0</td>\n",
              "      <td>288.0</td>\n",
              "      <td>10.0</td>\n",
              "    </tr>\n",
              "    <tr>\n",
              "      <th>8</th>\n",
              "      <td>Landing Viewed, Main Page Viewed, Add To Cart Clicked, Product Added</td>\n",
              "      <td>2939.0</td>\n",
              "      <td>9.0</td>\n",
              "      <td>NaN</td>\n",
              "      <td>NaN</td>\n",
              "    </tr>\n",
              "    <tr>\n",
              "      <th>9</th>\n",
              "      <td>Landing Viewed, Main Page Viewed, Add To Cart Clicked, Address Change Initiated, Product Added</td>\n",
              "      <td>2558.0</td>\n",
              "      <td>10.0</td>\n",
              "      <td>NaN</td>\n",
              "      <td>NaN</td>\n",
              "    </tr>\n",
              "    <tr>\n",
              "      <th>10</th>\n",
              "      <td>Landing Viewed, Address Change Initiated, Shop Selection Started, Shop Selected, Main Page Viewed</td>\n",
              "      <td>NaN</td>\n",
              "      <td>NaN</td>\n",
              "      <td>2414.0</td>\n",
              "      <td>3.0</td>\n",
              "    </tr>\n",
              "    <tr>\n",
              "      <th>11</th>\n",
              "      <td>Landing Viewed, Address Change Initiated</td>\n",
              "      <td>NaN</td>\n",
              "      <td>NaN</td>\n",
              "      <td>2122.0</td>\n",
              "      <td>4.0</td>\n",
              "    </tr>\n",
              "    <tr>\n",
              "      <th>12</th>\n",
              "      <td>Landing Viewed, Address Change Initiated, Shop Selection Started, Shop Selected, Main Page Viewed, Add To Cart Clicked, Product Added</td>\n",
              "      <td>NaN</td>\n",
              "      <td>NaN</td>\n",
              "      <td>1308.0</td>\n",
              "      <td>6.0</td>\n",
              "    </tr>\n",
              "    <tr>\n",
              "      <th>13</th>\n",
              "      <td>Landing Viewed, Address Change Initiated, Shop Selection Started</td>\n",
              "      <td>NaN</td>\n",
              "      <td>NaN</td>\n",
              "      <td>433.0</td>\n",
              "      <td>7.0</td>\n",
              "    </tr>\n",
              "    <tr>\n",
              "      <th>14</th>\n",
              "      <td>Landing Viewed, Address Change Initiated, Address Not In Delivery Zone</td>\n",
              "      <td>NaN</td>\n",
              "      <td>NaN</td>\n",
              "      <td>362.0</td>\n",
              "      <td>9.0</td>\n",
              "    </tr>\n",
              "  </tbody>\n",
              "</table>\n",
              "</div>"
            ],
            "text/plain": [
              "                                                                                                                                user_path  ...  rank_test\n",
              "0   Landing Viewed                                                                                                                         ...  1.0      \n",
              "1   Landing Viewed, Main Page Viewed                                                                                                       ...  8.0      \n",
              "2   Main Page Viewed                                                                                                                       ...  2.0      \n",
              "3   Add To Cart Clicked, Address Change Initiated                                                                                          ...  5.0      \n",
              "4   Landing Viewed, Main Page Viewed, Shop Selected                                                                                        ... NaN       \n",
              "5   Landing Viewed, Main Page Viewed, Add To Cart Clicked, Address Change Initiated                                                        ... NaN       \n",
              "6   Landing Viewed, Main Page Viewed, Shop Selection Started, Shop Selected                                                                ... NaN       \n",
              "7   Landing Viewed, Main Page Viewed, Shop Selected, Add To Cart Clicked, Product Added                                                    ...  10.0     \n",
              "8   Landing Viewed, Main Page Viewed, Add To Cart Clicked, Product Added                                                                   ... NaN       \n",
              "9   Landing Viewed, Main Page Viewed, Add To Cart Clicked, Address Change Initiated, Product Added                                         ... NaN       \n",
              "10  Landing Viewed, Address Change Initiated, Shop Selection Started, Shop Selected, Main Page Viewed                                      ...  3.0      \n",
              "11  Landing Viewed, Address Change Initiated                                                                                               ...  4.0      \n",
              "12  Landing Viewed, Address Change Initiated, Shop Selection Started, Shop Selected, Main Page Viewed, Add To Cart Clicked, Product Added  ...  6.0      \n",
              "13  Landing Viewed, Address Change Initiated, Shop Selection Started                                                                       ...  7.0      \n",
              "14  Landing Viewed, Address Change Initiated, Address Not In Delivery Zone                                                                 ...  9.0      \n",
              "\n",
              "[15 rows x 5 columns]"
            ]
          },
          "metadata": {
            "tags": []
          },
          "execution_count": 39
        }
      ]
    },
    {
      "cell_type": "markdown",
      "metadata": {
        "id": "WWE9jHPSrOqM"
      },
      "source": [
        "Популярные сценарии в обеих группах схожи, но гипотеза о влиянии выбора адреса для избегания кривых сценариев не подтвердилась."
      ]
    },
    {
      "cell_type": "markdown",
      "metadata": {
        "id": "6CJMxuu-2oSu"
      },
      "source": [
        "### Вывод о пользовательских сценариях\n",
        "\n",
        "1. Деление на группы происходит в непонятный момент времени:\n",
        "  * Наибольшему числу пользователей сопоставляется группа с разницей в минуту относительно первого действия, что почти логично. \n",
        "  * Имеются задержки в сопоставлении от -23, до +15 дней, что говорит о некорректном распределении.\n",
        "  * 192231 пользователь был отнесён к тестовой группе, но не произвёл ни одного действия.\n",
        "\n",
        "2. В тестовой группе 20% пользователей имеют некорректный определению путь, причины:\n",
        "  * Из-за выбора магазина по умолчанию модалка \"Address Change Initiated\" не показывается этой группе пользователей, вероятный вариант, но хотелось бы дополнительной информации, об этом.\n",
        "\n",
        "  * Ошибки в логировании отдельных событий.\n",
        "\n",
        "  Первая причина кажется вероятной, поэтому эти \"странные\" пользователи также были рассмотрены. \n",
        "\n",
        "3. Воронки пользователей. В числе уникальных пользователей на различных этапах возникают явные вопросы:\n",
        "\n",
        "  *   число пользователей выбирающих магазин, меньше чем тех, чем тех, кто успешно выбрали магазин;\n",
        "  *   стадия Address Changed Initiated в контрольной группе раньше, чем стадия Add To Cart Clicked, а число уникальных пользователей этому не соответствует.\n",
        "  \n",
        "  В связи с чем отдельно рассмотрены пользовательские пути.\n",
        "\n",
        "4. Гипотеза о выборе адреса до этапа выбора магазина не помогла избежать “кривых” сценариев. \n",
        "\n"
      ]
    },
    {
      "cell_type": "markdown",
      "metadata": {
        "id": "V_qD7uQn4GlT"
      },
      "source": [
        "## Проверка метрик"
      ]
    },
    {
      "cell_type": "code",
      "metadata": {
        "id": "6DhbDS4l6S1n"
      },
      "source": [
        "def z_test_check(successes, trials, stage, alpha=0.05):\n",
        "    \"\"\"\n",
        "    z - тест для проверки статистических различий в группах\n",
        "\n",
        "    successes - количество пользователей на конечном этапе\n",
        "    trials - количество пользователей на первичном этапе\n",
        "    stage - название стадии, для которой сравнивается конверсия\n",
        "    alpha - уровень значимости\n",
        "    \"\"\"\n",
        "    p1 = successes.default / trials.default\n",
        "    p2 = successes.test / trials.test\n",
        "\n",
        "    p_combined = (successes.default + successes[1]) / (trials.default + trials[1])\n",
        "    \n",
        "    difference = p1 - p2 \n",
        "    z_value = difference / math.sqrt(p_combined * \n",
        "                          (1 - p_combined) * (1/trials.default + 1/trials.test))\n",
        "    distr = stats.norm(0, 1)  \n",
        "\n",
        "    p_value = (1 - distr.cdf(abs(z_value))) * 2\n",
        "    print('p-значение: ', round(p_value, 5))\n",
        "\n",
        "    if (p_value < alpha):\n",
        "        print(f\"Отвергаем нулевую гипотезу: между конверсиями на стадии {stage} есть значимая разница\")\n",
        "    else:\n",
        "        print(f\"Не получилось отвергнуть нулевую гипотезу, нет оснований считать конверсии на стадии {stage} разными\") "
      ],
      "execution_count": null,
      "outputs": []
    },
    {
      "cell_type": "markdown",
      "metadata": {
        "id": "0s1EaBKs5ZB7"
      },
      "source": [
        "Так как пути пользователей неоднозначные, то считаю конверсию не в следующий этап, а среди всех, кто видел лендинг и после этого осуществлял иные действия в сервисе.\n",
        "\n",
        "### bounce rate лендинга"
      ]
    },
    {
      "cell_type": "markdown",
      "metadata": {
        "id": "K-pzALKpwdEB"
      },
      "source": [
        "Нулевая гипотеза - bounce rate лендинга в группах равен.\n",
        "\n",
        "Альтернативная - bounce rate лендинга в группах различен.\n"
      ]
    },
    {
      "cell_type": "code",
      "metadata": {
        "id": "uVscdbJs-_E_"
      },
      "source": [
        "for_counting_outflow = all_stages_df.query('type_action != \"Landing Viewed\"')\\\n",
        "[['anonymous_id', 'timestamp']].merge(\n",
        "    all_stages_df.query('type_action == \"Landing Viewed\"')[['anonymous_id', 'timestamp']],\n",
        "     on='anonymous_id', suffixes=['_not_landing', '_landing'])\n",
        "\n",
        "id_users_action_after_landing = for_counting_outflow.query('timestamp_landing <'\\\n",
        "                                ' timestamp_not_landing')['anonymous_id'].unique()"
      ],
      "execution_count": null,
      "outputs": []
    },
    {
      "cell_type": "code",
      "metadata": {
        "colab": {
          "base_uri": "https://localhost:8080/"
        },
        "id": "EaUNlYGx2FCy",
        "outputId": "699baf81-3b71-474d-8728-ef784d605187"
      },
      "source": [
        "count_by_groups = namedtuple('число_пользователей_в_группах', 'default test')\n",
        "landing_count = count_by_groups(count_users_control_gr[0], count_users_test_gr[0])\n",
        "outflow_after_landing_counts = count_by_groups(count_users_control_gr[0] - \n",
        "                            len(set(id_users_action_after_landing) & ids_default), \n",
        "                            count_users_test_gr[0] - \n",
        "                    len(set(id_users_action_after_landing) & ids_address_first))\n",
        "\n",
        "z_test_check(outflow_after_landing_counts, landing_count, 'landing')\n",
        "print(f'Процент оттока с landing в контрольной группе '\\\n",
        "      f'{outflow_after_landing_counts.default / landing_count.default:.2%}, тестовой '\\\n",
        "      f'{outflow_after_landing_counts.test / landing_count.test:.2%}' )"
      ],
      "execution_count": null,
      "outputs": [
        {
          "output_type": "stream",
          "text": [
            "p-значение:  0.05284\n",
            "Не получилось отвергнуть нулевую гипотезу, нет оснований считать конверсии на стадии landing разными\n",
            "Процент оттока с landing в контрольной группе 53.90%, тестовой 53.23%\n"
          ],
          "name": "stdout"
        }
      ]
    },
    {
      "cell_type": "markdown",
      "metadata": {
        "id": "Sb1oh0IxCcml"
      },
      "source": [
        "### Конверсия добавления в корзину"
      ]
    },
    {
      "cell_type": "markdown",
      "metadata": {
        "id": "irkcUBdow3oh"
      },
      "source": [
        "Нулевая гипотеза - конверсия в добавление в корзины в группах равна.\n",
        "\n",
        "Альтернативная - конверсия в добавление в корзины в группах различна."
      ]
    },
    {
      "cell_type": "code",
      "metadata": {
        "colab": {
          "base_uri": "https://localhost:8080/"
        },
        "id": "SlPbpvX8-Sno",
        "outputId": "1656d62d-1814-47ae-ee20-10d9fc558ea9"
      },
      "source": [
        "cart_count_users = count_by_groups(count_users_control_gr[-3], values_test[-2])\n",
        "count_all_users = count_by_groups(len(set(all_stages_df['anonymous_id'].unique()) & ids_default),\n",
        "                          len(set(all_stages_df['anonymous_id'].unique()) & ids_address_first))\n",
        "\n",
        "z_test_check(cart_count_users, count_all_users, 'добавление в корзину')\n",
        "print(f'Процент конверсии в добавлению корзины в контрольной группе '\\\n",
        "      f'{cart_count_users.default / count_all_users.default:.2%}, тестовой '\\\n",
        "      f'{cart_count_users.test / count_all_users.test:.2%}')"
      ],
      "execution_count": null,
      "outputs": [
        {
          "output_type": "stream",
          "text": [
            "p-значение:  0.0\n",
            "Отвергаем нулевую гипотезу: между конверсиями на стадии добавление в корзину есть значимая разница\n",
            "Процент конверсии в добавлению корзины в контрольной группе 14.72%, тестовой 16.18%\n"
          ],
          "name": "stdout"
        }
      ]
    },
    {
      "cell_type": "markdown",
      "metadata": {
        "id": "IqSUIzGL0OWw"
      },
      "source": [
        "### Вывод о метриках\n",
        "\n",
        "1. bounce rate лендинга в разных группах статистически отличается, новый лендинг не понравился пользователям.\n",
        "\n",
        "2. Конверсия добавления в корзину значимо отличается в А/В группах. \n"
      ]
    },
    {
      "cell_type": "markdown",
      "metadata": {
        "id": "q-hslGbI8aKt"
      },
      "source": [
        "## Общий вывод\n",
        "\n",
        "1. Диагностика дизайна эксперимента.\n",
        "\n",
        "  *   Ошибки/проблемы:\n",
        "    * некорректное время распределения в групппу относительно действий в сервисе;\n",
        "    * попадание пользователей в обе группы, у таких имеются характерные ОС, устройства с которых это происходит чаще, чем с других;\n",
        "    * отсутствие формальной цели, которую ожидали задетектировать.\n",
        "\n",
        "  *   Предложения по устранению:\n",
        "    * точно задать время отнесения в группу относительно действий;\n",
        "    * настройка корректного разбиения на А/В группы;\n",
        "    * конкретно формулировать ожидаемые изменения.\n",
        "\n",
        "2. Анализ эксперимента.\n",
        "  * bounce rate лендинга в тестовой группе статистически значимо выше, чем в контрольной, однако в относительном выражении изменение на 0.67% пользователей считаю незначительным;\n",
        "  * эксперимент выявил различия в конверсии альтернативного пути, в связи с чем стоит распространить новый путь на всех пользователей!\n",
        "  \n",
        "3. Список аномалий:\n",
        "  *   Некорректные пути пользователей, в частности пользователи из тестовой группы имели путь, невозможный по определению тестовой группы.\n",
        "  *   Добавление в группу теста относительно действия на платформе с задержкой до 3 недель.\n",
        "  *   Неоднократное добавление в группу теста, при этом добавление в разные группы происходило реже, чем в одинаковые, что не согласуется со случайностью, при этом для попавших в разные групппу имеются нетипичные закономерности.\n",
        "  *   Пропуск в AB_df, он лишь один, но стоит рассмотреть пользователя, который его совершил. \n",
        "  *   Число пользователей совершивших Shop Selection Started меньше, чем Shop Selected.\n",
        "\n",
        "4. Гипотезы, о чём свидетельствуют аномалии, потенциальные ошибки:\n",
        "  *   некорректное время разбиение на группы относительно действий в сервисе;\n",
        "  *   некорректная настройка разбиения на А B группы;\n",
        "  *   некорректное логирование отдельных событий;\n",
        "  *   непредсказуемость поведения пользователей."
      ]
    },
    {
      "cell_type": "code",
      "metadata": {
        "id": "hrXLtwTDQprz"
      },
      "source": [
        ""
      ],
      "execution_count": null,
      "outputs": []
    }
  ]
}