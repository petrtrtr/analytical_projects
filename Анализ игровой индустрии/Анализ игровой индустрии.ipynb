{
 "cells": [
  {
   "cell_type": "markdown",
   "metadata": {},
   "source": [
    "# Выявление определяющих закономерностей успешности игры"
   ]
  },
  {
   "cell_type": "markdown",
   "metadata": {},
   "source": [
    "## Цели:"
   ]
  },
  {
   "cell_type": "markdown",
   "metadata": {},
   "source": [
    "* изучить общую информацию;\n",
    "* подготовить данные к обработке;\n",
    "* исследовать данные;\n",
    "* составить портрет пользователя каждого региона;\n",
    "* проверить гипотезы о равенстве отзывов о играх разных жанров, платформ;\n",
    "* агрегировать полученные зависимости в общий вывод."
   ]
  },
  {
   "cell_type": "markdown",
   "metadata": {},
   "source": [
    "[Изучение общей информации](#step1)\n",
    "\n",
    "[Подготовка данных](#step2)\n",
    "- [Замена названий столбцов](#change_name_columns)\n",
    "- [Обработка пропусков](#processing_passes)\n",
    "  - [Вычленение зависимостей для заполнение пропусков](#isolating_dependencies)\n",
    "  - [Вывод о зависимостях для заполнение пропусков](#conclusion_dependencies)\n",
    "  - [Заполнение пропусков](#filling_omissions)\n",
    "- [Преобразование данных](#transformation_name_columns) \n",
    "\n",
    "[Исследовательский анализ данных](#step3)\n",
    "- [Количество игр по годам](#count_plays)\n",
    "- [Измененение продаж по платформам и годам](#change_salary)\n",
    "- [Количество игр по годам и платформам](#count_plays_conditions)\n",
    "- [Данные за актуальный период](#actual_data)\n",
    "- [Построение boxplot'ов по платформам](#boxplots)\n",
    "- [Влияние отзывов на число продаж](#influence_review)\n",
    "- [Влияние жанров на продажи](#influence_genres)\n",
    "- [Первично обнаруженные закономерности](#primary_patterns)\n",
    "\n",
    "[Портрет пользователя каждого региона](#portrait_by_regions)\n",
    "- [Самые популярные платформы](#famous_platforms)\n",
    "- [Самые популярные жанры](#famous_genres)\n",
    "- [Влияние ESRB на продажи в регионах](#ESRB_seller)\n",
    "- [Выводы о специфичности регионов](#specific_regions)\n",
    "\n",
    "[Проверка гипотез](#step5)\n",
    "- [Гипотеза 1](#hyp1)\n",
    "    - [Проверка равенства дисперсий выборок рейтингов платформ Xbox One и PC](#var_rating_platform)\n",
    "    - [Проверка равенства средних  пользовательских рейтингов платформ Xbox One и PC](#mean_platform)\n",
    "    - [Вывод на основе гипотезы 1](#conclusion_hyp1)\n",
    " \n",
    "- [Гипотеза 2](#hyp2)\n",
    "    - [Проверка равенства дисперсий выборок рейтингов жанров Action и Sports](#var_rating_action)\n",
    "    - [Проверка равенства рейтингов жанров Action и Sports](#mean_genre)\n",
    "    - [Вывод на основе гипотезы 2](#conclusion_hyp2)\n",
    "    \n",
    "[Общий вывод](#general_conclusion) "
   ]
  },
  {
   "cell_type": "code",
   "execution_count": 1,
   "metadata": {},
   "outputs": [],
   "source": [
    "%%capture \n",
    "!pip install --upgrade pingouin"
   ]
  },
  {
   "cell_type": "markdown",
   "metadata": {},
   "source": [
    "## Изучение общей информации <a name=\"step1\"></a>"
   ]
  },
  {
   "cell_type": "code",
   "execution_count": 2,
   "metadata": {},
   "outputs": [],
   "source": [
    "import pandas as pd\n",
    "import numpy as np\n",
    "import matplotlib.pyplot as plt\n",
    "from matplotlib.pyplot import hist\n",
    "from matplotlib import cm\n",
    "\n",
    "import seaborn as sns\n",
    "import math\n",
    "from scipy import stats as st\n",
    "import pingouin as pg\n",
    "from collections import Counter\n",
    "\n",
    "pd.options.mode.chained_assignment = None"
   ]
  },
  {
   "cell_type": "code",
   "execution_count": 3,
   "metadata": {},
   "outputs": [
    {
     "name": "stdout",
     "output_type": "stream",
     "text": [
      "<class 'pandas.core.frame.DataFrame'>\n",
      "RangeIndex: 16715 entries, 0 to 16714\n",
      "Data columns (total 11 columns):\n",
      "Name               16713 non-null object\n",
      "Platform           16715 non-null object\n",
      "Year_of_Release    16446 non-null float64\n",
      "Genre              16713 non-null object\n",
      "NA_sales           16715 non-null float64\n",
      "EU_sales           16715 non-null float64\n",
      "JP_sales           16715 non-null float64\n",
      "Other_sales        16715 non-null float64\n",
      "Critic_Score       8137 non-null float64\n",
      "User_Score         10014 non-null object\n",
      "Rating             9949 non-null object\n",
      "dtypes: float64(6), object(5)\n",
      "memory usage: 1.4+ MB\n"
     ]
    },
    {
     "data": {
      "text/html": [
       "<div>\n",
       "<style scoped>\n",
       "    .dataframe tbody tr th:only-of-type {\n",
       "        vertical-align: middle;\n",
       "    }\n",
       "\n",
       "    .dataframe tbody tr th {\n",
       "        vertical-align: top;\n",
       "    }\n",
       "\n",
       "    .dataframe thead th {\n",
       "        text-align: right;\n",
       "    }\n",
       "</style>\n",
       "<table border=\"1\" class=\"dataframe\">\n",
       "  <thead>\n",
       "    <tr style=\"text-align: right;\">\n",
       "      <th></th>\n",
       "      <th>Name</th>\n",
       "      <th>Platform</th>\n",
       "      <th>Year_of_Release</th>\n",
       "      <th>Genre</th>\n",
       "      <th>NA_sales</th>\n",
       "      <th>EU_sales</th>\n",
       "      <th>JP_sales</th>\n",
       "      <th>Other_sales</th>\n",
       "      <th>Critic_Score</th>\n",
       "      <th>User_Score</th>\n",
       "      <th>Rating</th>\n",
       "    </tr>\n",
       "  </thead>\n",
       "  <tbody>\n",
       "    <tr>\n",
       "      <td>0</td>\n",
       "      <td>Wii Sports</td>\n",
       "      <td>Wii</td>\n",
       "      <td>2006.0</td>\n",
       "      <td>Sports</td>\n",
       "      <td>41.36</td>\n",
       "      <td>28.96</td>\n",
       "      <td>3.77</td>\n",
       "      <td>8.45</td>\n",
       "      <td>76.0</td>\n",
       "      <td>8</td>\n",
       "      <td>E</td>\n",
       "    </tr>\n",
       "    <tr>\n",
       "      <td>1</td>\n",
       "      <td>Super Mario Bros.</td>\n",
       "      <td>NES</td>\n",
       "      <td>1985.0</td>\n",
       "      <td>Platform</td>\n",
       "      <td>29.08</td>\n",
       "      <td>3.58</td>\n",
       "      <td>6.81</td>\n",
       "      <td>0.77</td>\n",
       "      <td>NaN</td>\n",
       "      <td>NaN</td>\n",
       "      <td>NaN</td>\n",
       "    </tr>\n",
       "    <tr>\n",
       "      <td>2</td>\n",
       "      <td>Mario Kart Wii</td>\n",
       "      <td>Wii</td>\n",
       "      <td>2008.0</td>\n",
       "      <td>Racing</td>\n",
       "      <td>15.68</td>\n",
       "      <td>12.76</td>\n",
       "      <td>3.79</td>\n",
       "      <td>3.29</td>\n",
       "      <td>82.0</td>\n",
       "      <td>8.3</td>\n",
       "      <td>E</td>\n",
       "    </tr>\n",
       "    <tr>\n",
       "      <td>3</td>\n",
       "      <td>Wii Sports Resort</td>\n",
       "      <td>Wii</td>\n",
       "      <td>2009.0</td>\n",
       "      <td>Sports</td>\n",
       "      <td>15.61</td>\n",
       "      <td>10.93</td>\n",
       "      <td>3.28</td>\n",
       "      <td>2.95</td>\n",
       "      <td>80.0</td>\n",
       "      <td>8</td>\n",
       "      <td>E</td>\n",
       "    </tr>\n",
       "    <tr>\n",
       "      <td>4</td>\n",
       "      <td>Pokemon Red/Pokemon Blue</td>\n",
       "      <td>GB</td>\n",
       "      <td>1996.0</td>\n",
       "      <td>Role-Playing</td>\n",
       "      <td>11.27</td>\n",
       "      <td>8.89</td>\n",
       "      <td>10.22</td>\n",
       "      <td>1.00</td>\n",
       "      <td>NaN</td>\n",
       "      <td>NaN</td>\n",
       "      <td>NaN</td>\n",
       "    </tr>\n",
       "  </tbody>\n",
       "</table>\n",
       "</div>"
      ],
      "text/plain": [
       "                       Name Platform  Year_of_Release         Genre  NA_sales  \\\n",
       "0                Wii Sports      Wii           2006.0        Sports     41.36   \n",
       "1         Super Mario Bros.      NES           1985.0      Platform     29.08   \n",
       "2            Mario Kart Wii      Wii           2008.0        Racing     15.68   \n",
       "3         Wii Sports Resort      Wii           2009.0        Sports     15.61   \n",
       "4  Pokemon Red/Pokemon Blue       GB           1996.0  Role-Playing     11.27   \n",
       "\n",
       "   EU_sales  JP_sales  Other_sales  Critic_Score User_Score Rating  \n",
       "0     28.96      3.77         8.45          76.0          8      E  \n",
       "1      3.58      6.81         0.77           NaN        NaN    NaN  \n",
       "2     12.76      3.79         3.29          82.0        8.3      E  \n",
       "3     10.93      3.28         2.95          80.0          8      E  \n",
       "4      8.89     10.22         1.00           NaN        NaN    NaN  "
      ]
     },
     "metadata": {},
     "output_type": "display_data"
    }
   ],
   "source": [
    "games_df = pd.read_csv('/datasets/games.csv') \n",
    "games_df.info()\n",
    "display(games_df.head())"
   ]
  },
  {
   "cell_type": "markdown",
   "metadata": {},
   "source": [
    "Таблица состоит из следующих столбцов:\n",
    "* Name — название игры\n",
    "* Platform — платформа\n",
    "* Year_of_Release — год выпуска\n",
    "* Genre — жанр игры\n",
    "* NA_sales — продажи в Северной Америке (миллионы проданных копий)\n",
    "* EU_sales — продажи в Европе (миллионы проданных копий)\n",
    "* JP_sales — продажи в Японии (миллионы проданных копий)\n",
    "* Other_sales — продажи в других странах (миллионы проданных копий)\n",
    "* Critic_Score — оценка критиков (максимум 100)\n",
    "* User_Score — оценка пользователей (максимум 10)\n",
    "* Rating — рейтинг от организации ESRB (англ. Entertainment Software Rating Board). Эта ассоциация определяет рейтинг компьютерных игр и присваивает им подходящую возрастную категорию.\n",
    "\n",
    "Всего лишь 2 пропущенных значения в имени и жанре, 269 (1.6%) годов выпуска не указаны, 8578 (51.3%) оценок критиков и 6701 (40%) оценок пользователей неизвестны, значение рейтинга от организации ESRB не задано в 6766 (40.4%) строках. Количество пропусков не одинаково, их причины могут быть различны, подходы к их устранению также будут отличаться и описаны ниже."
   ]
  },
  {
   "cell_type": "markdown",
   "metadata": {},
   "source": [
    "## Подготовка данных  <a name=\"step2\"></a>"
   ]
  },
  {
   "cell_type": "markdown",
   "metadata": {},
   "source": [
    "### Замена название столбцов <a name=\"change_name_columns\"></a>"
   ]
  },
  {
   "cell_type": "code",
   "execution_count": 4,
   "metadata": {
    "scrolled": true
   },
   "outputs": [
    {
     "data": {
      "text/plain": [
       "Index(['name', 'platform', 'year_of_release', 'genre', 'na_sales', 'eu_sales',\n",
       "       'jp_sales', 'other_sales', 'critic_score', 'user_score', 'rating'],\n",
       "      dtype='object')"
      ]
     },
     "execution_count": 4,
     "metadata": {},
     "output_type": "execute_result"
    }
   ],
   "source": [
    "games_df.columns= games_df.columns.str.lower()\n",
    "games_df.columns"
   ]
  },
  {
   "cell_type": "markdown",
   "metadata": {},
   "source": [
    "### Обработка пропусков <a name=\"processing_passes\"></a>"
   ]
  },
  {
   "cell_type": "markdown",
   "metadata": {},
   "source": [
    "#### Вычленение зависимостей для заполнение пропусков <a name=\"isolating_dependencies\"></a>"
   ]
  },
  {
   "cell_type": "code",
   "execution_count": 5,
   "metadata": {},
   "outputs": [
    {
     "name": "stdout",
     "output_type": "stream",
     "text": [
      "40.84% - Процент игр, по которым пытаемся обнаружить полезные закономерности\n"
     ]
    },
    {
     "data": {
      "image/png": "[encoded data removed]",
      "text/plain": [
       "<Figure size 720x720 with 2 Axes>"
      ]
     },
     "metadata": {
      "needs_background": "light"
     },
     "output_type": "display_data"
    }
   ],
   "source": [
    "df_without_nan = games_df.dropna()\n",
    "df_without_nan = df_without_nan.query('user_score != \"tbd\"')\n",
    "\n",
    "df_without_nan['rating_id'] = df_without_nan['rating'].astype('category')\n",
    "cat_columns = df_without_nan.select_dtypes(['category']).columns\n",
    "df_without_nan['rating_id'] = df_without_nan[cat_columns].apply(lambda x: x.cat.codes)\n",
    "\n",
    "df_without_nan['genre_id'] = df_without_nan['genre'].astype('category')\n",
    "cat_columns = df_without_nan.select_dtypes(['category']).columns\n",
    "df_without_nan['genre_id'] = df_without_nan[cat_columns].apply(lambda x: x.cat.codes)\n",
    "\n",
    "df_without_nan['platform_id'] = df_without_nan['platform'].astype('category')\n",
    "cat_columns = df_without_nan.select_dtypes(['category']).columns\n",
    "df_without_nan['platform_id'] = df_without_nan[cat_columns].apply(lambda x: x.cat.codes)\n",
    "\n",
    "df_without_nan['user_score'] = df_without_nan['user_score'].astype(float)\n",
    "\n",
    "fig, ax = plt.subplots(figsize=(10,10))\n",
    "sns.heatmap(df_without_nan.corr(),linewidths=.5, ax=ax, annot=True);\n",
    "print('{:.2%} - Процент игр, по которым пытаемся обнаружить полезные закономерности'.\n",
    "      format(df_without_nan.count()['name'] / games_df.count()['name']))"
   ]
  },
  {
   "cell_type": "markdown",
   "metadata": {},
   "source": [
    "#### Вывод о зависимостях для заполнение пропусков <a name=\"conclusion_dependencies\"></a>"
   ]
  },
  {
   "cell_type": "markdown",
   "metadata": {},
   "source": [
    "Да, после удаления строк с пропусками осталось лишь 40% значений от изначального количества, но для поиска закономерностей по замене пропущенных значений иных вариантов нет. \n",
    "\n",
    "Значимых зависимостей для интересующих нас столбцов (Critic_Score, User_Score, Rating) не обнаружено в связи с чем адекватные - информативные замены осуществить невозможно."
   ]
  },
  {
   "cell_type": "markdown",
   "metadata": {},
   "source": [
    "#### Заполнение пропусков <a name=\"filling_omissions\"></a>"
   ]
  },
  {
   "cell_type": "code",
   "execution_count": 6,
   "metadata": {},
   "outputs": [
    {
     "name": "stdout",
     "output_type": "stream",
     "text": [
      "11 - количество пропусков, которые удалось вытащить из названия\n"
     ]
    }
   ],
   "source": [
    "old_count_nan = games_df.query('year_of_release.isnull()')['user_score'].count()\n",
    "\n",
    "def years_from_title_game(row):\n",
    "    year_for_input = row['year_of_release']\n",
    "    if math.isnan(year_for_input):\n",
    "        if row['name'][-4:].isnumeric():\n",
    "            year_for_input = row['name'][-4:]\n",
    "\n",
    "    return year_for_input\n",
    "\n",
    "games_df['year_of_release'] = games_df.apply(years_from_title_game, axis=1)\n",
    "\n",
    "print(old_count_nan - games_df.query('year_of_release.isnull()')['user_score'].count(), \n",
    "      '- количество пропусков, которые удалось вытащить из названия')"
   ]
  },
  {
   "cell_type": "code",
   "execution_count": 7,
   "metadata": {},
   "outputs": [
    {
     "name": "stdout",
     "output_type": "stream",
     "text": [
      "0 - количество оставшихся пропусков дат после замены\n"
     ]
    }
   ],
   "source": [
    "platforms_pass_years = games_df.query('year_of_release.isnull()')['platform'].unique()\n",
    "\n",
    "def generate_aggregated_df(platforms_pass_years):\n",
    "    values_for_df = []\n",
    "    \n",
    "    for platform in platforms_pass_years:\n",
    "        values_for_df.append(games_df.query('platform == @platform')['year_of_release'].median())\n",
    "    \n",
    "    platform_median_year_df = pd.DataFrame(values_for_df, index=platforms_pass_years)\n",
    "\n",
    "    return platform_median_year_df\n",
    "try:\n",
    "    games_df['year_of_release'].fillna(games_df.query('year_of_release.isnull()')['platform'].\n",
    "                                   map(dict(generate_aggregated_df(platforms_pass_years)[0])), inplace =True)\n",
    "except:\n",
    "    print('Пропусков уже нет')\n",
    "print(f\"{games_df.query('year_of_release.isnull()')['user_score'].count()} - количество оставшихся пропусков дат после замены\")"
   ]
  },
  {
   "cell_type": "code",
   "execution_count": 8,
   "metadata": {},
   "outputs": [
    {
     "name": "stdout",
     "output_type": "stream",
     "text": [
      "<class 'pandas.core.frame.DataFrame'>\n",
      "RangeIndex: 16715 entries, 0 to 16714\n",
      "Data columns (total 11 columns):\n",
      "name               16713 non-null object\n",
      "platform           16715 non-null object\n",
      "year_of_release    16715 non-null object\n",
      "genre              16713 non-null object\n",
      "na_sales           16715 non-null float64\n",
      "eu_sales           16715 non-null float64\n",
      "jp_sales           16715 non-null float64\n",
      "other_sales        16715 non-null float64\n",
      "critic_score       8137 non-null float64\n",
      "user_score         10014 non-null object\n",
      "rating             9949 non-null object\n",
      "dtypes: float64(5), object(6)\n",
      "memory usage: 1.4+ MB\n"
     ]
    },
    {
     "data": {
      "text/html": [
       "<div>\n",
       "<style scoped>\n",
       "    .dataframe tbody tr th:only-of-type {\n",
       "        vertical-align: middle;\n",
       "    }\n",
       "\n",
       "    .dataframe tbody tr th {\n",
       "        vertical-align: top;\n",
       "    }\n",
       "\n",
       "    .dataframe thead th {\n",
       "        text-align: right;\n",
       "    }\n",
       "</style>\n",
       "<table border=\"1\" class=\"dataframe\">\n",
       "  <thead>\n",
       "    <tr style=\"text-align: right;\">\n",
       "      <th></th>\n",
       "      <th>name</th>\n",
       "      <th>platform</th>\n",
       "      <th>year_of_release</th>\n",
       "      <th>genre</th>\n",
       "      <th>na_sales</th>\n",
       "      <th>eu_sales</th>\n",
       "      <th>jp_sales</th>\n",
       "      <th>other_sales</th>\n",
       "      <th>critic_score</th>\n",
       "      <th>user_score</th>\n",
       "      <th>rating</th>\n",
       "    </tr>\n",
       "  </thead>\n",
       "  <tbody>\n",
       "    <tr>\n",
       "      <td>659</td>\n",
       "      <td>NaN</td>\n",
       "      <td>GEN</td>\n",
       "      <td>1993</td>\n",
       "      <td>NaN</td>\n",
       "      <td>1.78</td>\n",
       "      <td>0.53</td>\n",
       "      <td>0.00</td>\n",
       "      <td>0.08</td>\n",
       "      <td>NaN</td>\n",
       "      <td>NaN</td>\n",
       "      <td>NaN</td>\n",
       "    </tr>\n",
       "    <tr>\n",
       "      <td>14244</td>\n",
       "      <td>NaN</td>\n",
       "      <td>GEN</td>\n",
       "      <td>1993</td>\n",
       "      <td>NaN</td>\n",
       "      <td>0.00</td>\n",
       "      <td>0.00</td>\n",
       "      <td>0.03</td>\n",
       "      <td>0.00</td>\n",
       "      <td>NaN</td>\n",
       "      <td>NaN</td>\n",
       "      <td>NaN</td>\n",
       "    </tr>\n",
       "  </tbody>\n",
       "</table>\n",
       "</div>"
      ],
      "text/plain": [
       "      name platform year_of_release genre  na_sales  eu_sales  jp_sales  \\\n",
       "659    NaN      GEN            1993   NaN      1.78      0.53      0.00   \n",
       "14244  NaN      GEN            1993   NaN      0.00      0.00      0.03   \n",
       "\n",
       "       other_sales  critic_score user_score rating  \n",
       "659           0.08           NaN        NaN    NaN  \n",
       "14244         0.00           NaN        NaN    NaN  "
      ]
     },
     "metadata": {},
     "output_type": "display_data"
    },
    {
     "name": "stdout",
     "output_type": "stream",
     "text": [
      "Игры для которых не указано имя и жанр.\n"
     ]
    },
    {
     "data": {
      "text/html": [
       "<div>\n",
       "<style scoped>\n",
       "    .dataframe tbody tr th:only-of-type {\n",
       "        vertical-align: middle;\n",
       "    }\n",
       "\n",
       "    .dataframe tbody tr th {\n",
       "        vertical-align: top;\n",
       "    }\n",
       "\n",
       "    .dataframe thead th {\n",
       "        text-align: right;\n",
       "    }\n",
       "</style>\n",
       "<table border=\"1\" class=\"dataframe\">\n",
       "  <thead>\n",
       "    <tr style=\"text-align: right;\">\n",
       "      <th></th>\n",
       "      <th>na_sales</th>\n",
       "      <th>eu_sales</th>\n",
       "      <th>jp_sales</th>\n",
       "      <th>other_sales</th>\n",
       "      <th>critic_score</th>\n",
       "    </tr>\n",
       "  </thead>\n",
       "  <tbody>\n",
       "    <tr>\n",
       "      <td>na_sales</td>\n",
       "      <td>1.000000</td>\n",
       "      <td>0.765341</td>\n",
       "      <td>0.449668</td>\n",
       "      <td>0.638695</td>\n",
       "      <td>0.240755</td>\n",
       "    </tr>\n",
       "    <tr>\n",
       "      <td>eu_sales</td>\n",
       "      <td>0.765341</td>\n",
       "      <td>1.000000</td>\n",
       "      <td>0.435079</td>\n",
       "      <td>0.722796</td>\n",
       "      <td>0.220752</td>\n",
       "    </tr>\n",
       "    <tr>\n",
       "      <td>jp_sales</td>\n",
       "      <td>0.449668</td>\n",
       "      <td>0.435079</td>\n",
       "      <td>1.000000</td>\n",
       "      <td>0.291090</td>\n",
       "      <td>0.152593</td>\n",
       "    </tr>\n",
       "    <tr>\n",
       "      <td>other_sales</td>\n",
       "      <td>0.638695</td>\n",
       "      <td>0.722796</td>\n",
       "      <td>0.291090</td>\n",
       "      <td>1.000000</td>\n",
       "      <td>0.198554</td>\n",
       "    </tr>\n",
       "    <tr>\n",
       "      <td>critic_score</td>\n",
       "      <td>0.240755</td>\n",
       "      <td>0.220752</td>\n",
       "      <td>0.152593</td>\n",
       "      <td>0.198554</td>\n",
       "      <td>1.000000</td>\n",
       "    </tr>\n",
       "  </tbody>\n",
       "</table>\n",
       "</div>"
      ],
      "text/plain": [
       "              na_sales  eu_sales  jp_sales  other_sales  critic_score\n",
       "na_sales      1.000000  0.765341  0.449668     0.638695      0.240755\n",
       "eu_sales      0.765341  1.000000  0.435079     0.722796      0.220752\n",
       "jp_sales      0.449668  0.435079  1.000000     0.291090      0.152593\n",
       "other_sales   0.638695  0.722796  0.291090     1.000000      0.198554\n",
       "critic_score  0.240755  0.220752  0.152593     0.198554      1.000000"
      ]
     },
     "metadata": {},
     "output_type": "display_data"
    },
    {
     "name": "stdout",
     "output_type": "stream",
     "text": [
      "<class 'pandas.core.frame.DataFrame'>\n",
      "Int64Index: 16713 entries, 0 to 16714\n",
      "Data columns (total 11 columns):\n",
      "name               16713 non-null object\n",
      "platform           16713 non-null object\n",
      "year_of_release    16713 non-null object\n",
      "genre              16713 non-null object\n",
      "na_sales           16713 non-null float64\n",
      "eu_sales           16713 non-null float64\n",
      "jp_sales           16713 non-null float64\n",
      "other_sales        16713 non-null float64\n",
      "critic_score       16713 non-null object\n",
      "user_score         16713 non-null object\n",
      "rating             16713 non-null object\n",
      "dtypes: float64(4), object(7)\n",
      "memory usage: 1.5+ MB\n"
     ]
    }
   ],
   "source": [
    "games_df.info()\n",
    "\n",
    "display(games_df.query('name.isnull()'))\n",
    "print('Игры для которых не указано имя и жанр.')\n",
    "games_df.dropna(inplace=True, subset=['name'])\n",
    "\n",
    "display(games_df.corr())\n",
    "\n",
    "games_df['rating'].fillna('pass_rating',inplace=True)\n",
    "games_df['critic_score'].fillna('-1',inplace=True)\n",
    "\n",
    "games_df['user_score'].fillna('-0.1', inplace=True)\n",
    "games_df['user_score'].replace('tbd', -0.1, inplace=True)\n",
    "\n",
    "games_df.info()"
   ]
  },
  {
   "cell_type": "markdown",
   "metadata": {},
   "source": [
    "* В столбцах name и genre пропуски малочисленны, невосполнимы, стары в связи с чем просто удалил их;\n",
    "* В столбце year_of_release заменил пропуски на где это возможно значения из названия, в оставшихся случаях посчитал, что исходя из платформы возможно предположить год, допустил, что такой заменой является медианное значение для каждой платформы;\n",
    "\n",
    "* Что касается замен рейтингов:\n",
    "    * Зависимостей по имеющимся данным выявлено не было;\n",
    "    * Заменять на какое-то среднее или медианное значение считаю невозможным, по причине потери информации от действительно указанных и не указанных игр;\n",
    "    * Пропущенные оценки критиков и пользователей заменил некорректным значением -1, для дальнейшей обработки, rating - значением 'pass_rating' для той же цели.\n",
    "\n",
    "tbd 'to be determined' - будет определен, демонстрирует, что значение пока неизвестно.\n",
    "tbd - заменил на -2, чтобы не иметь проблемы с приведением типа.\n",
    "\n",
    "Выделяю следующие причины возникновения пропусков:\n",
    "* Отсутствие каких-то параметров о строках;\n",
    "* Еще несформированные характеристики для игр;\n",
    "* Новизна рейтинга, относительно некоторых игр;\n",
    "* Сертификационный центр не успел присвоить рейтинг."
   ]
  },
  {
   "cell_type": "markdown",
   "metadata": {},
   "source": [
    "### Преобразование данных <a name=\"transformation_name_columns\"></a>"
   ]
  },
  {
   "cell_type": "code",
   "execution_count": 9,
   "metadata": {},
   "outputs": [],
   "source": [
    "games_df['total_sales'] = games_df['na_sales'] + games_df['eu_sales'] + games_df['jp_sales']\n",
    "games_df['critic_score'] = games_df['critic_score'].astype(int)\n",
    "games_df['year_of_release'] = games_df['year_of_release'].astype(int)\n",
    "games_df['user_score'] = games_df['user_score'].astype(float)\n",
    "games_df['user_score'] = 10 * games_df['user_score']\n",
    "games_df['user_score'] = games_df['user_score'].astype(int)"
   ]
  },
  {
   "cell_type": "code",
   "execution_count": 10,
   "metadata": {},
   "outputs": [
    {
     "name": "stdout",
     "output_type": "stream",
     "text": [
      "<class 'pandas.core.frame.DataFrame'>\n",
      "Int64Index: 16713 entries, 0 to 16714\n",
      "Data columns (total 12 columns):\n",
      "name               16713 non-null object\n",
      "platform           16713 non-null object\n",
      "year_of_release    16713 non-null int64\n",
      "genre              16713 non-null object\n",
      "na_sales           16713 non-null float64\n",
      "eu_sales           16713 non-null float64\n",
      "jp_sales           16713 non-null float64\n",
      "other_sales        16713 non-null float64\n",
      "critic_score       16713 non-null int64\n",
      "user_score         16713 non-null int64\n",
      "rating             16713 non-null object\n",
      "total_sales        16713 non-null float64\n",
      "dtypes: float64(5), int64(3), object(4)\n",
      "memory usage: 1.7+ MB\n"
     ]
    }
   ],
   "source": [
    "games_df.info()"
   ]
  },
  {
   "cell_type": "markdown",
   "metadata": {},
   "source": [
    "Произвел следующеее приведение типов в различных столбцах:\n",
    "* year_of_release - привел тип, по причине удоства работы с int'oм;\n",
    "* Объемы продаж указаны в миллионах и округлять считаю нецелесообразным;\n",
    "* critic_score - неизвестные оценки были заменены уникальными численными значением в связи с чем приведение типов в столбце с оценкой критиков стало возможно;\n",
    "* user_score - заменил пропуски на -1, 'tbd', которое ограничивало приведение типов также на -1, для удобства дальнейшей обработки, при этом домножил на 10 оценки, чтобы привести данные к типу int  и сравнять шкалы оценок как пользователей, так и критиков;\n",
    "* Значения столбца rating - категориальные, которые можно заменить численными значениями, но это будет менее информативно в связи с чем тип данных оставлен без изменений."
   ]
  },
  {
   "cell_type": "markdown",
   "metadata": {},
   "source": [
    "## Исследовательский анализ данных <a name=\"step3\"></a>\n"
   ]
  },
  {
   "cell_type": "markdown",
   "metadata": {},
   "source": [
    "### Количество игр по годам<a name=\"count_plays\"></a>"
   ]
  },
  {
   "cell_type": "code",
   "execution_count": 11,
   "metadata": {},
   "outputs": [
    {
     "data": {
      "image/png": "[encoded data removed]",
      "text/plain": [
       "<Figure size 432x288 with 1 Axes>"
      ]
     },
     "metadata": {
      "needs_background": "light"
     },
     "output_type": "display_data"
    }
   ],
   "source": [
    "games_df['year_of_release'].plot(kind='hist', bins=73)\n",
    "plt.title(\"Распределение количества игр по годам.\")\n",
    "plt.xlabel(\"Год выпуска.\")\n",
    "plt.ylabel(\"Количество выпущенных игр.\");"
   ]
  },
  {
   "cell_type": "markdown",
   "metadata": {},
   "source": [
    "Разброс по годам кардинальный, но для выявления закономерностей информации достаточно, до 2008 года существовала тенденция ежегодного увеличения числа выпускаемых игр, однако начиная с 2009 количество игр начало уменьшаться, при этом после резкого падения числа игр в 2012 году (в 1.73 раза) уменьшение числа игр стало более плавным. В связи с чем, считаю важным рассмотрение значений лишь  с 2012 года и позже. Причиной столь резкого падения числа игр в 2012 считаю:\n",
    "* Повышение сложности создания отдельной игры;\n",
    "* По информации на Metacritic (сайт-агрегатор отзывов), лучших игр десятилетия 2010-2019 до 2016 года - 33, 11 из них были выпущены в 2011, окончание работы по столь большому количество признанных проектов считаю одним из оснований по снижению числа игр в 2012. "
   ]
  },
  {
   "cell_type": "markdown",
   "metadata": {},
   "source": [
    "### Измененение продаж по платформам и годам<a name=\"change_salary\"></a>"
   ]
  },
  {
   "cell_type": "code",
   "execution_count": 12,
   "metadata": {},
   "outputs": [
    {
     "name": "stdout",
     "output_type": "stream",
     "text": [
      "75.04% - Процент дохода от 10 самых прибыльных платформ\n"
     ]
    },
    {
     "data": {
      "text/plain": [
       "platform\n",
       "PS2     1062.33\n",
       "X360     885.66\n",
       "Wii      828.44\n",
       "PS3      803.97\n",
       "DS       746.86\n",
       "PS       689.95\n",
       "GBA      310.12\n",
       "PS4      265.79\n",
       "PSP      252.63\n",
       "XB       249.02\n",
       "Name: total_sales, dtype: float64"
      ]
     },
     "execution_count": 12,
     "metadata": {},
     "output_type": "execute_result"
    }
   ],
   "source": [
    "ten_the_most_profitable_platform = games_df.groupby('platform')['total_sales'].sum().sort_values(ascending=False)[:10]\n",
    "print('{:.2%} - Процент дохода от 10 самых прибыльных платформ'.\n",
    "      format(ten_the_most_profitable_platform.sum() / games_df['total_sales'].sum()))\n",
    "\n",
    "ten_the_most_profitable_platform"
   ]
  },
  {
   "cell_type": "code",
   "execution_count": 13,
   "metadata": {},
   "outputs": [],
   "source": [
    "data_for_plot = pd.DataFrame(index = games_df['year_of_release'].value_counts().index.astype(int))\n",
    "\n",
    "for platform in ten_the_most_profitable_platform.index:\n",
    "    data_for_plot[platform] = games_df.query('platform == @platform').groupby('year_of_release')['total_sales'].sum()\n",
    "    \n",
    "data_for_plot.fillna(0, inplace=True)"
   ]
  },
  {
   "cell_type": "code",
   "execution_count": 14,
   "metadata": {},
   "outputs": [
    {
     "data": {
      "image/png": "[encoded data removed]",
      "text/plain": [
       "<Figure size 432x288 with 1 Axes>"
      ]
     },
     "metadata": {
      "needs_background": "light"
     },
     "output_type": "display_data"
    }
   ],
   "source": [
    "plt.hist(data_for_plot.index, weights=data_for_plot['PS2'], bins = 30, alpha = 0.5, label='PS2')\n",
    "plt.hist(data_for_plot.index, weights=data_for_plot['X360'], bins = 30, alpha = 0.5, label='X360')\n",
    "plt.hist(data_for_plot.index, weights=data_for_plot['Wii'], bins = 30, alpha = 0.5, label='Wii')\n",
    "\n",
    "plt.ylabel('Миллионы прибыли')\n",
    "plt.xlabel('Годы')\n",
    "plt.title('Распределение прибыли 3 самых прибыльных платформ')\n",
    "\n",
    "plt.legend();"
   ]
  },
  {
   "cell_type": "code",
   "execution_count": 15,
   "metadata": {},
   "outputs": [
    {
     "data": {
      "image/png": "[encoded data removed]",
      "text/plain": [
       "<Figure size 432x288 with 1 Axes>"
      ]
     },
     "metadata": {
      "needs_background": "light"
     },
     "output_type": "display_data"
    }
   ],
   "source": [
    "plt.hist(data_for_plot.index, weights=data_for_plot['PS3'], bins = 30, alpha = 0.5, label='PS3')\n",
    "plt.hist(data_for_plot.index, weights=data_for_plot['DS'], bins = 30, alpha = 0.5, label='DS')\n",
    "plt.hist(data_for_plot.index, weights=data_for_plot['PS'], bins = 30, alpha = 0.5, label='PS')\n",
    "\n",
    "plt.ylabel('Миллионы прибыли')\n",
    "plt.xlabel('Годы')\n",
    "plt.title('Распределение прибыли второй тройки самых прибыльных платформ')\n",
    "\n",
    "plt.legend();"
   ]
  },
  {
   "cell_type": "code",
   "execution_count": 16,
   "metadata": {},
   "outputs": [
    {
     "data": {
      "image/png": "[encoded data removed]",
      "text/plain": [
       "<Figure size 432x288 with 1 Axes>"
      ]
     },
     "metadata": {
      "needs_background": "light"
     },
     "output_type": "display_data"
    }
   ],
   "source": [
    "plt.hist(data_for_plot.index, weights=data_for_plot['GBA'], bins = 30, alpha = 0.5, label='GBA')\n",
    "plt.hist(data_for_plot.index, weights=data_for_plot['PSP'], bins = 30, alpha = 0.5, label='PSP')\n",
    "\n",
    "plt.ylabel('Миллионы прибыли')\n",
    "plt.xlabel('Годы')\n",
    "plt.title('Распределение прибыли 7-8 по прибыльности платформ')\n",
    "\n",
    "plt.legend();"
   ]
  },
  {
   "cell_type": "code",
   "execution_count": 17,
   "metadata": {},
   "outputs": [
    {
     "data": {
      "image/png": "[encoded data removed]",
      "text/plain": [
       "<Figure size 432x288 with 1 Axes>"
      ]
     },
     "metadata": {
      "needs_background": "light"
     },
     "output_type": "display_data"
    }
   ],
   "source": [
    "plt.hist(data_for_plot.index, weights=data_for_plot['PS4'], bins = 30, alpha = 0.5, label='PS4')\n",
    "plt.hist(data_for_plot.index, weights=data_for_plot['XB'], bins = 30, alpha = 0.5, label='XB')\n",
    "\n",
    "plt.ylabel('Миллионы прибыли')\n",
    "plt.xlabel('Годы')\n",
    "plt.title('Распределение прибыли 9-10 по прибыльности платформ')\n",
    "\n",
    "plt.legend();"
   ]
  },
  {
   "cell_type": "code",
   "execution_count": 18,
   "metadata": {},
   "outputs": [],
   "source": [
    "def define_duration_support():\n",
    "    durations_popularity = pd.DataFrame(index=ten_the_most_profitable_platform.index)\n",
    "    \n",
    "    for platform in ten_the_most_profitable_platform.index:\n",
    "        durations_popularity.loc[platform,'duration'] = games_df.query('platform == @platform')['year_of_release'].max() \\\n",
    "        - games_df.query('platform == @platform')['year_of_release'].min()\n",
    "    \n",
    "    return durations_popularity"
   ]
  },
  {
   "cell_type": "code",
   "execution_count": 19,
   "metadata": {},
   "outputs": [
    {
     "data": {
      "text/plain": [
       "duration    10.8\n",
       "dtype: float64"
      ]
     },
     "execution_count": 19,
     "metadata": {},
     "output_type": "execute_result"
    }
   ],
   "source": [
    "define_duration_support().mean()"
   ]
  },
  {
   "cell_type": "markdown",
   "metadata": {},
   "source": [
    "Взяв 10 самых прибыльных платформ за всю историю рассчитал, что в среднем характерный срок поддержки - 11 лет."
   ]
  },
  {
   "cell_type": "markdown",
   "metadata": {},
   "source": [
    "### Данные за актуальный период <a name=\"actual_data\"></a>"
   ]
  },
  {
   "cell_type": "code",
   "execution_count": 20,
   "metadata": {},
   "outputs": [
    {
     "data": {
      "text/plain": [
       "platform\n",
       "PS4     265.79\n",
       "PS3     245.53\n",
       "X360    216.14\n",
       "3DS     186.84\n",
       "XOne    145.05\n",
       "Name: total_sales, dtype: float64"
      ]
     },
     "execution_count": 20,
     "metadata": {},
     "output_type": "execute_result"
    }
   ],
   "source": [
    "modern_games_df = games_df.query('year_of_release > 2011')\n",
    "the_most_profitable_platform_last_years = modern_games_df.groupby('platform')\\\n",
    "['total_sales'].sum().sort_values(ascending=False)[:5]\n",
    "\n",
    "the_most_profitable_platform_last_years"
   ]
  },
  {
   "cell_type": "code",
   "execution_count": 21,
   "metadata": {},
   "outputs": [],
   "source": [
    "try:\n",
    "    the_most_profitable_platform_last_years = the_most_profitable_platform_last_years.to_frame()\n",
    "except:\n",
    "    print('Тип уже приведен, ячейка запускалась')\n",
    "\n",
    "defective_2012 = modern_games_df.query('year_of_release == 2012 \\\n",
    "        and platform in @the_most_profitable_platform_last_years.index').groupby('platform')['total_sales'].sum()\n",
    "defective_2012['PS4'] = 0\n",
    "defective_2012['XOne'] = 0\n",
    "the_most_profitable_platform_last_years['2012'] = defective_2012\n",
    "\n",
    "for counter in range(2013, 2017): \n",
    "    the_most_profitable_platform_last_years[counter] = modern_games_df.query('year_of_release == @counter \\\n",
    "        and platform in @the_most_profitable_platform_last_years.index').groupby('platform')['total_sales'].sum()      "
   ]
  },
  {
   "cell_type": "code",
   "execution_count": 22,
   "metadata": {},
   "outputs": [
    {
     "data": {
      "text/html": [
       "<div>\n",
       "<style scoped>\n",
       "    .dataframe tbody tr th:only-of-type {\n",
       "        vertical-align: middle;\n",
       "    }\n",
       "\n",
       "    .dataframe tbody tr th {\n",
       "        vertical-align: top;\n",
       "    }\n",
       "\n",
       "    .dataframe thead th {\n",
       "        text-align: right;\n",
       "    }\n",
       "</style>\n",
       "<table border=\"1\" class=\"dataframe\">\n",
       "  <thead>\n",
       "    <tr style=\"text-align: right;\">\n",
       "      <th></th>\n",
       "      <th>total_sales</th>\n",
       "      <th>2012</th>\n",
       "      <th>2013</th>\n",
       "      <th>2014</th>\n",
       "      <th>2015</th>\n",
       "      <th>2016</th>\n",
       "    </tr>\n",
       "    <tr>\n",
       "      <th>platform</th>\n",
       "      <th></th>\n",
       "      <th></th>\n",
       "      <th></th>\n",
       "      <th></th>\n",
       "      <th></th>\n",
       "      <th></th>\n",
       "    </tr>\n",
       "  </thead>\n",
       "  <tbody>\n",
       "    <tr>\n",
       "      <td>PS4</td>\n",
       "      <td>265.79</td>\n",
       "      <td>0.00</td>\n",
       "      <td>22.12</td>\n",
       "      <td>84.22</td>\n",
       "      <td>100.44</td>\n",
       "      <td>59.01</td>\n",
       "    </tr>\n",
       "    <tr>\n",
       "      <td>PS3</td>\n",
       "      <td>245.53</td>\n",
       "      <td>90.87</td>\n",
       "      <td>95.85</td>\n",
       "      <td>40.88</td>\n",
       "      <td>14.70</td>\n",
       "      <td>3.23</td>\n",
       "    </tr>\n",
       "    <tr>\n",
       "      <td>X360</td>\n",
       "      <td>216.14</td>\n",
       "      <td>91.45</td>\n",
       "      <td>80.82</td>\n",
       "      <td>31.61</td>\n",
       "      <td>10.86</td>\n",
       "      <td>1.40</td>\n",
       "    </tr>\n",
       "    <tr>\n",
       "      <td>3DS</td>\n",
       "      <td>186.84</td>\n",
       "      <td>48.77</td>\n",
       "      <td>55.07</td>\n",
       "      <td>41.75</td>\n",
       "      <td>26.75</td>\n",
       "      <td>14.50</td>\n",
       "    </tr>\n",
       "    <tr>\n",
       "      <td>XOne</td>\n",
       "      <td>145.05</td>\n",
       "      <td>0.00</td>\n",
       "      <td>17.21</td>\n",
       "      <td>49.26</td>\n",
       "      <td>54.67</td>\n",
       "      <td>23.91</td>\n",
       "    </tr>\n",
       "  </tbody>\n",
       "</table>\n",
       "</div>"
      ],
      "text/plain": [
       "          total_sales   2012   2013   2014    2015   2016\n",
       "platform                                                 \n",
       "PS4            265.79   0.00  22.12  84.22  100.44  59.01\n",
       "PS3            245.53  90.87  95.85  40.88   14.70   3.23\n",
       "X360           216.14  91.45  80.82  31.61   10.86   1.40\n",
       "3DS            186.84  48.77  55.07  41.75   26.75  14.50\n",
       "XOne           145.05   0.00  17.21  49.26   54.67  23.91"
      ]
     },
     "metadata": {},
     "output_type": "display_data"
    },
    {
     "data": {
      "image/png": "[encoded data removed]",
      "text/plain": [
       "<Figure size 432x288 with 1 Axes>"
      ]
     },
     "metadata": {
      "needs_background": "light"
     },
     "output_type": "display_data"
    }
   ],
   "source": [
    "the_most_profitable_platform_last_years.reset_index()\n",
    "statistics_profit_by_years = the_most_profitable_platform_last_years.T\n",
    "display(the_most_profitable_platform_last_years)\n",
    "\n",
    "statistics_profit_by_years.plot(kind='bar', title = 'Продажи копий игр платформами по годам (в миллионах)');"
   ]
  },
  {
   "cell_type": "markdown",
   "metadata": {},
   "source": [
    "Отобрав пять самых доходных платформ с 2012 года построил их прибыль по годам, выбраны лишь пять самых выгодных платформ, так как у следующих платформ отставание по доходам примерно в два раза.\n",
    "Погрузившись в 2016: \n",
    "- Уже 4 года продаются PS4, исходя из того, что платформы PS весьма популярны в сравнении с иными платформами предложил бы большую часть средств направить на рекламную компанию игр для этой платформы;\n",
    "- Меньшую сумму предложил бы вложить в игры касающиеся xbox one, которая также существует с 2013 года и предыдущие версии этой платформы всё же хорошо показывали себя."
   ]
  },
  {
   "cell_type": "markdown",
   "metadata": {},
   "source": [
    "### Построение boxplot'ов по платформам<a name=\"boxplots\"></a>"
   ]
  },
  {
   "cell_type": "code",
   "execution_count": 23,
   "metadata": {},
   "outputs": [
    {
     "data": {
      "image/png": "[encoded data removed]",
      "text/plain": [
       "<Figure size 432x288 with 1 Axes>"
      ]
     },
     "metadata": {
      "needs_background": "light"
     },
     "output_type": "display_data"
    }
   ],
   "source": [
    "try:\n",
    "    statistics_profit_by_years.drop('total_sales', inplace = True)\n",
    "except:\n",
    "    print('столбец уже удален')  \n",
    "    \n",
    "ax = sns.boxplot(data=statistics_profit_by_years)\n",
    "ax.set_xlabel('Платформы')\n",
    "ax.set_ylabel('Миллионы проданных копий')\n",
    "ax.set_title('Ящик с усами по глобальным продажам игр в разбивке по платформам')\n",
    "plt.show();"
   ]
  },
  {
   "cell_type": "markdown",
   "metadata": {},
   "source": [
    "Медианные значения числа продаж в год для различных платформ сильно разнятся, однако для трех самых продаваемых платформ с 2012 по 2016 были и одинаково успешные года и года с небольшим примерно равным количеством продаж."
   ]
  },
  {
   "cell_type": "markdown",
   "metadata": {},
   "source": [
    "### Влияние отзывов на число продаж <a name=\"influence_review\"></a>"
   ]
  },
  {
   "cell_type": "markdown",
   "metadata": {},
   "source": [
    "Рассмотрим современную приемницу самой прибыльной платформы за всю историю - PS4. "
   ]
  },
  {
   "cell_type": "code",
   "execution_count": 24,
   "metadata": {},
   "outputs": [],
   "source": [
    "name_platform = \"PS4\"\n",
    "invalid_score = \"-1\""
   ]
  },
  {
   "cell_type": "code",
   "execution_count": 25,
   "metadata": {},
   "outputs": [
    {
     "name": "stdout",
     "output_type": "stream",
     "text": [
      "392 - общее количество игр для платформы, 249 - количество игр у которых известны отзывы и критиков и пользователей\n"
     ]
    }
   ],
   "source": [
    "print(f\"{modern_games_df.query('platform == @name_platform').shape[0]} - общее количество игр для платформы, \" \\\n",
    "      f\"{modern_games_df.query('platform == @name_platform and critic_score != @invalid_score and user_score != @invalid_score').shape[0]}\"\\\n",
    "      f\" - количество игр у которых известны отзывы и критиков и пользователей\")\n",
    "\n",
    "impact_reviews_platform_sales = modern_games_df.query('platform == @name_platform and critic_score != @invalid_score and user_score \\\n",
    "                                               != @invalid_score')\n",
    "impact_reviews_platform_sales.loc[:,'critic_score'] = impact_reviews_platform_sales['critic_score'].astype('float64')\n",
    "impact_reviews_platform_sales.loc[:,'user_score'] = impact_reviews_platform_sales['user_score'].astype('float64')"
   ]
  },
  {
   "cell_type": "code",
   "execution_count": 26,
   "metadata": {},
   "outputs": [
    {
     "data": {
      "image/png": "[encoded data removed]",
      "text/plain": [
       "<Figure size 432x288 with 1 Axes>"
      ]
     },
     "metadata": {
      "needs_background": "light"
     },
     "output_type": "display_data"
    },
    {
     "data": {
      "image/png": "[encoded data removed]",
      "text/plain": [
       "<Figure size 432x288 with 1 Axes>"
      ]
     },
     "metadata": {
      "needs_background": "light"
     },
     "output_type": "display_data"
    }
   ],
   "source": [
    "impact_reviews_platform_sales.plot(kind='scatter', y='total_sales', x='critic_score',alpha=0.2)\n",
    "plt.title(\"График зависимости числа проданных копий от отзывов критиков.\")\n",
    "plt.xlabel(\"Оценки критиков\")\n",
    "plt.ylabel(\"Миллионы проданных копий\");\n",
    "\n",
    "impact_reviews_platform_sales.plot(kind='scatter', y='total_sales', x='user_score',alpha=0.2)\n",
    "plt.title(\"График зависимости числа проданных копий от отзывов пользователей.\")\n",
    "plt.xlabel(\"Оценки пользователей\")\n",
    "plt.ylabel(\"Миллионы проданных копий\");"
   ]
  },
  {
   "cell_type": "code",
   "execution_count": 27,
   "metadata": {},
   "outputs": [
    {
     "data": {
      "text/html": [
       "<div>\n",
       "<style scoped>\n",
       "    .dataframe tbody tr th:only-of-type {\n",
       "        vertical-align: middle;\n",
       "    }\n",
       "\n",
       "    .dataframe tbody tr th {\n",
       "        vertical-align: top;\n",
       "    }\n",
       "\n",
       "    .dataframe thead th {\n",
       "        text-align: right;\n",
       "    }\n",
       "</style>\n",
       "<table border=\"1\" class=\"dataframe\">\n",
       "  <thead>\n",
       "    <tr style=\"text-align: right;\">\n",
       "      <th></th>\n",
       "      <th>r</th>\n",
       "      <th>p-val</th>\n",
       "    </tr>\n",
       "  </thead>\n",
       "  <tbody>\n",
       "    <tr>\n",
       "      <td>pearson</td>\n",
       "      <td>-0.032923</td>\n",
       "      <td>0.605128</td>\n",
       "    </tr>\n",
       "  </tbody>\n",
       "</table>\n",
       "</div>"
      ],
      "text/plain": [
       "                r     p-val\n",
       "pearson -0.032923  0.605128"
      ]
     },
     "metadata": {},
     "output_type": "display_data"
    },
    {
     "name": "stdout",
     "output_type": "stream",
     "text": [
      "Значение корреляции пользовательских оценок и продаж и значение статистики, которое не позволяет отвергнуть гипотезу о независимости пользовательских оценок и продаж\n"
     ]
    },
    {
     "data": {
      "text/html": [
       "<div>\n",
       "<style scoped>\n",
       "    .dataframe tbody tr th:only-of-type {\n",
       "        vertical-align: middle;\n",
       "    }\n",
       "\n",
       "    .dataframe tbody tr th {\n",
       "        vertical-align: top;\n",
       "    }\n",
       "\n",
       "    .dataframe thead th {\n",
       "        text-align: right;\n",
       "    }\n",
       "</style>\n",
       "<table border=\"1\" class=\"dataframe\">\n",
       "  <thead>\n",
       "    <tr style=\"text-align: right;\">\n",
       "      <th></th>\n",
       "      <th>r</th>\n",
       "      <th>p-val</th>\n",
       "    </tr>\n",
       "  </thead>\n",
       "  <tbody>\n",
       "    <tr>\n",
       "      <td>pearson</td>\n",
       "      <td>0.405223</td>\n",
       "      <td>2.939334e-11</td>\n",
       "    </tr>\n",
       "  </tbody>\n",
       "</table>\n",
       "</div>"
      ],
      "text/plain": [
       "                r         p-val\n",
       "pearson  0.405223  2.939334e-11"
      ]
     },
     "metadata": {},
     "output_type": "display_data"
    },
    {
     "name": "stdout",
     "output_type": "stream",
     "text": [
      "Значение корреляции оценок критиков и продаж и значение статистики, которое позволяет отвергнуть гипотезу о независимости пользовательских оценок и продаж\n"
     ]
    }
   ],
   "source": [
    "display(pg.corr(x=impact_reviews_platform_sales['user_score'], y=impact_reviews_platform_sales['total_sales']).\n",
    "        loc[:,['r','p-val']])\n",
    "print('Значение корреляции пользовательских оценок и продаж и значение статистики, \\\n",
    "которое не позволяет отвергнуть гипотезу о независимости пользовательских оценок и продаж')\n",
    "\n",
    "display(pg.corr(x=impact_reviews_platform_sales['critic_score'], y=impact_reviews_platform_sales['total_sales']).\n",
    "        loc[:,['r','p-val']])\n",
    "print('Значение корреляции оценок критиков и продаж и значение статистики, \\\n",
    "которое позволяет отвергнуть гипотезу о независимости пользовательских оценок и продаж')"
   ]
  },
  {
   "cell_type": "markdown",
   "metadata": {},
   "source": [
    "<div class=\"alert alert-block alert-success\">\n",
    "<b>Комментарий ревьюера</b> \n",
    "\n",
    "Молодец, что выходишь за рамки курса и находишь другие инструменты для ответа на поставленные вопрос. pingouin - интересная библиотека.\n",
    "\n",
    "</div>"
   ]
  },
  {
   "cell_type": "markdown",
   "metadata": {},
   "source": [
    "<div style=\"padding: 20px; background-color: #c8f2ec; color: #660066;\">\n",
    "    Есть желание взять максимум от курсов ну и параллельно добираю бесплатными ну и гуглежка конечно же.\n",
    "</div>"
   ]
  },
  {
   "cell_type": "markdown",
   "metadata": {},
   "source": [
    "<div class=\"alert alert-block alert-success\">\n",
    "<b>Комментарий ревьюера (v2)</b> \n",
    "\n",
    "Подход однозначно верный. Ни один курс по одиночке не даст всей нужной информации. Только здесь опасно перегореть, будь с этим осторожен.\n",
    "\n",
    "</div>"
   ]
  },
  {
   "cell_type": "code",
   "execution_count": 28,
   "metadata": {},
   "outputs": [
    {
     "name": "stdout",
     "output_type": "stream",
     "text": [
      "Платформ всего с отзывами критиков и пользователей - 9, платформ, влияние на число продаж игр которых оказали отзывы критиков - 7, платформ, влияние на число продаж игр которых оказали отзывы пользователей - 2\n"
     ]
    }
   ],
   "source": [
    "def check_influence_scores_by_sales():\n",
    "    counter_platform_with_influence_user = 0\n",
    "    counter_platform_with_influence_critic = 0\n",
    "    count_platform = 0\n",
    "    \n",
    "    for name_platform in modern_games_df['platform'].value_counts().index:\n",
    "        impact_reviews_platform_sales = modern_games_df.query('platform == @name_platform and critic_score != @invalid_score \\\n",
    "                                                       and user_score != @invalid_score')\n",
    "        if len(impact_reviews_platform_sales) > 1:\n",
    "            count_platform += 1\n",
    "            impact_reviews_platform_sales.loc[:,'critic_score'] = impact_reviews_platform_sales['critic_score'].astype('float64')\n",
    "            impact_reviews_platform_sales.loc[:,'user_score'] = impact_reviews_platform_sales['user_score'].astype('float64')\n",
    "        \n",
    "            if pg.corr(x=impact_reviews_platform_sales['critic_score'], \n",
    "                       y=impact_reviews_platform_sales['total_sales']).loc[:,'p-val']['pearson'] < 0.05:\n",
    "                counter_platform_with_influence_critic += 1\n",
    "        \n",
    "            if pg.corr(x=impact_reviews_platform_sales['user_score'], \n",
    "                       y=impact_reviews_platform_sales['total_sales']).loc[:,'p-val']['pearson'] < 0.05:\n",
    "                counter_platform_with_influence_user += 1\n",
    "            \n",
    "    print(f'Платформ всего с отзывами критиков и пользователей - {count_platform}, платформ, влияние на число продаж игр '\n",
    "          f'которых оказали отзывы критиков - {counter_platform_with_influence_critic}, платформ, влияние на число продаж '\n",
    "          f'игр которых оказали отзывы пользователей - {counter_platform_with_influence_user}')\n",
    "    \n",
    "    return None\n",
    "\n",
    "check_influence_scores_by_sales()"
   ]
  },
  {
   "cell_type": "markdown",
   "metadata": {},
   "source": [
    "### Влияние жанров на продажи <a name=\"influence_genres\"></a>"
   ]
  },
  {
   "cell_type": "code",
   "execution_count": 29,
   "metadata": {},
   "outputs": [
    {
     "data": {
      "image/png": "[encoded data removed]",
      "text/plain": [
       "<Figure size 720x360 with 1 Axes>"
      ]
     },
     "metadata": {
      "needs_background": "light"
     },
     "output_type": "display_data"
    }
   ],
   "source": [
    "modern_games_df.groupby('genre')\n",
    "games_by_genre = modern_games_df.pivot_table(index='genre', values='total_sales', aggfunc=['sum','count'])\n",
    "games_by_genre.columns = ['total_sales', 'total_count_games']\n",
    "games_by_genre = games_by_genre.sort_values('total_sales',ascending=False)\n",
    "\n",
    "plt.figure(figsize=(10,5))\n",
    "plt.bar(range(len(games_by_genre['total_sales'])), games_by_genre['total_sales'].values, align='center', alpha=0.6)\n",
    "plt.xticks(range(len(games_by_genre['total_sales'])), games_by_genre['total_sales'].index.values, size='small')\n",
    "plt.title(\"График зависимости числа проданных копий от жанров .\")\n",
    "plt.xlabel(\"Жанры\")\n",
    "plt.ylabel(\"Миллионы проданных копий\");\n",
    "plt.show()"
   ]
  },
  {
   "cell_type": "markdown",
   "metadata": {},
   "source": [
    "Всё же основное предназначени игр судя по полученным данным - не скучное времяпрепровождение, первые пять жанров предполагают повышенное внимание от играющего, эти жанры динамичны, что находит большой спрос среди играющих. Напротив же игры с меньшими продажами предполагают чуть больше аналитических способностей, развитие действий в этих игра х более замедленное. Полагаю, что динамичность игры - один из определяющих факторов, влияющих на успешность игры."
   ]
  },
  {
   "cell_type": "markdown",
   "metadata": {},
   "source": [
    "### Первично обнаруженные закономерности <a name=\"primary_patterns\"></a>\n"
   ]
  },
  {
   "cell_type": "markdown",
   "metadata": {},
   "source": [
    "* Пользовательские оценки виляют на суммарные продаже в отличии от оценок экспертов;\n",
    "* Существуют довольно популярные жанры, такие как Action, Shooter, которые хорошо продаются;\n",
    "* Зачастую жанры в которых высокая динамика популярнее, а спокойные и требующие умственных усилий продаются хуже."
   ]
  },
  {
   "cell_type": "markdown",
   "metadata": {},
   "source": [
    "## Портрет пользователя каждого региона <a name=\"portrait_by_regions\"></a>"
   ]
  },
  {
   "cell_type": "markdown",
   "metadata": {},
   "source": [
    "### Самые популярные платформы <a name=\"famous_platforms\"></a> "
   ]
  },
  {
   "cell_type": "code",
   "execution_count": 30,
   "metadata": {},
   "outputs": [
    {
     "data": {
      "image/png": "[encoded data removed]",
      "text/plain": [
       "<Figure size 360x360 with 1 Axes>"
      ]
     },
     "metadata": {},
     "output_type": "display_data"
    }
   ],
   "source": [
    "popular_platforms_sa = modern_games_df.groupby('platform')['na_sales'].sum().sort_values(ascending=False)[:5]\n",
    "plot_platforms_sa = popular_platforms_sa.plot.pie(subplots=True, figsize=(5, 5), autopct='%1.1f%%')\n",
    "plt.title('Распределение пяти самых популярных платформ в Северной Америке');"
   ]
  },
  {
   "cell_type": "code",
   "execution_count": 31,
   "metadata": {},
   "outputs": [
    {
     "data": {
      "image/png": "[encoded data removed]",
      "text/plain": [
       "<Figure size 360x360 with 1 Axes>"
      ]
     },
     "metadata": {},
     "output_type": "display_data"
    }
   ],
   "source": [
    "popular_platforms_eu = modern_games_df.groupby('platform')['eu_sales'].sum().sort_values(ascending=False)[:5]\n",
    "plot_platforms_eu = popular_platforms_eu.plot.pie(subplots=True, figsize=(5, 5),autopct='%1.1f%%')\n",
    "plt.title('Распределение пяти самых популярных платформ в Европе');"
   ]
  },
  {
   "cell_type": "code",
   "execution_count": 32,
   "metadata": {},
   "outputs": [
    {
     "data": {
      "image/png": "[encoded data removed]",
      "text/plain": [
       "<Figure size 360x360 with 1 Axes>"
      ]
     },
     "metadata": {},
     "output_type": "display_data"
    }
   ],
   "source": [
    "popular_platforms_jp = modern_games_df.groupby('platform')['jp_sales'].sum().sort_values(ascending=False)[:5]\n",
    "plot_platforms_jp = popular_platforms_jp.plot.pie(subplots=True, figsize=(5, 5),autopct='%1.1f%%')\n",
    "plt.title('Распределение пяти самых популярных платформ в Японии');"
   ]
  },
  {
   "cell_type": "markdown",
   "metadata": {},
   "source": [
    "Топ 5 самых популярных платформ отличается в каждом регионе, однако Европа и Северная Америка отличаются лишь популярностью разных платформ, а вот в Японии больше уникальных платформ, считаю не удивительным, что в Японии популярны платформы, которые там и разрабатывались, также обращаю внимание на схожесть вкусов европейцев и американцев."
   ]
  },
  {
   "cell_type": "markdown",
   "metadata": {},
   "source": [
    "### Самые популярные жанры <a name=\"famous_genres\"></a>"
   ]
  },
  {
   "cell_type": "code",
   "execution_count": 33,
   "metadata": {},
   "outputs": [
    {
     "data": {
      "image/png": "[encoded data removed]",
      "text/plain": [
       "<Figure size 360x360 with 1 Axes>"
      ]
     },
     "metadata": {},
     "output_type": "display_data"
    }
   ],
   "source": [
    "popular_genres_sa = modern_games_df.groupby('genre')['na_sales'].sum().sort_values(ascending=False)[:5]\n",
    "plot_genres_sa = popular_genres_sa.plot.pie(subplots=True, figsize=(5, 5),autopct='%1.1f%%')\n",
    "plt.title('Распределение пяти самых популярных жанров в Северной Америке');"
   ]
  },
  {
   "cell_type": "code",
   "execution_count": 34,
   "metadata": {},
   "outputs": [
    {
     "data": {
      "image/png": "[encoded data removed]",
      "text/plain": [
       "<Figure size 360x360 with 1 Axes>"
      ]
     },
     "metadata": {},
     "output_type": "display_data"
    }
   ],
   "source": [
    "popular_genres_eu = modern_games_df.groupby('genre')['eu_sales'].sum().sort_values(ascending=False)[:5]\n",
    "plot_genres_eu = popular_genres_eu.plot.pie(subplots=True, figsize=(5, 5),autopct='%1.1f%%')\n",
    "plt.title('Распределение пяти самых популярных жанров в Европе');"
   ]
  },
  {
   "cell_type": "code",
   "execution_count": 35,
   "metadata": {},
   "outputs": [
    {
     "data": {
      "image/png": "[encoded data removed]",
      "text/plain": [
       "<Figure size 360x360 with 1 Axes>"
      ]
     },
     "metadata": {},
     "output_type": "display_data"
    }
   ],
   "source": [
    "popular_genres_jp = modern_games_df.groupby('genre')['jp_sales'].sum().sort_values(ascending=False)[:5]\n",
    "plot_genres_jp = popular_genres_jp.plot.pie(subplots=True, figsize=(5, 5),autopct='%1.1f%%')\n",
    "plt.title('Распределение пяти самых популярных жанров в Японии');"
   ]
  },
  {
   "cell_type": "markdown",
   "metadata": {},
   "source": [
    "Вновь наблюдается сходство Европы и Северной Америке, в этот раз также различие оказалось лишь в одном жанре игр, европейцам больше нравятся гоночки, а вот американцам игры иных жанров, ну а у Японии свой путь, Самым популярным является жанр ролевых игр, которые лишь четвертые в остальном мире."
   ]
  },
  {
   "cell_type": "markdown",
   "metadata": {},
   "source": [
    "### Влияние ESRB на продажи в регионах <a name=\"ESRB_seller\"></a>"
   ]
  },
  {
   "cell_type": "code",
   "execution_count": 36,
   "metadata": {},
   "outputs": [],
   "source": [
    "modern_games_df.loc[:, 'rating_id'] = modern_games_df['rating'].astype('category')\n",
    "cat_columns = modern_games_df.select_dtypes(['category']).columns\n",
    "modern_games_df.loc[:, 'rating_id'] = modern_games_df[cat_columns].apply(lambda x: x.cat.codes)"
   ]
  },
  {
   "cell_type": "code",
   "execution_count": 37,
   "metadata": {},
   "outputs": [
    {
     "data": {
      "text/html": [
       "<div>\n",
       "<style scoped>\n",
       "    .dataframe tbody tr th:only-of-type {\n",
       "        vertical-align: middle;\n",
       "    }\n",
       "\n",
       "    .dataframe tbody tr th {\n",
       "        vertical-align: top;\n",
       "    }\n",
       "\n",
       "    .dataframe thead th {\n",
       "        text-align: right;\n",
       "    }\n",
       "</style>\n",
       "<table border=\"1\" class=\"dataframe\">\n",
       "  <thead>\n",
       "    <tr style=\"text-align: right;\">\n",
       "      <th></th>\n",
       "      <th>year_of_release</th>\n",
       "      <th>na_sales</th>\n",
       "      <th>eu_sales</th>\n",
       "      <th>jp_sales</th>\n",
       "      <th>other_sales</th>\n",
       "      <th>critic_score</th>\n",
       "      <th>user_score</th>\n",
       "      <th>total_sales</th>\n",
       "      <th>rating_id</th>\n",
       "    </tr>\n",
       "  </thead>\n",
       "  <tbody>\n",
       "    <tr>\n",
       "      <td>year_of_release</td>\n",
       "      <td>-</td>\n",
       "      <td>0.000</td>\n",
       "      <td>0.005</td>\n",
       "      <td>0.001</td>\n",
       "      <td>0.002</td>\n",
       "      <td>0.004</td>\n",
       "      <td>0.293</td>\n",
       "      <td>0.000</td>\n",
       "      <td>0.143</td>\n",
       "    </tr>\n",
       "    <tr>\n",
       "      <td>na_sales</td>\n",
       "      <td>-0.092</td>\n",
       "      <td>-</td>\n",
       "      <td>0.</td>\n",
       "      <td>0.000</td>\n",
       "      <td>0.</td>\n",
       "      <td>0.000</td>\n",
       "      <td>0.000</td>\n",
       "      <td>0.</td>\n",
       "      <td>0.000</td>\n",
       "    </tr>\n",
       "    <tr>\n",
       "      <td>eu_sales</td>\n",
       "      <td>-0.053</td>\n",
       "      <td>0.767</td>\n",
       "      <td>-</td>\n",
       "      <td>0.000</td>\n",
       "      <td>0.</td>\n",
       "      <td>0.000</td>\n",
       "      <td>0.000</td>\n",
       "      <td>0.</td>\n",
       "      <td>0.000</td>\n",
       "    </tr>\n",
       "    <tr>\n",
       "      <td>jp_sales</td>\n",
       "      <td>-0.063</td>\n",
       "      <td>0.271</td>\n",
       "      <td>0.265</td>\n",
       "      <td>-</td>\n",
       "      <td>0.000</td>\n",
       "      <td>0.446</td>\n",
       "      <td>0.178</td>\n",
       "      <td>0.000</td>\n",
       "      <td>0.004</td>\n",
       "    </tr>\n",
       "    <tr>\n",
       "      <td>other_sales</td>\n",
       "      <td>-0.057</td>\n",
       "      <td>0.792</td>\n",
       "      <td>0.937</td>\n",
       "      <td>0.203</td>\n",
       "      <td>-</td>\n",
       "      <td>0.000</td>\n",
       "      <td>0.000</td>\n",
       "      <td>0.</td>\n",
       "      <td>0.000</td>\n",
       "    </tr>\n",
       "    <tr>\n",
       "      <td>critic_score</td>\n",
       "      <td>-0.053</td>\n",
       "      <td>0.257</td>\n",
       "      <td>0.252</td>\n",
       "      <td>-0.014</td>\n",
       "      <td>0.244</td>\n",
       "      <td>-</td>\n",
       "      <td>0.</td>\n",
       "      <td>0.000</td>\n",
       "      <td>0.000</td>\n",
       "    </tr>\n",
       "    <tr>\n",
       "      <td>user_score</td>\n",
       "      <td>-0.02</td>\n",
       "      <td>0.194</td>\n",
       "      <td>0.181</td>\n",
       "      <td>-0.025</td>\n",
       "      <td>0.18</td>\n",
       "      <td>0.839</td>\n",
       "      <td>-</td>\n",
       "      <td>0.000</td>\n",
       "      <td>0.000</td>\n",
       "    </tr>\n",
       "    <tr>\n",
       "      <td>total_sales</td>\n",
       "      <td>-0.086</td>\n",
       "      <td>0.926</td>\n",
       "      <td>0.912</td>\n",
       "      <td>0.48</td>\n",
       "      <td>0.882</td>\n",
       "      <td>0.245</td>\n",
       "      <td>0.178</td>\n",
       "      <td>-</td>\n",
       "      <td>0.000</td>\n",
       "    </tr>\n",
       "    <tr>\n",
       "      <td>rating_id</td>\n",
       "      <td>0.027</td>\n",
       "      <td>-0.172</td>\n",
       "      <td>-0.174</td>\n",
       "      <td>0.053</td>\n",
       "      <td>-0.154</td>\n",
       "      <td>-0.546</td>\n",
       "      <td>-0.603</td>\n",
       "      <td>-0.157</td>\n",
       "      <td>-</td>\n",
       "    </tr>\n",
       "  </tbody>\n",
       "</table>\n",
       "</div>"
      ],
      "text/plain": [
       "                year_of_release na_sales eu_sales jp_sales other_sales  \\\n",
       "year_of_release               -    0.000    0.005    0.001       0.002   \n",
       "na_sales                 -0.092        -       0.    0.000          0.   \n",
       "eu_sales                 -0.053    0.767        -    0.000          0.   \n",
       "jp_sales                 -0.063    0.271    0.265        -       0.000   \n",
       "other_sales              -0.057    0.792    0.937    0.203           -   \n",
       "critic_score             -0.053    0.257    0.252   -0.014       0.244   \n",
       "user_score                -0.02    0.194    0.181   -0.025        0.18   \n",
       "total_sales              -0.086    0.926    0.912     0.48       0.882   \n",
       "rating_id                 0.027   -0.172   -0.174    0.053      -0.154   \n",
       "\n",
       "                critic_score user_score total_sales rating_id  \n",
       "year_of_release        0.004      0.293       0.000     0.143  \n",
       "na_sales               0.000      0.000          0.     0.000  \n",
       "eu_sales               0.000      0.000          0.     0.000  \n",
       "jp_sales               0.446      0.178       0.000     0.004  \n",
       "other_sales            0.000      0.000          0.     0.000  \n",
       "critic_score               -         0.       0.000     0.000  \n",
       "user_score             0.839          -       0.000     0.000  \n",
       "total_sales            0.245      0.178           -     0.000  \n",
       "rating_id             -0.546     -0.603      -0.157         -  "
      ]
     },
     "execution_count": 37,
     "metadata": {},
     "output_type": "execute_result"
    }
   ],
   "source": [
    "modern_games_df.query('rating_id != 8').rcorr(stars=False)"
   ]
  },
  {
   "cell_type": "markdown",
   "metadata": {},
   "source": [
    "В нижнем треугольнике значения корреляции, в верхнем - p-значения, согласно результатам статистического теста, если значение p выше 0,05, можем сказать, что между двумя переменными не существует значительной корреляции. Проинализировав последний столбец гипотеза о влиянии ESRB на продажи в регионах не может быть отвергнута."
   ]
  },
  {
   "cell_type": "markdown",
   "metadata": {},
   "source": [
    "### Выводы о специфичности регионов <a name=\"specific_regions\"></a>"
   ]
  },
  {
   "cell_type": "markdown",
   "metadata": {},
   "source": [
    "* Япония отличается от Америки и Европы, используются специфические платформы, которые созданы в Японии;\n",
    "* Популярные жанры в различных регионах схожи, однако в случае вложения в рекламную программу в Японии рекомендую обратить внимания на ролевые игры;\n",
    "* Согласно результатам тестов на продажи влияют все факторы."
   ]
  },
  {
   "cell_type": "markdown",
   "metadata": {},
   "source": [
    "## Проверка гипотез <a name=\"step5\"></a>"
   ]
  },
  {
   "cell_type": "markdown",
   "metadata": {},
   "source": [
    "### Гипотеза 1 <a name=\"hyp1\"></a>"
   ]
  },
  {
   "cell_type": "markdown",
   "metadata": {},
   "source": [
    "Нулевая гипотеза - средние пользовательские рейтинги платформ Xbox One и PC равны между собой.\n",
    "\n",
    "Альтернативная - средние пользовательские рейтинги платформ Xbox One и PC не равны между собой."
   ]
  },
  {
   "cell_type": "markdown",
   "metadata": {},
   "source": [
    "#### Проверка равенства дисперсий выборок рейтингов платформ Xbox One и PC <a name=\"var_rating_platform\"></a>"
   ]
  },
  {
   "cell_type": "code",
   "execution_count": 38,
   "metadata": {},
   "outputs": [
    {
     "name": "stdout",
     "output_type": "stream",
     "text": [
      "p-значение: 0.01251484281850554\n",
      "Отвергаем гипотезу о равенстве дисперсий\n"
     ]
    }
   ],
   "source": [
    "alpha = .05\n",
    "games_df_platform_XO = modern_games_df.query('platform == \"XOne\" and user_score != @invalid_score')['user_score'].astype('float64')\n",
    "games_df_platform_PC = modern_games_df.query('platform == \"PC\" and user_score != @invalid_score')['user_score'].astype('float64')\n",
    "\n",
    "stat, p = st.levene(games_df_platform_PC.values, games_df_platform_XO.values)\n",
    "print('p-значение:', p)\n",
    "\n",
    "if (p < alpha):\n",
    "    print(\"Отвергаем гипотезу о равенстве дисперсий\")\n",
    "else:\n",
    "    print(\"Принимаем гипотезу о равенстве дисперсий\") "
   ]
  },
  {
   "cell_type": "markdown",
   "metadata": {},
   "source": [
    "Воспользовавшись тестом Левена для проверки равенства дисперсий в группах можем осознанно использовать Т-критерий Стьюдента с опцией показывающей равенство дисперсий."
   ]
  },
  {
   "cell_type": "markdown",
   "metadata": {},
   "source": [
    "#### Проверка равенства средних  пользовательских рейтингов платформ Xbox One и PC  <a name=\"mean_platform\"></a>"
   ]
  },
  {
   "cell_type": "code",
   "execution_count": 39,
   "metadata": {},
   "outputs": [
    {
     "name": "stdout",
     "output_type": "stream",
     "text": [
      "p-значение: 0.5489537965135056\n",
      "Не получилось отвергнуть нулевую гипотезу\n"
     ]
    },
    {
     "data": {
      "text/html": [
       "<div>\n",
       "<style scoped>\n",
       "    .dataframe tbody tr th:only-of-type {\n",
       "        vertical-align: middle;\n",
       "    }\n",
       "\n",
       "    .dataframe tbody tr th {\n",
       "        vertical-align: top;\n",
       "    }\n",
       "\n",
       "    .dataframe thead th {\n",
       "        text-align: right;\n",
       "    }\n",
       "</style>\n",
       "<table border=\"1\" class=\"dataframe\">\n",
       "  <thead>\n",
       "    <tr style=\"text-align: right;\">\n",
       "      <th></th>\n",
       "      <th>T</th>\n",
       "      <th>dof</th>\n",
       "      <th>tail</th>\n",
       "      <th>p-val</th>\n",
       "      <th>CI95%</th>\n",
       "      <th>cohen-d</th>\n",
       "      <th>BF10</th>\n",
       "      <th>power</th>\n",
       "    </tr>\n",
       "  </thead>\n",
       "  <tbody>\n",
       "    <tr>\n",
       "      <td>T-test</td>\n",
       "      <td>0.6</td>\n",
       "      <td>384.52</td>\n",
       "      <td>two-sided</td>\n",
       "      <td>0.55</td>\n",
       "      <td>[-2.11, 3.97]</td>\n",
       "      <td>0.06</td>\n",
       "      <td>0.134</td>\n",
       "      <td>0.09</td>\n",
       "    </tr>\n",
       "  </tbody>\n",
       "</table>\n",
       "</div>"
      ],
      "text/plain": [
       "          T     dof       tail  p-val          CI95%  cohen-d   BF10  power\n",
       "T-test  0.6  384.52  two-sided   0.55  [-2.11, 3.97]     0.06  0.134   0.09"
      ]
     },
     "execution_count": 39,
     "metadata": {},
     "output_type": "execute_result"
    }
   ],
   "source": [
    "results_hypothesis_equality_tests = st.ttest_ind(\n",
    "    games_df_platform_XO, \n",
    "    games_df_platform_PC, equal_var = False)\n",
    "\n",
    "print('p-значение:', results_hypothesis_equality_tests.pvalue)\n",
    "\n",
    "if (results_hypothesis_equality_tests.pvalue < alpha):\n",
    "    print(\"Отвергаем нулевую гипотезу\")\n",
    "else:\n",
    "    print(\"Не получилось отвергнуть нулевую гипотезу\") \n",
    "    \n",
    "pg.ttest(games_df_platform_XO, games_df_platform_PC, correction='auto').round(2)"
   ]
  },
  {
   "cell_type": "markdown",
   "metadata": {},
   "source": [
    "#### Вывод на основе гипотезы 1 <a name=\"conclusion_hyp1\"></a>"
   ]
  },
  {
   "cell_type": "markdown",
   "metadata": {},
   "source": [
    "По результатам, получившимся на основе статистического теста не удалось отвергнуть гипотезу о равенстве средних  пользовательских рейтингов платформ Xbox One и PC."
   ]
  },
  {
   "cell_type": "markdown",
   "metadata": {},
   "source": [
    "### Гипотеза 2 <a name=\"hyp2\"></a>"
   ]
  },
  {
   "cell_type": "markdown",
   "metadata": {},
   "source": [
    "Нулевая гипотеза - средние пользовательские рейтинги жанров Action и Sports равны между собой.\n",
    "\n",
    "Альтернативная - средние пользовательские рейтинги жанров Action и Sports не равны между собой."
   ]
  },
  {
   "cell_type": "markdown",
   "metadata": {},
   "source": [
    "#### Проверка равенства дисперсий выборок рейтингов жанров Action и Sports <a name=\"var_rating_action\"></a>"
   ]
  },
  {
   "cell_type": "code",
   "execution_count": 40,
   "metadata": {},
   "outputs": [
    {
     "name": "stdout",
     "output_type": "stream",
     "text": [
      "p-значение: 0.0016632146005287347\n",
      "Отвергаем гипотезу о равенстве дисперсий\n"
     ]
    }
   ],
   "source": [
    "games_df_genre_sports = modern_games_df.query('genre == \"Sports\" and user_score != @invalid_score')['user_score'].astype('float64')\n",
    "games_df_genre_action = modern_games_df.query('genre == \"Action\" and user_score != @invalid_score')['user_score'].\\\n",
    "sample(games_df_genre_sports.count(), random_state=42).astype('float64')\n",
    "\n",
    "stat, p = st.levene(games_df_genre_action.values, games_df_genre_sports.values)\n",
    "print('p-значение:', p)\n",
    "\n",
    "if (p < alpha):\n",
    "    print(\"Отвергаем гипотезу о равенстве дисперсий\")\n",
    "else:\n",
    "    print(\"Нулевая гипотеза о равенстве дисперсий не отвергнута\") "
   ]
  },
  {
   "cell_type": "markdown",
   "metadata": {},
   "source": [
    "#### Проверка равенства рейтингов жанров Action и Sports  <a name=\"mean_genre\"></a>"
   ]
  },
  {
   "cell_type": "code",
   "execution_count": 41,
   "metadata": {},
   "outputs": [
    {
     "name": "stdout",
     "output_type": "stream",
     "text": [
      "p-значение: 7.062621645607358e-18\n",
      "Отвергаем нулевую гипотезу\n"
     ]
    },
    {
     "data": {
      "text/html": [
       "<div>\n",
       "<style scoped>\n",
       "    .dataframe tbody tr th:only-of-type {\n",
       "        vertical-align: middle;\n",
       "    }\n",
       "\n",
       "    .dataframe tbody tr th {\n",
       "        vertical-align: top;\n",
       "    }\n",
       "\n",
       "    .dataframe thead th {\n",
       "        text-align: right;\n",
       "    }\n",
       "</style>\n",
       "<table border=\"1\" class=\"dataframe\">\n",
       "  <thead>\n",
       "    <tr style=\"text-align: right;\">\n",
       "      <th></th>\n",
       "      <th>T</th>\n",
       "      <th>dof</th>\n",
       "      <th>tail</th>\n",
       "      <th>p-val</th>\n",
       "      <th>CI95%</th>\n",
       "      <th>cohen-d</th>\n",
       "      <th>BF10</th>\n",
       "      <th>power</th>\n",
       "    </tr>\n",
       "  </thead>\n",
       "  <tbody>\n",
       "    <tr>\n",
       "      <td>T-test</td>\n",
       "      <td>-9.065324</td>\n",
       "      <td>388</td>\n",
       "      <td>two-sided</td>\n",
       "      <td>6.236998e-18</td>\n",
       "      <td>[-17.8, -11.46]</td>\n",
       "      <td>0.918081</td>\n",
       "      <td>7.272e+14</td>\n",
       "      <td>1.0</td>\n",
       "    </tr>\n",
       "  </tbody>\n",
       "</table>\n",
       "</div>"
      ],
      "text/plain": [
       "               T  dof       tail         p-val            CI95%   cohen-d  \\\n",
       "T-test -9.065324  388  two-sided  6.236998e-18  [-17.8, -11.46]  0.918081   \n",
       "\n",
       "             BF10  power  \n",
       "T-test  7.272e+14    1.0  "
      ]
     },
     "execution_count": 41,
     "metadata": {},
     "output_type": "execute_result"
    }
   ],
   "source": [
    "results_hypothesis_equality_tests = st.ttest_ind(\n",
    "    games_df_genre_sports, \n",
    "    games_df_genre_action, equal_var = False)\n",
    "\n",
    "print('p-значение:', results_hypothesis_equality_tests.pvalue)\n",
    "\n",
    "if (results_hypothesis_equality_tests.pvalue < alpha):\n",
    "    print(\"Отвергаем нулевую гипотезу\")\n",
    "else:\n",
    "    print(\"Нулевая гипотеза не отвергнута\") \n",
    "    \n",
    "pg.ttest(games_df_genre_sports, games_df_genre_action, correction='auto')"
   ]
  },
  {
   "cell_type": "markdown",
   "metadata": {},
   "source": [
    "#### Вывод на основе гипотезы 2 <a name=\"conclusion_hyp2\"></a>"
   ]
  },
  {
   "cell_type": "markdown",
   "metadata": {},
   "source": [
    "Гипотеза о равенстве средних пользовательских рейтингов жанров Action и Sports на основе теста была отвергнута.\n",
    "\n",
    "Чтобы проверить гипотезу о равенстве среднего двух генеральных совокупностей по взятым из них выборкам, применил метод scipy.stats.ttest_ind, предназначенный для проверки гипотез о равенстве средних. Гипотезу, которую необходимо было проверить использовал как альтернативную по причине простоты проверки гипотезы о равенстве средних в двух выборках."
   ]
  },
  {
   "cell_type": "markdown",
   "metadata": {},
   "source": [
    "## Общий вывод <a name=\"general_conclusion\"></a> \n"
   ]
  },
  {
   "cell_type": "markdown",
   "metadata": {},
   "source": [
    "В процессе предварительного анализа данных было выявлено следующее:\n",
    "* В столбцах name и genre пропуски малочисленны и невосполнимы в связи с чем просто удалил строки содержащие пропуски;\n",
    "* В столбце year_of_release заменил пропуски на среднее значение, чтобы медиану не подвинуть и при этом вычленить в будущем строки с изначальным пропуском;\n",
    "* Что касается замен рейтингов:\n",
    "    * Зависимостей по имеющимся данным выявлено не было;\n",
    "    * Заменять на какое-то среднее или медианное значение посчитал невозможным, по причине потери информации от игр с действительно указанным и не указанным рейтингом;\n",
    "    * Существование значения оценое 'tbd' подсказало как поступить с пропущенными значениями, для использования информации о пропущенных значениях они были выделены в отдельные классы со значениями 'tbd' для оценок и 'pass_rating' для рейтинга ESRB \n",
    "    \n",
    "Выделяю следующие причины возникновения пропусков:\n",
    "* Отсутствие каких-то параметров о строках;\n",
    "* Еще несформированные характеристики для игр;\n",
    "* Сертификационный центр не успел присвоить рейтинг.\n",
    "\n",
    "Также было выяснено, что актуальными можно считать данные об играх начиная с 2012 года, когда произошло существенное уменьшение выпущенных игр за год, причинами которого считаю следующие:\n",
    "\n",
    "* Повышение сложности создания отдельной игры;\n",
    "* По информации на Metacritic (сайт-агрегатор отзывов), лучших игр десятилетия 2010-2019 до 2016 года - 33, 11 из них были выпущены в 2011, окончание работы по столь большому количество признанных проектов считаю одним из оснований по снижению числа игр в 2012.\n",
    "\n",
    "Определил, что средняя продолжительность поддержки игр для платформы - 11 лет в связи с чем на последующий год отобрал следующие платформы для инвестирования в рекламные программы:\n",
    "\n",
    "- PS4, исходя из того, что платформы PS весьма популярны в сравнении с иными платформами предложил бы большую часть средств направить на рекламную компанию игр для этой платформы;\n",
    "- Меньшую сумму предложил бы вложить в игры касающиеся xbox one, которая также существует с 2013 года и предыдущие версии этой платформы всё же хорошо показывала себя.\n",
    "\n",
    "Проанализировав предпочтения пользователей по жанрам рекомендовано инвестировать в следующие жанры:\n",
    "- Action - жанр популярный во всех регионах;\n",
    "- Sports - также популярный жанр вне зависимости от региона;\n",
    "- В случае желания инвестировать в рекламные компаниии на территории Япониии рекомендую обратить внимания на жанр игр - Role-Playning - жанр, который предпочитают 33 процента всех играющих японцев.\n",
    "\n",
    "Была отвергнута гипотеза о схожести пользовательских оценок платформ PC и Xbox One, при этом по имеющимся данным не удалось отвергнуть гипотезу о подобности пользовательских оценок жанра Action и Sports. \n",
    "\n",
    "Рекомендовано при выборе игр, в рекламную компанию которых собираемся инвестировать обращать внимания на следующие пункты:\n",
    "- Жанр игры популярные - Action, Sports, Role-Playning - в Японии;\n",
    "- Платформа, считаю потенциально прибыльными - Ps4, X One;\n",
    "- Отзывы считаю посредственно важным фактором - если отзыв более 80% от максимума, то чему он конкретно равен не так важно;\n"
   ]
  },
  {
   "cell_type": "code",
   "execution_count": null,
   "metadata": {},
   "outputs": [],
   "source": []
  }
 ],
 "metadata": {
  "kernelspec": {
   "display_name": "Python 3",
   "language": "python",
   "name": "python3"
  },
  "language_info": {
   "codemirror_mode": {
    "name": "ipython",
    "version": 3
   },
   "file_extension": ".py",
   "mimetype": "text/x-python",
   "name": "python",
   "nbconvert_exporter": "python",
   "pygments_lexer": "ipython3",
   "version": "3.7.8"
  },
  "toc": {
   "base_numbering": 1,
   "nav_menu": {
    "height": "644px",
    "width": "372px"
   },
   "number_sections": true,
   "sideBar": true,
   "skip_h1_title": false,
   "title_cell": "Table of Contents",
   "title_sidebar": "Contents",
   "toc_cell": false,
   "toc_position": {},
   "toc_section_display": true,
   "toc_window_display": false
  }
 },
 "nbformat": 4,
 "nbformat_minor": 2
}
